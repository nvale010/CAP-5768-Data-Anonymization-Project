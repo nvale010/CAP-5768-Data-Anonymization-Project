{
 "cells": [
  {
   "cell_type": "code",
   "execution_count": 1,
   "metadata": {},
   "outputs": [],
   "source": [
    "import pandas as pd\n",
    "import numpy as np"
   ]
  },
  {
   "cell_type": "code",
   "execution_count": 2,
   "metadata": {},
   "outputs": [
    {
     "name": "stderr",
     "output_type": "stream",
     "text": [
      "<ipython-input-2-79286870d9d6>:1: DtypeWarning: Columns (10,29) have mixed types. Specify dtype option on import or set low_memory=False.\n",
      "  df = pd.read_csv('C:/Users/natal/Documents/Intro to Data Science/Hospital_Inpatient_Discharges_2019.csv')\n"
     ]
    }
   ],
   "source": [
    "df = pd.read_csv('C:/Users/natal/Documents/Intro to Data Science/Hospital_Inpatient_Discharges_2019.csv')\n",
    "pd.set_option('display.max_columns', None)"
   ]
  },
  {
   "cell_type": "code",
   "execution_count": 3,
   "metadata": {},
   "outputs": [],
   "source": [
    "df['Hospital County'].fillna('',inplace=True)\n",
    "df['Zip Code - 3 digits'].fillna('',inplace=True)\n",
    "df['Hospital Service Area'].fillna('',inplace=True)"
   ]
  },
  {
   "cell_type": "code",
   "execution_count": 4,
   "metadata": {},
   "outputs": [],
   "source": [
    "df_no_na = df.fillna(0)"
   ]
  },
  {
   "cell_type": "code",
   "execution_count": 5,
   "metadata": {},
   "outputs": [],
   "source": [
    "df_no_na['Permanent Facility Id'] = df_no_na['Permanent Facility Id'] .astype('int64')"
   ]
  },
  {
   "cell_type": "code",
   "execution_count": 6,
   "metadata": {},
   "outputs": [],
   "source": [
    "df_no_na['Operating Certificate Number'] = df_no_na['Operating Certificate Number'] .astype('int64')"
   ]
  },
  {
   "cell_type": "code",
   "execution_count": 61,
   "metadata": {},
   "outputs": [],
   "source": [
    "df1 = pd.read_csv('C:/Users/natal/Documents/Intro to Data Science/Hospital_Inpatient_Discharges_Cleaned_2019.csv')\n",
    "pd.set_option('display.max_columns', None)"
   ]
  },
  {
   "cell_type": "code",
   "execution_count": 13,
   "metadata": {},
   "outputs": [
    {
     "data": {
      "text/html": [
       "<div>\n",
       "<style scoped>\n",
       "    .dataframe tbody tr th:only-of-type {\n",
       "        vertical-align: middle;\n",
       "    }\n",
       "\n",
       "    .dataframe tbody tr th {\n",
       "        vertical-align: top;\n",
       "    }\n",
       "\n",
       "    .dataframe thead th {\n",
       "        text-align: right;\n",
       "    }\n",
       "</style>\n",
       "<table border=\"1\" class=\"dataframe\">\n",
       "  <thead>\n",
       "    <tr style=\"text-align: right;\">\n",
       "      <th></th>\n",
       "      <th>Unnamed: 0</th>\n",
       "      <th>hospital_service_area</th>\n",
       "      <th>hospital_county</th>\n",
       "      <th>facility_name</th>\n",
       "      <th>age_group</th>\n",
       "      <th>zip_code</th>\n",
       "      <th>gender</th>\n",
       "      <th>race</th>\n",
       "      <th>ethnicity</th>\n",
       "      <th>type_of_admission</th>\n",
       "      <th>length_of_stay</th>\n",
       "      <th>stay_over_120</th>\n",
       "      <th>ccsr_diagnosis_code</th>\n",
       "      <th>ccsr_diagnosis_description</th>\n",
       "      <th>apr_severity_of_illness_description</th>\n",
       "      <th>apr_risk_of_mortality</th>\n",
       "      <th>payment_typology_1</th>\n",
       "      <th>payment_typology_2</th>\n",
       "      <th>payment_typology_3</th>\n",
       "      <th>total_charges</th>\n",
       "      <th>total_costs</th>\n",
       "    </tr>\n",
       "  </thead>\n",
       "  <tbody>\n",
       "    <tr>\n",
       "      <th>0</th>\n",
       "      <td>0</td>\n",
       "      <td>Hudson Valley</td>\n",
       "      <td>Westchester</td>\n",
       "      <td>White Plains Hospital Center</td>\n",
       "      <td>30 to 49</td>\n",
       "      <td>106</td>\n",
       "      <td>M</td>\n",
       "      <td>Other Race</td>\n",
       "      <td>Not Span/Hispanic</td>\n",
       "      <td>Emergency</td>\n",
       "      <td>2</td>\n",
       "      <td>False</td>\n",
       "      <td>INF008</td>\n",
       "      <td>VIRAL INFECTION</td>\n",
       "      <td>Moderate</td>\n",
       "      <td>Minor</td>\n",
       "      <td>Private Health Insurance</td>\n",
       "      <td>NaN</td>\n",
       "      <td>NaN</td>\n",
       "      <td>26,507</td>\n",
       "      <td>4,773.11</td>\n",
       "    </tr>\n",
       "    <tr>\n",
       "      <th>1</th>\n",
       "      <td>1</td>\n",
       "      <td>Hudson Valley</td>\n",
       "      <td>Westchester</td>\n",
       "      <td>White Plains Hospital Center</td>\n",
       "      <td>70 or Older</td>\n",
       "      <td>105</td>\n",
       "      <td>F</td>\n",
       "      <td>Black/African American</td>\n",
       "      <td>Not Span/Hispanic</td>\n",
       "      <td>Emergency</td>\n",
       "      <td>3</td>\n",
       "      <td>False</td>\n",
       "      <td>GEN002</td>\n",
       "      <td>ACUTE AND UNSPECIFIED RENAL FAILURE</td>\n",
       "      <td>Moderate</td>\n",
       "      <td>Moderate</td>\n",
       "      <td>Medicare</td>\n",
       "      <td>NaN</td>\n",
       "      <td>NaN</td>\n",
       "      <td>20,693</td>\n",
       "      <td>5,631.3</td>\n",
       "    </tr>\n",
       "    <tr>\n",
       "      <th>2</th>\n",
       "      <td>2</td>\n",
       "      <td>Hudson Valley</td>\n",
       "      <td>Westchester</td>\n",
       "      <td>White Plains Hospital Center</td>\n",
       "      <td>50 to 69</td>\n",
       "      <td>105</td>\n",
       "      <td>F</td>\n",
       "      <td>Other Race</td>\n",
       "      <td>Not Span/Hispanic</td>\n",
       "      <td>Elective</td>\n",
       "      <td>7</td>\n",
       "      <td>False</td>\n",
       "      <td>GEN006</td>\n",
       "      <td>OTHER SPECIFIED AND UNSPECIFIED DISEASES OF KI...</td>\n",
       "      <td>Extreme</td>\n",
       "      <td>Extreme</td>\n",
       "      <td>Medicare</td>\n",
       "      <td>Blue Cross/Blue Shield</td>\n",
       "      <td>NaN</td>\n",
       "      <td>138,252</td>\n",
       "      <td>29,848.69</td>\n",
       "    </tr>\n",
       "    <tr>\n",
       "      <th>3</th>\n",
       "      <td>3</td>\n",
       "      <td>Hudson Valley</td>\n",
       "      <td>Westchester</td>\n",
       "      <td>White Plains Hospital Center</td>\n",
       "      <td>50 to 69</td>\n",
       "      <td>106</td>\n",
       "      <td>F</td>\n",
       "      <td>Black/African American</td>\n",
       "      <td>Not Span/Hispanic</td>\n",
       "      <td>Emergency</td>\n",
       "      <td>1</td>\n",
       "      <td>False</td>\n",
       "      <td>RSP009</td>\n",
       "      <td>ASTHMA</td>\n",
       "      <td>Moderate</td>\n",
       "      <td>Minor</td>\n",
       "      <td>Medicare</td>\n",
       "      <td>Medicaid</td>\n",
       "      <td>NaN</td>\n",
       "      <td>11,799</td>\n",
       "      <td>2,595.72</td>\n",
       "    </tr>\n",
       "    <tr>\n",
       "      <th>4</th>\n",
       "      <td>4</td>\n",
       "      <td>Hudson Valley</td>\n",
       "      <td>Westchester</td>\n",
       "      <td>White Plains Hospital Center</td>\n",
       "      <td>70 or Older</td>\n",
       "      <td>105</td>\n",
       "      <td>F</td>\n",
       "      <td>Other Race</td>\n",
       "      <td>Not Span/Hispanic</td>\n",
       "      <td>Emergency</td>\n",
       "      <td>3</td>\n",
       "      <td>False</td>\n",
       "      <td>MBD012</td>\n",
       "      <td>SUICIDAL IDEATION/ATTEMPT/INTENTIONAL SELF-HARM</td>\n",
       "      <td>Moderate</td>\n",
       "      <td>Moderate</td>\n",
       "      <td>Medicare</td>\n",
       "      <td>Private Health Insurance</td>\n",
       "      <td>NaN</td>\n",
       "      <td>52,711</td>\n",
       "      <td>11,355.62</td>\n",
       "    </tr>\n",
       "  </tbody>\n",
       "</table>\n",
       "</div>"
      ],
      "text/plain": [
       "   Unnamed: 0 hospital_service_area hospital_county  \\\n",
       "0           0         Hudson Valley     Westchester   \n",
       "1           1         Hudson Valley     Westchester   \n",
       "2           2         Hudson Valley     Westchester   \n",
       "3           3         Hudson Valley     Westchester   \n",
       "4           4         Hudson Valley     Westchester   \n",
       "\n",
       "                  facility_name    age_group zip_code gender  \\\n",
       "0  White Plains Hospital Center     30 to 49      106      M   \n",
       "1  White Plains Hospital Center  70 or Older      105      F   \n",
       "2  White Plains Hospital Center     50 to 69      105      F   \n",
       "3  White Plains Hospital Center     50 to 69      106      F   \n",
       "4  White Plains Hospital Center  70 or Older      105      F   \n",
       "\n",
       "                     race          ethnicity type_of_admission  \\\n",
       "0              Other Race  Not Span/Hispanic         Emergency   \n",
       "1  Black/African American  Not Span/Hispanic         Emergency   \n",
       "2              Other Race  Not Span/Hispanic          Elective   \n",
       "3  Black/African American  Not Span/Hispanic         Emergency   \n",
       "4              Other Race  Not Span/Hispanic         Emergency   \n",
       "\n",
       "   length_of_stay  stay_over_120 ccsr_diagnosis_code  \\\n",
       "0               2          False              INF008   \n",
       "1               3          False              GEN002   \n",
       "2               7          False              GEN006   \n",
       "3               1          False              RSP009   \n",
       "4               3          False              MBD012   \n",
       "\n",
       "                          ccsr_diagnosis_description  \\\n",
       "0                                    VIRAL INFECTION   \n",
       "1                ACUTE AND UNSPECIFIED RENAL FAILURE   \n",
       "2  OTHER SPECIFIED AND UNSPECIFIED DISEASES OF KI...   \n",
       "3                                             ASTHMA   \n",
       "4    SUICIDAL IDEATION/ATTEMPT/INTENTIONAL SELF-HARM   \n",
       "\n",
       "  apr_severity_of_illness_description apr_risk_of_mortality  \\\n",
       "0                            Moderate                 Minor   \n",
       "1                            Moderate              Moderate   \n",
       "2                             Extreme               Extreme   \n",
       "3                            Moderate                 Minor   \n",
       "4                            Moderate              Moderate   \n",
       "\n",
       "         payment_typology_1        payment_typology_2 payment_typology_3  \\\n",
       "0  Private Health Insurance                       NaN                NaN   \n",
       "1                  Medicare                       NaN                NaN   \n",
       "2                  Medicare    Blue Cross/Blue Shield                NaN   \n",
       "3                  Medicare                  Medicaid                NaN   \n",
       "4                  Medicare  Private Health Insurance                NaN   \n",
       "\n",
       "  total_charges total_costs  \n",
       "0        26,507    4,773.11  \n",
       "1        20,693     5,631.3  \n",
       "2       138,252   29,848.69  \n",
       "3        11,799    2,595.72  \n",
       "4        52,711   11,355.62  "
      ]
     },
     "execution_count": 13,
     "metadata": {},
     "output_type": "execute_result"
    }
   ],
   "source": [
    "df1.head()"
   ]
  },
  {
   "cell_type": "code",
   "execution_count": 62,
   "metadata": {},
   "outputs": [],
   "source": [
    "del df1['Unnamed: 0']"
   ]
  },
  {
   "cell_type": "code",
   "execution_count": 18,
   "metadata": {},
   "outputs": [
    {
     "data": {
      "text/html": [
       "<div>\n",
       "<style scoped>\n",
       "    .dataframe tbody tr th:only-of-type {\n",
       "        vertical-align: middle;\n",
       "    }\n",
       "\n",
       "    .dataframe tbody tr th {\n",
       "        vertical-align: top;\n",
       "    }\n",
       "\n",
       "    .dataframe thead th {\n",
       "        text-align: right;\n",
       "    }\n",
       "</style>\n",
       "<table border=\"1\" class=\"dataframe\">\n",
       "  <thead>\n",
       "    <tr style=\"text-align: right;\">\n",
       "      <th></th>\n",
       "      <th>hospital_service_area</th>\n",
       "      <th>hospital_county</th>\n",
       "      <th>facility_name</th>\n",
       "      <th>age_group</th>\n",
       "      <th>zip_code</th>\n",
       "      <th>gender</th>\n",
       "      <th>race</th>\n",
       "      <th>ethnicity</th>\n",
       "      <th>type_of_admission</th>\n",
       "      <th>length_of_stay</th>\n",
       "      <th>stay_over_120</th>\n",
       "      <th>ccsr_diagnosis_code</th>\n",
       "      <th>ccsr_diagnosis_description</th>\n",
       "      <th>apr_severity_of_illness_description</th>\n",
       "      <th>apr_risk_of_mortality</th>\n",
       "      <th>payment_typology_1</th>\n",
       "      <th>payment_typology_2</th>\n",
       "      <th>payment_typology_3</th>\n",
       "      <th>total_charges</th>\n",
       "      <th>total_costs</th>\n",
       "    </tr>\n",
       "  </thead>\n",
       "  <tbody>\n",
       "    <tr>\n",
       "      <th>0</th>\n",
       "      <td>Hudson Valley</td>\n",
       "      <td>Westchester</td>\n",
       "      <td>White Plains Hospital Center</td>\n",
       "      <td>30 to 49</td>\n",
       "      <td>106</td>\n",
       "      <td>M</td>\n",
       "      <td>Other Race</td>\n",
       "      <td>Not Span/Hispanic</td>\n",
       "      <td>Emergency</td>\n",
       "      <td>2</td>\n",
       "      <td>False</td>\n",
       "      <td>INF008</td>\n",
       "      <td>VIRAL INFECTION</td>\n",
       "      <td>Moderate</td>\n",
       "      <td>Minor</td>\n",
       "      <td>Private Health Insurance</td>\n",
       "      <td>NaN</td>\n",
       "      <td>NaN</td>\n",
       "      <td>26,507</td>\n",
       "      <td>4,773.11</td>\n",
       "    </tr>\n",
       "    <tr>\n",
       "      <th>1</th>\n",
       "      <td>Hudson Valley</td>\n",
       "      <td>Westchester</td>\n",
       "      <td>White Plains Hospital Center</td>\n",
       "      <td>70 or Older</td>\n",
       "      <td>105</td>\n",
       "      <td>F</td>\n",
       "      <td>Black/African American</td>\n",
       "      <td>Not Span/Hispanic</td>\n",
       "      <td>Emergency</td>\n",
       "      <td>3</td>\n",
       "      <td>False</td>\n",
       "      <td>GEN002</td>\n",
       "      <td>ACUTE AND UNSPECIFIED RENAL FAILURE</td>\n",
       "      <td>Moderate</td>\n",
       "      <td>Moderate</td>\n",
       "      <td>Medicare</td>\n",
       "      <td>NaN</td>\n",
       "      <td>NaN</td>\n",
       "      <td>20,693</td>\n",
       "      <td>5,631.3</td>\n",
       "    </tr>\n",
       "    <tr>\n",
       "      <th>2</th>\n",
       "      <td>Hudson Valley</td>\n",
       "      <td>Westchester</td>\n",
       "      <td>White Plains Hospital Center</td>\n",
       "      <td>50 to 69</td>\n",
       "      <td>105</td>\n",
       "      <td>F</td>\n",
       "      <td>Other Race</td>\n",
       "      <td>Not Span/Hispanic</td>\n",
       "      <td>Elective</td>\n",
       "      <td>7</td>\n",
       "      <td>False</td>\n",
       "      <td>GEN006</td>\n",
       "      <td>OTHER SPECIFIED AND UNSPECIFIED DISEASES OF KI...</td>\n",
       "      <td>Extreme</td>\n",
       "      <td>Extreme</td>\n",
       "      <td>Medicare</td>\n",
       "      <td>Blue Cross/Blue Shield</td>\n",
       "      <td>NaN</td>\n",
       "      <td>138,252</td>\n",
       "      <td>29,848.69</td>\n",
       "    </tr>\n",
       "    <tr>\n",
       "      <th>3</th>\n",
       "      <td>Hudson Valley</td>\n",
       "      <td>Westchester</td>\n",
       "      <td>White Plains Hospital Center</td>\n",
       "      <td>50 to 69</td>\n",
       "      <td>106</td>\n",
       "      <td>F</td>\n",
       "      <td>Black/African American</td>\n",
       "      <td>Not Span/Hispanic</td>\n",
       "      <td>Emergency</td>\n",
       "      <td>1</td>\n",
       "      <td>False</td>\n",
       "      <td>RSP009</td>\n",
       "      <td>ASTHMA</td>\n",
       "      <td>Moderate</td>\n",
       "      <td>Minor</td>\n",
       "      <td>Medicare</td>\n",
       "      <td>Medicaid</td>\n",
       "      <td>NaN</td>\n",
       "      <td>11,799</td>\n",
       "      <td>2,595.72</td>\n",
       "    </tr>\n",
       "    <tr>\n",
       "      <th>4</th>\n",
       "      <td>Hudson Valley</td>\n",
       "      <td>Westchester</td>\n",
       "      <td>White Plains Hospital Center</td>\n",
       "      <td>70 or Older</td>\n",
       "      <td>105</td>\n",
       "      <td>F</td>\n",
       "      <td>Other Race</td>\n",
       "      <td>Not Span/Hispanic</td>\n",
       "      <td>Emergency</td>\n",
       "      <td>3</td>\n",
       "      <td>False</td>\n",
       "      <td>MBD012</td>\n",
       "      <td>SUICIDAL IDEATION/ATTEMPT/INTENTIONAL SELF-HARM</td>\n",
       "      <td>Moderate</td>\n",
       "      <td>Moderate</td>\n",
       "      <td>Medicare</td>\n",
       "      <td>Private Health Insurance</td>\n",
       "      <td>NaN</td>\n",
       "      <td>52,711</td>\n",
       "      <td>11,355.62</td>\n",
       "    </tr>\n",
       "  </tbody>\n",
       "</table>\n",
       "</div>"
      ],
      "text/plain": [
       "  hospital_service_area hospital_county                 facility_name  \\\n",
       "0         Hudson Valley     Westchester  White Plains Hospital Center   \n",
       "1         Hudson Valley     Westchester  White Plains Hospital Center   \n",
       "2         Hudson Valley     Westchester  White Plains Hospital Center   \n",
       "3         Hudson Valley     Westchester  White Plains Hospital Center   \n",
       "4         Hudson Valley     Westchester  White Plains Hospital Center   \n",
       "\n",
       "     age_group zip_code gender                    race          ethnicity  \\\n",
       "0     30 to 49      106      M              Other Race  Not Span/Hispanic   \n",
       "1  70 or Older      105      F  Black/African American  Not Span/Hispanic   \n",
       "2     50 to 69      105      F              Other Race  Not Span/Hispanic   \n",
       "3     50 to 69      106      F  Black/African American  Not Span/Hispanic   \n",
       "4  70 or Older      105      F              Other Race  Not Span/Hispanic   \n",
       "\n",
       "  type_of_admission  length_of_stay  stay_over_120 ccsr_diagnosis_code  \\\n",
       "0         Emergency               2          False              INF008   \n",
       "1         Emergency               3          False              GEN002   \n",
       "2          Elective               7          False              GEN006   \n",
       "3         Emergency               1          False              RSP009   \n",
       "4         Emergency               3          False              MBD012   \n",
       "\n",
       "                          ccsr_diagnosis_description  \\\n",
       "0                                    VIRAL INFECTION   \n",
       "1                ACUTE AND UNSPECIFIED RENAL FAILURE   \n",
       "2  OTHER SPECIFIED AND UNSPECIFIED DISEASES OF KI...   \n",
       "3                                             ASTHMA   \n",
       "4    SUICIDAL IDEATION/ATTEMPT/INTENTIONAL SELF-HARM   \n",
       "\n",
       "  apr_severity_of_illness_description apr_risk_of_mortality  \\\n",
       "0                            Moderate                 Minor   \n",
       "1                            Moderate              Moderate   \n",
       "2                             Extreme               Extreme   \n",
       "3                            Moderate                 Minor   \n",
       "4                            Moderate              Moderate   \n",
       "\n",
       "         payment_typology_1        payment_typology_2 payment_typology_3  \\\n",
       "0  Private Health Insurance                       NaN                NaN   \n",
       "1                  Medicare                       NaN                NaN   \n",
       "2                  Medicare    Blue Cross/Blue Shield                NaN   \n",
       "3                  Medicare                  Medicaid                NaN   \n",
       "4                  Medicare  Private Health Insurance                NaN   \n",
       "\n",
       "  total_charges total_costs  \n",
       "0        26,507    4,773.11  \n",
       "1        20,693     5,631.3  \n",
       "2       138,252   29,848.69  \n",
       "3        11,799    2,595.72  \n",
       "4        52,711   11,355.62  "
      ]
     },
     "execution_count": 18,
     "metadata": {},
     "output_type": "execute_result"
    }
   ],
   "source": [
    "df1.head()"
   ]
  },
  {
   "cell_type": "code",
   "execution_count": 3,
   "metadata": {},
   "outputs": [],
   "source": [
    "from anonympy.pandas import dfAnonymizer "
   ]
  },
  {
   "cell_type": "code",
   "execution_count": 63,
   "metadata": {},
   "outputs": [],
   "source": [
    "anonym = dfAnonymizer(df1)"
   ]
  },
  {
   "cell_type": "code",
   "execution_count": 64,
   "metadata": {},
   "outputs": [
    {
     "data": {
      "text/html": [
       "<div>\n",
       "<style scoped>\n",
       "    .dataframe tbody tr th:only-of-type {\n",
       "        vertical-align: middle;\n",
       "    }\n",
       "\n",
       "    .dataframe tbody tr th {\n",
       "        vertical-align: top;\n",
       "    }\n",
       "\n",
       "    .dataframe thead th {\n",
       "        text-align: right;\n",
       "    }\n",
       "</style>\n",
       "<table border=\"1\" class=\"dataframe\">\n",
       "  <thead>\n",
       "    <tr style=\"text-align: right;\">\n",
       "      <th></th>\n",
       "      <th>hospital_service_area</th>\n",
       "      <th>hospital_county</th>\n",
       "      <th>facility_name</th>\n",
       "      <th>age_group</th>\n",
       "      <th>zip_code</th>\n",
       "      <th>gender</th>\n",
       "      <th>race</th>\n",
       "      <th>ethnicity</th>\n",
       "      <th>type_of_admission</th>\n",
       "      <th>length_of_stay</th>\n",
       "      <th>stay_over_120</th>\n",
       "      <th>ccsr_diagnosis_code</th>\n",
       "      <th>ccsr_diagnosis_description</th>\n",
       "      <th>apr_severity_of_illness_description</th>\n",
       "      <th>apr_risk_of_mortality</th>\n",
       "      <th>payment_typology_1</th>\n",
       "      <th>payment_typology_2</th>\n",
       "      <th>payment_typology_3</th>\n",
       "      <th>total_charges</th>\n",
       "      <th>total_costs</th>\n",
       "    </tr>\n",
       "  </thead>\n",
       "  <tbody>\n",
       "    <tr>\n",
       "      <th>0</th>\n",
       "      <td>Hudson Valley</td>\n",
       "      <td>Westchester</td>\n",
       "      <td>White Plains Hospital Center</td>\n",
       "      <td>30 to 49</td>\n",
       "      <td>106</td>\n",
       "      <td>M</td>\n",
       "      <td>Other Race</td>\n",
       "      <td>Not Span/Hispanic</td>\n",
       "      <td>Emergency</td>\n",
       "      <td>2</td>\n",
       "      <td>False</td>\n",
       "      <td>INF008</td>\n",
       "      <td>VIRAL INFECTION</td>\n",
       "      <td>Moderate</td>\n",
       "      <td>Minor</td>\n",
       "      <td>Private Health Insurance</td>\n",
       "      <td>NaN</td>\n",
       "      <td>NaN</td>\n",
       "      <td>26,507</td>\n",
       "      <td>4,773.11</td>\n",
       "    </tr>\n",
       "    <tr>\n",
       "      <th>1</th>\n",
       "      <td>Hudson Valley</td>\n",
       "      <td>Westchester</td>\n",
       "      <td>White Plains Hospital Center</td>\n",
       "      <td>70 or Older</td>\n",
       "      <td>105</td>\n",
       "      <td>F</td>\n",
       "      <td>Black/African American</td>\n",
       "      <td>Not Span/Hispanic</td>\n",
       "      <td>Emergency</td>\n",
       "      <td>3</td>\n",
       "      <td>False</td>\n",
       "      <td>GEN002</td>\n",
       "      <td>ACUTE AND UNSPECIFIED RENAL FAILURE</td>\n",
       "      <td>Moderate</td>\n",
       "      <td>Moderate</td>\n",
       "      <td>Medicare</td>\n",
       "      <td>NaN</td>\n",
       "      <td>NaN</td>\n",
       "      <td>20,693</td>\n",
       "      <td>5,631.3</td>\n",
       "    </tr>\n",
       "    <tr>\n",
       "      <th>2</th>\n",
       "      <td>Hudson Valley</td>\n",
       "      <td>Westchester</td>\n",
       "      <td>White Plains Hospital Center</td>\n",
       "      <td>50 to 69</td>\n",
       "      <td>105</td>\n",
       "      <td>F</td>\n",
       "      <td>Other Race</td>\n",
       "      <td>Not Span/Hispanic</td>\n",
       "      <td>Elective</td>\n",
       "      <td>7</td>\n",
       "      <td>False</td>\n",
       "      <td>GEN006</td>\n",
       "      <td>OTHER SPECIFIED AND UNSPECIFIED DISEASES OF KI...</td>\n",
       "      <td>Extreme</td>\n",
       "      <td>Extreme</td>\n",
       "      <td>Medicare</td>\n",
       "      <td>Blue Cross/Blue Shield</td>\n",
       "      <td>NaN</td>\n",
       "      <td>138,252</td>\n",
       "      <td>29,848.69</td>\n",
       "    </tr>\n",
       "    <tr>\n",
       "      <th>3</th>\n",
       "      <td>Hudson Valley</td>\n",
       "      <td>Westchester</td>\n",
       "      <td>White Plains Hospital Center</td>\n",
       "      <td>50 to 69</td>\n",
       "      <td>106</td>\n",
       "      <td>F</td>\n",
       "      <td>Black/African American</td>\n",
       "      <td>Not Span/Hispanic</td>\n",
       "      <td>Emergency</td>\n",
       "      <td>1</td>\n",
       "      <td>False</td>\n",
       "      <td>RSP009</td>\n",
       "      <td>ASTHMA</td>\n",
       "      <td>Moderate</td>\n",
       "      <td>Minor</td>\n",
       "      <td>Medicare</td>\n",
       "      <td>Medicaid</td>\n",
       "      <td>NaN</td>\n",
       "      <td>11,799</td>\n",
       "      <td>2,595.72</td>\n",
       "    </tr>\n",
       "    <tr>\n",
       "      <th>4</th>\n",
       "      <td>Hudson Valley</td>\n",
       "      <td>Westchester</td>\n",
       "      <td>White Plains Hospital Center</td>\n",
       "      <td>70 or Older</td>\n",
       "      <td>105</td>\n",
       "      <td>F</td>\n",
       "      <td>Other Race</td>\n",
       "      <td>Not Span/Hispanic</td>\n",
       "      <td>Emergency</td>\n",
       "      <td>3</td>\n",
       "      <td>False</td>\n",
       "      <td>MBD012</td>\n",
       "      <td>SUICIDAL IDEATION/ATTEMPT/INTENTIONAL SELF-HARM</td>\n",
       "      <td>Moderate</td>\n",
       "      <td>Moderate</td>\n",
       "      <td>Medicare</td>\n",
       "      <td>Private Health Insurance</td>\n",
       "      <td>NaN</td>\n",
       "      <td>52,711</td>\n",
       "      <td>11,355.62</td>\n",
       "    </tr>\n",
       "    <tr>\n",
       "      <th>...</th>\n",
       "      <td>...</td>\n",
       "      <td>...</td>\n",
       "      <td>...</td>\n",
       "      <td>...</td>\n",
       "      <td>...</td>\n",
       "      <td>...</td>\n",
       "      <td>...</td>\n",
       "      <td>...</td>\n",
       "      <td>...</td>\n",
       "      <td>...</td>\n",
       "      <td>...</td>\n",
       "      <td>...</td>\n",
       "      <td>...</td>\n",
       "      <td>...</td>\n",
       "      <td>...</td>\n",
       "      <td>...</td>\n",
       "      <td>...</td>\n",
       "      <td>...</td>\n",
       "      <td>...</td>\n",
       "      <td>...</td>\n",
       "    </tr>\n",
       "    <tr>\n",
       "      <th>2294636</th>\n",
       "      <td>New York City</td>\n",
       "      <td>Kings</td>\n",
       "      <td>New York - Presbyterian Brooklyn Methodist Hos...</td>\n",
       "      <td>0 to 17</td>\n",
       "      <td>112</td>\n",
       "      <td>M</td>\n",
       "      <td>Black/African American</td>\n",
       "      <td>Not Span/Hispanic</td>\n",
       "      <td>Emergency</td>\n",
       "      <td>2</td>\n",
       "      <td>False</td>\n",
       "      <td>PNL009</td>\n",
       "      <td>PERINATAL INFECTIONS</td>\n",
       "      <td>Moderate</td>\n",
       "      <td>Minor</td>\n",
       "      <td>Medicaid</td>\n",
       "      <td>Self-Pay</td>\n",
       "      <td>NaN</td>\n",
       "      <td>30,231.1</td>\n",
       "      <td>13,366.63</td>\n",
       "    </tr>\n",
       "    <tr>\n",
       "      <th>2294637</th>\n",
       "      <td>New York City</td>\n",
       "      <td>Queens</td>\n",
       "      <td>New York - Presbyterian/Queens</td>\n",
       "      <td>0 to 17</td>\n",
       "      <td>111</td>\n",
       "      <td>M</td>\n",
       "      <td>White</td>\n",
       "      <td>Not Span/Hispanic</td>\n",
       "      <td>Newborn</td>\n",
       "      <td>2</td>\n",
       "      <td>False</td>\n",
       "      <td>PNL001</td>\n",
       "      <td>LIVEBORN</td>\n",
       "      <td>Minor</td>\n",
       "      <td>Minor</td>\n",
       "      <td>Private Health Insurance</td>\n",
       "      <td>Medicaid</td>\n",
       "      <td>Self-Pay</td>\n",
       "      <td>12,010.21</td>\n",
       "      <td>559.81</td>\n",
       "    </tr>\n",
       "    <tr>\n",
       "      <th>2294638</th>\n",
       "      <td>New York City</td>\n",
       "      <td>Manhattan</td>\n",
       "      <td>New York-Presbyterian Hospital - New York Weil...</td>\n",
       "      <td>50 to 69</td>\n",
       "      <td>113</td>\n",
       "      <td>M</td>\n",
       "      <td>Other Race</td>\n",
       "      <td>Spanish/Hispanic</td>\n",
       "      <td>Emergency</td>\n",
       "      <td>1</td>\n",
       "      <td>False</td>\n",
       "      <td>GEN005</td>\n",
       "      <td>CALCULUS OF URINARY TRACT</td>\n",
       "      <td>Minor</td>\n",
       "      <td>Minor</td>\n",
       "      <td>Private Health Insurance</td>\n",
       "      <td>Medicare</td>\n",
       "      <td>Self-Pay</td>\n",
       "      <td>30,468.47</td>\n",
       "      <td>8,856.39</td>\n",
       "    </tr>\n",
       "    <tr>\n",
       "      <th>2294639</th>\n",
       "      <td>New York City</td>\n",
       "      <td>Kings</td>\n",
       "      <td>New York - Presbyterian Brooklyn Methodist Hos...</td>\n",
       "      <td>70 or Older</td>\n",
       "      <td>112</td>\n",
       "      <td>M</td>\n",
       "      <td>White</td>\n",
       "      <td>Not Span/Hispanic</td>\n",
       "      <td>Emergency</td>\n",
       "      <td>3</td>\n",
       "      <td>False</td>\n",
       "      <td>CIR019</td>\n",
       "      <td>HEART FAILURE</td>\n",
       "      <td>Minor</td>\n",
       "      <td>Moderate</td>\n",
       "      <td>Medicaid</td>\n",
       "      <td>Self-Pay</td>\n",
       "      <td>NaN</td>\n",
       "      <td>27,312.6</td>\n",
       "      <td>6,509.22</td>\n",
       "    </tr>\n",
       "    <tr>\n",
       "      <th>2294640</th>\n",
       "      <td>Long Island</td>\n",
       "      <td>Nassau</td>\n",
       "      <td>Nassau University Medical Center</td>\n",
       "      <td>50 to 69</td>\n",
       "      <td>115</td>\n",
       "      <td>M</td>\n",
       "      <td>Black/African American</td>\n",
       "      <td>Not Span/Hispanic</td>\n",
       "      <td>Elective</td>\n",
       "      <td>5</td>\n",
       "      <td>False</td>\n",
       "      <td>FAC004</td>\n",
       "      <td>ENCOUNTER FOR PROPHYLACTIC OR OTHER PROCEDURES</td>\n",
       "      <td>Major</td>\n",
       "      <td>Moderate</td>\n",
       "      <td>Miscellaneous/Other</td>\n",
       "      <td>Medicare</td>\n",
       "      <td>Medicaid</td>\n",
       "      <td>86,268.59</td>\n",
       "      <td>62,839.24</td>\n",
       "    </tr>\n",
       "  </tbody>\n",
       "</table>\n",
       "<p>2294641 rows × 20 columns</p>\n",
       "</div>"
      ],
      "text/plain": [
       "        hospital_service_area hospital_county  \\\n",
       "0               Hudson Valley     Westchester   \n",
       "1               Hudson Valley     Westchester   \n",
       "2               Hudson Valley     Westchester   \n",
       "3               Hudson Valley     Westchester   \n",
       "4               Hudson Valley     Westchester   \n",
       "...                       ...             ...   \n",
       "2294636         New York City           Kings   \n",
       "2294637         New York City          Queens   \n",
       "2294638         New York City       Manhattan   \n",
       "2294639         New York City           Kings   \n",
       "2294640           Long Island          Nassau   \n",
       "\n",
       "                                             facility_name    age_group  \\\n",
       "0                             White Plains Hospital Center     30 to 49   \n",
       "1                             White Plains Hospital Center  70 or Older   \n",
       "2                             White Plains Hospital Center     50 to 69   \n",
       "3                             White Plains Hospital Center     50 to 69   \n",
       "4                             White Plains Hospital Center  70 or Older   \n",
       "...                                                    ...          ...   \n",
       "2294636  New York - Presbyterian Brooklyn Methodist Hos...      0 to 17   \n",
       "2294637                     New York - Presbyterian/Queens      0 to 17   \n",
       "2294638  New York-Presbyterian Hospital - New York Weil...     50 to 69   \n",
       "2294639  New York - Presbyterian Brooklyn Methodist Hos...  70 or Older   \n",
       "2294640                   Nassau University Medical Center     50 to 69   \n",
       "\n",
       "        zip_code gender                    race          ethnicity  \\\n",
       "0            106      M              Other Race  Not Span/Hispanic   \n",
       "1            105      F  Black/African American  Not Span/Hispanic   \n",
       "2            105      F              Other Race  Not Span/Hispanic   \n",
       "3            106      F  Black/African American  Not Span/Hispanic   \n",
       "4            105      F              Other Race  Not Span/Hispanic   \n",
       "...          ...    ...                     ...                ...   \n",
       "2294636      112      M  Black/African American  Not Span/Hispanic   \n",
       "2294637      111      M                   White  Not Span/Hispanic   \n",
       "2294638      113      M              Other Race   Spanish/Hispanic   \n",
       "2294639      112      M                   White  Not Span/Hispanic   \n",
       "2294640      115      M  Black/African American  Not Span/Hispanic   \n",
       "\n",
       "        type_of_admission  length_of_stay  stay_over_120 ccsr_diagnosis_code  \\\n",
       "0               Emergency               2          False              INF008   \n",
       "1               Emergency               3          False              GEN002   \n",
       "2                Elective               7          False              GEN006   \n",
       "3               Emergency               1          False              RSP009   \n",
       "4               Emergency               3          False              MBD012   \n",
       "...                   ...             ...            ...                 ...   \n",
       "2294636         Emergency               2          False              PNL009   \n",
       "2294637           Newborn               2          False              PNL001   \n",
       "2294638         Emergency               1          False              GEN005   \n",
       "2294639         Emergency               3          False              CIR019   \n",
       "2294640          Elective               5          False              FAC004   \n",
       "\n",
       "                                ccsr_diagnosis_description  \\\n",
       "0                                          VIRAL INFECTION   \n",
       "1                      ACUTE AND UNSPECIFIED RENAL FAILURE   \n",
       "2        OTHER SPECIFIED AND UNSPECIFIED DISEASES OF KI...   \n",
       "3                                                   ASTHMA   \n",
       "4          SUICIDAL IDEATION/ATTEMPT/INTENTIONAL SELF-HARM   \n",
       "...                                                    ...   \n",
       "2294636                               PERINATAL INFECTIONS   \n",
       "2294637                                           LIVEBORN   \n",
       "2294638                          CALCULUS OF URINARY TRACT   \n",
       "2294639                                      HEART FAILURE   \n",
       "2294640     ENCOUNTER FOR PROPHYLACTIC OR OTHER PROCEDURES   \n",
       "\n",
       "        apr_severity_of_illness_description apr_risk_of_mortality  \\\n",
       "0                                  Moderate                 Minor   \n",
       "1                                  Moderate              Moderate   \n",
       "2                                   Extreme               Extreme   \n",
       "3                                  Moderate                 Minor   \n",
       "4                                  Moderate              Moderate   \n",
       "...                                     ...                   ...   \n",
       "2294636                            Moderate                 Minor   \n",
       "2294637                               Minor                 Minor   \n",
       "2294638                               Minor                 Minor   \n",
       "2294639                               Minor              Moderate   \n",
       "2294640                               Major              Moderate   \n",
       "\n",
       "               payment_typology_1        payment_typology_2  \\\n",
       "0        Private Health Insurance                       NaN   \n",
       "1                        Medicare                       NaN   \n",
       "2                        Medicare    Blue Cross/Blue Shield   \n",
       "3                        Medicare                  Medicaid   \n",
       "4                        Medicare  Private Health Insurance   \n",
       "...                           ...                       ...   \n",
       "2294636                  Medicaid                  Self-Pay   \n",
       "2294637  Private Health Insurance                  Medicaid   \n",
       "2294638  Private Health Insurance                  Medicare   \n",
       "2294639                  Medicaid                  Self-Pay   \n",
       "2294640       Miscellaneous/Other                  Medicare   \n",
       "\n",
       "        payment_typology_3 total_charges total_costs  \n",
       "0                      NaN        26,507    4,773.11  \n",
       "1                      NaN        20,693     5,631.3  \n",
       "2                      NaN       138,252   29,848.69  \n",
       "3                      NaN        11,799    2,595.72  \n",
       "4                      NaN        52,711   11,355.62  \n",
       "...                    ...           ...         ...  \n",
       "2294636                NaN      30,231.1   13,366.63  \n",
       "2294637           Self-Pay     12,010.21      559.81  \n",
       "2294638           Self-Pay     30,468.47    8,856.39  \n",
       "2294639                NaN      27,312.6    6,509.22  \n",
       "2294640           Medicaid     86,268.59   62,839.24  \n",
       "\n",
       "[2294641 rows x 20 columns]"
      ]
     },
     "execution_count": 64,
     "metadata": {},
     "output_type": "execute_result"
    }
   ],
   "source": [
    "anonym.to_df()"
   ]
  },
  {
   "cell_type": "code",
   "execution_count": 21,
   "metadata": {},
   "outputs": [
    {
     "name": "stdout",
     "output_type": "stream",
     "text": [
      "['length_of_stay']\n"
     ]
    }
   ],
   "source": [
    "print(anonym.numeric_columns) "
   ]
  },
  {
   "cell_type": "code",
   "execution_count": 22,
   "metadata": {},
   "outputs": [
    {
     "name": "stdout",
     "output_type": "stream",
     "text": [
      "['hospital_service_area', 'hospital_county', 'facility_name', 'age_group', 'zip_code', 'gender', 'race', 'ethnicity', 'type_of_admission', 'ccsr_diagnosis_code', 'ccsr_diagnosis_description', 'apr_severity_of_illness_description', 'apr_risk_of_mortality', 'payment_typology_1', 'payment_typology_2', 'payment_typology_3', 'total_charges', 'total_costs']\n"
     ]
    }
   ],
   "source": [
    "print(anonym.categorical_columns)"
   ]
  },
  {
   "cell_type": "code",
   "execution_count": 12,
   "metadata": {},
   "outputs": [
    {
     "name": "stdout",
     "output_type": "stream",
     "text": [
      "`numeric`:\n",
      "        * Perturbation - \"numeric_noise\"\n",
      "        * Binning - \"numeric_binning\"\n",
      "        * PCA Masking - \"numeric_masking\"\n",
      "        * Rounding - \"numeric_rounding\"\n",
      "\n",
      "`categorical`:\n",
      "        * Synthetic Data - \"categorical_fake\"\n",
      "        * Synthetic Data Auto - \"categorical_fake_auto\"\n",
      "        * Resampling from same Distribution - \"categorical_resampling\"\n",
      "        * Tokenazation - \"categorical_tokenization\"\n",
      "        * Email Masking - \"categorical_email_masking\"\n",
      "\n",
      "`datetime`:\n",
      "        * Synthetic Date - \"datetime_fake\"\n",
      "        * Perturbation - \"datetime_noise\"\n",
      "\n",
      "`general`:\n",
      "        * Drop Column - \"column_suppression\"\n",
      "        \n",
      "None\n"
     ]
    }
   ],
   "source": [
    "from anonympy.pandas.utils_pandas import available_methods\n",
    "\n",
    "print(available_methods())"
   ]
  },
  {
   "cell_type": "code",
   "execution_count": 39,
   "metadata": {},
   "outputs": [],
   "source": [
    "anonym.categorical_resampling('hospital_county')"
   ]
  },
  {
   "cell_type": "code",
   "execution_count": 46,
   "metadata": {},
   "outputs": [],
   "source": [
    "anonym.categorical_resampling('facility_name')"
   ]
  },
  {
   "cell_type": "code",
   "execution_count": 52,
   "metadata": {},
   "outputs": [],
   "source": [
    "anonym.categorical_resampling('age_group')"
   ]
  },
  {
   "cell_type": "code",
   "execution_count": 58,
   "metadata": {},
   "outputs": [],
   "source": [
    "anonym.categorical_resampling('gender')"
   ]
  },
  {
   "cell_type": "code",
   "execution_count": 65,
   "metadata": {},
   "outputs": [],
   "source": [
    "anonym.categorical_resampling('race')"
   ]
  },
  {
   "cell_type": "code",
   "execution_count": 31,
   "metadata": {},
   "outputs": [],
   "source": [
    "anonym.categorical_resampling('hospital_service_area')"
   ]
  },
  {
   "cell_type": "code",
   "execution_count": 14,
   "metadata": {},
   "outputs": [],
   "source": [
    "anonym.categorical_tokenization('Zip Code - 3 digits')"
   ]
  },
  {
   "cell_type": "code",
   "execution_count": 15,
   "metadata": {},
   "outputs": [],
   "source": [
    "anonym.categorical_tokenization('Hospital Service Area')"
   ]
  },
  {
   "cell_type": "code",
   "execution_count": 16,
   "metadata": {},
   "outputs": [],
   "source": [
    "anonym.categorical_resampling('Facility Name')"
   ]
  },
  {
   "cell_type": "code",
   "execution_count": 17,
   "metadata": {},
   "outputs": [],
   "source": [
    "anonym.numeric_noise('Permanent Facility Id')"
   ]
  },
  {
   "cell_type": "code",
   "execution_count": 18,
   "metadata": {},
   "outputs": [],
   "source": [
    "anonym.numeric_noise('Operating Certificate Number')"
   ]
  },
  {
   "cell_type": "code",
   "execution_count": 66,
   "metadata": {},
   "outputs": [],
   "source": [
    "new_df = anonym.to_df()"
   ]
  },
  {
   "cell_type": "code",
   "execution_count": 41,
   "metadata": {},
   "outputs": [
    {
     "data": {
      "text/html": [
       "<div>\n",
       "<style scoped>\n",
       "    .dataframe tbody tr th:only-of-type {\n",
       "        vertical-align: middle;\n",
       "    }\n",
       "\n",
       "    .dataframe tbody tr th {\n",
       "        vertical-align: top;\n",
       "    }\n",
       "\n",
       "    .dataframe thead th {\n",
       "        text-align: right;\n",
       "    }\n",
       "</style>\n",
       "<table border=\"1\" class=\"dataframe\">\n",
       "  <thead>\n",
       "    <tr style=\"text-align: right;\">\n",
       "      <th></th>\n",
       "      <th>hospital_service_area</th>\n",
       "      <th>hospital_county</th>\n",
       "      <th>facility_name</th>\n",
       "      <th>age_group</th>\n",
       "      <th>zip_code</th>\n",
       "      <th>gender</th>\n",
       "      <th>race</th>\n",
       "      <th>ethnicity</th>\n",
       "      <th>type_of_admission</th>\n",
       "      <th>length_of_stay</th>\n",
       "      <th>stay_over_120</th>\n",
       "      <th>ccsr_diagnosis_code</th>\n",
       "      <th>ccsr_diagnosis_description</th>\n",
       "      <th>apr_severity_of_illness_description</th>\n",
       "      <th>apr_risk_of_mortality</th>\n",
       "      <th>payment_typology_1</th>\n",
       "      <th>payment_typology_2</th>\n",
       "      <th>payment_typology_3</th>\n",
       "      <th>total_charges</th>\n",
       "      <th>total_costs</th>\n",
       "    </tr>\n",
       "  </thead>\n",
       "  <tbody>\n",
       "    <tr>\n",
       "      <th>0</th>\n",
       "      <td>Hudson Valley</td>\n",
       "      <td>Queens</td>\n",
       "      <td>White Plains Hospital Center</td>\n",
       "      <td>30 to 49</td>\n",
       "      <td>106</td>\n",
       "      <td>M</td>\n",
       "      <td>Other Race</td>\n",
       "      <td>Not Span/Hispanic</td>\n",
       "      <td>Emergency</td>\n",
       "      <td>2</td>\n",
       "      <td>False</td>\n",
       "      <td>INF008</td>\n",
       "      <td>VIRAL INFECTION</td>\n",
       "      <td>Moderate</td>\n",
       "      <td>Minor</td>\n",
       "      <td>Private Health Insurance</td>\n",
       "      <td>NaN</td>\n",
       "      <td>NaN</td>\n",
       "      <td>26,507</td>\n",
       "      <td>4,773.11</td>\n",
       "    </tr>\n",
       "    <tr>\n",
       "      <th>1</th>\n",
       "      <td>Hudson Valley</td>\n",
       "      <td>Bronx</td>\n",
       "      <td>White Plains Hospital Center</td>\n",
       "      <td>70 or Older</td>\n",
       "      <td>105</td>\n",
       "      <td>F</td>\n",
       "      <td>Black/African American</td>\n",
       "      <td>Not Span/Hispanic</td>\n",
       "      <td>Emergency</td>\n",
       "      <td>3</td>\n",
       "      <td>False</td>\n",
       "      <td>GEN002</td>\n",
       "      <td>ACUTE AND UNSPECIFIED RENAL FAILURE</td>\n",
       "      <td>Moderate</td>\n",
       "      <td>Moderate</td>\n",
       "      <td>Medicare</td>\n",
       "      <td>NaN</td>\n",
       "      <td>NaN</td>\n",
       "      <td>20,693</td>\n",
       "      <td>5,631.3</td>\n",
       "    </tr>\n",
       "    <tr>\n",
       "      <th>2</th>\n",
       "      <td>Hudson Valley</td>\n",
       "      <td>Kings</td>\n",
       "      <td>White Plains Hospital Center</td>\n",
       "      <td>50 to 69</td>\n",
       "      <td>105</td>\n",
       "      <td>F</td>\n",
       "      <td>Other Race</td>\n",
       "      <td>Not Span/Hispanic</td>\n",
       "      <td>Elective</td>\n",
       "      <td>7</td>\n",
       "      <td>False</td>\n",
       "      <td>GEN006</td>\n",
       "      <td>OTHER SPECIFIED AND UNSPECIFIED DISEASES OF KI...</td>\n",
       "      <td>Extreme</td>\n",
       "      <td>Extreme</td>\n",
       "      <td>Medicare</td>\n",
       "      <td>Blue Cross/Blue Shield</td>\n",
       "      <td>NaN</td>\n",
       "      <td>138,252</td>\n",
       "      <td>29,848.69</td>\n",
       "    </tr>\n",
       "    <tr>\n",
       "      <th>3</th>\n",
       "      <td>Hudson Valley</td>\n",
       "      <td>Monroe</td>\n",
       "      <td>White Plains Hospital Center</td>\n",
       "      <td>50 to 69</td>\n",
       "      <td>106</td>\n",
       "      <td>F</td>\n",
       "      <td>Black/African American</td>\n",
       "      <td>Not Span/Hispanic</td>\n",
       "      <td>Emergency</td>\n",
       "      <td>1</td>\n",
       "      <td>False</td>\n",
       "      <td>RSP009</td>\n",
       "      <td>ASTHMA</td>\n",
       "      <td>Moderate</td>\n",
       "      <td>Minor</td>\n",
       "      <td>Medicare</td>\n",
       "      <td>Medicaid</td>\n",
       "      <td>NaN</td>\n",
       "      <td>11,799</td>\n",
       "      <td>2,595.72</td>\n",
       "    </tr>\n",
       "    <tr>\n",
       "      <th>4</th>\n",
       "      <td>Hudson Valley</td>\n",
       "      <td>Nassau</td>\n",
       "      <td>White Plains Hospital Center</td>\n",
       "      <td>70 or Older</td>\n",
       "      <td>105</td>\n",
       "      <td>F</td>\n",
       "      <td>Other Race</td>\n",
       "      <td>Not Span/Hispanic</td>\n",
       "      <td>Emergency</td>\n",
       "      <td>3</td>\n",
       "      <td>False</td>\n",
       "      <td>MBD012</td>\n",
       "      <td>SUICIDAL IDEATION/ATTEMPT/INTENTIONAL SELF-HARM</td>\n",
       "      <td>Moderate</td>\n",
       "      <td>Moderate</td>\n",
       "      <td>Medicare</td>\n",
       "      <td>Private Health Insurance</td>\n",
       "      <td>NaN</td>\n",
       "      <td>52,711</td>\n",
       "      <td>11,355.62</td>\n",
       "    </tr>\n",
       "    <tr>\n",
       "      <th>...</th>\n",
       "      <td>...</td>\n",
       "      <td>...</td>\n",
       "      <td>...</td>\n",
       "      <td>...</td>\n",
       "      <td>...</td>\n",
       "      <td>...</td>\n",
       "      <td>...</td>\n",
       "      <td>...</td>\n",
       "      <td>...</td>\n",
       "      <td>...</td>\n",
       "      <td>...</td>\n",
       "      <td>...</td>\n",
       "      <td>...</td>\n",
       "      <td>...</td>\n",
       "      <td>...</td>\n",
       "      <td>...</td>\n",
       "      <td>...</td>\n",
       "      <td>...</td>\n",
       "      <td>...</td>\n",
       "      <td>...</td>\n",
       "    </tr>\n",
       "    <tr>\n",
       "      <th>2294636</th>\n",
       "      <td>New York City</td>\n",
       "      <td>Kings</td>\n",
       "      <td>New York - Presbyterian Brooklyn Methodist Hos...</td>\n",
       "      <td>0 to 17</td>\n",
       "      <td>112</td>\n",
       "      <td>M</td>\n",
       "      <td>Black/African American</td>\n",
       "      <td>Not Span/Hispanic</td>\n",
       "      <td>Emergency</td>\n",
       "      <td>2</td>\n",
       "      <td>False</td>\n",
       "      <td>PNL009</td>\n",
       "      <td>PERINATAL INFECTIONS</td>\n",
       "      <td>Moderate</td>\n",
       "      <td>Minor</td>\n",
       "      <td>Medicaid</td>\n",
       "      <td>Self-Pay</td>\n",
       "      <td>NaN</td>\n",
       "      <td>30,231.1</td>\n",
       "      <td>13,366.63</td>\n",
       "    </tr>\n",
       "    <tr>\n",
       "      <th>2294637</th>\n",
       "      <td>New York City</td>\n",
       "      <td>Manhattan</td>\n",
       "      <td>New York - Presbyterian/Queens</td>\n",
       "      <td>0 to 17</td>\n",
       "      <td>111</td>\n",
       "      <td>M</td>\n",
       "      <td>White</td>\n",
       "      <td>Not Span/Hispanic</td>\n",
       "      <td>Newborn</td>\n",
       "      <td>2</td>\n",
       "      <td>False</td>\n",
       "      <td>PNL001</td>\n",
       "      <td>LIVEBORN</td>\n",
       "      <td>Minor</td>\n",
       "      <td>Minor</td>\n",
       "      <td>Private Health Insurance</td>\n",
       "      <td>Medicaid</td>\n",
       "      <td>Self-Pay</td>\n",
       "      <td>12,010.21</td>\n",
       "      <td>559.81</td>\n",
       "    </tr>\n",
       "    <tr>\n",
       "      <th>2294638</th>\n",
       "      <td>New York City</td>\n",
       "      <td>Wyoming</td>\n",
       "      <td>New York-Presbyterian Hospital - New York Weil...</td>\n",
       "      <td>50 to 69</td>\n",
       "      <td>113</td>\n",
       "      <td>M</td>\n",
       "      <td>Other Race</td>\n",
       "      <td>Spanish/Hispanic</td>\n",
       "      <td>Emergency</td>\n",
       "      <td>1</td>\n",
       "      <td>False</td>\n",
       "      <td>GEN005</td>\n",
       "      <td>CALCULUS OF URINARY TRACT</td>\n",
       "      <td>Minor</td>\n",
       "      <td>Minor</td>\n",
       "      <td>Private Health Insurance</td>\n",
       "      <td>Medicare</td>\n",
       "      <td>Self-Pay</td>\n",
       "      <td>30,468.47</td>\n",
       "      <td>8,856.39</td>\n",
       "    </tr>\n",
       "    <tr>\n",
       "      <th>2294639</th>\n",
       "      <td>New York City</td>\n",
       "      <td>Queens</td>\n",
       "      <td>New York - Presbyterian Brooklyn Methodist Hos...</td>\n",
       "      <td>70 or Older</td>\n",
       "      <td>112</td>\n",
       "      <td>M</td>\n",
       "      <td>White</td>\n",
       "      <td>Not Span/Hispanic</td>\n",
       "      <td>Emergency</td>\n",
       "      <td>3</td>\n",
       "      <td>False</td>\n",
       "      <td>CIR019</td>\n",
       "      <td>HEART FAILURE</td>\n",
       "      <td>Minor</td>\n",
       "      <td>Moderate</td>\n",
       "      <td>Medicaid</td>\n",
       "      <td>Self-Pay</td>\n",
       "      <td>NaN</td>\n",
       "      <td>27,312.6</td>\n",
       "      <td>6,509.22</td>\n",
       "    </tr>\n",
       "    <tr>\n",
       "      <th>2294640</th>\n",
       "      <td>Long Island</td>\n",
       "      <td>Manhattan</td>\n",
       "      <td>Nassau University Medical Center</td>\n",
       "      <td>50 to 69</td>\n",
       "      <td>115</td>\n",
       "      <td>M</td>\n",
       "      <td>Black/African American</td>\n",
       "      <td>Not Span/Hispanic</td>\n",
       "      <td>Elective</td>\n",
       "      <td>5</td>\n",
       "      <td>False</td>\n",
       "      <td>FAC004</td>\n",
       "      <td>ENCOUNTER FOR PROPHYLACTIC OR OTHER PROCEDURES</td>\n",
       "      <td>Major</td>\n",
       "      <td>Moderate</td>\n",
       "      <td>Miscellaneous/Other</td>\n",
       "      <td>Medicare</td>\n",
       "      <td>Medicaid</td>\n",
       "      <td>86,268.59</td>\n",
       "      <td>62,839.24</td>\n",
       "    </tr>\n",
       "  </tbody>\n",
       "</table>\n",
       "<p>2294641 rows × 20 columns</p>\n",
       "</div>"
      ],
      "text/plain": [
       "        hospital_service_area hospital_county  \\\n",
       "0               Hudson Valley          Queens   \n",
       "1               Hudson Valley           Bronx   \n",
       "2               Hudson Valley           Kings   \n",
       "3               Hudson Valley          Monroe   \n",
       "4               Hudson Valley          Nassau   \n",
       "...                       ...             ...   \n",
       "2294636         New York City           Kings   \n",
       "2294637         New York City       Manhattan   \n",
       "2294638         New York City         Wyoming   \n",
       "2294639         New York City          Queens   \n",
       "2294640           Long Island       Manhattan   \n",
       "\n",
       "                                             facility_name    age_group  \\\n",
       "0                             White Plains Hospital Center     30 to 49   \n",
       "1                             White Plains Hospital Center  70 or Older   \n",
       "2                             White Plains Hospital Center     50 to 69   \n",
       "3                             White Plains Hospital Center     50 to 69   \n",
       "4                             White Plains Hospital Center  70 or Older   \n",
       "...                                                    ...          ...   \n",
       "2294636  New York - Presbyterian Brooklyn Methodist Hos...      0 to 17   \n",
       "2294637                     New York - Presbyterian/Queens      0 to 17   \n",
       "2294638  New York-Presbyterian Hospital - New York Weil...     50 to 69   \n",
       "2294639  New York - Presbyterian Brooklyn Methodist Hos...  70 or Older   \n",
       "2294640                   Nassau University Medical Center     50 to 69   \n",
       "\n",
       "        zip_code gender                    race          ethnicity  \\\n",
       "0            106      M              Other Race  Not Span/Hispanic   \n",
       "1            105      F  Black/African American  Not Span/Hispanic   \n",
       "2            105      F              Other Race  Not Span/Hispanic   \n",
       "3            106      F  Black/African American  Not Span/Hispanic   \n",
       "4            105      F              Other Race  Not Span/Hispanic   \n",
       "...          ...    ...                     ...                ...   \n",
       "2294636      112      M  Black/African American  Not Span/Hispanic   \n",
       "2294637      111      M                   White  Not Span/Hispanic   \n",
       "2294638      113      M              Other Race   Spanish/Hispanic   \n",
       "2294639      112      M                   White  Not Span/Hispanic   \n",
       "2294640      115      M  Black/African American  Not Span/Hispanic   \n",
       "\n",
       "        type_of_admission  length_of_stay  stay_over_120 ccsr_diagnosis_code  \\\n",
       "0               Emergency               2          False              INF008   \n",
       "1               Emergency               3          False              GEN002   \n",
       "2                Elective               7          False              GEN006   \n",
       "3               Emergency               1          False              RSP009   \n",
       "4               Emergency               3          False              MBD012   \n",
       "...                   ...             ...            ...                 ...   \n",
       "2294636         Emergency               2          False              PNL009   \n",
       "2294637           Newborn               2          False              PNL001   \n",
       "2294638         Emergency               1          False              GEN005   \n",
       "2294639         Emergency               3          False              CIR019   \n",
       "2294640          Elective               5          False              FAC004   \n",
       "\n",
       "                                ccsr_diagnosis_description  \\\n",
       "0                                          VIRAL INFECTION   \n",
       "1                      ACUTE AND UNSPECIFIED RENAL FAILURE   \n",
       "2        OTHER SPECIFIED AND UNSPECIFIED DISEASES OF KI...   \n",
       "3                                                   ASTHMA   \n",
       "4          SUICIDAL IDEATION/ATTEMPT/INTENTIONAL SELF-HARM   \n",
       "...                                                    ...   \n",
       "2294636                               PERINATAL INFECTIONS   \n",
       "2294637                                           LIVEBORN   \n",
       "2294638                          CALCULUS OF URINARY TRACT   \n",
       "2294639                                      HEART FAILURE   \n",
       "2294640     ENCOUNTER FOR PROPHYLACTIC OR OTHER PROCEDURES   \n",
       "\n",
       "        apr_severity_of_illness_description apr_risk_of_mortality  \\\n",
       "0                                  Moderate                 Minor   \n",
       "1                                  Moderate              Moderate   \n",
       "2                                   Extreme               Extreme   \n",
       "3                                  Moderate                 Minor   \n",
       "4                                  Moderate              Moderate   \n",
       "...                                     ...                   ...   \n",
       "2294636                            Moderate                 Minor   \n",
       "2294637                               Minor                 Minor   \n",
       "2294638                               Minor                 Minor   \n",
       "2294639                               Minor              Moderate   \n",
       "2294640                               Major              Moderate   \n",
       "\n",
       "               payment_typology_1        payment_typology_2  \\\n",
       "0        Private Health Insurance                       NaN   \n",
       "1                        Medicare                       NaN   \n",
       "2                        Medicare    Blue Cross/Blue Shield   \n",
       "3                        Medicare                  Medicaid   \n",
       "4                        Medicare  Private Health Insurance   \n",
       "...                           ...                       ...   \n",
       "2294636                  Medicaid                  Self-Pay   \n",
       "2294637  Private Health Insurance                  Medicaid   \n",
       "2294638  Private Health Insurance                  Medicare   \n",
       "2294639                  Medicaid                  Self-Pay   \n",
       "2294640       Miscellaneous/Other                  Medicare   \n",
       "\n",
       "        payment_typology_3 total_charges total_costs  \n",
       "0                      NaN        26,507    4,773.11  \n",
       "1                      NaN        20,693     5,631.3  \n",
       "2                      NaN       138,252   29,848.69  \n",
       "3                      NaN        11,799    2,595.72  \n",
       "4                      NaN        52,711   11,355.62  \n",
       "...                    ...           ...         ...  \n",
       "2294636                NaN      30,231.1   13,366.63  \n",
       "2294637           Self-Pay     12,010.21      559.81  \n",
       "2294638           Self-Pay     30,468.47    8,856.39  \n",
       "2294639                NaN      27,312.6    6,509.22  \n",
       "2294640           Medicaid     86,268.59   62,839.24  \n",
       "\n",
       "[2294641 rows x 20 columns]"
      ]
     },
     "execution_count": 41,
     "metadata": {},
     "output_type": "execute_result"
    }
   ],
   "source": [
    "new_df"
   ]
  },
  {
   "cell_type": "code",
   "execution_count": 67,
   "metadata": {},
   "outputs": [],
   "source": [
    "new_df.to_csv('C:/Users/natal/Documents/Intro to Data Science/Hospital_Inpatient_Discharges_Resampled_race_2019.csv')"
   ]
  },
  {
   "cell_type": "code",
   "execution_count": 21,
   "metadata": {},
   "outputs": [],
   "source": [
    "import plotly.express as px"
   ]
  },
  {
   "cell_type": "code",
   "execution_count": 29,
   "metadata": {},
   "outputs": [],
   "source": [
    "df_categorical = new_df[['Hospital Service Area', 'Hospital County','Facility Name', 'Zip Code - 3 digits','Gender','Age Group', 'Race', 'Ethnicity','Patient Disposition','CCSR Diagnosis Description',\n",
    "'APR Severity of Illness Description', 'APR Risk of Mortality','Payment Typology 1']]"
   ]
  },
  {
   "cell_type": "code",
   "execution_count": 30,
   "metadata": {},
   "outputs": [],
   "source": [
    "df_categorical = df_categorical.apply(\n",
    "        lambda x: x.astype(\"category\") if x.dtype == \"O\" else x)"
   ]
  },
  {
   "cell_type": "code",
   "execution_count": 32,
   "metadata": {},
   "outputs": [
    {
     "data": {
      "application/vnd.plotly.v1+json": {
       "config": {
        "plotlyServerURL": "https://plot.ly"
       },
       "data": [
        {
         "branchvalues": "total",
         "customdata": [
          [
           "Other Race"
          ],
          [
           "Other Race"
          ],
          [
           "Other Race"
          ],
          [
           "Other Race"
          ],
          [
           "Other Race"
          ],
          [
           "(?)"
          ],
          [
           "Other Race"
          ],
          [
           "Other Race"
          ],
          [
           "Other Race"
          ],
          [
           "Other Race"
          ],
          [
           "Other Race"
          ],
          [
           "Other Race"
          ],
          [
           "Other Race"
          ],
          [
           "Other Race"
          ],
          [
           "Other Race"
          ],
          [
           "Other Race"
          ],
          [
           null
          ],
          [
           "Other Race"
          ],
          [
           "Other Race"
          ],
          [
           "Other Race"
          ],
          [
           "Other Race"
          ],
          [
           "Other Race"
          ],
          [
           "Other Race"
          ],
          [
           "Other Race"
          ],
          [
           "Other Race"
          ],
          [
           "Other Race"
          ],
          [
           "Other Race"
          ],
          [
           "Other Race"
          ],
          [
           "Other Race"
          ],
          [
           "Other Race"
          ],
          [
           "Other Race"
          ],
          [
           "Other Race"
          ],
          [
           "Other Race"
          ],
          [
           "Other Race"
          ],
          [
           "Other Race"
          ],
          [
           "Other Race"
          ],
          [
           "Other Race"
          ],
          [
           "Other Race"
          ],
          [
           "Other Race"
          ],
          [
           "Other Race"
          ],
          [
           "Other Race"
          ],
          [
           "Other Race"
          ],
          [
           "Other Race"
          ],
          [
           "Other Race"
          ],
          [
           "Other Race"
          ],
          [
           "Other Race"
          ],
          [
           "Other Race"
          ],
          [
           "Other Race"
          ],
          [
           "Other Race"
          ],
          [
           "Other Race"
          ],
          [
           "Other Race"
          ],
          [
           "Other Race"
          ],
          [
           "White"
          ],
          [
           "White"
          ],
          [
           "White"
          ],
          [
           "White"
          ],
          [
           "White"
          ],
          [
           "White"
          ],
          [
           "White"
          ],
          [
           "White"
          ],
          [
           "White"
          ],
          [
           "White"
          ],
          [
           "White"
          ],
          [
           "White"
          ],
          [
           "White"
          ],
          [
           "White"
          ],
          [
           "White"
          ],
          [
           "White"
          ],
          [
           "White"
          ],
          [
           "White"
          ],
          [
           "White"
          ],
          [
           "White"
          ],
          [
           "White"
          ],
          [
           "White"
          ],
          [
           null
          ],
          [
           "Other Race"
          ],
          [
           "Other Race"
          ],
          [
           "Other Race"
          ],
          [
           "Other Race"
          ],
          [
           "Other Race"
          ],
          [
           "Other Race"
          ],
          [
           "Other Race"
          ],
          [
           "Other Race"
          ],
          [
           "Other Race"
          ],
          [
           "Other Race"
          ],
          [
           "Other Race"
          ],
          [
           "Other Race"
          ],
          [
           "Other Race"
          ],
          [
           "Other Race"
          ],
          [
           "Other Race"
          ],
          [
           "Other Race"
          ],
          [
           "Other Race"
          ],
          [
           "Other Race"
          ],
          [
           "Other Race"
          ],
          [
           "Other Race"
          ],
          [
           "Other Race"
          ],
          [
           "Other Race"
          ],
          [
           "Other Race"
          ],
          [
           "Other Race"
          ],
          [
           "Other Race"
          ],
          [
           "White"
          ],
          [
           "Other Race"
          ],
          [
           "Multi-racial"
          ],
          [
           "Multi-racial"
          ],
          [
           "Multi-racial"
          ],
          [
           null
          ],
          [
           "Multi-racial"
          ],
          [
           "Multi-racial"
          ],
          [
           null
          ],
          [
           null
          ],
          [
           null
          ],
          [
           null
          ],
          [
           "Multi-racial"
          ],
          [
           "Multi-racial"
          ],
          [
           "Multi-racial"
          ],
          [
           "Multi-racial"
          ],
          [
           "Multi-racial"
          ],
          [
           "Multi-racial"
          ],
          [
           null
          ],
          [
           null
          ],
          [
           "Multi-racial"
          ],
          [
           null
          ],
          [
           "Multi-racial"
          ],
          [
           "Multi-racial"
          ],
          [
           null
          ],
          [
           null
          ],
          [
           "Multi-racial"
          ],
          [
           "Multi-racial"
          ],
          [
           "Black/African American"
          ],
          [
           "Black/African American"
          ],
          [
           "Black/African American"
          ],
          [
           "Black/African American"
          ],
          [
           "Black/African American"
          ],
          [
           "Black/African American"
          ],
          [
           "Black/African American"
          ],
          [
           "Black/African American"
          ],
          [
           "Black/African American"
          ],
          [
           "Black/African American"
          ],
          [
           null
          ],
          [
           "Black/African American"
          ],
          [
           "Black/African American"
          ],
          [
           "Black/African American"
          ],
          [
           "Multi-racial"
          ],
          [
           "Multi-racial"
          ],
          [
           null
          ],
          [
           "Multi-racial"
          ],
          [
           "Multi-racial"
          ],
          [
           "Multi-racial"
          ],
          [
           "Multi-racial"
          ],
          [
           "Multi-racial"
          ],
          [
           "Black/African American"
          ],
          [
           "Other Race"
          ],
          [
           "Multi-racial"
          ],
          [
           "Multi-racial"
          ],
          [
           "Multi-racial"
          ],
          [
           "Multi-racial"
          ],
          [
           "Multi-racial"
          ],
          [
           "Multi-racial"
          ],
          [
           "Multi-racial"
          ],
          [
           "Multi-racial"
          ],
          [
           "Multi-racial"
          ],
          [
           null
          ],
          [
           "Multi-racial"
          ],
          [
           "Multi-racial"
          ],
          [
           "Multi-racial"
          ],
          [
           "Multi-racial"
          ],
          [
           "Multi-racial"
          ],
          [
           "Multi-racial"
          ],
          [
           "Multi-racial"
          ],
          [
           null
          ],
          [
           "Multi-racial"
          ],
          [
           "Multi-racial"
          ],
          [
           null
          ],
          [
           "Multi-racial"
          ],
          [
           null
          ],
          [
           null
          ],
          [
           null
          ],
          [
           "Multi-racial"
          ],
          [
           "Multi-racial"
          ],
          [
           "Multi-racial"
          ],
          [
           "Multi-racial"
          ],
          [
           "Multi-racial"
          ],
          [
           null
          ],
          [
           "Multi-racial"
          ],
          [
           "Multi-racial"
          ],
          [
           "Multi-racial"
          ],
          [
           null
          ],
          [
           "Multi-racial"
          ],
          [
           "Multi-racial"
          ],
          [
           "Multi-racial"
          ],
          [
           "Multi-racial"
          ],
          [
           null
          ],
          [
           "Multi-racial"
          ],
          [
           "Multi-racial"
          ],
          [
           "Multi-racial"
          ],
          [
           "Multi-racial"
          ],
          [
           "Multi-racial"
          ],
          [
           "Multi-racial"
          ],
          [
           null
          ],
          [
           null
          ],
          [
           null
          ],
          [
           "Multi-racial"
          ],
          [
           "Black/African American"
          ],
          [
           "White"
          ],
          [
           "White"
          ],
          [
           "White"
          ],
          [
           "White"
          ],
          [
           "(?)"
          ],
          [
           "(?)"
          ],
          [
           "(?)"
          ],
          [
           "(?)"
          ],
          [
           "(?)"
          ],
          [
           "(?)"
          ],
          [
           "(?)"
          ],
          [
           "(?)"
          ],
          [
           "(?)"
          ],
          [
           "(?)"
          ],
          [
           "(?)"
          ],
          [
           "(?)"
          ],
          [
           "(?)"
          ],
          [
           "(?)"
          ],
          [
           "(?)"
          ],
          [
           "(?)"
          ],
          [
           "(?)"
          ],
          [
           "(?)"
          ],
          [
           "(?)"
          ],
          [
           "White"
          ],
          [
           "White"
          ],
          [
           "White"
          ],
          [
           "White"
          ],
          [
           "White"
          ],
          [
           "White"
          ],
          [
           "White"
          ],
          [
           "White"
          ],
          [
           "White"
          ],
          [
           "White"
          ],
          [
           "White"
          ],
          [
           "White"
          ],
          [
           "White"
          ],
          [
           "White"
          ],
          [
           null
          ],
          [
           "White"
          ],
          [
           "White"
          ],
          [
           "White"
          ],
          [
           "White"
          ],
          [
           "White"
          ],
          [
           "White"
          ],
          [
           "White"
          ],
          [
           "White"
          ],
          [
           "White"
          ],
          [
           "White"
          ],
          [
           "White"
          ],
          [
           "White"
          ],
          [
           "White"
          ],
          [
           "(?)"
          ],
          [
           "(?)"
          ],
          [
           "(?)"
          ],
          [
           "(?)"
          ],
          [
           "(?)"
          ],
          [
           "(?)"
          ],
          [
           "(?)"
          ],
          [
           "(?)"
          ],
          [
           "(?)"
          ],
          [
           "(?)"
          ],
          [
           "(?)"
          ],
          [
           "(?)"
          ],
          [
           "(?)"
          ],
          [
           "(?)"
          ],
          [
           "(?)"
          ],
          [
           "(?)"
          ],
          [
           "(?)"
          ],
          [
           "(?)"
          ],
          [
           "(?)"
          ],
          [
           "(?)"
          ],
          [
           "(?)"
          ],
          [
           "(?)"
          ],
          [
           "(?)"
          ],
          [
           "(?)"
          ],
          [
           "(?)"
          ],
          [
           "(?)"
          ],
          [
           "(?)"
          ],
          [
           "(?)"
          ],
          [
           "(?)"
          ],
          [
           "(?)"
          ],
          [
           "(?)"
          ],
          [
           "(?)"
          ],
          [
           "(?)"
          ],
          [
           "(?)"
          ],
          [
           "(?)"
          ],
          [
           "(?)"
          ],
          [
           "(?)"
          ],
          [
           "(?)"
          ],
          [
           "(?)"
          ],
          [
           "(?)"
          ],
          [
           "(?)"
          ],
          [
           "(?)"
          ],
          [
           "(?)"
          ],
          [
           "(?)"
          ],
          [
           "(?)"
          ],
          [
           "(?)"
          ],
          [
           "(?)"
          ],
          [
           "(?)"
          ],
          [
           "(?)"
          ],
          [
           "(?)"
          ],
          [
           "White"
          ],
          [
           "White"
          ],
          [
           "White"
          ],
          [
           "White"
          ],
          [
           "White"
          ],
          [
           "White"
          ],
          [
           "White"
          ],
          [
           "White"
          ],
          [
           "White"
          ],
          [
           "White"
          ],
          [
           "White"
          ],
          [
           "White"
          ],
          [
           "White"
          ],
          [
           "White"
          ],
          [
           "White"
          ],
          [
           "White"
          ],
          [
           "White"
          ],
          [
           "White"
          ],
          [
           "White"
          ],
          [
           "White"
          ],
          [
           "White"
          ],
          [
           "White"
          ],
          [
           "White"
          ],
          [
           "White"
          ],
          [
           "White"
          ],
          [
           "White"
          ],
          [
           "White"
          ],
          [
           "White"
          ],
          [
           "White"
          ],
          [
           "White"
          ],
          [
           "White"
          ],
          [
           "White"
          ],
          [
           "White"
          ],
          [
           "White"
          ],
          [
           "White"
          ],
          [
           "White"
          ],
          [
           "White"
          ],
          [
           "White"
          ],
          [
           "White"
          ],
          [
           "White"
          ],
          [
           "White"
          ],
          [
           "White"
          ],
          [
           "White"
          ],
          [
           "White"
          ],
          [
           "White"
          ],
          [
           "White"
          ],
          [
           "White"
          ],
          [
           "White"
          ],
          [
           "White"
          ],
          [
           "White"
          ],
          [
           "White"
          ],
          [
           "White"
          ],
          [
           "White"
          ],
          [
           "White"
          ],
          [
           "White"
          ],
          [
           "White"
          ],
          [
           "White"
          ],
          [
           "White"
          ],
          [
           "White"
          ],
          [
           "White"
          ],
          [
           "White"
          ],
          [
           "White"
          ],
          [
           "White"
          ],
          [
           "White"
          ],
          [
           "White"
          ],
          [
           "White"
          ],
          [
           "White"
          ],
          [
           "White"
          ],
          [
           "White"
          ],
          [
           "White"
          ],
          [
           "White"
          ],
          [
           "White"
          ],
          [
           "White"
          ],
          [
           "White"
          ],
          [
           "White"
          ],
          [
           "White"
          ],
          [
           "White"
          ],
          [
           "White"
          ],
          [
           "White"
          ],
          [
           "White"
          ],
          [
           "White"
          ],
          [
           "White"
          ],
          [
           "White"
          ],
          [
           "White"
          ],
          [
           "White"
          ],
          [
           "White"
          ],
          [
           "White"
          ],
          [
           "White"
          ],
          [
           "White"
          ],
          [
           "White"
          ],
          [
           "White"
          ],
          [
           "White"
          ],
          [
           "White"
          ],
          [
           "White"
          ],
          [
           "White"
          ],
          [
           "White"
          ],
          [
           "White"
          ],
          [
           "White"
          ],
          [
           "White"
          ],
          [
           "White"
          ],
          [
           "White"
          ],
          [
           "White"
          ],
          [
           "Black/African American"
          ],
          [
           "(?)"
          ],
          [
           "Black/African American"
          ],
          [
           "Black/African American"
          ],
          [
           "Black/African American"
          ],
          [
           "Black/African American"
          ],
          [
           "Black/African American"
          ],
          [
           "Black/African American"
          ],
          [
           "Black/African American"
          ],
          [
           "Black/African American"
          ],
          [
           "Black/African American"
          ],
          [
           "Black/African American"
          ],
          [
           "Black/African American"
          ],
          [
           "Black/African American"
          ],
          [
           "Black/African American"
          ],
          [
           "Black/African American"
          ],
          [
           "Black/African American"
          ],
          [
           "Black/African American"
          ],
          [
           "Black/African American"
          ],
          [
           "Black/African American"
          ],
          [
           "Black/African American"
          ],
          [
           "Black/African American"
          ],
          [
           "Black/African American"
          ],
          [
           "Black/African American"
          ],
          [
           "Black/African American"
          ],
          [
           "Black/African American"
          ],
          [
           "Black/African American"
          ],
          [
           "Black/African American"
          ],
          [
           "Black/African American"
          ],
          [
           "Black/African American"
          ],
          [
           "Black/African American"
          ],
          [
           "Black/African American"
          ],
          [
           "Black/African American"
          ],
          [
           "Black/African American"
          ],
          [
           "Black/African American"
          ],
          [
           "Black/African American"
          ],
          [
           "Black/African American"
          ],
          [
           "Black/African American"
          ],
          [
           "Black/African American"
          ],
          [
           "Black/African American"
          ],
          [
           "Black/African American"
          ],
          [
           "Black/African American"
          ],
          [
           "Black/African American"
          ],
          [
           "Black/African American"
          ],
          [
           "Black/African American"
          ],
          [
           "Black/African American"
          ],
          [
           "Black/African American"
          ],
          [
           "Black/African American"
          ],
          [
           "Black/African American"
          ],
          [
           "Black/African American"
          ],
          [
           "Black/African American"
          ],
          [
           "Black/African American"
          ],
          [
           "Black/African American"
          ],
          [
           "Black/African American"
          ],
          [
           "Black/African American"
          ],
          [
           null
          ],
          [
           "Black/African American"
          ],
          [
           "Black/African American"
          ],
          [
           "Black/African American"
          ],
          [
           "Black/African American"
          ],
          [
           "Black/African American"
          ],
          [
           "Black/African American"
          ],
          [
           "Black/African American"
          ],
          [
           "Black/African American"
          ],
          [
           "Black/African American"
          ],
          [
           "Black/African American"
          ],
          [
           "Black/African American"
          ],
          [
           "Black/African American"
          ],
          [
           "Black/African American"
          ],
          [
           null
          ],
          [
           "Black/African American"
          ],
          [
           "Black/African American"
          ],
          [
           "Black/African American"
          ],
          [
           null
          ],
          [
           "Black/African American"
          ],
          [
           "Black/African American"
          ],
          [
           "Black/African American"
          ],
          [
           "Black/African American"
          ],
          [
           "Black/African American"
          ],
          [
           "Black/African American"
          ],
          [
           "Other Race"
          ],
          [
           "Other Race"
          ],
          [
           "White"
          ],
          [
           "Other Race"
          ],
          [
           "Black/African American"
          ],
          [
           null
          ],
          [
           "Black/African American"
          ],
          [
           "Other Race"
          ],
          [
           "White"
          ],
          [
           "(?)"
          ],
          [
           "Other Race"
          ],
          [
           "Black/African American"
          ],
          [
           "Multi-racial"
          ],
          [
           "White"
          ],
          [
           "Black/African American"
          ],
          [
           "Black/African American"
          ],
          [
           "White"
          ],
          [
           "White"
          ],
          [
           "Other Race"
          ],
          [
           "(?)"
          ],
          [
           "Black/African American"
          ],
          [
           "Black/African American"
          ],
          [
           "Multi-racial"
          ],
          [
           null
          ],
          [
           "(?)"
          ],
          [
           "Multi-racial"
          ],
          [
           "(?)"
          ],
          [
           "Other Race"
          ],
          [
           "Other Race"
          ],
          [
           "Other Race"
          ],
          [
           "Other Race"
          ],
          [
           "Black/African American"
          ],
          [
           "Other Race"
          ],
          [
           "Black/African American"
          ],
          [
           "Black/African American"
          ],
          [
           "Other Race"
          ],
          [
           "Black/African American"
          ],
          [
           "Other Race"
          ],
          [
           "Other Race"
          ],
          [
           "Black/African American"
          ],
          [
           "Black/African American"
          ],
          [
           "Other Race"
          ],
          [
           "Black/African American"
          ],
          [
           "Other Race"
          ],
          [
           "Other Race"
          ],
          [
           "Other Race"
          ],
          [
           "Other Race"
          ],
          [
           null
          ],
          [
           "Other Race"
          ],
          [
           "Other Race"
          ],
          [
           "Other Race"
          ],
          [
           "Black/African American"
          ],
          [
           "Other Race"
          ],
          [
           "Other Race"
          ],
          [
           "Other Race"
          ],
          [
           "Other Race"
          ],
          [
           "Other Race"
          ],
          [
           "Other Race"
          ],
          [
           "Other Race"
          ],
          [
           "Other Race"
          ],
          [
           "Other Race"
          ],
          [
           "Other Race"
          ],
          [
           "Other Race"
          ],
          [
           "Black/African American"
          ],
          [
           "Other Race"
          ],
          [
           "Other Race"
          ],
          [
           "Other Race"
          ],
          [
           "Black/African American"
          ],
          [
           "Other Race"
          ],
          [
           "Other Race"
          ],
          [
           "Black/African American"
          ],
          [
           "Other Race"
          ],
          [
           "Black/African American"
          ],
          [
           "Other Race"
          ],
          [
           "Other Race"
          ],
          [
           "Black/African American"
          ],
          [
           "Other Race"
          ],
          [
           "Other Race"
          ],
          [
           "Black/African American"
          ],
          [
           "Black/African American"
          ],
          [
           "Black/African American"
          ],
          [
           "Black/African American"
          ],
          [
           "Black/African American"
          ],
          [
           "Black/African American"
          ],
          [
           "Black/African American"
          ],
          [
           "White"
          ],
          [
           "Black/African American"
          ],
          [
           "Multi-racial"
          ],
          [
           "White"
          ],
          [
           "Black/African American"
          ],
          [
           "White"
          ],
          [
           "White"
          ],
          [
           "White"
          ],
          [
           "Black/African American"
          ],
          [
           "Black/African American"
          ],
          [
           "Black/African American"
          ],
          [
           "Black/African American"
          ],
          [
           "Black/African American"
          ],
          [
           "White"
          ],
          [
           "Black/African American"
          ],
          [
           "White"
          ],
          [
           "Black/African American"
          ],
          [
           "Black/African American"
          ],
          [
           "Black/African American"
          ],
          [
           "Black/African American"
          ],
          [
           "Black/African American"
          ],
          [
           "White"
          ],
          [
           "White"
          ],
          [
           "Black/African American"
          ],
          [
           "Black/African American"
          ],
          [
           "Other Race"
          ],
          [
           "Other Race"
          ],
          [
           "Black/African American"
          ],
          [
           "Black/African American"
          ],
          [
           "Black/African American"
          ],
          [
           "White"
          ],
          [
           "Other Race"
          ],
          [
           "White"
          ],
          [
           "White"
          ],
          [
           null
          ],
          [
           "White"
          ],
          [
           "White"
          ],
          [
           "Black/African American"
          ],
          [
           "White"
          ],
          [
           "Black/African American"
          ],
          [
           "White"
          ],
          [
           "Black/African American"
          ],
          [
           "White"
          ],
          [
           null
          ],
          [
           "White"
          ],
          [
           null
          ],
          [
           "Black/African American"
          ],
          [
           "Other Race"
          ],
          [
           "Black/African American"
          ],
          [
           "Other Race"
          ],
          [
           "Other Race"
          ],
          [
           "Black/African American"
          ],
          [
           "Other Race"
          ],
          [
           "Other Race"
          ],
          [
           "Black/African American"
          ],
          [
           "Other Race"
          ],
          [
           "Other Race"
          ],
          [
           "Other Race"
          ],
          [
           null
          ],
          [
           "Other Race"
          ],
          [
           "Other Race"
          ],
          [
           "Other Race"
          ],
          [
           "Other Race"
          ],
          [
           "Other Race"
          ],
          [
           "Other Race"
          ],
          [
           "Other Race"
          ],
          [
           "Other Race"
          ],
          [
           "Other Race"
          ],
          [
           "Other Race"
          ],
          [
           "Other Race"
          ],
          [
           "Black/African American"
          ],
          [
           "Other Race"
          ],
          [
           "Other Race"
          ],
          [
           null
          ],
          [
           "Other Race"
          ],
          [
           "Other Race"
          ],
          [
           "Other Race"
          ],
          [
           "Other Race"
          ],
          [
           "Other Race"
          ],
          [
           "Black/African American"
          ],
          [
           "Black/African American"
          ],
          [
           "Other Race"
          ],
          [
           "Other Race"
          ],
          [
           "Other Race"
          ],
          [
           "Other Race"
          ],
          [
           "Other Race"
          ],
          [
           null
          ],
          [
           "Other Race"
          ],
          [
           "Other Race"
          ],
          [
           "Other Race"
          ],
          [
           "Black/African American"
          ],
          [
           "Other Race"
          ],
          [
           "Other Race"
          ],
          [
           "Other Race"
          ],
          [
           "Other Race"
          ],
          [
           "Other Race"
          ],
          [
           "Other Race"
          ],
          [
           "Other Race"
          ],
          [
           "Other Race"
          ],
          [
           "Other Race"
          ],
          [
           "Other Race"
          ],
          [
           "Other Race"
          ],
          [
           "Other Race"
          ],
          [
           "Other Race"
          ],
          [
           "Other Race"
          ],
          [
           "Other Race"
          ],
          [
           "Other Race"
          ],
          [
           "Black/African American"
          ],
          [
           "Other Race"
          ],
          [
           "Other Race"
          ],
          [
           "Other Race"
          ],
          [
           "Other Race"
          ],
          [
           "Other Race"
          ],
          [
           "Other Race"
          ],
          [
           "Black/African American"
          ],
          [
           "Other Race"
          ],
          [
           "Other Race"
          ],
          [
           "Other Race"
          ],
          [
           "Other Race"
          ],
          [
           "Other Race"
          ],
          [
           "Other Race"
          ],
          [
           "Black/African American"
          ],
          [
           "Other Race"
          ],
          [
           "Other Race"
          ],
          [
           "Other Race"
          ],
          [
           "Other Race"
          ],
          [
           "Other Race"
          ],
          [
           "Other Race"
          ],
          [
           "Other Race"
          ],
          [
           "Other Race"
          ],
          [
           "Other Race"
          ],
          [
           "Other Race"
          ],
          [
           "Other Race"
          ],
          [
           "Other Race"
          ],
          [
           "Black/African American"
          ],
          [
           "Other Race"
          ],
          [
           "Other Race"
          ],
          [
           "Other Race"
          ],
          [
           "Other Race"
          ],
          [
           "Other Race"
          ],
          [
           "Other Race"
          ],
          [
           "Other Race"
          ],
          [
           "Black/African American"
          ],
          [
           "Black/African American"
          ],
          [
           "Other Race"
          ],
          [
           "Other Race"
          ],
          [
           "Other Race"
          ],
          [
           "Other Race"
          ],
          [
           "Other Race"
          ],
          [
           "Black/African American"
          ],
          [
           "Other Race"
          ],
          [
           "Black/African American"
          ],
          [
           "Black/African American"
          ],
          [
           "Other Race"
          ],
          [
           "Other Race"
          ],
          [
           "Other Race"
          ],
          [
           "Other Race"
          ],
          [
           "Other Race"
          ],
          [
           "Black/African American"
          ],
          [
           "White"
          ],
          [
           "(?)"
          ],
          [
           "(?)"
          ],
          [
           "(?)"
          ],
          [
           "(?)"
          ],
          [
           "Black/African American"
          ],
          [
           "Black/African American"
          ],
          [
           "(?)"
          ],
          [
           "Black/African American"
          ],
          [
           "(?)"
          ],
          [
           "(?)"
          ],
          [
           "Black/African American"
          ],
          [
           "(?)"
          ],
          [
           "(?)"
          ],
          [
           "(?)"
          ],
          [
           "Black/African American"
          ],
          [
           "Black/African American"
          ],
          [
           "(?)"
          ],
          [
           "(?)"
          ],
          [
           "(?)"
          ],
          [
           "Black/African American"
          ],
          [
           "(?)"
          ],
          [
           "(?)"
          ],
          [
           "(?)"
          ],
          [
           "(?)"
          ],
          [
           "Black/African American"
          ],
          [
           "(?)"
          ],
          [
           "(?)"
          ],
          [
           "(?)"
          ],
          [
           "(?)"
          ],
          [
           "Black/African American"
          ],
          [
           "(?)"
          ],
          [
           "Black/African American"
          ],
          [
           "Black/African American"
          ],
          [
           "Black/African American"
          ],
          [
           "Black/African American"
          ],
          [
           "Black/African American"
          ],
          [
           "White"
          ],
          [
           "White"
          ],
          [
           "Black/African American"
          ],
          [
           "Black/African American"
          ],
          [
           "White"
          ],
          [
           "White"
          ],
          [
           "White"
          ],
          [
           "(?)"
          ],
          [
           "(?)"
          ],
          [
           "Black/African American"
          ],
          [
           "(?)"
          ],
          [
           "(?)"
          ],
          [
           "(?)"
          ],
          [
           "Black/African American"
          ],
          [
           "(?)"
          ],
          [
           "Black/African American"
          ],
          [
           "(?)"
          ],
          [
           "(?)"
          ],
          [
           "Black/African American"
          ],
          [
           "(?)"
          ],
          [
           "Black/African American"
          ],
          [
           "Black/African American"
          ],
          [
           "Black/African American"
          ],
          [
           "Black/African American"
          ],
          [
           "(?)"
          ],
          [
           "(?)"
          ],
          [
           "Black/African American"
          ],
          [
           "Black/African American"
          ],
          [
           "(?)"
          ],
          [
           "(?)"
          ],
          [
           "(?)"
          ],
          [
           "(?)"
          ],
          [
           "Black/African American"
          ],
          [
           "(?)"
          ],
          [
           "(?)"
          ],
          [
           "(?)"
          ],
          [
           "Black/African American"
          ],
          [
           "Black/African American"
          ],
          [
           "(?)"
          ],
          [
           "(?)"
          ],
          [
           "(?)"
          ],
          [
           "(?)"
          ],
          [
           "(?)"
          ],
          [
           "(?)"
          ],
          [
           "Black/African American"
          ],
          [
           "(?)"
          ],
          [
           "(?)"
          ],
          [
           "(?)"
          ],
          [
           "(?)"
          ],
          [
           "(?)"
          ],
          [
           "(?)"
          ],
          [
           "(?)"
          ],
          [
           "(?)"
          ],
          [
           "(?)"
          ],
          [
           "(?)"
          ],
          [
           "(?)"
          ],
          [
           "Black/African American"
          ],
          [
           "(?)"
          ],
          [
           "(?)"
          ],
          [
           "Black/African American"
          ],
          [
           "(?)"
          ],
          [
           "(?)"
          ],
          [
           "(?)"
          ],
          [
           "Black/African American"
          ],
          [
           "(?)"
          ],
          [
           "(?)"
          ],
          [
           "(?)"
          ],
          [
           "(?)"
          ],
          [
           "(?)"
          ],
          [
           "(?)"
          ],
          [
           "(?)"
          ],
          [
           "Black/African American"
          ],
          [
           "(?)"
          ],
          [
           "(?)"
          ],
          [
           "(?)"
          ],
          [
           "Black/African American"
          ],
          [
           "(?)"
          ],
          [
           "(?)"
          ],
          [
           "(?)"
          ],
          [
           "(?)"
          ],
          [
           "(?)"
          ],
          [
           "Black/African American"
          ],
          [
           "Black/African American"
          ],
          [
           "(?)"
          ],
          [
           "(?)"
          ],
          [
           "(?)"
          ],
          [
           "(?)"
          ],
          [
           "Black/African American"
          ],
          [
           "(?)"
          ],
          [
           "Black/African American"
          ],
          [
           "White"
          ],
          [
           "Black/African American"
          ],
          [
           "Black/African American"
          ],
          [
           null
          ],
          [
           "Black/African American"
          ],
          [
           "Black/African American"
          ],
          [
           "Black/African American"
          ],
          [
           "Black/African American"
          ],
          [
           "Black/African American"
          ],
          [
           "White"
          ],
          [
           "Black/African American"
          ],
          [
           "Black/African American"
          ],
          [
           "Black/African American"
          ],
          [
           "White"
          ],
          [
           "White"
          ],
          [
           "Black/African American"
          ],
          [
           "White"
          ],
          [
           "White"
          ],
          [
           "White"
          ],
          [
           "White"
          ],
          [
           "White"
          ],
          [
           "Black/African American"
          ],
          [
           "White"
          ],
          [
           "White"
          ],
          [
           "White"
          ],
          [
           "White"
          ],
          [
           "White"
          ],
          [
           "White"
          ],
          [
           "White"
          ],
          [
           "Black/African American"
          ],
          [
           "White"
          ],
          [
           "White"
          ],
          [
           "Black/African American"
          ],
          [
           "Black/African American"
          ],
          [
           "Black/African American"
          ],
          [
           "Black/African American"
          ],
          [
           "Black/African American"
          ],
          [
           "White"
          ],
          [
           "White"
          ],
          [
           "White"
          ],
          [
           "White"
          ],
          [
           "White"
          ],
          [
           "White"
          ],
          [
           "White"
          ],
          [
           "White"
          ],
          [
           "White"
          ],
          [
           "Black/African American"
          ],
          [
           "Black/African American"
          ],
          [
           "Black/African American"
          ],
          [
           "White"
          ],
          [
           "White"
          ],
          [
           "Black/African American"
          ],
          [
           "White"
          ],
          [
           "White"
          ],
          [
           "White"
          ],
          [
           "White"
          ],
          [
           "Black/African American"
          ],
          [
           "Black/African American"
          ],
          [
           "Black/African American"
          ],
          [
           "Black/African American"
          ],
          [
           "Black/African American"
          ],
          [
           "White"
          ],
          [
           "Black/African American"
          ],
          [
           "White"
          ],
          [
           "White"
          ],
          [
           "White"
          ],
          [
           "Black/African American"
          ],
          [
           "White"
          ],
          [
           "White"
          ],
          [
           "White"
          ],
          [
           "White"
          ],
          [
           "White"
          ],
          [
           "White"
          ],
          [
           "Black/African American"
          ],
          [
           "Black/African American"
          ],
          [
           "White"
          ],
          [
           "White"
          ],
          [
           "White"
          ],
          [
           "White"
          ],
          [
           "White"
          ],
          [
           "White"
          ],
          [
           "White"
          ],
          [
           "White"
          ],
          [
           "White"
          ],
          [
           "White"
          ],
          [
           "White"
          ],
          [
           "White"
          ],
          [
           "White"
          ],
          [
           "Black/African American"
          ],
          [
           "White"
          ],
          [
           "Black/African American"
          ],
          [
           "Black/African American"
          ],
          [
           "Black/African American"
          ],
          [
           "White"
          ],
          [
           "Black/African American"
          ],
          [
           "Black/African American"
          ],
          [
           "Black/African American"
          ],
          [
           "Black/African American"
          ],
          [
           null
          ],
          [
           "White"
          ],
          [
           "Black/African American"
          ],
          [
           "Black/African American"
          ],
          [
           "White"
          ],
          [
           "Black/African American"
          ],
          [
           "Black/African American"
          ],
          [
           "Black/African American"
          ],
          [
           null
          ],
          [
           "Black/African American"
          ],
          [
           "Black/African American"
          ],
          [
           "White"
          ],
          [
           "Black/African American"
          ],
          [
           "Black/African American"
          ],
          [
           "White"
          ],
          [
           "Black/African American"
          ],
          [
           "Black/African American"
          ],
          [
           "Black/African American"
          ],
          [
           "White"
          ],
          [
           null
          ],
          [
           null
          ],
          [
           "White"
          ],
          [
           "Black/African American"
          ],
          [
           "Black/African American"
          ],
          [
           "Black/African American"
          ],
          [
           "White"
          ],
          [
           "Black/African American"
          ],
          [
           "White"
          ],
          [
           "White"
          ],
          [
           "White"
          ],
          [
           "Black/African American"
          ],
          [
           "Black/African American"
          ],
          [
           "Black/African American"
          ],
          [
           "Multi-racial"
          ],
          [
           "Multi-racial"
          ],
          [
           "Black/African American"
          ],
          [
           null
          ],
          [
           "Black/African American"
          ],
          [
           "Black/African American"
          ],
          [
           "Multi-racial"
          ],
          [
           "Black/African American"
          ],
          [
           null
          ],
          [
           "Black/African American"
          ],
          [
           "Multi-racial"
          ],
          [
           "Multi-racial"
          ],
          [
           "Multi-racial"
          ],
          [
           "Multi-racial"
          ],
          [
           "Black/African American"
          ],
          [
           null
          ],
          [
           "Black/African American"
          ],
          [
           "Black/African American"
          ],
          [
           "Black/African American"
          ],
          [
           null
          ],
          [
           "Black/African American"
          ],
          [
           "Multi-racial"
          ],
          [
           "Black/African American"
          ],
          [
           "Black/African American"
          ],
          [
           "Multi-racial"
          ],
          [
           "Black/African American"
          ],
          [
           "Black/African American"
          ],
          [
           "Multi-racial"
          ],
          [
           null
          ],
          [
           null
          ],
          [
           "Multi-racial"
          ],
          [
           "Black/African American"
          ],
          [
           "Black/African American"
          ],
          [
           "Black/African American"
          ],
          [
           "Multi-racial"
          ],
          [
           "Black/African American"
          ],
          [
           "Black/African American"
          ],
          [
           null
          ],
          [
           "Black/African American"
          ],
          [
           "Multi-racial"
          ],
          [
           "Black/African American"
          ],
          [
           "Black/African American"
          ],
          [
           "Black/African American"
          ],
          [
           "Black/African American"
          ],
          [
           "Multi-racial"
          ],
          [
           null
          ],
          [
           null
          ],
          [
           "Black/African American"
          ],
          [
           "Multi-racial"
          ],
          [
           "Multi-racial"
          ],
          [
           null
          ],
          [
           "Multi-racial"
          ],
          [
           "Black/African American"
          ],
          [
           "Multi-racial"
          ],
          [
           "Black/African American"
          ],
          [
           null
          ],
          [
           "Black/African American"
          ],
          [
           "Black/African American"
          ],
          [
           null
          ],
          [
           "Multi-racial"
          ],
          [
           "Multi-racial"
          ],
          [
           "Black/African American"
          ],
          [
           "Multi-racial"
          ],
          [
           "Multi-racial"
          ],
          [
           "Black/African American"
          ],
          [
           "Multi-racial"
          ],
          [
           "Black/African American"
          ],
          [
           "Black/African American"
          ],
          [
           "Multi-racial"
          ],
          [
           "Black/African American"
          ],
          [
           "Black/African American"
          ],
          [
           "Black/African American"
          ],
          [
           "Black/African American"
          ],
          [
           "Multi-racial"
          ],
          [
           "Multi-racial"
          ],
          [
           "Multi-racial"
          ],
          [
           "Multi-racial"
          ],
          [
           "Multi-racial"
          ],
          [
           null
          ],
          [
           "Multi-racial"
          ],
          [
           "Multi-racial"
          ],
          [
           "Multi-racial"
          ],
          [
           "Multi-racial"
          ],
          [
           null
          ],
          [
           "Multi-racial"
          ],
          [
           "Multi-racial"
          ],
          [
           null
          ],
          [
           "Multi-racial"
          ],
          [
           "Multi-racial"
          ],
          [
           "Multi-racial"
          ],
          [
           "Multi-racial"
          ],
          [
           "Multi-racial"
          ],
          [
           "Multi-racial"
          ],
          [
           null
          ],
          [
           "Multi-racial"
          ],
          [
           null
          ],
          [
           "Multi-racial"
          ],
          [
           "Multi-racial"
          ],
          [
           "Multi-racial"
          ],
          [
           "Multi-racial"
          ],
          [
           "Multi-racial"
          ],
          [
           null
          ],
          [
           "Black/African American"
          ],
          [
           null
          ],
          [
           "Multi-racial"
          ],
          [
           null
          ],
          [
           null
          ],
          [
           "Black/African American"
          ],
          [
           "Multi-racial"
          ],
          [
           null
          ],
          [
           null
          ],
          [
           null
          ],
          [
           "Multi-racial"
          ],
          [
           null
          ],
          [
           "Black/African American"
          ],
          [
           "Multi-racial"
          ],
          [
           "Black/African American"
          ],
          [
           "Multi-racial"
          ],
          [
           "Black/African American"
          ],
          [
           "Black/African American"
          ],
          [
           "Multi-racial"
          ],
          [
           "Multi-racial"
          ],
          [
           "Black/African American"
          ],
          [
           "Black/African American"
          ],
          [
           "Black/African American"
          ],
          [
           null
          ],
          [
           "Black/African American"
          ],
          [
           "Black/African American"
          ],
          [
           null
          ],
          [
           "Multi-racial"
          ],
          [
           "Multi-racial"
          ],
          [
           "Black/African American"
          ],
          [
           "Black/African American"
          ],
          [
           "Multi-racial"
          ],
          [
           "Multi-racial"
          ],
          [
           "Multi-racial"
          ],
          [
           "Multi-racial"
          ],
          [
           "Multi-racial"
          ],
          [
           "Multi-racial"
          ],
          [
           null
          ],
          [
           "Multi-racial"
          ],
          [
           "Multi-racial"
          ],
          [
           "Multi-racial"
          ],
          [
           "Black/African American"
          ],
          [
           "Multi-racial"
          ],
          [
           "Multi-racial"
          ],
          [
           "Multi-racial"
          ],
          [
           "Multi-racial"
          ],
          [
           null
          ],
          [
           "Black/African American"
          ],
          [
           "Black/African American"
          ],
          [
           "Black/African American"
          ],
          [
           "Multi-racial"
          ],
          [
           "Multi-racial"
          ],
          [
           "Black/African American"
          ],
          [
           "Black/African American"
          ],
          [
           "Multi-racial"
          ],
          [
           "Black/African American"
          ],
          [
           "Multi-racial"
          ],
          [
           "Multi-racial"
          ],
          [
           "Black/African American"
          ],
          [
           "Black/African American"
          ],
          [
           "Multi-racial"
          ],
          [
           "Black/African American"
          ],
          [
           null
          ],
          [
           "Multi-racial"
          ],
          [
           "Multi-racial"
          ],
          [
           "Black/African American"
          ],
          [
           "Black/African American"
          ],
          [
           "Multi-racial"
          ],
          [
           "Black/African American"
          ],
          [
           "Multi-racial"
          ],
          [
           "Multi-racial"
          ],
          [
           null
          ],
          [
           null
          ],
          [
           "Black/African American"
          ],
          [
           null
          ],
          [
           "Black/African American"
          ],
          [
           "Multi-racial"
          ],
          [
           "Multi-racial"
          ],
          [
           "Black/African American"
          ],
          [
           null
          ],
          [
           null
          ],
          [
           "Black/African American"
          ],
          [
           "Black/African American"
          ],
          [
           "Black/African American"
          ],
          [
           "Multi-racial"
          ],
          [
           "Multi-racial"
          ],
          [
           "Multi-racial"
          ],
          [
           "Black/African American"
          ],
          [
           "Multi-racial"
          ],
          [
           "Multi-racial"
          ],
          [
           "Multi-racial"
          ],
          [
           "Multi-racial"
          ],
          [
           "Black/African American"
          ],
          [
           "Black/African American"
          ],
          [
           "Black/African American"
          ],
          [
           "Black/African American"
          ],
          [
           "Black/African American"
          ],
          [
           null
          ],
          [
           "Black/African American"
          ],
          [
           "Black/African American"
          ],
          [
           "Multi-racial"
          ],
          [
           "Multi-racial"
          ],
          [
           null
          ],
          [
           "Multi-racial"
          ],
          [
           null
          ],
          [
           "Multi-racial"
          ],
          [
           null
          ],
          [
           "Black/African American"
          ],
          [
           "Black/African American"
          ],
          [
           "Multi-racial"
          ],
          [
           null
          ],
          [
           "Black/African American"
          ],
          [
           "Multi-racial"
          ],
          [
           "Black/African American"
          ],
          [
           "Black/African American"
          ],
          [
           "Black/African American"
          ],
          [
           "Multi-racial"
          ],
          [
           "Multi-racial"
          ],
          [
           "Multi-racial"
          ],
          [
           "Multi-racial"
          ],
          [
           "Black/African American"
          ],
          [
           null
          ],
          [
           "Black/African American"
          ],
          [
           null
          ],
          [
           "Multi-racial"
          ],
          [
           "Black/African American"
          ],
          [
           "Multi-racial"
          ],
          [
           "Black/African American"
          ],
          [
           "Multi-racial"
          ],
          [
           "Black/African American"
          ],
          [
           "Black/African American"
          ],
          [
           "Multi-racial"
          ],
          [
           "Black/African American"
          ],
          [
           null
          ],
          [
           "White"
          ],
          [
           null
          ],
          [
           "White"
          ],
          [
           "(?)"
          ],
          [
           "(?)"
          ],
          [
           "(?)"
          ],
          [
           "White"
          ],
          [
           "White"
          ],
          [
           "(?)"
          ],
          [
           "White"
          ],
          [
           "White"
          ],
          [
           "White"
          ],
          [
           "(?)"
          ],
          [
           "(?)"
          ],
          [
           "(?)"
          ],
          [
           null
          ],
          [
           "(?)"
          ],
          [
           "White"
          ],
          [
           "(?)"
          ],
          [
           "(?)"
          ],
          [
           "(?)"
          ],
          [
           "(?)"
          ],
          [
           "(?)"
          ],
          [
           "(?)"
          ],
          [
           "White"
          ],
          [
           "(?)"
          ],
          [
           "(?)"
          ],
          [
           "(?)"
          ],
          [
           "(?)"
          ],
          [
           "(?)"
          ],
          [
           "(?)"
          ],
          [
           "White"
          ],
          [
           "Multi-racial"
          ],
          [
           "White"
          ],
          [
           "Black/African American"
          ],
          [
           "(?)"
          ],
          [
           "(?)"
          ],
          [
           "White"
          ],
          [
           "(?)"
          ],
          [
           "(?)"
          ],
          [
           null
          ],
          [
           "(?)"
          ],
          [
           null
          ],
          [
           "(?)"
          ],
          [
           "Multi-racial"
          ],
          [
           "(?)"
          ],
          [
           "(?)"
          ],
          [
           "(?)"
          ],
          [
           "White"
          ],
          [
           "(?)"
          ],
          [
           "(?)"
          ],
          [
           "(?)"
          ],
          [
           "(?)"
          ],
          [
           "(?)"
          ],
          [
           "White"
          ],
          [
           "Black/African American"
          ],
          [
           "(?)"
          ],
          [
           "(?)"
          ],
          [
           "White"
          ],
          [
           "White"
          ],
          [
           "White"
          ],
          [
           null
          ],
          [
           "Black/African American"
          ],
          [
           null
          ],
          [
           "(?)"
          ],
          [
           "(?)"
          ],
          [
           "(?)"
          ],
          [
           "(?)"
          ],
          [
           "(?)"
          ],
          [
           null
          ],
          [
           "Black/African American"
          ],
          [
           "Black/African American"
          ],
          [
           "(?)"
          ],
          [
           "White"
          ],
          [
           "White"
          ],
          [
           "White"
          ],
          [
           "(?)"
          ],
          [
           "(?)"
          ],
          [
           "White"
          ],
          [
           "White"
          ],
          [
           "White"
          ],
          [
           "(?)"
          ],
          [
           "(?)"
          ],
          [
           "White"
          ],
          [
           "(?)"
          ],
          [
           "(?)"
          ],
          [
           "(?)"
          ],
          [
           "White"
          ],
          [
           "White"
          ],
          [
           "Black/African American"
          ],
          [
           "Multi-racial"
          ],
          [
           "Black/African American"
          ],
          [
           "(?)"
          ],
          [
           "(?)"
          ],
          [
           "(?)"
          ],
          [
           "Multi-racial"
          ],
          [
           "(?)"
          ],
          [
           "Multi-racial"
          ],
          [
           "(?)"
          ],
          [
           "Multi-racial"
          ],
          [
           "Multi-racial"
          ],
          [
           "(?)"
          ],
          [
           "(?)"
          ],
          [
           "White"
          ],
          [
           "(?)"
          ],
          [
           "White"
          ],
          [
           "(?)"
          ],
          [
           "Multi-racial"
          ],
          [
           "White"
          ],
          [
           "Black/African American"
          ],
          [
           "Black/African American"
          ],
          [
           "White"
          ],
          [
           "White"
          ],
          [
           "Multi-racial"
          ],
          [
           "Multi-racial"
          ],
          [
           "White"
          ],
          [
           "Black/African American"
          ],
          [
           "White"
          ],
          [
           "White"
          ],
          [
           "White"
          ],
          [
           "White"
          ],
          [
           "Black/African American"
          ],
          [
           "Multi-racial"
          ],
          [
           "White"
          ],
          [
           "Black/African American"
          ],
          [
           "Black/African American"
          ],
          [
           "White"
          ],
          [
           "Black/African American"
          ],
          [
           "White"
          ],
          [
           "White"
          ],
          [
           "Multi-racial"
          ],
          [
           null
          ],
          [
           "Multi-racial"
          ],
          [
           "White"
          ],
          [
           "White"
          ],
          [
           "White"
          ],
          [
           "Multi-racial"
          ],
          [
           "Black/African American"
          ],
          [
           "White"
          ],
          [
           "White"
          ],
          [
           "White"
          ],
          [
           "White"
          ],
          [
           "White"
          ],
          [
           "White"
          ],
          [
           "Black/African American"
          ],
          [
           "White"
          ],
          [
           "White"
          ],
          [
           "White"
          ],
          [
           "White"
          ],
          [
           "White"
          ],
          [
           "Multi-racial"
          ],
          [
           "White"
          ],
          [
           "Black/African American"
          ],
          [
           "White"
          ],
          [
           "White"
          ],
          [
           null
          ],
          [
           "White"
          ],
          [
           "Multi-racial"
          ],
          [
           "White"
          ],
          [
           "White"
          ],
          [
           null
          ],
          [
           "Black/African American"
          ],
          [
           "White"
          ],
          [
           "White"
          ],
          [
           "White"
          ],
          [
           "White"
          ],
          [
           "White"
          ],
          [
           "White"
          ],
          [
           "White"
          ],
          [
           "Multi-racial"
          ],
          [
           "White"
          ],
          [
           "White"
          ],
          [
           "White"
          ],
          [
           "White"
          ],
          [
           "White"
          ],
          [
           "White"
          ],
          [
           "White"
          ],
          [
           "White"
          ],
          [
           "White"
          ],
          [
           "White"
          ],
          [
           "Black/African American"
          ],
          [
           "White"
          ],
          [
           "Multi-racial"
          ],
          [
           "White"
          ],
          [
           "White"
          ],
          [
           null
          ],
          [
           "White"
          ],
          [
           "White"
          ],
          [
           "White"
          ],
          [
           "White"
          ],
          [
           "Multi-racial"
          ],
          [
           null
          ],
          [
           "White"
          ],
          [
           "White"
          ],
          [
           "Multi-racial"
          ],
          [
           "Multi-racial"
          ],
          [
           "White"
          ],
          [
           "Black/African American"
          ],
          [
           "White"
          ],
          [
           "White"
          ],
          [
           "White"
          ],
          [
           "White"
          ],
          [
           "White"
          ],
          [
           "White"
          ],
          [
           "White"
          ],
          [
           "White"
          ],
          [
           "White"
          ],
          [
           "White"
          ],
          [
           "Multi-racial"
          ],
          [
           "White"
          ],
          [
           "Black/African American"
          ],
          [
           "White"
          ],
          [
           "White"
          ],
          [
           "White"
          ],
          [
           "White"
          ],
          [
           "White"
          ],
          [
           "Multi-racial"
          ],
          [
           "Black/African American"
          ],
          [
           "Black/African American"
          ],
          [
           null
          ],
          [
           "White"
          ],
          [
           "Multi-racial"
          ],
          [
           "Black/African American"
          ],
          [
           null
          ],
          [
           "White"
          ],
          [
           "White"
          ],
          [
           "Multi-racial"
          ],
          [
           "Multi-racial"
          ],
          [
           "Multi-racial"
          ],
          [
           "White"
          ],
          [
           "White"
          ],
          [
           "(?)"
          ],
          [
           "Multi-racial"
          ],
          [
           null
          ],
          [
           "White"
          ],
          [
           "White"
          ],
          [
           "White"
          ],
          [
           null
          ],
          [
           "Black/African American"
          ],
          [
           "Black/African American"
          ],
          [
           null
          ],
          [
           "White"
          ],
          [
           "Black/African American"
          ],
          [
           "Black/African American"
          ],
          [
           "Multi-racial"
          ],
          [
           "Black/African American"
          ],
          [
           "Black/African American"
          ],
          [
           "Black/African American"
          ],
          [
           "Black/African American"
          ],
          [
           null
          ],
          [
           "Multi-racial"
          ],
          [
           "Multi-racial"
          ],
          [
           "Black/African American"
          ],
          [
           "(?)"
          ],
          [
           "Black/African American"
          ],
          [
           "(?)"
          ],
          [
           "(?)"
          ],
          [
           "(?)"
          ],
          [
           "Black/African American"
          ],
          [
           "(?)"
          ],
          [
           "(?)"
          ],
          [
           "(?)"
          ],
          [
           "(?)"
          ],
          [
           "(?)"
          ],
          [
           "(?)"
          ],
          [
           "(?)"
          ],
          [
           "(?)"
          ],
          [
           "(?)"
          ],
          [
           "Black/African American"
          ],
          [
           "(?)"
          ],
          [
           "(?)"
          ],
          [
           "(?)"
          ],
          [
           "(?)"
          ],
          [
           "(?)"
          ],
          [
           "(?)"
          ],
          [
           "(?)"
          ],
          [
           "(?)"
          ],
          [
           "Black/African American"
          ],
          [
           "(?)"
          ],
          [
           "Black/African American"
          ],
          [
           "(?)"
          ],
          [
           "(?)"
          ],
          [
           "(?)"
          ],
          [
           "(?)"
          ],
          [
           "(?)"
          ],
          [
           "(?)"
          ],
          [
           "(?)"
          ],
          [
           "(?)"
          ],
          [
           "(?)"
          ],
          [
           "(?)"
          ],
          [
           "(?)"
          ],
          [
           "(?)"
          ],
          [
           "(?)"
          ],
          [
           "(?)"
          ],
          [
           "(?)"
          ],
          [
           "(?)"
          ],
          [
           "(?)"
          ],
          [
           "(?)"
          ],
          [
           "(?)"
          ],
          [
           "(?)"
          ],
          [
           "(?)"
          ],
          [
           "(?)"
          ],
          [
           "(?)"
          ],
          [
           "Black/African American"
          ],
          [
           "(?)"
          ],
          [
           "(?)"
          ],
          [
           "(?)"
          ],
          [
           "(?)"
          ],
          [
           "(?)"
          ],
          [
           "(?)"
          ],
          [
           "(?)"
          ],
          [
           "(?)"
          ],
          [
           "(?)"
          ],
          [
           "(?)"
          ],
          [
           "(?)"
          ],
          [
           "(?)"
          ],
          [
           "Black/African American"
          ],
          [
           "(?)"
          ],
          [
           "(?)"
          ],
          [
           "(?)"
          ],
          [
           "(?)"
          ],
          [
           "(?)"
          ],
          [
           "(?)"
          ],
          [
           "(?)"
          ],
          [
           "(?)"
          ],
          [
           "(?)"
          ],
          [
           "(?)"
          ],
          [
           "(?)"
          ],
          [
           "(?)"
          ],
          [
           "(?)"
          ],
          [
           "(?)"
          ],
          [
           "(?)"
          ],
          [
           "(?)"
          ],
          [
           "(?)"
          ],
          [
           "(?)"
          ],
          [
           "(?)"
          ],
          [
           "Black/African American"
          ],
          [
           "(?)"
          ],
          [
           "(?)"
          ],
          [
           "(?)"
          ],
          [
           "Black/African American"
          ],
          [
           "Black/African American"
          ],
          [
           "Black/African American"
          ],
          [
           "Black/African American"
          ],
          [
           "(?)"
          ],
          [
           "Black/African American"
          ],
          [
           "Black/African American"
          ],
          [
           "(?)"
          ],
          [
           "(?)"
          ],
          [
           "Black/African American"
          ],
          [
           "Black/African American"
          ],
          [
           "(?)"
          ],
          [
           "(?)"
          ],
          [
           "(?)"
          ],
          [
           "(?)"
          ],
          [
           "(?)"
          ],
          [
           "(?)"
          ],
          [
           "(?)"
          ],
          [
           "(?)"
          ],
          [
           "(?)"
          ],
          [
           "(?)"
          ],
          [
           "(?)"
          ],
          [
           "(?)"
          ],
          [
           "Black/African American"
          ],
          [
           "(?)"
          ],
          [
           "(?)"
          ],
          [
           "Black/African American"
          ],
          [
           "(?)"
          ],
          [
           "(?)"
          ],
          [
           "Black/African American"
          ],
          [
           "(?)"
          ],
          [
           "(?)"
          ],
          [
           "(?)"
          ],
          [
           "(?)"
          ],
          [
           "(?)"
          ],
          [
           "Black/African American"
          ],
          [
           "Black/African American"
          ],
          [
           "(?)"
          ],
          [
           "(?)"
          ],
          [
           "Black/African American"
          ],
          [
           "Black/African American"
          ],
          [
           "(?)"
          ],
          [
           "Black/African American"
          ],
          [
           "(?)"
          ],
          [
           "(?)"
          ],
          [
           "(?)"
          ],
          [
           "(?)"
          ],
          [
           "(?)"
          ],
          [
           "(?)"
          ],
          [
           "Black/African American"
          ],
          [
           "(?)"
          ],
          [
           "(?)"
          ],
          [
           "(?)"
          ],
          [
           "(?)"
          ],
          [
           "Black/African American"
          ],
          [
           "(?)"
          ],
          [
           "(?)"
          ],
          [
           "(?)"
          ],
          [
           "(?)"
          ],
          [
           "(?)"
          ],
          [
           "(?)"
          ],
          [
           "Black/African American"
          ],
          [
           "(?)"
          ],
          [
           "(?)"
          ],
          [
           "(?)"
          ],
          [
           "(?)"
          ],
          [
           "Black/African American"
          ],
          [
           "Black/African American"
          ],
          [
           "(?)"
          ],
          [
           "(?)"
          ],
          [
           "Black/African American"
          ],
          [
           "(?)"
          ],
          [
           "(?)"
          ],
          [
           "(?)"
          ],
          [
           "(?)"
          ],
          [
           "(?)"
          ],
          [
           "(?)"
          ],
          [
           "(?)"
          ],
          [
           "(?)"
          ],
          [
           "(?)"
          ],
          [
           "(?)"
          ],
          [
           "(?)"
          ],
          [
           "(?)"
          ],
          [
           "(?)"
          ],
          [
           "(?)"
          ],
          [
           "(?)"
          ],
          [
           "Black/African American"
          ],
          [
           "Black/African American"
          ],
          [
           "(?)"
          ],
          [
           "(?)"
          ],
          [
           "(?)"
          ],
          [
           "(?)"
          ],
          [
           "(?)"
          ],
          [
           "(?)"
          ],
          [
           "(?)"
          ],
          [
           "Black/African American"
          ],
          [
           "(?)"
          ],
          [
           "(?)"
          ],
          [
           "(?)"
          ],
          [
           "(?)"
          ],
          [
           "(?)"
          ],
          [
           "(?)"
          ],
          [
           "Multi-racial"
          ],
          [
           "Multi-racial"
          ],
          [
           "(?)"
          ],
          [
           "Multi-racial"
          ],
          [
           "Black/African American"
          ],
          [
           "Black/African American"
          ],
          [
           "Black/African American"
          ],
          [
           "(?)"
          ],
          [
           "(?)"
          ],
          [
           "Multi-racial"
          ],
          [
           "Black/African American"
          ],
          [
           "(?)"
          ],
          [
           "(?)"
          ],
          [
           "(?)"
          ],
          [
           "(?)"
          ],
          [
           "Multi-racial"
          ],
          [
           "(?)"
          ],
          [
           "(?)"
          ],
          [
           "(?)"
          ],
          [
           "(?)"
          ],
          [
           "(?)"
          ],
          [
           "Black/African American"
          ],
          [
           "(?)"
          ],
          [
           "Black/African American"
          ],
          [
           "(?)"
          ],
          [
           null
          ],
          [
           "(?)"
          ],
          [
           "(?)"
          ],
          [
           "(?)"
          ],
          [
           "Black/African American"
          ],
          [
           "Black/African American"
          ],
          [
           "Black/African American"
          ],
          [
           "(?)"
          ],
          [
           "(?)"
          ],
          [
           "Multi-racial"
          ],
          [
           "(?)"
          ],
          [
           null
          ],
          [
           "(?)"
          ],
          [
           "(?)"
          ],
          [
           "(?)"
          ],
          [
           "Multi-racial"
          ],
          [
           "(?)"
          ],
          [
           "(?)"
          ],
          [
           "(?)"
          ],
          [
           "(?)"
          ],
          [
           "(?)"
          ],
          [
           "(?)"
          ],
          [
           null
          ],
          [
           "(?)"
          ],
          [
           "(?)"
          ],
          [
           "(?)"
          ],
          [
           "(?)"
          ],
          [
           "(?)"
          ],
          [
           "White"
          ],
          [
           "(?)"
          ],
          [
           "(?)"
          ],
          [
           "(?)"
          ],
          [
           "(?)"
          ],
          [
           "(?)"
          ],
          [
           "(?)"
          ],
          [
           "(?)"
          ],
          [
           "(?)"
          ],
          [
           "Multi-racial"
          ],
          [
           "Multi-racial"
          ],
          [
           "(?)"
          ],
          [
           "(?)"
          ],
          [
           "(?)"
          ],
          [
           "White"
          ],
          [
           "(?)"
          ],
          [
           "(?)"
          ],
          [
           "(?)"
          ],
          [
           "(?)"
          ],
          [
           "(?)"
          ],
          [
           "(?)"
          ],
          [
           "Other Race"
          ],
          [
           "(?)"
          ],
          [
           "(?)"
          ],
          [
           "(?)"
          ],
          [
           "(?)"
          ],
          [
           "(?)"
          ],
          [
           "(?)"
          ],
          [
           "(?)"
          ],
          [
           "(?)"
          ],
          [
           "(?)"
          ],
          [
           "(?)"
          ],
          [
           "Multi-racial"
          ],
          [
           "(?)"
          ],
          [
           "(?)"
          ],
          [
           "(?)"
          ],
          [
           "Black/African American"
          ],
          [
           "(?)"
          ],
          [
           "(?)"
          ],
          [
           "(?)"
          ],
          [
           "(?)"
          ],
          [
           "(?)"
          ],
          [
           "(?)"
          ],
          [
           "(?)"
          ],
          [
           "(?)"
          ],
          [
           "(?)"
          ],
          [
           "(?)"
          ],
          [
           "(?)"
          ],
          [
           "(?)"
          ],
          [
           "(?)"
          ],
          [
           "(?)"
          ],
          [
           "(?)"
          ],
          [
           "(?)"
          ],
          [
           "(?)"
          ],
          [
           "(?)"
          ],
          [
           "Black/African American"
          ],
          [
           "(?)"
          ],
          [
           "(?)"
          ],
          [
           "(?)"
          ],
          [
           "(?)"
          ],
          [
           "(?)"
          ],
          [
           "(?)"
          ],
          [
           "(?)"
          ],
          [
           "(?)"
          ],
          [
           "(?)"
          ],
          [
           "(?)"
          ],
          [
           "(?)"
          ],
          [
           "(?)"
          ],
          [
           "(?)"
          ],
          [
           "Black/African American"
          ],
          [
           "(?)"
          ],
          [
           "(?)"
          ],
          [
           "(?)"
          ],
          [
           "(?)"
          ],
          [
           "(?)"
          ],
          [
           "(?)"
          ],
          [
           "(?)"
          ],
          [
           "(?)"
          ],
          [
           "(?)"
          ],
          [
           "(?)"
          ],
          [
           "(?)"
          ],
          [
           "(?)"
          ],
          [
           "(?)"
          ],
          [
           "(?)"
          ],
          [
           "(?)"
          ],
          [
           "(?)"
          ],
          [
           "(?)"
          ],
          [
           "Black/African American"
          ],
          [
           "(?)"
          ],
          [
           "(?)"
          ],
          [
           "(?)"
          ],
          [
           "(?)"
          ],
          [
           "(?)"
          ],
          [
           "(?)"
          ],
          [
           "Black/African American"
          ],
          [
           "(?)"
          ],
          [
           "(?)"
          ],
          [
           "Black/African American"
          ],
          [
           "Black/African American"
          ],
          [
           "Black/African American"
          ],
          [
           "Black/African American"
          ],
          [
           "(?)"
          ],
          [
           "(?)"
          ],
          [
           "(?)"
          ],
          [
           "(?)"
          ],
          [
           "(?)"
          ],
          [
           "(?)"
          ],
          [
           "(?)"
          ],
          [
           "White"
          ],
          [
           "(?)"
          ],
          [
           "(?)"
          ],
          [
           "(?)"
          ],
          [
           "Black/African American"
          ],
          [
           "(?)"
          ],
          [
           "(?)"
          ],
          [
           "(?)"
          ],
          [
           "(?)"
          ],
          [
           "(?)"
          ],
          [
           "(?)"
          ],
          [
           "(?)"
          ],
          [
           "(?)"
          ],
          [
           "(?)"
          ],
          [
           "(?)"
          ],
          [
           "(?)"
          ],
          [
           "(?)"
          ],
          [
           "(?)"
          ],
          [
           "(?)"
          ],
          [
           "(?)"
          ],
          [
           "Black/African American"
          ],
          [
           null
          ],
          [
           "White"
          ],
          [
           "Other Race"
          ],
          [
           "Multi-racial"
          ],
          [
           "Other Race"
          ],
          [
           "Other Race"
          ],
          [
           null
          ],
          [
           "Other Race"
          ],
          [
           "Black/African American"
          ],
          [
           "Multi-racial"
          ],
          [
           "Other Race"
          ],
          [
           "Multi-racial"
          ],
          [
           "Black/African American"
          ],
          [
           "Other Race"
          ],
          [
           "Black/African American"
          ],
          [
           "Other Race"
          ],
          [
           "Other Race"
          ],
          [
           "Other Race"
          ],
          [
           "Multi-racial"
          ],
          [
           "Multi-racial"
          ],
          [
           "Black/African American"
          ],
          [
           "Black/African American"
          ],
          [
           "Other Race"
          ],
          [
           "Other Race"
          ],
          [
           "Other Race"
          ],
          [
           "Other Race"
          ],
          [
           null
          ],
          [
           "Other Race"
          ],
          [
           "Multi-racial"
          ],
          [
           "Other Race"
          ],
          [
           "Multi-racial"
          ],
          [
           "Other Race"
          ],
          [
           "Other Race"
          ],
          [
           "Other Race"
          ],
          [
           "Other Race"
          ],
          [
           "Multi-racial"
          ],
          [
           "Other Race"
          ],
          [
           "Other Race"
          ],
          [
           "Other Race"
          ],
          [
           "Other Race"
          ],
          [
           "Other Race"
          ],
          [
           "Multi-racial"
          ],
          [
           "Multi-racial"
          ],
          [
           "Black/African American"
          ],
          [
           "Other Race"
          ],
          [
           "Other Race"
          ],
          [
           "Other Race"
          ],
          [
           "Black/African American"
          ],
          [
           "Other Race"
          ],
          [
           "Black/African American"
          ],
          [
           "Black/African American"
          ],
          [
           "Other Race"
          ],
          [
           "Other Race"
          ],
          [
           "Other Race"
          ],
          [
           "Other Race"
          ],
          [
           "Multi-racial"
          ],
          [
           "Other Race"
          ],
          [
           "Other Race"
          ],
          [
           "Other Race"
          ],
          [
           "Other Race"
          ],
          [
           "Multi-racial"
          ],
          [
           "Other Race"
          ],
          [
           "Other Race"
          ],
          [
           "Other Race"
          ],
          [
           "Other Race"
          ],
          [
           "Other Race"
          ],
          [
           "Multi-racial"
          ],
          [
           "Multi-racial"
          ],
          [
           "Black/African American"
          ],
          [
           "Other Race"
          ],
          [
           "Black/African American"
          ],
          [
           "Multi-racial"
          ],
          [
           "Other Race"
          ],
          [
           "Other Race"
          ],
          [
           "Other Race"
          ],
          [
           "Black/African American"
          ],
          [
           "Other Race"
          ],
          [
           "Multi-racial"
          ],
          [
           "Other Race"
          ],
          [
           "Other Race"
          ],
          [
           "Other Race"
          ],
          [
           "Other Race"
          ],
          [
           "Other Race"
          ],
          [
           "Other Race"
          ],
          [
           "Multi-racial"
          ],
          [
           null
          ],
          [
           "Black/African American"
          ],
          [
           "Multi-racial"
          ],
          [
           "Other Race"
          ],
          [
           "Other Race"
          ],
          [
           "Other Race"
          ],
          [
           "Other Race"
          ],
          [
           "Multi-racial"
          ],
          [
           "Other Race"
          ],
          [
           null
          ],
          [
           "Other Race"
          ],
          [
           "Black/African American"
          ],
          [
           "Other Race"
          ],
          [
           "Multi-racial"
          ],
          [
           "Other Race"
          ],
          [
           "Multi-racial"
          ],
          [
           "Other Race"
          ],
          [
           "Multi-racial"
          ],
          [
           "Multi-racial"
          ],
          [
           "Black/African American"
          ],
          [
           "Other Race"
          ],
          [
           null
          ],
          [
           "Other Race"
          ],
          [
           "Black/African American"
          ],
          [
           "Black/African American"
          ],
          [
           "Other Race"
          ],
          [
           "Other Race"
          ],
          [
           "Other Race"
          ],
          [
           null
          ],
          [
           "Black/African American"
          ],
          [
           null
          ],
          [
           "Black/African American"
          ],
          [
           "Multi-racial"
          ],
          [
           "Other Race"
          ],
          [
           "Other Race"
          ],
          [
           "Other Race"
          ],
          [
           "Black/African American"
          ],
          [
           "Black/African American"
          ],
          [
           "Other Race"
          ],
          [
           "Other Race"
          ],
          [
           "Other Race"
          ],
          [
           "Multi-racial"
          ],
          [
           "Other Race"
          ],
          [
           "Other Race"
          ],
          [
           "Other Race"
          ],
          [
           "Other Race"
          ],
          [
           "Black/African American"
          ],
          [
           "Black/African American"
          ],
          [
           "Other Race"
          ],
          [
           "Multi-racial"
          ],
          [
           "Black/African American"
          ],
          [
           "Other Race"
          ],
          [
           null
          ],
          [
           "Multi-racial"
          ],
          [
           "Other Race"
          ],
          [
           "Multi-racial"
          ],
          [
           "Other Race"
          ],
          [
           "Multi-racial"
          ],
          [
           "Multi-racial"
          ],
          [
           "Other Race"
          ],
          [
           "Other Race"
          ],
          [
           "Other Race"
          ],
          [
           "Other Race"
          ],
          [
           "Other Race"
          ],
          [
           "Other Race"
          ],
          [
           "Multi-racial"
          ],
          [
           "Other Race"
          ],
          [
           "Other Race"
          ],
          [
           "Multi-racial"
          ],
          [
           "Other Race"
          ],
          [
           "Other Race"
          ],
          [
           "Multi-racial"
          ],
          [
           null
          ],
          [
           "Multi-racial"
          ],
          [
           "Other Race"
          ],
          [
           "Other Race"
          ],
          [
           "Black/African American"
          ],
          [
           "Other Race"
          ],
          [
           "Other Race"
          ],
          [
           "Other Race"
          ],
          [
           "Other Race"
          ],
          [
           "Other Race"
          ],
          [
           "Multi-racial"
          ],
          [
           "Other Race"
          ],
          [
           "Other Race"
          ],
          [
           "Other Race"
          ],
          [
           "Other Race"
          ],
          [
           "Multi-racial"
          ],
          [
           "Other Race"
          ],
          [
           "Other Race"
          ],
          [
           "Other Race"
          ],
          [
           "Other Race"
          ],
          [
           "Other Race"
          ],
          [
           "Other Race"
          ],
          [
           "Black/African American"
          ],
          [
           "Other Race"
          ],
          [
           "Other Race"
          ],
          [
           "Multi-racial"
          ],
          [
           null
          ],
          [
           "Other Race"
          ],
          [
           "Multi-racial"
          ],
          [
           null
          ],
          [
           "Multi-racial"
          ],
          [
           "Other Race"
          ],
          [
           "Multi-racial"
          ],
          [
           "Other Race"
          ],
          [
           "Multi-racial"
          ],
          [
           "Multi-racial"
          ],
          [
           "Other Race"
          ],
          [
           "Other Race"
          ],
          [
           "Other Race"
          ],
          [
           "Other Race"
          ],
          [
           "Other Race"
          ],
          [
           "Multi-racial"
          ],
          [
           "Other Race"
          ],
          [
           "Multi-racial"
          ],
          [
           "Other Race"
          ],
          [
           "Multi-racial"
          ],
          [
           "Multi-racial"
          ],
          [
           null
          ],
          [
           "Other Race"
          ],
          [
           "Multi-racial"
          ],
          [
           "Multi-racial"
          ],
          [
           "Multi-racial"
          ],
          [
           "Other Race"
          ],
          [
           "Other Race"
          ],
          [
           "Other Race"
          ],
          [
           "Other Race"
          ],
          [
           "Multi-racial"
          ],
          [
           "Multi-racial"
          ],
          [
           "Other Race"
          ],
          [
           "Other Race"
          ],
          [
           "Multi-racial"
          ],
          [
           "Other Race"
          ],
          [
           "Other Race"
          ],
          [
           "Other Race"
          ],
          [
           "Multi-racial"
          ],
          [
           "Other Race"
          ],
          [
           "Other Race"
          ],
          [
           "Multi-racial"
          ],
          [
           "Other Race"
          ],
          [
           "Other Race"
          ],
          [
           null
          ],
          [
           "Multi-racial"
          ],
          [
           null
          ],
          [
           "Multi-racial"
          ],
          [
           "Multi-racial"
          ],
          [
           "Multi-racial"
          ],
          [
           "Multi-racial"
          ],
          [
           "Multi-racial"
          ],
          [
           "Multi-racial"
          ],
          [
           "Multi-racial"
          ],
          [
           null
          ],
          [
           "Multi-racial"
          ],
          [
           "Multi-racial"
          ],
          [
           "Multi-racial"
          ],
          [
           "Multi-racial"
          ],
          [
           "Multi-racial"
          ],
          [
           "Multi-racial"
          ],
          [
           "Multi-racial"
          ],
          [
           null
          ],
          [
           null
          ],
          [
           "Multi-racial"
          ],
          [
           "Multi-racial"
          ],
          [
           null
          ],
          [
           null
          ],
          [
           null
          ],
          [
           "Other Race"
          ],
          [
           "Other Race"
          ],
          [
           "Other Race"
          ],
          [
           "Other Race"
          ],
          [
           null
          ],
          [
           null
          ],
          [
           "Multi-racial"
          ],
          [
           "Multi-racial"
          ],
          [
           "Multi-racial"
          ],
          [
           null
          ],
          [
           "Multi-racial"
          ],
          [
           null
          ],
          [
           null
          ],
          [
           null
          ],
          [
           "Multi-racial"
          ],
          [
           null
          ],
          [
           "Multi-racial"
          ],
          [
           null
          ],
          [
           "Multi-racial"
          ],
          [
           "Black/African American"
          ],
          [
           null
          ],
          [
           "Other Race"
          ],
          [
           "Other Race"
          ],
          [
           "Other Race"
          ],
          [
           null
          ],
          [
           "Other Race"
          ],
          [
           "Other Race"
          ],
          [
           "Other Race"
          ],
          [
           "Other Race"
          ],
          [
           "Other Race"
          ],
          [
           "Other Race"
          ],
          [
           "Black/African American"
          ],
          [
           "Multi-racial"
          ],
          [
           "Black/African American"
          ],
          [
           "Other Race"
          ],
          [
           "Other Race"
          ],
          [
           "Other Race"
          ],
          [
           "Other Race"
          ],
          [
           null
          ],
          [
           "Other Race"
          ],
          [
           null
          ],
          [
           "Other Race"
          ],
          [
           "Other Race"
          ],
          [
           "Multi-racial"
          ],
          [
           "Multi-racial"
          ],
          [
           "Multi-racial"
          ],
          [
           "Other Race"
          ],
          [
           "Other Race"
          ],
          [
           "Other Race"
          ],
          [
           "Multi-racial"
          ],
          [
           "Other Race"
          ],
          [
           "Other Race"
          ],
          [
           null
          ],
          [
           "Other Race"
          ],
          [
           "Other Race"
          ],
          [
           "Other Race"
          ],
          [
           "Other Race"
          ],
          [
           "Other Race"
          ],
          [
           "Other Race"
          ],
          [
           "Other Race"
          ],
          [
           "Other Race"
          ],
          [
           "Other Race"
          ],
          [
           "Multi-racial"
          ],
          [
           "Other Race"
          ],
          [
           "Other Race"
          ],
          [
           "Other Race"
          ],
          [
           "Other Race"
          ],
          [
           "Other Race"
          ],
          [
           null
          ],
          [
           "Multi-racial"
          ],
          [
           "Other Race"
          ],
          [
           "Other Race"
          ],
          [
           "Multi-racial"
          ],
          [
           "Other Race"
          ],
          [
           "Other Race"
          ],
          [
           "Other Race"
          ],
          [
           "Other Race"
          ],
          [
           "Other Race"
          ],
          [
           "Other Race"
          ],
          [
           "Other Race"
          ],
          [
           "Other Race"
          ],
          [
           "Other Race"
          ],
          [
           null
          ],
          [
           null
          ],
          [
           "Other Race"
          ],
          [
           "Multi-racial"
          ],
          [
           "Other Race"
          ],
          [
           "Multi-racial"
          ],
          [
           null
          ],
          [
           "Other Race"
          ],
          [
           "Other Race"
          ],
          [
           "Other Race"
          ],
          [
           "Other Race"
          ],
          [
           "Other Race"
          ],
          [
           "Other Race"
          ],
          [
           "Other Race"
          ],
          [
           "Other Race"
          ],
          [
           "Other Race"
          ],
          [
           "Other Race"
          ],
          [
           "Other Race"
          ],
          [
           null
          ],
          [
           "Other Race"
          ],
          [
           "Other Race"
          ],
          [
           null
          ],
          [
           "Other Race"
          ],
          [
           "Multi-racial"
          ],
          [
           "Black/African American"
          ],
          [
           "Multi-racial"
          ],
          [
           "Other Race"
          ],
          [
           null
          ],
          [
           "White"
          ],
          [
           null
          ],
          [
           "Other Race"
          ],
          [
           "White"
          ],
          [
           "Black/African American"
          ],
          [
           "White"
          ],
          [
           "White"
          ],
          [
           "White"
          ],
          [
           "White"
          ],
          [
           "White"
          ],
          [
           "Multi-racial"
          ],
          [
           null
          ],
          [
           "Multi-racial"
          ],
          [
           "White"
          ],
          [
           "White"
          ],
          [
           "White"
          ],
          [
           "White"
          ],
          [
           "White"
          ],
          [
           "White"
          ],
          [
           "White"
          ],
          [
           "White"
          ],
          [
           "White"
          ],
          [
           "Multi-racial"
          ],
          [
           "White"
          ],
          [
           "White"
          ],
          [
           "White"
          ],
          [
           "White"
          ],
          [
           "White"
          ],
          [
           "White"
          ],
          [
           "White"
          ],
          [
           "White"
          ],
          [
           "Multi-racial"
          ],
          [
           null
          ],
          [
           "White"
          ],
          [
           "White"
          ],
          [
           "White"
          ],
          [
           "White"
          ],
          [
           "White"
          ],
          [
           "White"
          ],
          [
           "White"
          ],
          [
           "White"
          ],
          [
           "White"
          ],
          [
           "White"
          ],
          [
           "White"
          ],
          [
           null
          ],
          [
           "White"
          ],
          [
           "White"
          ],
          [
           "White"
          ],
          [
           "Multi-racial"
          ],
          [
           "White"
          ],
          [
           "Black/African American"
          ],
          [
           "White"
          ],
          [
           "White"
          ],
          [
           "White"
          ],
          [
           "White"
          ],
          [
           "White"
          ],
          [
           "Multi-racial"
          ],
          [
           "Multi-racial"
          ],
          [
           "Multi-racial"
          ],
          [
           "White"
          ],
          [
           "White"
          ],
          [
           null
          ],
          [
           "White"
          ],
          [
           "Black/African American"
          ],
          [
           "White"
          ],
          [
           "White"
          ],
          [
           "White"
          ],
          [
           "Multi-racial"
          ],
          [
           "White"
          ],
          [
           "Multi-racial"
          ],
          [
           "White"
          ],
          [
           "White"
          ],
          [
           "White"
          ],
          [
           "Black/African American"
          ],
          [
           "White"
          ],
          [
           "White"
          ],
          [
           "White"
          ],
          [
           "Multi-racial"
          ],
          [
           "Black/African American"
          ],
          [
           "White"
          ],
          [
           null
          ],
          [
           "White"
          ],
          [
           "Multi-racial"
          ],
          [
           "White"
          ],
          [
           "White"
          ],
          [
           "White"
          ],
          [
           "White"
          ],
          [
           "White"
          ],
          [
           "Multi-racial"
          ],
          [
           "White"
          ],
          [
           "White"
          ],
          [
           "White"
          ],
          [
           "White"
          ],
          [
           "Black/African American"
          ],
          [
           "Multi-racial"
          ],
          [
           "Multi-racial"
          ],
          [
           "Black/African American"
          ],
          [
           "Multi-racial"
          ],
          [
           null
          ],
          [
           "Black/African American"
          ],
          [
           "White"
          ],
          [
           "Multi-racial"
          ],
          [
           "White"
          ],
          [
           "White"
          ],
          [
           null
          ],
          [
           null
          ],
          [
           "White"
          ],
          [
           "White"
          ],
          [
           "White"
          ],
          [
           "White"
          ],
          [
           "White"
          ],
          [
           "White"
          ],
          [
           "Black/African American"
          ],
          [
           "Black/African American"
          ],
          [
           null
          ],
          [
           "White"
          ],
          [
           "White"
          ],
          [
           "White"
          ],
          [
           "White"
          ],
          [
           "White"
          ],
          [
           "Black/African American"
          ],
          [
           "Black/African American"
          ],
          [
           "Black/African American"
          ],
          [
           "Black/African American"
          ],
          [
           "Black/African American"
          ],
          [
           "Multi-racial"
          ],
          [
           "White"
          ],
          [
           "Black/African American"
          ],
          [
           null
          ],
          [
           "Black/African American"
          ],
          [
           "Multi-racial"
          ],
          [
           null
          ],
          [
           "Black/African American"
          ],
          [
           null
          ],
          [
           "Multi-racial"
          ],
          [
           null
          ],
          [
           null
          ],
          [
           "White"
          ],
          [
           "Black/African American"
          ],
          [
           "Multi-racial"
          ],
          [
           "Black/African American"
          ],
          [
           "Black/African American"
          ],
          [
           "Multi-racial"
          ],
          [
           null
          ],
          [
           "Multi-racial"
          ],
          [
           "Multi-racial"
          ],
          [
           null
          ],
          [
           null
          ],
          [
           "White"
          ],
          [
           "Multi-racial"
          ],
          [
           "Multi-racial"
          ],
          [
           "Multi-racial"
          ],
          [
           "White"
          ],
          [
           "White"
          ],
          [
           null
          ],
          [
           "White"
          ],
          [
           "White"
          ],
          [
           "Multi-racial"
          ],
          [
           "Black/African American"
          ],
          [
           "Multi-racial"
          ],
          [
           null
          ],
          [
           "Multi-racial"
          ],
          [
           "Multi-racial"
          ],
          [
           "Multi-racial"
          ],
          [
           "White"
          ],
          [
           "White"
          ],
          [
           "White"
          ],
          [
           "White"
          ],
          [
           "White"
          ],
          [
           "White"
          ],
          [
           "White"
          ],
          [
           "White"
          ],
          [
           "White"
          ],
          [
           "White"
          ],
          [
           "Black/African American"
          ],
          [
           "White"
          ],
          [
           "White"
          ],
          [
           null
          ],
          [
           null
          ],
          [
           "Multi-racial"
          ],
          [
           "Multi-racial"
          ],
          [
           "White"
          ],
          [
           "White"
          ],
          [
           "White"
          ],
          [
           "Multi-racial"
          ],
          [
           "Other Race"
          ],
          [
           "Black/African American"
          ],
          [
           "Other Race"
          ],
          [
           "Other Race"
          ],
          [
           "Multi-racial"
          ],
          [
           "Black/African American"
          ],
          [
           "Other Race"
          ],
          [
           "Other Race"
          ],
          [
           "Multi-racial"
          ],
          [
           "Other Race"
          ],
          [
           "Other Race"
          ],
          [
           "Other Race"
          ],
          [
           "Multi-racial"
          ],
          [
           "Black/African American"
          ],
          [
           "Other Race"
          ],
          [
           null
          ],
          [
           "Other Race"
          ],
          [
           "Other Race"
          ],
          [
           "Other Race"
          ],
          [
           "Other Race"
          ],
          [
           "Other Race"
          ],
          [
           "Other Race"
          ],
          [
           "Other Race"
          ],
          [
           "Other Race"
          ],
          [
           "Other Race"
          ],
          [
           "Multi-racial"
          ],
          [
           "Multi-racial"
          ],
          [
           "Other Race"
          ],
          [
           "Other Race"
          ],
          [
           "Multi-racial"
          ],
          [
           "Other Race"
          ],
          [
           "Multi-racial"
          ],
          [
           "Other Race"
          ],
          [
           "Other Race"
          ],
          [
           "Multi-racial"
          ],
          [
           "Other Race"
          ],
          [
           "Multi-racial"
          ],
          [
           "Multi-racial"
          ],
          [
           "Other Race"
          ],
          [
           "Other Race"
          ],
          [
           "Black/African American"
          ],
          [
           "Other Race"
          ],
          [
           "Multi-racial"
          ],
          [
           "Black/African American"
          ],
          [
           "Other Race"
          ],
          [
           "Other Race"
          ],
          [
           "Black/African American"
          ],
          [
           "Multi-racial"
          ],
          [
           "Other Race"
          ],
          [
           "Other Race"
          ],
          [
           "Other Race"
          ],
          [
           "Other Race"
          ],
          [
           "Other Race"
          ],
          [
           "Other Race"
          ],
          [
           "Other Race"
          ],
          [
           "Multi-racial"
          ],
          [
           "Black/African American"
          ],
          [
           null
          ],
          [
           "Multi-racial"
          ],
          [
           null
          ],
          [
           null
          ],
          [
           null
          ],
          [
           "Other Race"
          ],
          [
           "Other Race"
          ],
          [
           "Black/African American"
          ],
          [
           "Other Race"
          ],
          [
           "Black/African American"
          ],
          [
           "Other Race"
          ],
          [
           "Black/African American"
          ],
          [
           "Other Race"
          ],
          [
           "Other Race"
          ],
          [
           "Multi-racial"
          ],
          [
           "Other Race"
          ],
          [
           "Other Race"
          ],
          [
           "Other Race"
          ],
          [
           "Other Race"
          ],
          [
           "Multi-racial"
          ],
          [
           "Other Race"
          ],
          [
           "Other Race"
          ],
          [
           "Other Race"
          ],
          [
           "Other Race"
          ],
          [
           "Other Race"
          ],
          [
           "Multi-racial"
          ],
          [
           "Other Race"
          ],
          [
           "Other Race"
          ],
          [
           "Other Race"
          ],
          [
           "Other Race"
          ],
          [
           "Other Race"
          ],
          [
           "Multi-racial"
          ],
          [
           "Other Race"
          ],
          [
           "White"
          ],
          [
           "White"
          ],
          [
           "White"
          ],
          [
           "White"
          ],
          [
           "Multi-racial"
          ],
          [
           "Black/African American"
          ],
          [
           "Black/African American"
          ],
          [
           "White"
          ],
          [
           "White"
          ],
          [
           "White"
          ],
          [
           "White"
          ],
          [
           "Black/African American"
          ],
          [
           "White"
          ],
          [
           "White"
          ],
          [
           "White"
          ],
          [
           "White"
          ],
          [
           "Multi-racial"
          ],
          [
           "White"
          ],
          [
           "White"
          ],
          [
           "White"
          ],
          [
           "White"
          ],
          [
           "Multi-racial"
          ],
          [
           "White"
          ],
          [
           "Multi-racial"
          ],
          [
           "White"
          ],
          [
           "White"
          ],
          [
           "White"
          ],
          [
           "White"
          ],
          [
           "White"
          ],
          [
           "White"
          ],
          [
           "White"
          ],
          [
           "Multi-racial"
          ],
          [
           "White"
          ],
          [
           "White"
          ],
          [
           "White"
          ],
          [
           "White"
          ],
          [
           "White"
          ],
          [
           "White"
          ],
          [
           "White"
          ],
          [
           "White"
          ],
          [
           "White"
          ],
          [
           "White"
          ],
          [
           "White"
          ],
          [
           "Multi-racial"
          ],
          [
           "White"
          ],
          [
           "Other Race"
          ],
          [
           "Other Race"
          ],
          [
           "Other Race"
          ],
          [
           "Other Race"
          ],
          [
           "Multi-racial"
          ],
          [
           "Other Race"
          ],
          [
           "Other Race"
          ],
          [
           "Other Race"
          ],
          [
           "Other Race"
          ],
          [
           "Other Race"
          ],
          [
           "Other Race"
          ],
          [
           "Other Race"
          ],
          [
           "Other Race"
          ],
          [
           "Multi-racial"
          ],
          [
           "Other Race"
          ],
          [
           "Other Race"
          ],
          [
           "Multi-racial"
          ],
          [
           "Black/African American"
          ],
          [
           "Other Race"
          ],
          [
           "Other Race"
          ],
          [
           "Other Race"
          ],
          [
           "Other Race"
          ],
          [
           "Other Race"
          ],
          [
           "White"
          ],
          [
           "Multi-racial"
          ],
          [
           "Black/African American"
          ],
          [
           "White"
          ],
          [
           "White"
          ],
          [
           "Multi-racial"
          ],
          [
           null
          ],
          [
           "Other Race"
          ],
          [
           "Multi-racial"
          ],
          [
           "Black/African American"
          ],
          [
           "Multi-racial"
          ],
          [
           "Other Race"
          ],
          [
           "Other Race"
          ],
          [
           "Black/African American"
          ],
          [
           "Other Race"
          ],
          [
           "Other Race"
          ],
          [
           "Other Race"
          ],
          [
           "Other Race"
          ],
          [
           "Other Race"
          ],
          [
           "Other Race"
          ],
          [
           "Other Race"
          ]
         ],
         "domain": {
          "x": [
           0,
           1
          ],
          "y": [
           0,
           1
          ]
         },
         "hovertemplate": "labels=%{label}<br>count=%{value}<br>parent=%{parent}<br>id=%{id}<br>Race=%{customdata[0]}<extra></extra>",
         "ids": [
          "f5006e93b3/Montgomery/Other Race",
          "4a16f69dc8/Livingston/Other Race",
          "9f0f85e8c9/Madison/Other Race",
          "f5006e93b3/Madison/Other Race",
          "b71970385d/Monroe/Other Race",
          "dc874628d5",
          "684420899a/Niagara/Other Race",
          "4a16f69dc8/Ontario/Other Race",
          "b71970385d/Ontario/Other Race",
          "293d5bd41f/Orange/Other Race",
          "684420899a/Orange/Other Race",
          "b71970385d/Orange/Other Race",
          "4a16f69dc8/Orleans/Other Race",
          "b71970385d/Orleans/Other Race",
          "1dea55fda9/Oswego/Other Race",
          "684420899a/Oswego/Other Race",
          "f5006e93b3/Oswego/Other Race",
          "1dea55fda9/Otsego/Other Race",
          "293d5bd41f/Otsego/Other Race",
          "40919309ec/Putnam/Other Race",
          "40919309ec/Queens/Other Race",
          "1dea55fda9/Rensselaer/Other Race",
          "4a16f69dc8/Lewis/Other Race",
          "b71970385d/Kings/Other Race",
          "9f0f85e8c9/Kings/Other Race",
          "293d5bd41f/Kings/Other Race",
          "684420899a/Allegany/Other Race",
          "b71970385d/Allegany/Other Race",
          "f5006e93b3/Allegany/Other Race",
          "1dea55fda9/Bronx/Other Race",
          "9f0f85e8c9/Cattaraugus/Other Race",
          "684420899a/Cayuga/Other Race",
          "dc874628d5/Cayuga/Other Race",
          "293d5bd41f/Chemung/Other Race",
          "4a16f69dc8/Chemung/Other Race",
          "9f0f85e8c9/Chemung/Other Race",
          "684420899a/Rensselaer/Other Race",
          "684420899a/Chenango/Other Race",
          "4a16f69dc8/Cortland/Other Race",
          "293d5bd41f/Dutchess/Other Race",
          "1dea55fda9/Fulton/Other Race",
          "f5006e93b3/Fulton/Other Race",
          "40919309ec/Genesee/Other Race",
          "4a16f69dc8/Genesee/Other Race",
          "b71970385d/Genesee/Other Race",
          "293d5bd41f/Herkimer/Other Race",
          "40919309ec/Herkimer/Other Race",
          "684420899a/Herkimer/Other Race",
          "40919309ec/Clinton/Other Race",
          "4a16f69dc8/Albany/Other Race",
          "dc874628d5/Rockland/Other Race",
          "4a16f69dc8/Schenectady/Other Race",
          "4a16f69dc8//White",
          "1dea55fda9/Albany/White",
          "1dea55fda9/Allegany/White",
          "684420899a/Allegany/White",
          "4a16f69dc8/Bronx/White",
          "40919309ec/Broome/White",
          "684420899a/Broome/White",
          "dc874628d5/Broome/White",
          "b71970385d/Cattaraugus/White",
          "9f0f85e8c9/Cayuga/White",
          "293d5bd41f/Chautauqua/White",
          "9f0f85e8c9/Chautauqua/White",
          "b71970385d/Chautauqua/White",
          "40919309ec/Chemung/White",
          "4a16f69dc8/Chenango/White",
          "9f0f85e8c9/Chenango/White",
          "b71970385d/Chenango/White",
          "f5006e93b3/Chenango/White",
          "40919309ec/Clinton/White",
          "f5006e93b3/Clinton/White",
          "293d5bd41f/Columbia/White",
          "40919309ec//White",
          "f5006e93b3/Yates/Other Race",
          "9f0f85e8c9/Yates/Other Race",
          "684420899a/Yates/Other Race",
          "9f0f85e8c9/Schenectady/Other Race",
          "f5006e93b3/Schenectady/Other Race",
          "293d5bd41f/Schuyler/Other Race",
          "4a16f69dc8/Schuyler/Other Race",
          "4a16f69dc8/St Lawrence/Other Race",
          "684420899a/St Lawrence/Other Race",
          "dc874628d5/St Lawrence/Other Race",
          "1dea55fda9/Suffolk/Other Race",
          "684420899a/Suffolk/Other Race",
          "dc874628d5/Suffolk/Other Race",
          "684420899a/Saratoga/Other Race",
          "1dea55fda9/Sullivan/Other Race",
          "684420899a/Sullivan/Other Race",
          "b71970385d/Sullivan/Other Race",
          "b71970385d/Ulster/Other Race",
          "1dea55fda9/Warren/Other Race",
          "293d5bd41f/Warren/Other Race",
          "40919309ec/Wayne/Other Race",
          "f5006e93b3/Westchester/Other Race",
          "1dea55fda9/Wyoming/Other Race",
          "684420899a/Wyoming/Other Race",
          "4a16f69dc8/Yates/Other Race",
          "293d5bd41f/Sullivan/Other Race",
          "4a16f69dc8/Columbia/White",
          "b71970385d//Other Race",
          "dc874628d5/Wyoming/Multi-racial",
          "1dea55fda9/Clinton/Multi-racial",
          "b71970385d/Columbia/Multi-racial",
          "f5006e93b3/Columbia/Multi-racial",
          "40919309ec/Cortland/Multi-racial",
          "684420899a/Cortland/Multi-racial",
          "1dea55fda9/Delaware/Multi-racial",
          "293d5bd41f/Delaware/Multi-racial",
          "b71970385d/Delaware/Multi-racial",
          "f5006e93b3/Delaware/Multi-racial",
          "684420899a/Dutchess/Multi-racial",
          "9f0f85e8c9/Dutchess/Multi-racial",
          "1dea55fda9/Erie/Multi-racial",
          "4a16f69dc8/Erie/Multi-racial",
          "684420899a/Erie/Multi-racial",
          "b71970385d/Erie/Multi-racial",
          "f5006e93b3/Erie/Multi-racial",
          "1dea55fda9/Essex/Multi-racial",
          "dc874628d5/Franklin/Multi-racial",
          "f5006e93b3/Fulton/Multi-racial",
          "40919309ec/Genesee/Multi-racial",
          "4a16f69dc8/Genesee/Multi-racial",
          "9f0f85e8c9/Chenango/Multi-racial",
          "684420899a/Chenango/Multi-racial",
          "dc874628d5/Chautauqua/Multi-racial",
          "b71970385d/Chautauqua/Multi-racial",
          "9f0f85e8c9/St Lawrence/Black/African American",
          "9f0f85e8c9/Steuben/Black/African American",
          "dc874628d5/Steuben/Black/African American",
          "1dea55fda9/Suffolk/Black/African American",
          "b71970385d/Sullivan/Black/African American",
          "293d5bd41f/Warren/Black/African American",
          "4a16f69dc8/Wayne/Black/African American",
          "dc874628d5/Wayne/Black/African American",
          "1dea55fda9/Westchester/Black/African American",
          "293d5bd41f/Westchester/Black/African American",
          "f5006e93b3/Genesee/Multi-racial",
          "40919309ec/Westchester/Black/African American",
          "dc874628d5/Wyoming/Black/African American",
          "b71970385d/Yates/Black/African American",
          "9f0f85e8c9//Multi-racial",
          "dc874628d5//Multi-racial",
          "9f0f85e8c9/Allegany/Multi-racial",
          "293d5bd41f/Broome/Multi-racial",
          "40919309ec/Cattaraugus/Multi-racial",
          "dc874628d5/Cayuga/Multi-racial",
          "40919309ec/Chautauqua/Multi-racial",
          "684420899a/Chautauqua/Multi-racial",
          "1dea55fda9/Wyoming/Black/African American",
          "684420899a//Other Race",
          "1dea55fda9/Jefferson/Multi-racial",
          "dc874628d5/Jefferson/Multi-racial",
          "9f0f85e8c9/Putnam/Multi-racial",
          "b71970385d/Rensselaer/Multi-racial",
          "1dea55fda9/Richmond/Multi-racial",
          "4a16f69dc8/Richmond/Multi-racial",
          "684420899a/Richmond/Multi-racial",
          "b71970385d/Richmond/Multi-racial",
          "40919309ec/Schuyler/Multi-racial",
          "9f0f85e8c9/Schuyler/Multi-racial",
          "4a16f69dc8/St Lawrence/Multi-racial",
          "40919309ec/Steuben/Multi-racial",
          "684420899a/Sullivan/Multi-racial",
          "b71970385d/Sullivan/Multi-racial",
          "dc874628d5/Tompkins/Multi-racial",
          "40919309ec/Wayne/Multi-racial",
          "4a16f69dc8/Wayne/Multi-racial",
          "9f0f85e8c9/Wayne/Multi-racial",
          "b71970385d/Wayne/Multi-racial",
          "b71970385d/Westchester/Multi-racial",
          "f5006e93b3/Westchester/Multi-racial",
          "684420899a/Wyoming/Multi-racial",
          "9f0f85e8c9/Wyoming/Multi-racial",
          "293d5bd41f/Putnam/Multi-racial",
          "9f0f85e8c9/Oswego/Multi-racial",
          "40919309ec/Oswego/Multi-racial",
          "1dea55fda9/Oswego/Multi-racial",
          "4a16f69dc8/Kings/Multi-racial",
          "684420899a/Kings/Multi-racial",
          "b71970385d/Kings/Multi-racial",
          "f5006e93b3/Livingston/Multi-racial",
          "293d5bd41f/Madison/Multi-racial",
          "dc874628d5/Madison/Multi-racial",
          "dc874628d5/Manhattan/Multi-racial",
          "f5006e93b3/Manhattan/Multi-racial",
          "293d5bd41f/Monroe/Multi-racial",
          "dc874628d5/Monroe/Multi-racial",
          "40919309ec/Jefferson/Multi-racial",
          "293d5bd41f/Montgomery/Multi-racial",
          "f5006e93b3/Nassau/Multi-racial",
          "684420899a/Niagara/Multi-racial",
          "1dea55fda9/Oneida/Multi-racial",
          "293d5bd41f/Oneida/Multi-racial",
          "40919309ec/Ontario/Multi-racial",
          "684420899a/Ontario/Multi-racial",
          "684420899a/Orange/Multi-racial",
          "9f0f85e8c9/Orange/Multi-racial",
          "f5006e93b3/Orange/Multi-racial",
          "1dea55fda9/Orleans/Multi-racial",
          "4a16f69dc8/Nassau/Multi-racial",
          "684420899a/St Lawrence/Black/African American",
          "684420899a/Columbia/White",
          "1dea55fda9/Cortland/White",
          "4a16f69dc8/Westchester/White",
          "dc874628d5/Wyoming/White",
          "dc874628d5/Allegany",
          "293d5bd41f/Broome",
          "dc874628d5/Broome",
          "f5006e93b3/Broome",
          "b71970385d/Cattaraugus",
          "f5006e93b3/Cattaraugus",
          "4a16f69dc8/Chautauqua",
          "684420899a/Chautauqua",
          "293d5bd41f/Chemung",
          "40919309ec/Chemung",
          "9f0f85e8c9/Clinton",
          "b71970385d/Clinton",
          "40919309ec/Columbia",
          "4a16f69dc8/Columbia",
          "b71970385d/Columbia",
          "b71970385d/Cortland",
          "dc874628d5/Delaware",
          "dc874628d5/Erie",
          "f5006e93b3/Erie",
          "293d5bd41f/Westchester/White",
          "f5006e93b3/Wayne/White",
          "b71970385d/Wayne/White",
          "9f0f85e8c9/Wayne/White",
          "f5006e93b3/Suffolk/White",
          "1dea55fda9/Sullivan/White",
          "40919309ec/Sullivan/White",
          "4a16f69dc8/Sullivan/White",
          "684420899a/Sullivan/White",
          "9f0f85e8c9/Sullivan/White",
          "b71970385d/Sullivan/White",
          "dc874628d5/Sullivan/White",
          "f5006e93b3/Sullivan/White",
          "1dea55fda9/Tompkins/White",
          "1dea55fda9/Essex",
          "293d5bd41f/Tompkins/White",
          "4a16f69dc8/Tompkins/White",
          "684420899a/Tompkins/White",
          "9f0f85e8c9/Tompkins/White",
          "b71970385d/Tompkins/White",
          "dc874628d5/Tompkins/White",
          "f5006e93b3/Tompkins/White",
          "1dea55fda9/Ulster/White",
          "293d5bd41f/Ulster/White",
          "40919309ec/Ulster/White",
          "4a16f69dc8/Ulster/White",
          "40919309ec/Tompkins/White",
          "b71970385d/Suffolk/White",
          "293d5bd41f/Essex",
          "9f0f85e8c9/Franklin",
          "4a16f69dc8/Orleans",
          "9f0f85e8c9/Oswego",
          "40919309ec/Otsego",
          "1dea55fda9/Queens",
          "f5006e93b3/Queens",
          "9f0f85e8c9/Rensselaer",
          "40919309ec/Richmond",
          "4a16f69dc8/Schenectady",
          "dc874628d5/Schenectady",
          "1dea55fda9/Schuyler",
          "40919309ec/Schuyler",
          "293d5bd41f/Steuben",
          "dc874628d5/Steuben",
          "1dea55fda9/Sullivan",
          "4a16f69dc8/Tompkins",
          "b71970385d/Ulster",
          "f5006e93b3/Ulster",
          "40919309ec/Wayne",
          "4a16f69dc8/Wayne",
          "293d5bd41f/Westchester",
          "9f0f85e8c9/Yates",
          "4a16f69dc8/Orange",
          "1dea55fda9/Ontario",
          "f5006e93b3/Onondaga",
          "9f0f85e8c9/Onondaga",
          "dc874628d5/Franklin",
          "4a16f69dc8/Fulton",
          "f5006e93b3/Fulton",
          "293d5bd41f/Genesee",
          "40919309ec/Herkimer",
          "4a16f69dc8/Herkimer",
          "684420899a/Herkimer",
          "b71970385d/Herkimer",
          "1dea55fda9/Jefferson",
          "dc874628d5/Jefferson",
          "684420899a/Essex",
          "4a16f69dc8/Lewis",
          "684420899a/Livingston",
          "9f0f85e8c9/Madison",
          "f5006e93b3/Madison",
          "1dea55fda9/Manhattan",
          "9f0f85e8c9/Niagara",
          "dc874628d5/Niagara",
          "293d5bd41f/Onondaga",
          "40919309ec/Onondaga",
          "4a16f69dc8/Onondaga",
          "684420899a/Onondaga",
          "4a16f69dc8/Livingston",
          "9f0f85e8c9/Columbia/White",
          "9f0f85e8c9/Suffolk/White",
          "4a16f69dc8/Suffolk/White",
          "1dea55fda9/Lewis/White",
          "293d5bd41f/Lewis/White",
          "40919309ec/Lewis/White",
          "4a16f69dc8/Lewis/White",
          "684420899a/Lewis/White",
          "9f0f85e8c9/Lewis/White",
          "dc874628d5/Lewis/White",
          "f5006e93b3/Lewis/White",
          "1dea55fda9/Livingston/White",
          "293d5bd41f/Livingston/White",
          "b71970385d/Livingston/White",
          "dc874628d5/Madison/White",
          "40919309ec/Manhattan/White",
          "dc874628d5/Manhattan/White",
          "9f0f85e8c9/Montgomery/White",
          "f5006e93b3/Montgomery/White",
          "40919309ec/Nassau/White",
          "4a16f69dc8/Nassau/White",
          "9f0f85e8c9/Nassau/White",
          "b71970385d/Nassau/White",
          "dc874628d5/Nassau/White",
          "f5006e93b3/Kings/White",
          "dc874628d5/Kings/White",
          "b71970385d/Kings/White",
          "9f0f85e8c9/Kings/White",
          "293d5bd41f/Delaware/White",
          "40919309ec/Delaware/White",
          "dc874628d5/Erie/White",
          "40919309ec/Essex/White",
          "684420899a/Franklin/White",
          "1dea55fda9/Fulton/White",
          "293d5bd41f/Fulton/White",
          "f5006e93b3/Fulton/White",
          "b71970385d/Herkimer/White",
          "dc874628d5/Herkimer/White",
          "f5006e93b3/Nassau/White",
          "f5006e93b3/Herkimer/White",
          "293d5bd41f/Jefferson/White",
          "40919309ec/Jefferson/White",
          "684420899a/Jefferson/White",
          "b71970385d/Jefferson/White",
          "dc874628d5/Jefferson/White",
          "f5006e93b3/Jefferson/White",
          "1dea55fda9/Kings/White",
          "293d5bd41f/Kings/White",
          "4a16f69dc8/Kings/White",
          "684420899a/Kings/White",
          "1dea55fda9/Jefferson/White",
          "684420899a/Suffolk/White",
          "1dea55fda9/Niagara/White",
          "4a16f69dc8/Niagara/White",
          "293d5bd41f/Orleans/White",
          "684420899a/Orleans/White",
          "684420899a/Oswego/White",
          "9f0f85e8c9/Oswego/White",
          "1dea55fda9/Otsego/White",
          "684420899a/Otsego/White",
          "4a16f69dc8/Putnam/White",
          "684420899a/Putnam/White",
          "9f0f85e8c9/Putnam/White",
          "dc874628d5/Putnam/White",
          "684420899a/Richmond/White",
          "9f0f85e8c9/Richmond/White",
          "293d5bd41f/Rockland/White",
          "9f0f85e8c9/Rockland/White",
          "9f0f85e8c9/Saratoga/White",
          "9f0f85e8c9/Schenectady/White",
          "684420899a/Schuyler/White",
          "9f0f85e8c9/Steuben/White",
          "dc874628d5/Steuben/White",
          "1dea55fda9/Suffolk/White",
          "40919309ec/Suffolk/White",
          "684420899a/Orange/White",
          "4a16f69dc8/Orange/White",
          "4a16f69dc8/Ontario/White",
          "40919309ec/Ontario/White",
          "684420899a/Niagara/White",
          "9f0f85e8c9/Niagara/White",
          "b71970385d/Niagara/White",
          "dc874628d5/Niagara/White",
          "f5006e93b3/Niagara/White",
          "1dea55fda9/Oneida/White",
          "293d5bd41f/Oneida/White",
          "40919309ec/Oneida/White",
          "4a16f69dc8/Oneida/White",
          "684420899a/Oneida/White",
          "40919309ec/Niagara/White",
          "9f0f85e8c9/Oneida/White",
          "f5006e93b3/Oneida/White",
          "1dea55fda9/Onondaga/White",
          "40919309ec/Onondaga/White",
          "684420899a/Onondaga/White",
          "9f0f85e8c9/Onondaga/White",
          "b71970385d/Onondaga/White",
          "dc874628d5/Onondaga/White",
          "f5006e93b3/Onondaga/White",
          "1dea55fda9/Ontario/White",
          "293d5bd41f/Ontario/White",
          "dc874628d5/Oneida/White",
          "4a16f69dc8/Schuyler/Black/African American",
          "f5006e93b3",
          "684420899a/Kings/Black/African American",
          "1dea55fda9/Clinton/Black/African American",
          "b71970385d/Nassau/Black/African American",
          "dc874628d5/Rockland/Black/African American",
          "4a16f69dc8/Columbia/Black/African American",
          "4a16f69dc8/Schenectady/Black/African American",
          "684420899a/Columbia/Black/African American",
          "684420899a/Nassau/Black/African American",
          "4a16f69dc8/Chenango/Black/African American",
          "40919309ec/Nassau/Black/African American",
          "f5006e93b3/Albany/Black/African American",
          "4a16f69dc8/Orleans/Black/African American",
          "293d5bd41f/Cortland/Black/African American",
          "4a16f69dc8/Montgomery/Black/African American",
          "1dea55fda9/Otsego/Black/African American",
          "293d5bd41f/Montgomery/Black/African American",
          "f5006e93b3/Richmond/Black/African American",
          "9f0f85e8c9/Onondaga/Black/African American",
          "684420899a/Allegany/Black/African American",
          "293d5bd41f/Niagara/Black/African American",
          "40919309ec/Schenectady/Black/African American",
          "f5006e93b3/Oneida/Black/African American",
          "684420899a/Broome/Black/African American",
          "4a16f69dc8/Broome/Black/African American",
          "293d5bd41f/Broome/Black/African American",
          "40919309ec/Cattaraugus/Black/African American",
          "684420899a/Cattaraugus/Black/African American",
          "1dea55fda9/Cayuga/Black/African American",
          "dc874628d5/Orleans/Black/African American",
          "dc874628d5/Cayuga/Black/African American",
          "684420899a/Bronx/Black/African American",
          "293d5bd41f/Chautauqua/Black/African American",
          "9f0f85e8c9/Chautauqua/Black/African American",
          "40919309ec/Bronx/Black/African American",
          "1dea55fda9/Bronx/Black/African American",
          "f5006e93b3/Allegany/Black/African American",
          "f5006e93b3/Chautauqua/Black/African American",
          "1dea55fda9/Chemung/Black/African American",
          "684420899a/Monroe/Black/African American",
          "40919309ec/Monroe/Black/African American",
          "684420899a/Montgomery/Black/African American",
          "b71970385d/Dutchess/Black/African American",
          "dc874628d5/Fulton/Black/African American",
          "f5006e93b3/Fulton/Black/African American",
          "1dea55fda9/Dutchess/Black/African American",
          "293d5bd41f/Genesee/Black/African American",
          "684420899a/Genesee/Black/African American",
          "4a16f69dc8//Black/African American",
          "40919309ec/Herkimer/Black/African American",
          "dc874628d5/Herkimer/Black/African American",
          "684420899a/Livingston/Black/African American",
          "1dea55fda9/Livingston/Black/African American",
          "dc874628d5/Lewis/Black/African American",
          "1dea55fda9/Schuyler/Black/African American",
          "b71970385d/Lewis/Black/African American",
          "9f0f85e8c9/Lewis/Black/African American",
          "f5006e93b3/Jefferson/Black/African American",
          "293d5bd41f//Black/African American",
          "1dea55fda9/Queens/Black/African American",
          "4a16f69dc8/Lewis/Black/African American",
          "40919309ec/Lewis/Black/African American",
          "9f0f85e8c9/Fulton/Black/African American",
          "1dea55fda9/Fulton/Black/African American",
          "1dea55fda9/Cattaraugus/Black/African American",
          "9f0f85e8c9/Ontario/Black/African American",
          "9f0f85e8c9/Erie/Black/African American",
          "684420899a/Rensselaer/Black/African American",
          "684420899a/Essex/Black/African American",
          "b71970385d/Manhattan/Black/African American",
          "684420899a/Erie/Black/African American",
          "f5006e93b3//Black/African American",
          "f5006e93b3/Essex/Black/African American",
          "293d5bd41f/Franklin/Black/African American",
          "293d5bd41f/Monroe/Black/African American",
          "9f0f85e8c9/Franklin/Black/African American",
          "dc874628d5/Rensselaer/Black/African American",
          "684420899a/Ontario/Black/African American",
          "684420899a/Manhattan/Black/African American",
          "293d5bd41f/St Lawrence/Other Race",
          "684420899a/Schuyler/Other Race",
          "dc874628d5/Dutchess/White",
          "4a16f69dc8/Herkimer/Other Race",
          "b71970385d/Monroe/Black/African American",
          "f5006e93b3/Richmond/Multi-racial",
          "dc874628d5/Jefferson/Black/African American",
          "9f0f85e8c9/Livingston/Other Race",
          "40919309ec/Rockland/White",
          "684420899a/Fulton",
          "b71970385d/Livingston/Other Race",
          "4a16f69dc8/Niagara/Black/African American",
          "684420899a/Warren/Multi-racial",
          "b71970385d/St Lawrence/White",
          "40919309ec/Niagara/Black/African American",
          "293d5bd41f/Nassau/Black/African American",
          "40919309ec/Steuben/White",
          "4a16f69dc8/Warren/White",
          "1dea55fda9/Oneida/Other Race",
          "dc874628d5/Chemung",
          "9f0f85e8c9/Chemung/Black/African American",
          "293d5bd41f/Schuyler/Black/African American",
          "dc874628d5/Westchester/Multi-racial",
          "1dea55fda9/Essex/Other Race",
          "dc874628d5/Onondaga",
          "1dea55fda9/Sullivan/Multi-racial",
          "1dea55fda9/Yates",
          "dc874628d5/Tompkins/Other Race",
          "f5006e93b3/Tompkins/Other Race",
          "1dea55fda9/Ulster/Other Race",
          "293d5bd41f/Ulster/Other Race",
          "4a16f69dc8/Manhattan/Black/African American",
          "40919309ec/Allegany/Other Race",
          "40919309ec/Manhattan/Black/African American",
          "293d5bd41f/Manhattan/Black/African American",
          "40919309ec/Warren/Other Race",
          "1dea55fda9/Manhattan/Black/African American",
          "dc874628d5/Genesee/Other Race",
          "dc874628d5/Allegany/Other Race",
          "f5006e93b3/Madison/Black/African American",
          "dc874628d5/Madison/Black/African American",
          "4a16f69dc8/Wyoming/Other Race",
          "b71970385d/Madison/Black/African American",
          "9f0f85e8c9/Wyoming/Other Race",
          "b71970385d/Wyoming/Other Race",
          "dc874628d5/Albany/Other Race",
          "dc874628d5/Wyoming/Other Race",
          "f5006e93b3/Wyoming/Other Race",
          "1dea55fda9/Yates/Other Race",
          "293d5bd41f/Yates/Other Race",
          "4a16f69dc8/Wayne/Other Race",
          "4a16f69dc8/Ontario/Black/African American",
          "293d5bd41f/Tompkins/Other Race",
          "40919309ec/Yates/Other Race",
          "f5006e93b3/Broome/Other Race",
          "9f0f85e8c9/Broome/Other Race",
          "1dea55fda9/Steuben/Other Race",
          "293d5bd41f/Steuben/Other Race",
          "f5006e93b3/Steuben/Other Race",
          "293d5bd41f/Broome/Other Race",
          "dc874628d5/Bronx/Other Race",
          "293d5bd41f/Suffolk/Other Race",
          "40919309ec/Suffolk/Other Race",
          "1dea55fda9/Monroe/Black/African American",
          "b71970385d/Bronx/Other Race",
          "9f0f85e8c9/Suffolk/Other Race",
          "b71970385d/Suffolk/Other Race",
          "f5006e93b3/Manhattan/Black/African American",
          "f5006e93b3/Suffolk/Other Race",
          "9f0f85e8c9/Bronx/Other Race",
          "dc874628d5/Manhattan/Black/African American",
          "684420899a/Bronx/Other Race",
          "9f0f85e8c9/Manhattan/Black/African American",
          "4a16f69dc8/Bronx/Other Race",
          "40919309ec/Bronx/Other Race",
          "40919309ec/Ontario/Black/African American",
          "dc874628d5/Sullivan/Other Race",
          "40919309ec/Tompkins/Other Race",
          "9f0f85e8c9/Madison/Black/African American",
          "b71970385d/Ontario/Black/African American",
          "4a16f69dc8/Monroe/Black/African American",
          "4a16f69dc8/Livingston/Black/African American",
          "40919309ec/Livingston/Black/African American",
          "293d5bd41f/Livingston/Black/African American",
          "293d5bd41f/Orange/Black/African American",
          "684420899a/Chautauqua/White",
          "40919309ec/Orange/Black/African American",
          "40919309ec/Wyoming/Multi-racial",
          "f5006e93b3/Chautauqua/White",
          "4a16f69dc8/Orange/Black/African American",
          "684420899a/Chemung/White",
          "9f0f85e8c9/Chemung/White",
          "40919309ec/Chenango/White",
          "684420899a/Lewis/Black/African American",
          "684420899a/Orange/Black/African American",
          "9f0f85e8c9/Orange/Black/African American",
          "b71970385d/Orange/Black/African American",
          "dc874628d5/Orange/Black/African American",
          "dc874628d5/Chenango/White",
          "293d5bd41f/Lewis/Black/African American",
          "293d5bd41f/Clinton/White",
          "1dea55fda9/Lewis/Black/African American",
          "f5006e93b3/Kings/Black/African American",
          "dc874628d5/Kings/Black/African American",
          "1dea55fda9/Orange/Black/African American",
          "684420899a/Madison/Black/African American",
          "f5006e93b3/Bronx/White",
          "40919309ec/Bronx/White",
          "4a16f69dc8/Madison/Black/African American",
          "40919309ec/Madison/Black/African American",
          "293d5bd41f/Albany/Other Race",
          "1dea55fda9/Albany/Other Race",
          "293d5bd41f/Madison/Black/African American",
          "dc874628d5/Ontario/Black/African American",
          "1dea55fda9/Madison/Black/African American",
          "684420899a//White",
          "9f0f85e8c9//Other Race",
          "9f0f85e8c9//White",
          "dc874628d5//White",
          "f5006e93b3/Livingston/Black/African American",
          "293d5bd41f/Albany/White",
          "9f0f85e8c9/Albany/White",
          "f5006e93b3/Ontario/Black/African American",
          "f5006e93b3/Albany/White",
          "dc874628d5/Livingston/Black/African American",
          "4a16f69dc8/Allegany/White",
          "b71970385d/Livingston/Black/African American",
          "f5006e93b3/Allegany/White",
          "9f0f85e8c9/Yates/Multi-racial",
          "293d5bd41f/Bronx/White",
          "684420899a/Yates/Multi-racial",
          "9f0f85e8c9/Livingston/Black/African American",
          "1dea55fda9/Cattaraugus/Other Race",
          "293d5bd41f/Ontario/Black/African American",
          "b71970385d/Cattaraugus/Other Race",
          "40919309ec/Madison/Other Race",
          "684420899a/Niagara/Black/African American",
          "1dea55fda9/Manhattan/Other Race",
          "293d5bd41f/Manhattan/Other Race",
          "293d5bd41f/Onondaga/Black/African American",
          "dc874628d5/Manhattan/Other Race",
          "4a16f69dc8/Monroe/Other Race",
          "684420899a/Monroe/Other Race",
          "f5006e93b3/Delaware/Other Race",
          "f5006e93b3/Monroe/Other Race",
          "40919309ec/Delaware/Other Race",
          "293d5bd41f/Delaware/Other Race",
          "40919309ec/Nassau/Other Race",
          "1dea55fda9/Niagara/Other Race",
          "293d5bd41f/Niagara/Other Race",
          "40919309ec/Niagara/Other Race",
          "1dea55fda9/Delaware/Other Race",
          "b71970385d/Niagara/Other Race",
          "dc874628d5/Niagara/Other Race",
          "f5006e93b3/Cortland/Other Race",
          "40919309ec/Onondaga/Black/African American",
          "f5006e93b3/Niagara/Other Race",
          "40919309ec/Cortland/Other Race",
          "f5006e93b3/Livingston/Other Race",
          "4a16f69dc8/Dutchess/Other Race",
          "dc874628d5/Dutchess/Other Race",
          "f5006e93b3/Dutchess/Other Race",
          "684420899a/Genesee/Other Race",
          "1dea55fda9/Herkimer/Other Race",
          "4a16f69dc8/Oneida/Black/African American",
          "1dea55fda9/Onondaga/Black/African American",
          "684420899a/Franklin/Other Race",
          "9f0f85e8c9/Herkimer/Other Race",
          "293d5bd41f/Franklin/Other Race",
          "b71970385d/Herkimer/Other Race",
          "dc874628d5/Herkimer/Other Race",
          "f5006e93b3/Herkimer/Other Race",
          "1dea55fda9/Jefferson/Other Race",
          "684420899a/Clinton/Other Race",
          "dc874628d5/Jefferson/Other Race",
          "1dea55fda9/Oneida/Black/African American",
          "f5006e93b3/Kings/Other Race",
          "1dea55fda9/Franklin/Other Race",
          "f5006e93b3/Essex/Other Race",
          "684420899a/Lewis/Other Race",
          "9f0f85e8c9/Essex/Other Race",
          "9f0f85e8c9/Lewis/Other Race",
          "1dea55fda9/Livingston/Other Race",
          "40919309ec/Livingston/Other Race",
          "684420899a/Livingston/Other Race",
          "4a16f69dc8/Essex/Other Race",
          "1dea55fda9/Kings/Other Race",
          "f5006e93b3/Genesee/Other Race",
          "293d5bd41f/Oneida/Other Race",
          "40919309ec/Oneida/Other Race",
          "293d5bd41f/Queens/Other Race",
          "4a16f69dc8/Queens/Other Race",
          "f5006e93b3/Onondaga/Black/African American",
          "dc874628d5/Queens/Other Race",
          "f5006e93b3/Queens/Other Race",
          "b71970385d/Cayuga/Other Race",
          "293d5bd41f/Rensselaer/Other Race",
          "40919309ec/Rensselaer/Other Race",
          "4a16f69dc8/Rensselaer/Other Race",
          "1dea55fda9/Ontario/Black/African American",
          "9f0f85e8c9/Rensselaer/Other Race",
          "40919309ec/Cayuga/Other Race",
          "b71970385d/Rensselaer/Other Race",
          "9f0f85e8c9/Richmond/Other Race",
          "b71970385d/Richmond/Other Race",
          "4a16f69dc8/Rockland/Other Race",
          "40919309ec/Montgomery/Black/African American",
          "293d5bd41f/Cayuga/Other Race",
          "1dea55fda9/Schenectady/Other Race",
          "b71970385d/Schenectady/Other Race",
          "1dea55fda9/Cayuga/Other Race",
          "dc874628d5/Cattaraugus/Other Race",
          "9f0f85e8c9/Schuyler/Other Race",
          "1dea55fda9/Queens/Other Race",
          "f5006e93b3/Putnam/Other Race",
          "dc874628d5/Putnam/Other Race",
          "f5006e93b3/Chautauqua/Other Race",
          "293d5bd41f/Onondaga/Other Race",
          "b71970385d/Onondaga/Other Race",
          "9f0f85e8c9/Kings/Black/African American",
          "1dea55fda9/Orange/Other Race",
          "4a16f69dc8/Orange/Other Race",
          "293d5bd41f/Clinton/Other Race",
          "dc874628d5/Orange/Other Race",
          "f5006e93b3/Orange/Other Race",
          "b71970385d/Chenango/Other Race",
          "9f0f85e8c9/Chenango/Other Race",
          "684420899a/Onondaga/Black/African American",
          "4a16f69dc8/Onondaga/Black/African American",
          "293d5bd41f/Chenango/Other Race",
          "f5006e93b3/Chemung/Other Race",
          "40919309ec/Oswego/Other Race",
          "4a16f69dc8/Oswego/Other Race",
          "684420899a/Chemung/Other Race",
          "b71970385d/Onondaga/Black/African American",
          "dc874628d5/Oswego/Other Race",
          "dc874628d5/Onondaga/Black/African American",
          "1dea55fda9/Nassau/Black/African American",
          "b71970385d/Otsego/Other Race",
          "293d5bd41f/Putnam/Other Race",
          "b71970385d/Putnam/Other Race",
          "684420899a/Orleans/Other Race",
          "dc874628d5/Ontario/Other Race",
          "1dea55fda9/Jefferson/Black/African American",
          "dc874628d5/Cortland/White",
          "b71970385d/Dutchess",
          "f5006e93b3/Dutchess",
          "4a16f69dc8/Erie",
          "684420899a/Erie",
          "f5006e93b3/Cattaraugus/Black/African American",
          "9f0f85e8c9/Cattaraugus/Black/African American",
          "4a16f69dc8/Essex",
          "4a16f69dc8/Cattaraugus/Black/African American",
          "1dea55fda9/Fulton",
          "40919309ec/Fulton",
          "293d5bd41f/Cattaraugus/Black/African American",
          "4a16f69dc8/Genesee",
          "f5006e93b3/Genesee",
          "684420899a/Dutchess",
          "b71970385d/Broome/Black/African American",
          "f5006e93b3/Bronx/Black/African American",
          "684420899a/Madison",
          "b71970385d/Madison",
          "dc874628d5/Madison",
          "9f0f85e8c9/Bronx/Black/African American",
          "293d5bd41f/Manhattan",
          "9f0f85e8c9/Manhattan",
          "b71970385d/Montgomery",
          "f5006e93b3/Montgomery",
          "4a16f69dc8/Bronx/Black/African American",
          "293d5bd41f/Oneida",
          "4a16f69dc8/Oneida",
          "1dea55fda9/Onondaga",
          "9f0f85e8c9/Herkimer",
          "dc874628d5/Allegany/Black/African American",
          "293d5bd41f/Dutchess",
          "40919309ec/Cayuga/Black/African American",
          "40919309ec/Clinton/Black/African American",
          "dc874628d5/Chenango/Black/African American",
          "dc874628d5/Chemung/Black/African American",
          "b71970385d/Chemung/Black/African American",
          "b71970385d/Warren/White",
          "293d5bd41f/Wayne/White",
          "684420899a/Chemung/Black/African American",
          "4a16f69dc8/Chemung/Black/African American",
          "684420899a/Westchester/White",
          "684420899a/Wyoming/White",
          "9f0f85e8c9/Wyoming/White",
          "40919309ec/",
          "dc874628d5/Albany",
          "293d5bd41f/Cayuga/Black/African American",
          "1dea55fda9/Allegany",
          "f5006e93b3/Bronx",
          "9f0f85e8c9/Broome",
          "684420899a/Chautauqua/Black/African American",
          "293d5bd41f/Cattaraugus",
          "40919309ec/Chautauqua/Black/African American",
          "293d5bd41f/Cayuga",
          "4a16f69dc8/Cayuga",
          "1dea55fda9/Chautauqua/Black/African American",
          "f5006e93b3/Chemung",
          "b71970385d/Cayuga/Black/African American",
          "9f0f85e8c9/Cayuga/Black/African American",
          "684420899a/Cayuga/Black/African American",
          "4a16f69dc8/Cayuga/Black/African American",
          "4a16f69dc8/Bronx",
          "b71970385d/Onondaga",
          "b71970385d/Allegany/Black/African American",
          "9f0f85e8c9/Allegany/Black/African American",
          "4a16f69dc8/Sullivan",
          "684420899a/Sullivan",
          "9f0f85e8c9/Sullivan",
          "f5006e93b3/Sullivan",
          "dc874628d5//Black/African American",
          "dc874628d5/Tompkins",
          "40919309ec/Ulster",
          "9f0f85e8c9/Ulster",
          "b71970385d//Black/African American",
          "9f0f85e8c9//Black/African American",
          "4a16f69dc8/Warren",
          "9f0f85e8c9/Warren",
          "dc874628d5/Warren",
          "293d5bd41f/Sullivan",
          "f5006e93b3/Warren",
          "1dea55fda9/Westchester",
          "40919309ec//Black/African American",
          "4a16f69dc8/Westchester",
          "9f0f85e8c9/Westchester",
          "b71970385d/Westchester",
          "1dea55fda9/Wyoming",
          "dc874628d5/Wyoming",
          "293d5bd41f/Yates",
          "684420899a/Yates",
          "b71970385d/Yates",
          "dc874628d5/Yates",
          "684420899a",
          "b71970385d",
          "684420899a//Black/African American",
          "dc874628d5/Suffolk",
          "f5006e93b3/Steuben",
          "1dea55fda9/Albany/Black/African American",
          "4a16f69dc8/Ontario",
          "b71970385d/Ontario",
          "dc874628d5/Orange",
          "4a16f69dc8/Allegany/Black/African American",
          "9f0f85e8c9/Orleans",
          "293d5bd41f/Oswego",
          "dc874628d5/Oswego",
          "f5006e93b3/Otsego",
          "4a16f69dc8/Putnam",
          "684420899a/Putnam",
          "9f0f85e8c9/Putnam",
          "1dea55fda9/Allegany/Black/African American",
          "b71970385d/Queens",
          "1dea55fda9/Rensselaer",
          "684420899a/Rensselaer",
          "dc874628d5/Albany/Black/African American",
          "4a16f69dc8/Richmond",
          "dc874628d5/Richmond",
          "1dea55fda9/Rockland",
          "293d5bd41f/Schenectady",
          "f5006e93b3/Schenectady",
          "4a16f69dc8/Albany/Black/African American",
          "40919309ec/Albany/Black/African American",
          "9f0f85e8c9/Schuyler",
          "b71970385d/Schuyler",
          "40919309ec/St Lawrence",
          "b71970385d/St Lawrence",
          "293d5bd41f/Albany/Black/African American",
          "b71970385d/Steuben",
          "684420899a/Clinton/Black/African American",
          "684420899a/Cortland/White",
          "9f0f85e8c9/Clinton/Black/African American",
          "dc874628d5/Clinton/Black/African American",
          "1dea55fda9/Herkimer/Black/African American",
          "dc874628d5/Genesee/Black/African American",
          "b71970385d/Genesee/Black/African American",
          "4a16f69dc8/Genesee/Black/African American",
          "40919309ec/Genesee/Black/African American",
          "1dea55fda9/Genesee/Black/African American",
          "b71970385d/Lewis/White",
          "b71970385d/Fulton/Black/African American",
          "684420899a/Fulton/Black/African American",
          "4a16f69dc8/Fulton/Black/African American",
          "40919309ec/Livingston/White",
          "4a16f69dc8/Livingston/White",
          "293d5bd41f/Fulton/Black/African American",
          "40919309ec/Kings/White",
          "1dea55fda9/Manhattan/White",
          "684420899a/Manhattan/White",
          "9f0f85e8c9/Manhattan/White",
          "b71970385d/Manhattan/White",
          "f5006e93b3/Franklin/Black/African American",
          "293d5bd41f/Monroe/White",
          "684420899a/Monroe/White",
          "b71970385d/Monroe/White",
          "dc874628d5/Monroe/White",
          "f5006e93b3/Monroe/White",
          "40919309ec/Montgomery/White",
          "4a16f69dc8/Montgomery/White",
          "dc874628d5/Franklin/Black/African American",
          "dc874628d5/Montgomery/White",
          "293d5bd41f/Manhattan/White",
          "b71970385d/Franklin/Black/African American",
          "293d5bd41f/Herkimer/Black/African American",
          "684420899a/Herkimer/Black/African American",
          "40919309ec/Kings/Black/African American",
          "293d5bd41f/Kings/Black/African American",
          "4a16f69dc8/Delaware/White",
          "9f0f85e8c9/Delaware/White",
          "1dea55fda9/Dutchess/White",
          "b71970385d/Dutchess/White",
          "f5006e93b3/Dutchess/White",
          "1dea55fda9/Erie/White",
          "4a16f69dc8/Erie/White",
          "293d5bd41f/Essex/White",
          "dc874628d5/Essex/White",
          "b71970385d/Jefferson/Black/African American",
          "9f0f85e8c9/Jefferson/Black/African American",
          "4a16f69dc8/Herkimer/Black/African American",
          "40919309ec/Fulton/White",
          "dc874628d5/Fulton/White",
          "684420899a/Jefferson/Black/African American",
          "293d5bd41f/Genesee/White",
          "40919309ec/Genesee/White",
          "9f0f85e8c9/Genesee/White",
          "4a16f69dc8/Herkimer/White",
          "4a16f69dc8/Jefferson/Black/African American",
          "40919309ec/Jefferson/Black/African American",
          "293d5bd41f/Jefferson/Black/African American",
          "f5006e93b3/Herkimer/Black/African American",
          "b71970385d/Herkimer/Black/African American",
          "9f0f85e8c9/Jefferson/White",
          "9f0f85e8c9/Herkimer/Black/African American",
          "684420899a/Fulton/White",
          "1dea55fda9/Nassau/White",
          "293d5bd41f/Nassau/White",
          "684420899a/Franklin/Black/African American",
          "40919309ec/Queens/White",
          "684420899a/Queens/White",
          "b71970385d/Queens/White",
          "b71970385d/Rensselaer/White",
          "dc874628d5/Rensselaer/White",
          "40919309ec/Richmond/White",
          "684420899a/Cortland/Black/African American",
          "4a16f69dc8/Cortland/Black/African American",
          "4a16f69dc8/Rockland/White",
          "dc874628d5/Rockland/White",
          "293d5bd41f/Saratoga/White",
          "40919309ec/Saratoga/White",
          "684420899a/Saratoga/White",
          "293d5bd41f/Queens/White",
          "f5006e93b3/Saratoga/White",
          "4a16f69dc8/St Lawrence/White",
          "9f0f85e8c9/St Lawrence/White",
          "f5006e93b3/St Lawrence/White",
          "293d5bd41f/Steuben/White",
          "4a16f69dc8/Steuben/White",
          "b71970385d/Steuben/White",
          "b71970385d/Columbia/Black/African American",
          "f5006e93b3/Steuben/White",
          "9f0f85e8c9/Columbia/Black/African American",
          "40919309ec/Columbia/Black/African American",
          "1dea55fda9/Columbia/Black/African American",
          "dc874628d5/Suffolk/White",
          "f5006e93b3/Clinton/Black/African American",
          "f5006e93b3/Columbia/Black/African American",
          "b71970385d/Cortland/Black/African American",
          "f5006e93b3/Cortland/Black/African American",
          "1dea55fda9/Delaware/Black/African American",
          "684420899a/Nassau/White",
          "40919309ec/Franklin/Black/African American",
          "1dea55fda9/Franklin/Black/African American",
          "293d5bd41f/Niagara/White",
          "b71970385d/Essex/Black/African American",
          "9f0f85e8c9/Essex/Black/African American",
          "293d5bd41f/Essex/Black/African American",
          "1dea55fda9/Essex/Black/African American",
          "f5006e93b3/Erie/Black/African American",
          "b71970385d/Erie/Black/African American",
          "b71970385d/Oneida/White",
          "40919309ec/Erie/Black/African American",
          "1dea55fda9/Erie/Black/African American",
          "4a16f69dc8/Onondaga/White",
          "9f0f85e8c9/Dutchess/Black/African American",
          "684420899a/Dutchess/Black/African American",
          "4a16f69dc8/Dutchess/Black/African American",
          "684420899a/Ontario/White",
          "f5006e93b3/Delaware/Black/African American",
          "dc874628d5/Delaware/Black/African American",
          "b71970385d/Orange/White",
          "b71970385d/Delaware/Black/African American",
          "684420899a/Delaware/Black/African American",
          "4a16f69dc8/Delaware/Black/African American",
          "dc874628d5/Oswego/White",
          "40919309ec/Delaware/Black/African American",
          "dc874628d5/Otsego/White",
          "f5006e93b3/Otsego/White",
          "293d5bd41f/Putnam/White",
          "b71970385d/Clinton/Black/African American",
          "f5006e93b3/Orange/Black/African American",
          "1dea55fda9//Black/African American",
          "4a16f69dc8/Albany/Multi-racial",
          "1dea55fda9/Rockland/Multi-racial",
          "293d5bd41f/Wayne/Black/African American",
          "293d5bd41f/Lewis/Multi-racial",
          "1dea55fda9/Wayne/Black/African American",
          "f5006e93b3/Warren/Black/African American",
          "40919309ec/Rockland/Multi-racial",
          "40919309ec/Wayne/Black/African American",
          "1dea55fda9/Lewis/Multi-racial",
          "dc874628d5/Warren/Black/African American",
          "9f0f85e8c9/Rockland/Multi-racial",
          "b71970385d/Rockland/Multi-racial",
          "dc874628d5/Rockland/Multi-racial",
          "4a16f69dc8/Chautauqua/Multi-racial",
          "293d5bd41f/Queens/Black/African American",
          "f5006e93b3/Kings/Multi-racial",
          "684420899a/Wayne/Black/African American",
          "9f0f85e8c9/Wayne/Black/African American",
          "b71970385d/Wayne/Black/African American",
          "f5006e93b3/Lewis/Multi-racial",
          "40919309ec/Oswego/Black/African American",
          "dc874628d5/Lewis/Multi-racial",
          "9f0f85e8c9/Westchester/Black/African American",
          "684420899a/Westchester/Black/African American",
          "b71970385d/Lewis/Multi-racial",
          "4a16f69dc8/Westchester/Black/African American",
          "dc874628d5/Saratoga/Black/African American",
          "9f0f85e8c9/Lewis/Multi-racial",
          "684420899a/Lewis/Multi-racial",
          "4a16f69dc8/Lewis/Multi-racial",
          "40919309ec/Lewis/Multi-racial",
          "f5006e93b3/Saratoga/Black/African American",
          "1dea55fda9/Schenectady/Black/African American",
          "293d5bd41f/Schenectady/Black/African American",
          "1dea55fda9/Saratoga/Multi-racial",
          "b71970385d/Westchester/Black/African American",
          "9f0f85e8c9/Warren/Black/African American",
          "9f0f85e8c9/Saratoga/Multi-racial",
          "684420899a/Queens/Black/African American",
          "293d5bd41f/Jefferson/Multi-racial",
          "4a16f69dc8/Ulster/Black/African American",
          "40919309ec/Ulster/Black/African American",
          "9f0f85e8c9/Queens/Black/African American",
          "293d5bd41f/Ulster/Black/African American",
          "4a16f69dc8/Jefferson/Multi-racial",
          "f5006e93b3/Schenectady/Multi-racial",
          "1dea55fda9/Schuyler/Multi-racial",
          "f5006e93b3/Tompkins/Black/African American",
          "dc874628d5/Herkimer/Multi-racial",
          "9f0f85e8c9/Chemung/Multi-racial",
          "9f0f85e8c9/Herkimer/Multi-racial",
          "40919309ec/Herkimer/Multi-racial",
          "1dea55fda9/Ulster/Black/African American",
          "684420899a/Jefferson/Multi-racial",
          "9f0f85e8c9/Ulster/Black/African American",
          "9f0f85e8c9/Jefferson/Multi-racial",
          "4a16f69dc8/Rockland/Black/African American",
          "40919309ec/Queens/Black/African American",
          "f5006e93b3/Chautauqua/Multi-racial",
          "b71970385d/Saratoga/Multi-racial",
          "293d5bd41f/Kings/Multi-racial",
          "40919309ec/Warren/Black/African American",
          "40919309ec/Chemung/Multi-racial",
          "1dea55fda9/Kings/Multi-racial",
          "1dea55fda9/Warren/Black/African American",
          "4a16f69dc8/Chemung/Multi-racial",
          "4a16f69dc8/Queens/Black/African American",
          "f5006e93b3/Ulster/Black/African American",
          "4a16f69dc8/Schenectady/Multi-racial",
          "dc874628d5/Ulster/Black/African American",
          "b71970385d/Ulster/Black/African American",
          "684420899a/Warren/Black/African American",
          "dc874628d5/Westchester/Black/African American",
          "293d5bd41f/Rensselaer/Multi-racial",
          "4a16f69dc8/Cattaraugus/Multi-racial",
          "40919309ec/Albany/Multi-racial",
          "1dea55fda9/Niagara/Multi-racial",
          "dc874628d5/Nassau/Multi-racial",
          "f5006e93b3//Multi-racial",
          "b71970385d/Nassau/Multi-racial",
          "9f0f85e8c9/Nassau/Multi-racial",
          "dc874628d5/Columbia/Multi-racial",
          "40919309ec/Nassau/Multi-racial",
          "f5006e93b3/Montgomery/Multi-racial",
          "dc874628d5/Montgomery/Multi-racial",
          "b71970385d/Montgomery/Multi-racial",
          "9f0f85e8c9/Montgomery/Multi-racial",
          "9f0f85e8c9/Bronx/Multi-racial",
          "4a16f69dc8/Montgomery/Multi-racial",
          "293d5bd41f/Nassau/Multi-racial",
          "684420899a/Albany/Multi-racial",
          "40919309ec/Niagara/Multi-racial",
          "dc874628d5/Ontario/Multi-racial",
          "293d5bd41f/Allegany/Multi-racial",
          "dc874628d5/Oneida/Multi-racial",
          "f5006e93b3/Oneida/Multi-racial",
          "1dea55fda9/Onondaga/Multi-racial",
          "293d5bd41f/Onondaga/Multi-racial",
          "40919309ec/Onondaga/Multi-racial",
          "4a16f69dc8/Onondaga/Multi-racial",
          "9f0f85e8c9/Onondaga/Multi-racial",
          "f5006e93b3/Onondaga/Multi-racial",
          "9f0f85e8c9/Otsego/Black/African American",
          "f5006e93b3/Niagara/Multi-racial",
          "293d5bd41f/Ontario/Multi-racial",
          "f5006e93b3/Albany/Multi-racial",
          "9f0f85e8c9/Niagara/Multi-racial",
          "dc874628d5/Otsego/Black/African American",
          "40919309ec/Montgomery/Multi-racial",
          "4a16f69dc8/Orleans/Multi-racial",
          "9f0f85e8c9/Orleans/Multi-racial",
          "f5006e93b3/Monroe/Multi-racial",
          "684420899a/Broome/Multi-racial",
          "f5006e93b3/Madison/Multi-racial",
          "9f0f85e8c9/Wyoming/Black/African American",
          "b71970385d/Madison/Multi-racial",
          "684420899a/Wyoming/Black/African American",
          "1dea55fda9/Queens/Multi-racial",
          "4a16f69dc8/Wyoming/Black/African American",
          "40919309ec/Wyoming/Black/African American",
          "40919309ec/Madison/Multi-racial",
          "4a16f69dc8/Queens/Multi-racial",
          "293d5bd41f/Wyoming/Black/African American",
          "b71970385d/Saratoga/Black/African American",
          "f5006e93b3/Westchester/Black/African American",
          "1dea55fda9/Madison/Multi-racial",
          "f5006e93b3/Putnam/Black/African American",
          "b71970385d/Wyoming/Black/African American",
          "b71970385d/Schuyler/Multi-racial",
          "40919309ec/Broome/Multi-racial",
          "40919309ec/Manhattan/Multi-racial",
          "40919309ec/Putnam/Black/African American",
          "f5006e93b3/Yates/Black/African American",
          "4a16f69dc8/Oswego/Multi-racial",
          "b71970385d/Bronx/Multi-racial",
          "684420899a/Monroe/Multi-racial",
          "4a16f69dc8/Monroe/Multi-racial",
          "40919309ec/Monroe/Multi-racial",
          "1dea55fda9/Monroe/Multi-racial",
          "f5006e93b3/Oswego/Multi-racial",
          "40919309ec/Otsego/Multi-racial",
          "9f0f85e8c9/Manhattan/Multi-racial",
          "4a16f69dc8/Otsego/Multi-racial",
          "f5006e93b3/Wyoming/Black/African American",
          "684420899a/Manhattan/Multi-racial",
          "9f0f85e8c9/Otsego/Multi-racial",
          "1dea55fda9/Putnam/Multi-racial",
          "dc874628d5/Chemung/Multi-racial",
          "9f0f85e8c9/Oneida/Multi-racial",
          "4a16f69dc8/Sullivan/Black/African American",
          "684420899a/Richmond/Black/African American",
          "4a16f69dc8/Rensselaer/Black/African American",
          "293d5bd41f/Dutchess/Multi-racial",
          "4a16f69dc8/Franklin/Multi-racial",
          "1dea55fda9/Orleans/Black/African American",
          "dc874628d5/Sullivan/Black/African American",
          "b71970385d/Cortland/Multi-racial",
          "684420899a/Suffolk/Black/African American",
          "dc874628d5/Chenango/Multi-racial",
          "dc874628d5/Erie/Multi-racial",
          "4a16f69dc8/Steuben/Black/African American",
          "684420899a/Steuben/Black/African American",
          "293d5bd41f/Steuben/Multi-racial",
          "dc874628d5/Schenectady/Black/African American",
          "9f0f85e8c9/Clinton/Multi-racial",
          "dc874628d5/St Lawrence/Multi-racial",
          "9f0f85e8c9/Erie/Multi-racial",
          "4a16f69dc8/Suffolk/Black/African American",
          "293d5bd41f/Orleans/Black/African American",
          "dc874628d5/Clinton/Multi-racial",
          "9f0f85e8c9/Rensselaer/Black/African American",
          "b71970385d/St Lawrence/Multi-racial",
          "b71970385d/Chenango/Multi-racial",
          "9f0f85e8c9/Cortland/Multi-racial",
          "f5006e93b3/Chenango/Multi-racial",
          "4a16f69dc8/Richmond/Black/African American",
          "dc874628d5/Delaware/Multi-racial",
          "293d5bd41f/Richmond/Black/African American",
          "684420899a/Clinton/Multi-racial",
          "293d5bd41f/Columbia/Multi-racial",
          "40919309ec/Richmond/Black/African American",
          "4a16f69dc8/Essex/Multi-racial",
          "1dea55fda9/Columbia/Multi-racial",
          "40919309ec/Rensselaer/Black/African American",
          "1dea55fda9/Sullivan/Black/African American",
          "293d5bd41f/Sullivan/Black/African American",
          "b71970385d/Clinton/Multi-racial",
          "4a16f69dc8/Clinton/Multi-racial",
          "684420899a/Essex/Multi-racial",
          "f5006e93b3/St Lawrence/Black/African American",
          "b71970385d/Warren/Multi-racial",
          "40919309ec/Columbia/Multi-racial",
          "4a16f69dc8/Columbia/Multi-racial",
          "293d5bd41f/Clinton/Multi-racial",
          "9f0f85e8c9/Suffolk/Black/African American",
          "684420899a/Sullivan/Black/African American",
          "9f0f85e8c9/Sullivan/Black/African American",
          "40919309ec/Steuben/Black/African American",
          "40919309ec/Sullivan/Black/African American",
          "f5006e93b3/Clinton/Multi-racial",
          "40919309ec/Orleans/Black/African American",
          "293d5bd41f/Suffolk/Black/African American",
          "293d5bd41f/Genesee/Multi-racial",
          "293d5bd41f/St Lawrence/Multi-racial",
          "1dea55fda9/Cortland/Multi-racial",
          "b71970385d/Dutchess/Multi-racial",
          "293d5bd41f/Cortland/Multi-racial",
          "1dea55fda9/St Lawrence/Multi-racial",
          "9f0f85e8c9/Fulton/Multi-racial",
          "40919309ec/Suffolk/Black/African American",
          "f5006e93b3/Rensselaer/Black/African American",
          "dc874628d5/Fulton/Multi-racial",
          "f5006e93b3/Schuyler/Black/African American",
          "1dea55fda9/Rensselaer/Black/African American",
          "4a16f69dc8/Chenango/Multi-racial",
          "9f0f85e8c9/Schenectady/Black/African American",
          "dc874628d5/Schuyler/Black/African American",
          "dc874628d5/Queens/Black/African American",
          "684420899a/Columbia/Multi-racial",
          "684420899a/Fulton/Multi-racial",
          "293d5bd41f/Erie/Multi-racial",
          "293d5bd41f/Chenango/Multi-racial",
          "b71970385d/Queens/Black/African American",
          "684420899a/Schuyler/Black/African American",
          "b71970385d/Richmond/Black/African American",
          "9f0f85e8c9/Columbia/Multi-racial",
          "40919309ec/Erie/Multi-racial",
          "b71970385d/Steuben/Black/African American",
          "4a16f69dc8/Cortland/Multi-racial",
          "1dea55fda9/Richmond/Black/African American",
          "4a16f69dc8/Tompkins/Multi-racial",
          "293d5bd41f/Rensselaer/Black/African American",
          "b71970385d/Schenectady/Black/African American",
          "4a16f69dc8/Fulton/Multi-racial",
          "4a16f69dc8/Tompkins/Black/African American",
          "f5006e93b3/Franklin/Multi-racial",
          "684420899a/Yates/White",
          "1dea55fda9/Yates/White",
          "b71970385d/Yates/White",
          "9f0f85e8c9/Allegany",
          "40919309ec/Allegany",
          "4a16f69dc8/Allegany",
          "293d5bd41f/Yates/White",
          "9f0f85e8c9/Yates/White",
          "684420899a/Allegany",
          "40919309ec/Yates/White",
          "4a16f69dc8/Yates/White",
          "dc874628d5/Yates/White",
          "4a16f69dc8/",
          "f5006e93b3/Albany",
          "293d5bd41f/Allegany",
          "f5006e93b3/Bronx/Multi-racial",
          "684420899a/",
          "4a16f69dc8/Otsego/White",
          "9f0f85e8c9/",
          "b71970385d/",
          "dc874628d5/",
          "f5006e93b3/",
          "1dea55fda9/Albany",
          "293d5bd41f/",
          "293d5bd41f/Otsego/White",
          "293d5bd41f/Albany",
          "4a16f69dc8/Albany",
          "684420899a/Albany",
          "1dea55fda9/",
          "9f0f85e8c9/Albany",
          "b71970385d/Albany",
          "40919309ec/Otsego/White",
          "dc874628d5/Bronx/Multi-racial",
          "f5006e93b3/Yates/White",
          "293d5bd41f/Delaware/Black/African American",
          "40919309ec/Albany",
          "b71970385d/Allegany",
          "1dea55fda9/Saratoga/White",
          "f5006e93b3/Allegany",
          "dc874628d5/Cattaraugus",
          "f5006e93b3/Allegany/Multi-racial",
          "1dea55fda9/Cayuga",
          "dc874628d5/Allegany/Multi-racial",
          "40919309ec/Cayuga",
          "b71970385d/Allegany/Multi-racial",
          "684420899a/Cayuga",
          "9f0f85e8c9/Cayuga",
          "b71970385d/Cayuga",
          "4a16f69dc8/Orleans/White",
          "dc874628d5/Cayuga",
          "f5006e93b3/Cayuga",
          "1dea55fda9/Chautauqua",
          "293d5bd41f/Chautauqua",
          "40919309ec/Chautauqua",
          "40919309ec/Orleans/White",
          "293d5bd41f/Saratoga/Black/African American",
          "684420899a/Chemung",
          "4a16f69dc8/Chemung",
          "9f0f85e8c9/Orange/White",
          "dc874628d5/Orange/White",
          "f5006e93b3/Orange/White",
          "1dea55fda9/Orleans/White",
          "9f0f85e8c9/Delaware/Black/African American",
          "4a16f69dc8/Allegany/Multi-racial",
          "1dea55fda9/Chemung",
          "f5006e93b3/Chautauqua",
          "dc874628d5/Chautauqua",
          "b71970385d/Chautauqua",
          "9f0f85e8c9/Chautauqua",
          "684420899a/Allegany/Multi-racial",
          "f5006e93b3/Cayuga/Black/African American",
          "4a16f69dc8/Chautauqua/Black/African American",
          "9f0f85e8c9/Cattaraugus",
          "9f0f85e8c9/Orleans/White",
          "1dea55fda9/Oswego/White",
          "293d5bd41f/Oswego/White",
          "dc874628d5/Bronx",
          "b71970385d/Bronx",
          "40919309ec/Oswego/White",
          "f5006e93b3/Wyoming/White",
          "f5006e93b3/Orleans/White",
          "9f0f85e8c9/Bronx",
          "684420899a/Bronx",
          "b71970385d/Oswego/White",
          "40919309ec/Bronx",
          "293d5bd41f/Bronx",
          "1dea55fda9/Bronx",
          "f5006e93b3/Oswego/White",
          "4a16f69dc8/Oswego/White",
          "dc874628d5/Chautauqua/Black/African American",
          "684420899a/Bronx/Multi-racial",
          "b71970385d/Chautauqua/Black/African American",
          "684420899a/Cattaraugus",
          "4a16f69dc8/Cattaraugus",
          "40919309ec/Cattaraugus",
          "1dea55fda9/Bronx/Multi-racial",
          "1dea55fda9/Cattaraugus",
          "293d5bd41f/Bronx/Multi-racial",
          "1dea55fda9/Broome",
          "40919309ec/Bronx/Multi-racial",
          "4a16f69dc8/Bronx/Multi-racial",
          "684420899a/Broome",
          "4a16f69dc8/Broome",
          "b71970385d/Orleans/White",
          "40919309ec/Broome",
          "dc874628d5/Orleans/White",
          "b71970385d/Broome",
          "1dea55fda9/Broome/Multi-racial",
          "40919309ec/Wayne/White",
          "1dea55fda9/Saratoga/Black/African American",
          "9f0f85e8c9/Cortland/Black/African American",
          "684420899a/St Lawrence/White",
          "4a16f69dc8/Richmond/White",
          "293d5bd41f/Chemung/Multi-racial",
          "1dea55fda9/Chemung/Multi-racial",
          "dc874628d5/St Lawrence/White",
          "293d5bd41f/Rockland/Black/African American",
          "1dea55fda9/Steuben/White",
          "293d5bd41f/Richmond/White",
          "1dea55fda9/Richmond/White",
          "f5006e93b3/Rensselaer/White",
          "684420899a/Rockland/Black/African American",
          "9f0f85e8c9/Chautauqua/Multi-racial",
          "684420899a/Steuben/White",
          "dc874628d5/Columbia/Black/African American",
          "9f0f85e8c9/Rockland/Black/African American",
          "9f0f85e8c9/Rensselaer/White",
          "293d5bd41f/Columbia/Black/African American",
          "dc874628d5/Queens/White",
          "f5006e93b3/Queens/White",
          "b71970385d/Cayuga/Multi-racial",
          "f5006e93b3/Cayuga/Multi-racial",
          "1dea55fda9/Chautauqua/Multi-racial",
          "40919309ec/St Lawrence/White",
          "1dea55fda9/Rensselaer/White",
          "293d5bd41f/Suffolk/White",
          "293d5bd41f/Chautauqua/Multi-racial",
          "b71970385d/Rockland/Black/African American",
          "40919309ec/Rensselaer/White",
          "4a16f69dc8/Rensselaer/White",
          "684420899a/Rensselaer/White",
          "293d5bd41f/Rensselaer/White",
          "293d5bd41f/St Lawrence/White",
          "1dea55fda9/St Lawrence/White",
          "40919309ec/Rockland/Black/African American",
          "684420899a/Schenectady/White",
          "4a16f69dc8/Schenectady/White",
          "40919309ec/Schenectady/White",
          "293d5bd41f/Schenectady/White",
          "1dea55fda9/Schenectady/White",
          "684420899a/Chemung/Multi-racial",
          "684420899a/Rockland/White",
          "40919309ec/Cortland/Black/African American",
          "b71970385d/Saratoga/White",
          "b71970385d/Rockland/White",
          "1dea55fda9/Chenango/Multi-racial",
          "f5006e93b3/Rockland/White",
          "b71970385d/Chemung/Multi-racial",
          "4a16f69dc8/Saratoga/White",
          "dc874628d5/Saratoga/White",
          "9f0f85e8c9/Cayuga/Multi-racial",
          "1dea55fda9/Cortland/Black/African American",
          "b71970385d/Schenectady/White",
          "f5006e93b3/Schuyler/White",
          "dc874628d5/Schuyler/White",
          "b71970385d/Schuyler/White",
          "9f0f85e8c9/Schuyler/White",
          "4a16f69dc8/Schuyler/White",
          "b71970385d/Richmond/White",
          "40919309ec/Chenango/Multi-racial",
          "dc874628d5/Richmond/White",
          "40919309ec/Schuyler/White",
          "293d5bd41f/Schuyler/White",
          "1dea55fda9/Schuyler/White",
          "f5006e93b3/Schenectady/White",
          "1dea55fda9/Rockland/White",
          "dc874628d5/Schenectady/White",
          "f5006e93b3/Richmond/White",
          "b71970385d/Wyoming/White",
          "9f0f85e8c9/Queens/White",
          "1dea55fda9/Rockland/Black/African American",
          "40919309ec/Warren/White",
          "1dea55fda9/Cattaraugus/Multi-racial",
          "684420899a/Warren/White",
          "9f0f85e8c9/Warren/White",
          "f5006e93b3/Broome/Multi-racial",
          "1dea55fda9/Putnam/White",
          "dc874628d5/Warren/White",
          "f5006e93b3/Warren/White",
          "1dea55fda9/Wayne/White",
          "dc874628d5/Broome/Multi-racial",
          "f5006e93b3/Chemung/Multi-racial",
          "4a16f69dc8/Wayne/White",
          "684420899a/Wayne/White",
          "b71970385d/Broome/Multi-racial",
          "9f0f85e8c9/Broome/Multi-racial",
          "dc874628d5/Wayne/White",
          "40919309ec/Chemung/Black/African American",
          "9f0f85e8c9/Otsego/White",
          "4a16f69dc8/Wyoming/White",
          "40919309ec/Wyoming/White",
          "293d5bd41f/Wyoming/White",
          "1dea55fda9/Wyoming/White",
          "f5006e93b3/Westchester/White",
          "293d5bd41f/Warren/White",
          "b71970385d/Otsego/White",
          "b71970385d/Westchester/White",
          "9f0f85e8c9/Westchester/White",
          "4a16f69dc8/Broome/Multi-racial",
          "40919309ec/Westchester/White",
          "293d5bd41f/Chemung/Black/African American",
          "1dea55fda9/Westchester/White",
          "dc874628d5/Westchester/White",
          "1dea55fda9/Warren/White",
          "f5006e93b3/Ulster/White",
          "dc874628d5/Ulster/White",
          "dc874628d5/Cattaraugus/Multi-racial",
          "4a16f69dc8/Clinton/Black/African American",
          "dc874628d5/Cortland/Black/African American",
          "f5006e93b3/Cattaraugus/Multi-racial",
          "b71970385d/Putnam/White",
          "1dea55fda9/Cayuga/Multi-racial",
          "293d5bd41f/Clinton/Black/African American",
          "293d5bd41f/Cayuga/Multi-racial",
          "f5006e93b3/Putnam/White",
          "1dea55fda9/Queens/White",
          "40919309ec/Cayuga/Multi-racial",
          "4a16f69dc8/Cayuga/Multi-racial",
          "40919309ec/Clinton/Multi-racial",
          "4a16f69dc8/Queens/White",
          "293d5bd41f/Sullivan/White",
          "9f0f85e8c9/Chemung",
          "b71970385d/Cattaraugus/Multi-racial",
          "9f0f85e8c9/Cattaraugus/Multi-racial",
          "b71970385d/Ulster/White",
          "9f0f85e8c9/Ulster/White",
          "684420899a/Ulster/White",
          "293d5bd41f/Cattaraugus/Multi-racial",
          "f5006e93b3/Rockland/Black/African American",
          "f5006e93b3/Chemung/Black/African American",
          "f5006e93b3/Chenango/Black/African American",
          "40919309ec/Putnam/White",
          "293d5bd41f/Chenango/Black/African American",
          "40919309ec/Chenango/Black/African American",
          "684420899a/Cattaraugus/Multi-racial",
          "684420899a/Chenango/Black/African American",
          "9f0f85e8c9/Chenango/Black/African American",
          "b71970385d/Chenango/Black/African American",
          "1dea55fda9/Chenango/Black/African American",
          "684420899a/Cayuga/Multi-racial",
          "dc874628d5/Warren/Multi-racial",
          "40919309ec/Allegany/Multi-racial",
          "b71970385d/Tompkins/Black/African American",
          "f5006e93b3/Richmond",
          "dc874628d5/Tompkins/Black/African American",
          "b71970385d/Richmond",
          "9f0f85e8c9/Richmond",
          "684420899a/Richmond",
          "b71970385d/Albany/Black/African American",
          "293d5bd41f/Richmond",
          "1dea55fda9/Richmond",
          "f5006e93b3/Rensselaer",
          "dc874628d5/Rensselaer",
          "b71970385d/Rensselaer",
          "4a16f69dc8/Rensselaer",
          "40919309ec/Rensselaer",
          "293d5bd41f/Rensselaer",
          "dc874628d5/Queens",
          "684420899a/Ulster/Black/African American",
          "9f0f85e8c9/Queens",
          "684420899a/Queens",
          "293d5bd41f/Rockland",
          "4a16f69dc8/Queens",
          "40919309ec/Rockland",
          "684420899a/Rockland",
          "9f0f85e8c9/Schenectady",
          "684420899a/Schenectady",
          "9f0f85e8c9/Albany/Black/African American",
          "40919309ec/Schenectady",
          "9f0f85e8c9/Tompkins/Black/African American",
          "1dea55fda9/Schenectady",
          "f5006e93b3/Saratoga",
          "dc874628d5/Saratoga",
          "b71970385d/Saratoga",
          "9f0f85e8c9/Saratoga",
          "684420899a/Saratoga",
          "4a16f69dc8/Saratoga",
          "40919309ec/Saratoga",
          "293d5bd41f/Saratoga",
          "1dea55fda9/Saratoga",
          "f5006e93b3/Rockland",
          "dc874628d5/Rockland",
          "b71970385d/Rockland",
          "9f0f85e8c9/Rockland",
          "4a16f69dc8/Rockland",
          "40919309ec/Queens",
          "293d5bd41f/Queens",
          "f5006e93b3/Putnam",
          "684420899a/Orleans",
          "40919309ec/Orleans",
          "293d5bd41f/Orleans",
          "1dea55fda9/Orleans",
          "f5006e93b3/Orange",
          "b71970385d/Warren/Black/African American",
          "b71970385d/Orange",
          "9f0f85e8c9/Orange",
          "684420899a/Orange",
          "40919309ec/Orange",
          "293d5bd41f/Orange",
          "1dea55fda9/Orange",
          "f5006e93b3/Ontario",
          "dc874628d5/Ontario",
          "9f0f85e8c9/Ontario",
          "684420899a/Ontario",
          "40919309ec/Ontario",
          "293d5bd41f/Ontario",
          "f5006e93b3/Wayne/Black/African American",
          "b71970385d/Orleans",
          "dc874628d5/Orleans",
          "f5006e93b3/Orleans",
          "1dea55fda9/Oswego",
          "dc874628d5/Putnam",
          "b71970385d/Putnam",
          "40919309ec/Putnam",
          "293d5bd41f/Putnam",
          "1dea55fda9/Putnam",
          "dc874628d5/Otsego",
          "b71970385d/Otsego",
          "9f0f85e8c9/Otsego",
          "684420899a/Otsego",
          "b71970385d/Schenectady",
          "4a16f69dc8/Otsego",
          "293d5bd41f/Otsego",
          "1dea55fda9/Otsego",
          "f5006e93b3/Oswego",
          "b71970385d/Oswego",
          "40919309ec/Allegany/Black/African American",
          "684420899a/Oswego",
          "4a16f69dc8/Oswego",
          "40919309ec/Oswego",
          "4a16f69dc8/Warren/Black/African American",
          "293d5bd41f/Allegany/Black/African American",
          "684420899a/Albany/Black/African American",
          "684420899a/Tompkins/Black/African American",
          "293d5bd41f/Schuyler",
          "b71970385d/St Lawrence/Black/African American",
          "dc874628d5/St Lawrence/Black/African American",
          "684420899a/Westchester",
          "40919309ec/Westchester",
          "1dea55fda9/Steuben/Black/African American",
          "293d5bd41f/Steuben/Black/African American",
          "f5006e93b3/Wayne",
          "dc874628d5/Wayne",
          "b71970385d/Wayne",
          "9f0f85e8c9/Wayne",
          "684420899a/Wayne",
          "293d5bd41f/Wayne",
          "1dea55fda9/Wayne",
          "b71970385d/Warren",
          "684420899a/Warren",
          "40919309ec/Warren",
          "293d5bd41f/Warren",
          "1dea55fda9/Warren",
          "f5006e93b3/Steuben/Black/African American",
          "dc874628d5/Westchester",
          "f5006e93b3/Westchester",
          "f5006e93b3/Schenectady/Black/African American",
          "293d5bd41f/Wyoming",
          "9f0f85e8c9",
          "9f0f85e8c9/Schuyler/Black/African American",
          "4a16f69dc8",
          "40919309ec",
          "293d5bd41f",
          "1dea55fda9",
          "f5006e93b3/Yates",
          "b71970385d/Schuyler/Black/African American",
          "1dea55fda9/St Lawrence/Black/African American",
          "dc874628d5/Ulster",
          "4a16f69dc8/Yates",
          "293d5bd41f/St Lawrence/Black/African American",
          "40919309ec/St Lawrence/Black/African American",
          "f5006e93b3/Wyoming",
          "4a16f69dc8/St Lawrence/Black/African American",
          "b71970385d/Wyoming",
          "9f0f85e8c9/Wyoming",
          "684420899a/Wyoming",
          "4a16f69dc8/Wyoming",
          "40919309ec/Wyoming",
          "40919309ec/Yates",
          "293d5bd41f/Bronx/Black/African American",
          "684420899a/Ulster",
          "293d5bd41f/Ulster",
          "4a16f69dc8/Steuben",
          "40919309ec/Steuben",
          "684420899a/Schenectady/Black/African American",
          "1dea55fda9/Steuben",
          "f5006e93b3/St Lawrence",
          "dc874628d5/St Lawrence",
          "9f0f85e8c9/St Lawrence",
          "684420899a/St Lawrence",
          "4a16f69dc8/St Lawrence",
          "f5006e93b3/Sullivan/Black/African American",
          "293d5bd41f/St Lawrence",
          "1dea55fda9/St Lawrence",
          "f5006e93b3/Schuyler",
          "dc874628d5/Schuyler",
          "1dea55fda9/Tompkins/Black/African American",
          "293d5bd41f/Tompkins/Black/African American",
          "684420899a/Schuyler",
          "4a16f69dc8/Schuyler",
          "40919309ec/Tompkins/Black/African American",
          "684420899a/Steuben",
          "9f0f85e8c9/Steuben",
          "1dea55fda9/Suffolk",
          "293d5bd41f/Suffolk",
          "1dea55fda9/Ulster",
          "f5006e93b3/Tompkins",
          "b71970385d/Tompkins",
          "9f0f85e8c9/Tompkins",
          "684420899a/Tompkins",
          "40919309ec/Tompkins",
          "293d5bd41f/Tompkins",
          "1dea55fda9/Tompkins",
          "dc874628d5/Sullivan",
          "4a16f69dc8/Ulster",
          "b71970385d/Sullivan",
          "dc874628d5/Suffolk/Black/African American",
          "f5006e93b3/Suffolk/Black/African American",
          "40919309ec/Sullivan",
          "f5006e93b3/Suffolk",
          "b71970385d/Suffolk",
          "9f0f85e8c9/Suffolk",
          "684420899a/Suffolk",
          "4a16f69dc8/Suffolk",
          "40919309ec/Suffolk",
          "b71970385d/Suffolk/Black/African American",
          "b71970385d/Chemung",
          "f5006e93b3/Oneida",
          "b71970385d/Oneida",
          "dc874628d5/Essex",
          "b71970385d/Essex",
          "9f0f85e8c9/Essex",
          "40919309ec//Multi-racial",
          "4a16f69dc8//Multi-racial",
          "40919309ec/Essex",
          "684420899a//Multi-racial",
          "b71970385d/Cattaraugus/Black/African American",
          "dc874628d5/Cattaraugus/Black/African American",
          "4a16f69dc8/Saratoga/Black/African American",
          "b71970385d/Erie",
          "9f0f85e8c9/Erie",
          "b71970385d//Multi-racial",
          "40919309ec/Saratoga/Black/African American",
          "40919309ec/Erie",
          "293d5bd41f/Erie",
          "1dea55fda9/Erie",
          "dc874628d5/Dutchess",
          "1dea55fda9/Albany/Multi-racial",
          "f5006e93b3/Essex",
          "9f0f85e8c9/Dutchess",
          "1dea55fda9/Franklin",
          "40919309ec/Franklin",
          "684420899a/Genesee",
          "4a16f69dc8/Yates/Black/African American",
          "40919309ec/Genesee",
          "f5006e93b3/Broome/Black/African American",
          "1dea55fda9/Genesee",
          "684420899a/Yates/Black/African American",
          "dc874628d5/Fulton",
          "b71970385d/Fulton",
          "9f0f85e8c9/Fulton",
          "9f0f85e8c9/Yates/Black/African American",
          "684420899a/Saratoga/Black/African American",
          "dc874628d5/Yates/Black/African American",
          "293d5bd41f/Fulton",
          "f5006e93b3/Franklin",
          "1dea55fda9//Multi-racial",
          "b71970385d/Franklin",
          "293d5bd41f//Multi-racial",
          "684420899a/Franklin",
          "4a16f69dc8/Franklin",
          "293d5bd41f/Franklin",
          "293d5bd41f/Albany/Multi-racial",
          "4a16f69dc8/Dutchess",
          "40919309ec/Dutchess",
          "293d5bd41f/Columbia",
          "1dea55fda9/Columbia",
          "f5006e93b3/Clinton",
          "dc874628d5/Clinton",
          "1dea55fda9/Allegany/Multi-racial",
          "684420899a/Clinton",
          "4a16f69dc8/Clinton",
          "40919309ec/Clinton",
          "293d5bd41f/Clinton",
          "1dea55fda9/Clinton",
          "f5006e93b3/Chenango",
          "dc874628d5/Chenango",
          "b71970385d/Chenango",
          "9f0f85e8c9/Chenango",
          "684420899a/Chenango",
          "4a16f69dc8/Chenango",
          "40919309ec/Chenango",
          "293d5bd41f/Chenango",
          "1dea55fda9/Chenango",
          "dc874628d5/Albany/Multi-racial",
          "b71970385d/Albany/Multi-racial",
          "684420899a/Columbia",
          "9f0f85e8c9/Columbia",
          "1dea55fda9/Dutchess",
          "f5006e93b3/Delaware",
          "b71970385d/Delaware",
          "9f0f85e8c9/Delaware",
          "684420899a/Delaware",
          "4a16f69dc8/Delaware",
          "40919309ec/Delaware",
          "293d5bd41f/Delaware",
          "1dea55fda9/Delaware",
          "9f0f85e8c9/Genesee",
          "f5006e93b3/Cortland",
          "9f0f85e8c9/Cortland",
          "684420899a/Cortland",
          "4a16f69dc8/Cortland",
          "40919309ec/Cortland",
          "293d5bd41f/Cortland",
          "1dea55fda9/Cortland",
          "f5006e93b3/Columbia",
          "dc874628d5/Columbia",
          "9f0f85e8c9/Albany/Multi-racial",
          "dc874628d5/Cortland",
          "b71970385d/Genesee",
          "dc874628d5/Genesee",
          "40919309ec/Yates/Black/African American",
          "40919309ec/Montgomery",
          "293d5bd41f/Montgomery",
          "1dea55fda9/Montgomery",
          "f5006e93b3/Monroe",
          "dc874628d5/Monroe",
          "b71970385d/Monroe",
          "9f0f85e8c9/Monroe",
          "684420899a/Monroe",
          "4a16f69dc8/Monroe",
          "40919309ec/Monroe",
          "293d5bd41f/Monroe",
          "1dea55fda9/Monroe",
          "f5006e93b3/Manhattan",
          "dc874628d5/Manhattan",
          "b71970385d/Manhattan",
          "684420899a/Manhattan",
          "4a16f69dc8/Manhattan",
          "40919309ec/Manhattan",
          "b71970385d/Bronx/Black/African American",
          "4a16f69dc8/Montgomery",
          "684420899a/Montgomery",
          "9f0f85e8c9/Montgomery",
          "dc874628d5/Montgomery",
          "9f0f85e8c9/Oneida",
          "684420899a/Oneida",
          "40919309ec/Oneida",
          "1dea55fda9/Oneida",
          "f5006e93b3/Niagara",
          "b71970385d/Niagara",
          "684420899a/Niagara",
          "4a16f69dc8/Niagara",
          "40919309ec/Niagara",
          "dc874628d5/Bronx/Black/African American",
          "293d5bd41f/Niagara",
          "f5006e93b3/Nassau",
          "dc874628d5/Nassau",
          "b71970385d/Nassau",
          "9f0f85e8c9/Nassau",
          "684420899a/Nassau",
          "4a16f69dc8/Nassau",
          "40919309ec/Nassau",
          "293d5bd41f/Nassau",
          "1dea55fda9/Nassau",
          "1dea55fda9/Niagara",
          "dc874628d5/Oneida",
          "4a16f69dc8/Madison",
          "293d5bd41f/Madison",
          "293d5bd41f/Kings",
          "1dea55fda9/Kings",
          "f5006e93b3/Jefferson",
          "40919309ec/Broome/Black/African American",
          "b71970385d/Jefferson",
          "9f0f85e8c9/Jefferson",
          "684420899a/Jefferson",
          "4a16f69dc8/Jefferson",
          "40919309ec/Jefferson",
          "293d5bd41f/Jefferson",
          "9f0f85e8c9/Saratoga/Black/African American",
          "f5006e93b3/Herkimer",
          "dc874628d5/Herkimer",
          "1dea55fda9/Yates/Black/African American",
          "9f0f85e8c9/Broome/Black/African American",
          "293d5bd41f/Yates/Black/African American",
          "dc874628d5/Broome/Black/African American",
          "293d5bd41f/Herkimer",
          "1dea55fda9/Herkimer",
          "40919309ec/Kings",
          "4a16f69dc8/Kings",
          "684420899a/Kings",
          "9f0f85e8c9/Kings",
          "1dea55fda9/Madison",
          "f5006e93b3/Livingston",
          "dc874628d5/Livingston",
          "b71970385d/Livingston",
          "9f0f85e8c9/Livingston",
          "1dea55fda9/Broome/Black/African American",
          "40919309ec/Livingston",
          "293d5bd41f/Livingston",
          "1dea55fda9/Livingston",
          "40919309ec/Madison",
          "f5006e93b3/Lewis",
          "b71970385d/Lewis",
          "9f0f85e8c9/Lewis",
          "684420899a/Lewis",
          "40919309ec/Lewis",
          "293d5bd41f/Lewis",
          "1dea55fda9/Lewis",
          "f5006e93b3/Kings",
          "dc874628d5/Kings",
          "b71970385d/Kings",
          "dc874628d5/Lewis",
          "dc874628d5/Richmond/Black/African American",
          "9f0f85e8c9/Essex/Multi-racial",
          "293d5bd41f/Orange/White",
          "4a16f69dc8/Madison/Other Race",
          "dc874628d5/Rensselaer/Multi-racial",
          "293d5bd41f/Madison/Other Race",
          "1dea55fda9/Madison/Other Race",
          "f5006e93b3/Rensselaer/Multi-racial",
          "dc874628d5/Livingston/Other Race",
          "293d5bd41f/Oswego/Black/African American",
          "293d5bd41f/Richmond/Multi-racial",
          "684420899a/Madison/Other Race",
          "40919309ec/Richmond/Multi-racial",
          "1dea55fda9/Oswego/Black/African American",
          "293d5bd41f/Livingston/Other Race",
          "f5006e93b3/Orleans/Black/African American",
          "f5006e93b3/Lewis/Other Race",
          "dc874628d5/Lewis/Other Race",
          "b71970385d/Lewis/Other Race",
          "9f0f85e8c9/Richmond/Multi-racial",
          "dc874628d5/Richmond/Multi-racial",
          "b71970385d/Niagara/Black/African American",
          "9f0f85e8c9/Niagara/Black/African American",
          "b71970385d/Madison/Other Race",
          "dc874628d5/Madison/Other Race",
          "293d5bd41f/Montgomery/Other Race",
          "1dea55fda9/Montgomery/Other Race",
          "f5006e93b3/Queens/Multi-racial",
          "dc874628d5/Monroe/Other Race",
          "1dea55fda9/Rensselaer/Multi-racial",
          "9f0f85e8c9/Monroe/Other Race",
          "40919309ec/Rensselaer/Multi-racial",
          "40919309ec/Monroe/Other Race",
          "293d5bd41f/Monroe/Other Race",
          "1dea55fda9/Monroe/Other Race",
          "f5006e93b3/Manhattan/Other Race",
          "4a16f69dc8/Rensselaer/Multi-racial",
          "b71970385d/Manhattan/Other Race",
          "9f0f85e8c9/Manhattan/Other Race",
          "684420899a/Manhattan/Other Race",
          "4a16f69dc8/Manhattan/Other Race",
          "40919309ec/Manhattan/Other Race",
          "684420899a/Rensselaer/Multi-racial",
          "9f0f85e8c9/Rensselaer/Multi-racial",
          "dc874628d5/Niagara/Black/African American",
          "40919309ec/Montgomery/Other Race",
          "40919309ec/Lewis/Other Race",
          "1dea55fda9/Lewis/Other Race",
          "9f0f85e8c9/Oneida/Black/African American",
          "9f0f85e8c9/Genesee/Other Race",
          "b71970385d/Oneida/Black/African American",
          "dc874628d5/Oneida/Black/African American",
          "293d5bd41f/Genesee/Other Race",
          "1dea55fda9/Genesee/Other Race",
          "dc874628d5/Fulton/Other Race",
          "b71970385d/Fulton/Other Race",
          "684420899a/Saratoga/Multi-racial",
          "9f0f85e8c9/Fulton/Other Race",
          "4a16f69dc8/Fulton/Other Race",
          "40919309ec/Fulton/Other Race",
          "293d5bd41f/Fulton/Other Race",
          "dc874628d5/Saratoga/Multi-racial",
          "f5006e93b3/Franklin/Other Race",
          "dc874628d5/Franklin/Other Race",
          "b71970385d/Franklin/Other Race",
          "9f0f85e8c9/Franklin/Other Race",
          "684420899a/Fulton/Other Race",
          "4a16f69dc8/Saratoga/Multi-racial",
          "40919309ec/Saratoga/Multi-racial",
          "684420899a/Oneida/Black/African American",
          "dc874628d5/Kings/Other Race",
          "f5006e93b3/Niagara/Black/African American",
          "293d5bd41f/Rockland/Multi-racial",
          "684420899a/Kings/Other Race",
          "4a16f69dc8/Kings/Other Race",
          "40919309ec/Kings/Other Race",
          "293d5bd41f/Oneida/Black/African American",
          "f5006e93b3/Jefferson/Other Race",
          "4a16f69dc8/Rockland/Multi-racial",
          "b71970385d/Jefferson/Other Race",
          "9f0f85e8c9/Jefferson/Other Race",
          "684420899a/Jefferson/Other Race",
          "4a16f69dc8/Jefferson/Other Race",
          "40919309ec/Jefferson/Other Race",
          "293d5bd41f/Jefferson/Other Race",
          "684420899a/Rockland/Multi-racial",
          "f5006e93b3/Rockland/Multi-racial",
          "40919309ec/Oneida/Black/African American",
          "293d5bd41f/Saratoga/Multi-racial",
          "293d5bd41f/Lewis/Other Race",
          "4a16f69dc8/Montgomery/Other Race",
          "684420899a/Montgomery/Other Race",
          "9f0f85e8c9/Montgomery/Other Race",
          "293d5bd41f/Otsego/Multi-racial",
          "293d5bd41f/Oswego/Other Race",
          "f5006e93b3/Orleans/Other Race",
          "dc874628d5/Orleans/Other Race",
          "4a16f69dc8/Nassau/Black/African American",
          "9f0f85e8c9/Orleans/Other Race",
          "684420899a/Otsego/Multi-racial",
          "40919309ec/Orleans/Other Race",
          "1dea55fda9/Otsego/Multi-racial",
          "293d5bd41f/Orleans/Other Race",
          "b71970385d/Otsego/Multi-racial",
          "dc874628d5/Otsego/Multi-racial",
          "9f0f85e8c9/Nassau/Black/African American",
          "9f0f85e8c9/Orange/Other Race",
          "f5006e93b3/Otsego/Multi-racial",
          "40919309ec/Orange/Other Race",
          "dc874628d5/Nassau/Black/African American",
          "684420899a/Oswego/Black/African American",
          "1dea55fda9/Orleans/Other Race",
          "9f0f85e8c9/Oswego/Other Race",
          "b71970385d/Oswego/Other Race",
          "dc874628d5/Oswego/Multi-racial",
          "dc874628d5/Oswego/Black/African American",
          "293d5bd41f/Oswego/Multi-racial",
          "b71970385d/Oswego/Black/African American",
          "684420899a/Oswego/Multi-racial",
          "9f0f85e8c9/Putnam/Other Race",
          "684420899a/Putnam/Other Race",
          "4a16f69dc8/Putnam/Other Race",
          "b71970385d/Montgomery/Black/African American",
          "9f0f85e8c9/Oswego/Black/African American",
          "1dea55fda9/Putnam/Other Race",
          "f5006e93b3/Otsego/Other Race",
          "dc874628d5/Otsego/Other Race",
          "b71970385d/Oswego/Multi-racial",
          "9f0f85e8c9/Otsego/Other Race",
          "684420899a/Otsego/Other Race",
          "4a16f69dc8/Otsego/Other Race",
          "40919309ec/Otsego/Other Race",
          "dc874628d5/Montgomery/Black/African American",
          "f5006e93b3/Montgomery/Black/African American",
          "f5006e93b3/Ontario/Other Race",
          "40919309ec/Putnam/Multi-racial",
          "f5006e93b3/Nassau/Black/African American",
          "9f0f85e8c9/Ontario/Other Race",
          "f5006e93b3/Putnam/Multi-racial",
          "293d5bd41f/Queens/Multi-racial",
          "9f0f85e8c9/Niagara/Other Race",
          "40919309ec/Queens/Multi-racial",
          "4a16f69dc8/Niagara/Other Race",
          "684420899a/Queens/Multi-racial",
          "9f0f85e8c9/Queens/Multi-racial",
          "f5006e93b3/Nassau/Other Race",
          "dc874628d5/Nassau/Other Race",
          "b71970385d/Nassau/Other Race",
          "9f0f85e8c9/Nassau/Other Race",
          "684420899a/Nassau/Other Race",
          "4a16f69dc8/Nassau/Other Race",
          "b71970385d/Queens/Multi-racial",
          "293d5bd41f/Nassau/Other Race",
          "1dea55fda9/Nassau/Other Race",
          "dc874628d5/Queens/Multi-racial",
          "dc874628d5/Montgomery/Other Race",
          "b71970385d/Montgomery/Other Race",
          "dc874628d5/Putnam/Multi-racial",
          "f5006e93b3/Saratoga/Multi-racial",
          "b71970385d/Putnam/Multi-racial",
          "4a16f69dc8/Oneida/Other Race",
          "684420899a/Ontario/Other Race",
          "1dea55fda9/Niagara/Black/African American",
          "40919309ec/Ontario/Other Race",
          "293d5bd41f/Ontario/Other Race",
          "1dea55fda9/Ontario/Other Race",
          "f5006e93b3/Onondaga/Other Race",
          "dc874628d5/Onondaga/Other Race",
          "4a16f69dc8/Putnam/Multi-racial",
          "9f0f85e8c9/Onondaga/Other Race",
          "684420899a/Onondaga/Other Race",
          "4a16f69dc8/Onondaga/Other Race",
          "40919309ec/Onondaga/Other Race",
          "684420899a/Putnam/Multi-racial",
          "1dea55fda9/Onondaga/Other Race",
          "f5006e93b3/Oneida/Other Race",
          "dc874628d5/Oneida/Other Race",
          "b71970385d/Oneida/Other Race",
          "9f0f85e8c9/Oneida/Other Race",
          "684420899a/Oneida/Other Race",
          "4a16f69dc8/Oswego/Black/African American",
          "4a16f69dc8/Franklin/Other Race",
          "40919309ec/Franklin/Other Race",
          "1dea55fda9/Schenectady/Multi-racial",
          "9f0f85e8c9/Sullivan/Multi-racial",
          "293d5bd41f/Bronx/Other Race",
          "dc874628d5/Sullivan/Multi-racial",
          "f5006e93b3/Sullivan/Multi-racial",
          "1dea55fda9/Tompkins/Multi-racial",
          "9f0f85e8c9/Allegany/Other Race",
          "293d5bd41f/Tompkins/Multi-racial",
          "4a16f69dc8/Allegany/Other Race",
          "4a16f69dc8/Sullivan/Multi-racial",
          "40919309ec/Tompkins/Multi-racial",
          "1dea55fda9/Allegany/Other Race",
          "f5006e93b3/Albany/Other Race",
          "b71970385d/Albany/Other Race",
          "9f0f85e8c9/Albany/Other Race",
          "684420899a/Albany/Other Race",
          "684420899a/Tompkins/Multi-racial",
          "40919309ec/Albany/Other Race",
          "9f0f85e8c9/Tompkins/Multi-racial",
          "293d5bd41f/Allegany/Other Race",
          "40919309ec/Sullivan/Multi-racial",
          "293d5bd41f/Sullivan/Multi-racial",
          "f5006e93b3/Suffolk/Multi-racial",
          "f5006e93b3/Cattaraugus/Other Race",
          "293d5bd41f/Suffolk/Multi-racial",
          "40919309ec/Suffolk/Multi-racial",
          "4a16f69dc8/Suffolk/Multi-racial",
          "684420899a/Cattaraugus/Other Race",
          "4a16f69dc8/Cattaraugus/Other Race",
          "40919309ec/Cattaraugus/Other Race",
          "293d5bd41f/Cattaraugus/Other Race",
          "684420899a/Suffolk/Multi-racial",
          "9f0f85e8c9/Suffolk/Multi-racial",
          "dc874628d5/Broome/Other Race",
          "b71970385d/Broome/Other Race",
          "b71970385d/Suffolk/Multi-racial",
          "684420899a/Broome/Other Race",
          "4a16f69dc8/Broome/Other Race",
          "40919309ec/Broome/Other Race",
          "dc874628d5/Suffolk/Multi-racial",
          "1dea55fda9/Broome/Other Race",
          "f5006e93b3/Bronx/Other Race",
          "b71970385d/Tompkins/Multi-racial",
          "f5006e93b3//Other Race",
          "dc874628d5//Other Race",
          "f5006e93b3/Tompkins/Multi-racial",
          "dc874628d5/Ulster/Multi-racial",
          "f5006e93b3/Ulster/Multi-racial",
          "1dea55fda9/Warren/Multi-racial",
          "9f0f85e8c9/Westchester/Multi-racial",
          "684420899a/Westchester/Multi-racial",
          "4a16f69dc8/Westchester/Multi-racial",
          "40919309ec/Westchester/Multi-racial",
          "293d5bd41f/Westchester/Multi-racial",
          "1dea55fda9/Westchester/Multi-racial",
          "f5006e93b3/Wayne/Multi-racial",
          "dc874628d5/Wayne/Multi-racial",
          "293d5bd41f/Warren/Multi-racial",
          "40919309ec/Warren/Multi-racial",
          "684420899a/Wayne/Multi-racial",
          "4a16f69dc8/Warren/Multi-racial",
          "9f0f85e8c9/Warren/Multi-racial",
          "293d5bd41f/Wayne/Multi-racial",
          "1dea55fda9/Wayne/Multi-racial",
          "f5006e93b3/Warren/Multi-racial",
          "1dea55fda9/Wyoming/Multi-racial",
          "1dea55fda9/Suffolk/Multi-racial",
          "293d5bd41f/Wyoming/Multi-racial",
          "4a16f69dc8/Wyoming/Multi-racial",
          "1dea55fda9/Ulster/Multi-racial",
          "4a16f69dc8//Other Race",
          "40919309ec//Other Race",
          "293d5bd41f//Other Race",
          "1dea55fda9//Other Race",
          "f5006e93b3/Yates/Multi-racial",
          "dc874628d5/Yates/Multi-racial",
          "b71970385d/Yates/Multi-racial",
          "293d5bd41f/Ulster/Multi-racial",
          "40919309ec/Ulster/Multi-racial",
          "4a16f69dc8/Yates/Multi-racial",
          "40919309ec/Yates/Multi-racial",
          "293d5bd41f/Yates/Multi-racial",
          "1dea55fda9/Yates/Multi-racial",
          "f5006e93b3/Wyoming/Multi-racial",
          "4a16f69dc8/Ulster/Multi-racial",
          "b71970385d/Wyoming/Multi-racial",
          "684420899a/Ulster/Multi-racial",
          "9f0f85e8c9/Ulster/Multi-racial",
          "b71970385d/Ulster/Multi-racial",
          "9f0f85e8c9/Montgomery/Black/African American",
          "f5006e93b3/Steuben/Multi-racial",
          "4a16f69dc8/Cayuga/Other Race",
          "40919309ec/Dutchess/Other Race",
          "1dea55fda9/Dutchess/Other Race",
          "293d5bd41f/Schuyler/Multi-racial",
          "dc874628d5/Delaware/Other Race",
          "b71970385d/Delaware/Other Race",
          "9f0f85e8c9/Delaware/Other Race",
          "684420899a/Delaware/Other Race",
          "4a16f69dc8/Delaware/Other Race",
          "684420899a/Dutchess/Other Race",
          "b71970385d/Orleans/Black/African American",
          "684420899a/Schuyler/Multi-racial",
          "9f0f85e8c9/Orleans/Black/African American",
          "dc874628d5/Cortland/Other Race",
          "b71970385d/Cortland/Other Race",
          "9f0f85e8c9/Cortland/Other Race",
          "684420899a/Cortland/Other Race",
          "dc874628d5/Schuyler/Multi-racial",
          "293d5bd41f/Cortland/Other Race",
          "4a16f69dc8/Schuyler/Multi-racial",
          "9f0f85e8c9/Dutchess/Other Race",
          "b71970385d/Dutchess/Other Race",
          "dc874628d5/Schenectady/Multi-racial",
          "293d5bd41f/Schenectady/Multi-racial",
          "40919309ec/Schenectady/Multi-racial",
          "dc874628d5/Essex/Other Race",
          "b71970385d/Essex/Other Race",
          "684420899a/Essex/Other Race",
          "684420899a/Schenectady/Multi-racial",
          "40919309ec/Essex/Other Race",
          "293d5bd41f/Essex/Other Race",
          "9f0f85e8c9/Schenectady/Multi-racial",
          "f5006e93b3/Erie/Other Race",
          "dc874628d5/Erie/Other Race",
          "b71970385d/Erie/Other Race",
          "9f0f85e8c9/Erie/Other Race",
          "684420899a/Erie/Other Race",
          "4a16f69dc8/Erie/Other Race",
          "40919309ec/Erie/Other Race",
          "293d5bd41f/Erie/Other Race",
          "1dea55fda9/Erie/Other Race",
          "b71970385d/Schenectady/Multi-racial",
          "1dea55fda9/Cortland/Other Race",
          "f5006e93b3/Columbia/Other Race",
          "dc874628d5/Columbia/Other Race",
          "b71970385d/Columbia/Other Race",
          "b71970385d/Chemung/Other Race",
          "f5006e93b3/St Lawrence/Multi-racial",
          "1dea55fda9/Steuben/Multi-racial",
          "40919309ec/Chemung/Other Race",
          "1dea55fda9/Chemung/Other Race",
          "4a16f69dc8/Steuben/Multi-racial",
          "dc874628d5/Chautauqua/Other Race",
          "b71970385d/Chautauqua/Other Race",
          "9f0f85e8c9/Chautauqua/Other Race",
          "684420899a/Chautauqua/Other Race",
          "4a16f69dc8/Chautauqua/Other Race",
          "40919309ec/Chautauqua/Other Race",
          "293d5bd41f/Chautauqua/Other Race",
          "1dea55fda9/Chautauqua/Other Race",
          "f5006e93b3/Cayuga/Other Race",
          "684420899a/Steuben/Multi-racial",
          "9f0f85e8c9/Steuben/Multi-racial",
          "9f0f85e8c9/Cayuga/Other Race",
          "b71970385d/Steuben/Multi-racial",
          "dc874628d5/Chemung/Other Race",
          "dc874628d5/Steuben/Multi-racial",
          "1dea55fda9/Chenango/Other Race",
          "40919309ec/Chenango/Other Race",
          "9f0f85e8c9/Columbia/Other Race",
          "684420899a/Columbia/Other Race",
          "4a16f69dc8/Columbia/Other Race",
          "40919309ec/Columbia/Other Race",
          "293d5bd41f/Columbia/Other Race",
          "1dea55fda9/Columbia/Other Race",
          "f5006e93b3/Clinton/Other Race",
          "dc874628d5/Clinton/Other Race",
          "b71970385d/Clinton/Other Race",
          "9f0f85e8c9/Clinton/Other Race",
          "f5006e93b3/Schuyler/Multi-racial",
          "4a16f69dc8/Clinton/Other Race",
          "1dea55fda9/Clinton/Other Race",
          "f5006e93b3/Chenango/Other Race",
          "dc874628d5/Chenango/Other Race",
          "40919309ec/St Lawrence/Multi-racial",
          "684420899a/Orleans/Black/African American",
          "684420899a/St Lawrence/Multi-racial",
          "4a16f69dc8/Chenango/Other Race",
          "9f0f85e8c9/St Lawrence/Multi-racial",
          "40919309ec/Orange/White",
          "f5006e93b3/Orleans/Multi-racial",
          "9f0f85e8c9/Queens/Other Race",
          "f5006e93b3/Erie/White",
          "1dea55fda9/Kings/Black/African American",
          "b71970385d/Erie/White",
          "9f0f85e8c9/Erie/White",
          "684420899a/Erie/White",
          "40919309ec/Erie/White",
          "293d5bd41f/Erie/White",
          "9f0f85e8c9/Kings/Multi-racial",
          "1dea55fda9/Essex/White",
          "dc874628d5/Kings/Multi-racial",
          "684420899a/Dutchess/White",
          "4a16f69dc8/Dutchess/White",
          "40919309ec/Dutchess/White",
          "293d5bd41f/Dutchess/White",
          "f5006e93b3/Delaware/White",
          "dc874628d5/Delaware/White",
          "b71970385d/Delaware/White",
          "684420899a/Delaware/White",
          "9f0f85e8c9/Dutchess/White",
          "40919309ec/Kings/Multi-racial",
          "4a16f69dc8/Essex/White",
          "684420899a/Essex/White",
          "684420899a/Genesee/White",
          "4a16f69dc8/Genesee/White",
          "1dea55fda9/Genesee/White",
          "b71970385d/Fulton/White",
          "9f0f85e8c9/Fulton/White",
          "4a16f69dc8/Fulton/White",
          "b71970385d/Jefferson/Multi-racial",
          "f5006e93b3/Jefferson/Multi-racial",
          "f5006e93b3/Franklin/White",
          "dc874628d5/Franklin/White",
          "b71970385d/Franklin/White",
          "9f0f85e8c9/Franklin/White",
          "4a16f69dc8/Franklin/White",
          "40919309ec/Franklin/White",
          "293d5bd41f/Franklin/White",
          "1dea55fda9/Franklin/White",
          "f5006e93b3/Essex/White",
          "b71970385d/Essex/White",
          "9f0f85e8c9/Essex/White",
          "1dea55fda9/Delaware/White",
          "b71970385d/Genesee/White",
          "f5006e93b3/Cortland/White",
          "9f0f85e8c9/Cortland/White",
          "dc874628d5/Livingston/Multi-racial",
          "684420899a/Chenango/White",
          "dc874628d5/Putnam/Black/African American",
          "293d5bd41f/Chenango/White",
          "1dea55fda9/Chenango/White",
          "f5006e93b3/Chemung/White",
          "dc874628d5/Chemung/White",
          "b71970385d/Chemung/White",
          "b71970385d/Livingston/Multi-racial",
          "4a16f69dc8/Madison/Multi-racial",
          "684420899a/Madison/Multi-racial",
          "293d5bd41f/Chemung/White",
          "1dea55fda9/Chemung/White",
          "9f0f85e8c9/Madison/Multi-racial",
          "dc874628d5/Chautauqua/White",
          "b71970385d/Putnam/Black/African American",
          "4a16f69dc8/Chautauqua/White",
          "40919309ec/Chautauqua/White",
          "4a16f69dc8/Chemung/White",
          "9f0f85e8c9/Livingston/Multi-racial",
          "1dea55fda9/Clinton/White",
          "684420899a/Livingston/Multi-racial",
          "4a16f69dc8/Cortland/White",
          "40919309ec/Cortland/White",
          "293d5bd41f/Cortland/White",
          "4a16f69dc8/Kings/Black/African American",
          "f5006e93b3/Columbia/White",
          "dc874628d5/Columbia/White",
          "b71970385d/Columbia/White",
          "1dea55fda9/Livingston/Multi-racial",
          "b71970385d/Kings/Black/African American",
          "40919309ec/Columbia/White",
          "293d5bd41f/Livingston/Multi-racial",
          "1dea55fda9/Columbia/White",
          "40919309ec/Livingston/Multi-racial",
          "dc874628d5/Clinton/White",
          "b71970385d/Clinton/White",
          "9f0f85e8c9/Clinton/White",
          "684420899a/Clinton/White",
          "4a16f69dc8/Clinton/White",
          "4a16f69dc8/Livingston/Multi-racial",
          "b71970385d/Cortland/White",
          "dc874628d5/Genesee/White",
          "f5006e93b3/Genesee/White",
          "1dea55fda9/Herkimer/White",
          "dc874628d5/Essex/Black/African American",
          "40919309ec/Dutchess/Multi-racial",
          "4a16f69dc8/Dutchess/Multi-racial",
          "4a16f69dc8/Franklin/Black/African American",
          "dc874628d5/Dutchess/Multi-racial",
          "f5006e93b3/Dutchess/Multi-racial",
          "b71970385d/Rensselaer/Black/African American",
          "b71970385d/Montgomery/White",
          "1dea55fda9/Dutchess/Multi-racial",
          "684420899a/Montgomery/White",
          "1dea55fda9/Montgomery/White",
          "293d5bd41f/Essex/Multi-racial",
          "40919309ec/Essex/Multi-racial",
          "9f0f85e8c9/Monroe/White",
          "4a16f69dc8/Monroe/White",
          "40919309ec/Monroe/White",
          "1dea55fda9/Monroe/White",
          "f5006e93b3/Manhattan/White",
          "293d5bd41f/Montgomery/White",
          "4a16f69dc8/Essex/Black/African American",
          "40919309ec/Essex/Black/African American",
          "9f0f85e8c9/Delaware/Multi-racial",
          "1dea55fda9/Orange/White",
          "f5006e93b3/Ontario/White",
          "dc874628d5/Ontario/White",
          "b71970385d/Ontario/White",
          "9f0f85e8c9/Ontario/White",
          "293d5bd41f/Dutchess/Black/African American",
          "40919309ec/Dutchess/Black/African American",
          "9f0f85e8c9/Richmond/Black/African American",
          "dc874628d5/Dutchess/Black/African American",
          "f5006e93b3/Dutchess/Black/African American",
          "dc874628d5/Cortland/Multi-racial",
          "293d5bd41f/Onondaga/White",
          "293d5bd41f/Erie/Black/African American",
          "f5006e93b3/Cortland/Multi-racial",
          "4a16f69dc8/Erie/Black/African American",
          "40919309ec/Delaware/Multi-racial",
          "4a16f69dc8/Delaware/Multi-racial",
          "dc874628d5/Erie/Black/African American",
          "684420899a/Delaware/Multi-racial",
          "b71970385d/Essex/Multi-racial",
          "dc874628d5/Essex/Multi-racial",
          "f5006e93b3/Essex/Multi-racial",
          "4a16f69dc8/Manhattan/White",
          "9f0f85e8c9/Genesee/Black/African American",
          "1dea55fda9/Genesee/Multi-racial",
          "f5006e93b3/Genesee/Black/African American",
          "f5006e93b3/Queens/Black/African American",
          "684420899a/Genesee/Multi-racial",
          "9f0f85e8c9/Genesee/Multi-racial",
          "b71970385d/Genesee/Multi-racial",
          "dc874628d5/Genesee/Multi-racial",
          "1dea55fda9/Herkimer/Multi-racial",
          "293d5bd41f/Herkimer/Multi-racial",
          "4a16f69dc8/Jefferson/White",
          "4a16f69dc8/Herkimer/Multi-racial",
          "684420899a/Herkimer/Multi-racial",
          "b71970385d/Herkimer/Multi-racial",
          "9f0f85e8c9/Herkimer/White",
          "684420899a/Herkimer/White",
          "f5006e93b3/Herkimer/Multi-racial",
          "40919309ec/Herkimer/White",
          "293d5bd41f/Herkimer/White",
          "b71970385d/Fulton/Multi-racial",
          "f5006e93b3/Lewis/Black/African American",
          "40919309ec/Fulton/Multi-racial",
          "1dea55fda9/Fulton/Multi-racial",
          "1dea55fda9/Franklin/Multi-racial",
          "293d5bd41f/Franklin/Multi-racial",
          "40919309ec/Franklin/Multi-racial",
          "f5006e93b3/Madison/White",
          "b71970385d/Madison/White",
          "9f0f85e8c9/Madison/White",
          "684420899a/Madison/White",
          "4a16f69dc8/Madison/White",
          "40919309ec/Madison/White",
          "293d5bd41f/Madison/White",
          "1dea55fda9/Madison/White",
          "f5006e93b3/Livingston/White",
          "dc874628d5/Livingston/White",
          "40919309ec/Fulton/Black/African American",
          "9f0f85e8c9/Livingston/White",
          "684420899a/Livingston/White",
          "684420899a/Franklin/Multi-racial",
          "9f0f85e8c9/Franklin/Multi-racial",
          "b71970385d/Franklin/Multi-racial",
          "293d5bd41f/Fulton/Multi-racial",
          "1dea55fda9/Chautauqua/White",
          "f5006e93b3/Cayuga/White",
          "dc874628d5/Cayuga/White",
          "1dea55fda9/Ontario/Multi-racial",
          "f5006e93b3/St Lawrence/Other Race",
          "684420899a/Otsego/Black/African American",
          "b71970385d/St Lawrence/Other Race",
          "9f0f85e8c9/St Lawrence/Other Race",
          "4a16f69dc8/Ontario/Multi-racial",
          "4a16f69dc8/Otsego/Black/African American",
          "40919309ec/St Lawrence/Other Race",
          "40919309ec/Steuben/Other Race",
          "9f0f85e8c9/Ontario/Multi-racial",
          "f5006e93b3/Schuyler/Other Race",
          "dc874628d5/Schuyler/Other Race",
          "b71970385d/Schuyler/Other Race",
          "b71970385d/Ontario/Multi-racial",
          "9f0f85e8c9/Monroe/Black/African American",
          "40919309ec/Schuyler/Other Race",
          "f5006e93b3/Ontario/Multi-racial",
          "1dea55fda9/Schuyler/Other Race",
          "1dea55fda9/St Lawrence/Other Race",
          "4a16f69dc8/Steuben/Other Race",
          "684420899a/Steuben/Other Race",
          "9f0f85e8c9/Steuben/Other Race",
          "b71970385d/Tompkins/Other Race",
          "9f0f85e8c9/Tompkins/Other Race",
          "684420899a/Tompkins/Other Race",
          "4a16f69dc8/Tompkins/Other Race",
          "40919309ec/Oneida/Multi-racial",
          "4a16f69dc8/Oneida/Multi-racial",
          "1dea55fda9/Tompkins/Other Race",
          "f5006e93b3/Sullivan/Other Race",
          "684420899a/Oneida/Multi-racial",
          "9f0f85e8c9/Sullivan/Other Race",
          "b71970385d/Oneida/Multi-racial",
          "4a16f69dc8/Sullivan/Other Race",
          "40919309ec/Sullivan/Other Race",
          "684420899a/Onondaga/Multi-racial",
          "4a16f69dc8/Suffolk/Other Race",
          "b71970385d/Onondaga/Multi-racial",
          "dc874628d5/Onondaga/Multi-racial",
          "dc874628d5/Steuben/Other Race",
          "b71970385d/Steuben/Other Race",
          "dc874628d5/Monroe/Black/African American",
          "dc874628d5/Schenectady/Other Race",
          "1dea55fda9/Orange/Multi-racial",
          "f5006e93b3/Monroe/Black/African American",
          "f5006e93b3/Richmond/Other Race",
          "dc874628d5/Richmond/Other Race",
          "293d5bd41f/Otsego/Black/African American",
          "b71970385d/Orange/Multi-racial",
          "684420899a/Richmond/Other Race",
          "4a16f69dc8/Richmond/Other Race",
          "40919309ec/Richmond/Other Race",
          "293d5bd41f/Richmond/Other Race",
          "1dea55fda9/Richmond/Other Race",
          "f5006e93b3/Rensselaer/Other Race",
          "dc874628d5/Rensselaer/Other Race",
          "dc874628d5/Orange/Multi-racial",
          "f5006e93b3/Oswego/Black/African American",
          "293d5bd41f/Orleans/Multi-racial",
          "40919309ec/Orleans/Multi-racial",
          "684420899a/Orleans/Multi-racial",
          "b71970385d/Orleans/Multi-racial",
          "dc874628d5/Orleans/Multi-racial",
          "b71970385d/Queens/Other Race",
          "1dea55fda9/Rockland/Other Race",
          "b71970385d/Otsego/Black/African American",
          "293d5bd41f/Rockland/Other Race",
          "40919309ec/Otsego/Black/African American",
          "684420899a/Schenectady/Other Race",
          "1dea55fda9/Montgomery/Black/African American",
          "40919309ec/Schenectady/Other Race",
          "293d5bd41f/Schenectady/Other Race",
          "293d5bd41f/Orange/Multi-racial",
          "f5006e93b3/Saratoga/Other Race",
          "dc874628d5/Saratoga/Other Race",
          "b71970385d/Saratoga/Other Race",
          "9f0f85e8c9/Saratoga/Other Race",
          "40919309ec/Orange/Multi-racial",
          "4a16f69dc8/Saratoga/Other Race",
          "40919309ec/Saratoga/Other Race",
          "293d5bd41f/Saratoga/Other Race",
          "1dea55fda9/Saratoga/Other Race",
          "f5006e93b3/Rockland/Other Race",
          "4a16f69dc8/Orange/Multi-racial",
          "b71970385d/Rockland/Other Race",
          "9f0f85e8c9/Rockland/Other Race",
          "684420899a/Rockland/Other Race",
          "40919309ec/Rockland/Other Race",
          "684420899a/Queens/Other Race",
          "dc874628d5/Niagara/Multi-racial",
          "4a16f69dc8/Ulster/Other Race",
          "dc874628d5/Bronx/White",
          "b71970385d/Bronx/White",
          "9f0f85e8c9/Bronx/White",
          "684420899a/Bronx/White",
          "b71970385d/Manhattan/Multi-racial",
          "9f0f85e8c9/Putnam/Black/African American",
          "684420899a/Putnam/Black/African American",
          "1dea55fda9/Bronx/White",
          "1dea55fda9/Broome/White",
          "dc874628d5/Allegany/White",
          "9f0f85e8c9/Allegany/White",
          "4a16f69dc8/Putnam/Black/African American",
          "40919309ec/Allegany/White",
          "293d5bd41f/Allegany/White",
          "dc874628d5/Albany/White",
          "b71970385d/Albany/White",
          "9f0f85e8c9/Monroe/Multi-racial",
          "684420899a/Albany/White",
          "b71970385d/Allegany/White",
          "293d5bd41f/Broome/White",
          "4a16f69dc8/Broome/White",
          "4a16f69dc8/Manhattan/Multi-racial",
          "b71970385d/Cayuga/White",
          "1dea55fda9/Manhattan/Multi-racial",
          "684420899a/Cayuga/White",
          "4a16f69dc8/Cayuga/White",
          "40919309ec/Cayuga/White",
          "293d5bd41f/Cayuga/White",
          "1dea55fda9/Cayuga/White",
          "f5006e93b3/Cattaraugus/White",
          "dc874628d5/Cattaraugus/White",
          "293d5bd41f/Manhattan/Multi-racial",
          "9f0f85e8c9/Cattaraugus/White",
          "684420899a/Cattaraugus/White",
          "4a16f69dc8/Cattaraugus/White",
          "40919309ec/Cattaraugus/White",
          "293d5bd41f/Cattaraugus/White",
          "1dea55fda9/Cattaraugus/White",
          "f5006e93b3/Broome/White",
          "b71970385d/Broome/White",
          "9f0f85e8c9/Broome/White",
          "4a16f69dc8/Albany/White",
          "40919309ec/Albany/White",
          "b71970385d/Monroe/Multi-racial",
          "f5006e93b3//White",
          "dc874628d5/Wayne/Other Race",
          "b71970385d/Wayne/Other Race",
          "9f0f85e8c9/Wayne/Other Race",
          "684420899a/Wayne/Other Race",
          "293d5bd41f/Niagara/Multi-racial",
          "293d5bd41f/Wayne/Other Race",
          "1dea55fda9/Wayne/Other Race",
          "f5006e93b3/Warren/Other Race",
          "dc874628d5/Warren/Other Race",
          "b71970385d/Warren/Other Race",
          "9f0f85e8c9/Warren/Other Race",
          "684420899a/Warren/Other Race",
          "4a16f69dc8/Warren/Other Race",
          "4a16f69dc8/Niagara/Multi-racial",
          "f5006e93b3/Ulster/Other Race",
          "dc874628d5/Ulster/Other Race",
          "b71970385d/Niagara/Multi-racial",
          "40919309ec/Schuyler/Black/African American",
          "684420899a/Ulster/Other Race",
          "f5006e93b3/Wayne/Other Race",
          "40919309ec/Ulster/Other Race",
          "1dea55fda9/Westchester/Other Race",
          "40919309ec/Westchester/Other Race",
          "b71970385d//White",
          "1dea55fda9/Montgomery/Multi-racial",
          "293d5bd41f/Putnam/Black/African American",
          "293d5bd41f//White",
          "1dea55fda9//White",
          "684420899a/Montgomery/Multi-racial",
          "dc874628d5/Yates/Other Race",
          "b71970385d/Yates/Other Race",
          "1dea55fda9/Nassau/Multi-racial",
          "1dea55fda9/Putnam/Black/African American",
          "684420899a/Nassau/Multi-racial",
          "40919309ec/Wyoming/Other Race",
          "293d5bd41f/Wyoming/Other Race",
          "f5006e93b3/Otsego/Black/African American",
          "dc874628d5/Westchester/Other Race",
          "b71970385d/Westchester/Other Race",
          "9f0f85e8c9/Westchester/Other Race",
          "684420899a/Westchester/Other Race",
          "4a16f69dc8/Westchester/Other Race",
          "293d5bd41f/Westchester/Other Race",
          "9f0f85e8c9/Ulster/Other Race"
         ],
         "labels": [
          "Other Race",
          "Other Race",
          "Other Race",
          "Other Race",
          "Other Race",
          "dc874628d5",
          "Other Race",
          "Other Race",
          "Other Race",
          "Other Race",
          "Other Race",
          "Other Race",
          "Other Race",
          "Other Race",
          "Other Race",
          "Other Race",
          "Other Race",
          "Other Race",
          "Other Race",
          "Other Race",
          "Other Race",
          "Other Race",
          "Other Race",
          "Other Race",
          "Other Race",
          "Other Race",
          "Other Race",
          "Other Race",
          "Other Race",
          "Other Race",
          "Other Race",
          "Other Race",
          "Other Race",
          "Other Race",
          "Other Race",
          "Other Race",
          "Other Race",
          "Other Race",
          "Other Race",
          "Other Race",
          "Other Race",
          "Other Race",
          "Other Race",
          "Other Race",
          "Other Race",
          "Other Race",
          "Other Race",
          "Other Race",
          "Other Race",
          "Other Race",
          "Other Race",
          "Other Race",
          "White",
          "White",
          "White",
          "White",
          "White",
          "White",
          "White",
          "White",
          "White",
          "White",
          "White",
          "White",
          "White",
          "White",
          "White",
          "White",
          "White",
          "White",
          "White",
          "White",
          "White",
          "White",
          "Other Race",
          "Other Race",
          "Other Race",
          "Other Race",
          "Other Race",
          "Other Race",
          "Other Race",
          "Other Race",
          "Other Race",
          "Other Race",
          "Other Race",
          "Other Race",
          "Other Race",
          "Other Race",
          "Other Race",
          "Other Race",
          "Other Race",
          "Other Race",
          "Other Race",
          "Other Race",
          "Other Race",
          "Other Race",
          "Other Race",
          "Other Race",
          "Other Race",
          "Other Race",
          "White",
          "Other Race",
          "Multi-racial",
          "Multi-racial",
          "Multi-racial",
          "Multi-racial",
          "Multi-racial",
          "Multi-racial",
          "Multi-racial",
          "Multi-racial",
          "Multi-racial",
          "Multi-racial",
          "Multi-racial",
          "Multi-racial",
          "Multi-racial",
          "Multi-racial",
          "Multi-racial",
          "Multi-racial",
          "Multi-racial",
          "Multi-racial",
          "Multi-racial",
          "Multi-racial",
          "Multi-racial",
          "Multi-racial",
          "Multi-racial",
          "Multi-racial",
          "Multi-racial",
          "Multi-racial",
          "Black/African American",
          "Black/African American",
          "Black/African American",
          "Black/African American",
          "Black/African American",
          "Black/African American",
          "Black/African American",
          "Black/African American",
          "Black/African American",
          "Black/African American",
          "Multi-racial",
          "Black/African American",
          "Black/African American",
          "Black/African American",
          "Multi-racial",
          "Multi-racial",
          "Multi-racial",
          "Multi-racial",
          "Multi-racial",
          "Multi-racial",
          "Multi-racial",
          "Multi-racial",
          "Black/African American",
          "Other Race",
          "Multi-racial",
          "Multi-racial",
          "Multi-racial",
          "Multi-racial",
          "Multi-racial",
          "Multi-racial",
          "Multi-racial",
          "Multi-racial",
          "Multi-racial",
          "Multi-racial",
          "Multi-racial",
          "Multi-racial",
          "Multi-racial",
          "Multi-racial",
          "Multi-racial",
          "Multi-racial",
          "Multi-racial",
          "Multi-racial",
          "Multi-racial",
          "Multi-racial",
          "Multi-racial",
          "Multi-racial",
          "Multi-racial",
          "Multi-racial",
          "Multi-racial",
          "Multi-racial",
          "Multi-racial",
          "Multi-racial",
          "Multi-racial",
          "Multi-racial",
          "Multi-racial",
          "Multi-racial",
          "Multi-racial",
          "Multi-racial",
          "Multi-racial",
          "Multi-racial",
          "Multi-racial",
          "Multi-racial",
          "Multi-racial",
          "Multi-racial",
          "Multi-racial",
          "Multi-racial",
          "Multi-racial",
          "Multi-racial",
          "Multi-racial",
          "Multi-racial",
          "Multi-racial",
          "Multi-racial",
          "Multi-racial",
          "Multi-racial",
          "Black/African American",
          "White",
          "White",
          "White",
          "White",
          "Allegany",
          "Broome",
          "Broome",
          "Broome",
          "Cattaraugus",
          "Cattaraugus",
          "Chautauqua",
          "Chautauqua",
          "Chemung",
          "Chemung",
          "Clinton",
          "Clinton",
          "Columbia",
          "Columbia",
          "Columbia",
          "Cortland",
          "Delaware",
          "Erie",
          "Erie",
          "White",
          "White",
          "White",
          "White",
          "White",
          "White",
          "White",
          "White",
          "White",
          "White",
          "White",
          "White",
          "White",
          "White",
          "Essex",
          "White",
          "White",
          "White",
          "White",
          "White",
          "White",
          "White",
          "White",
          "White",
          "White",
          "White",
          "White",
          "White",
          "Essex",
          "Franklin",
          "Orleans",
          "Oswego",
          "Otsego",
          "Queens",
          "Queens",
          "Rensselaer",
          "Richmond",
          "Schenectady",
          "Schenectady",
          "Schuyler",
          "Schuyler",
          "Steuben",
          "Steuben",
          "Sullivan",
          "Tompkins",
          "Ulster",
          "Ulster",
          "Wayne",
          "Wayne",
          "Westchester",
          "Yates",
          "Orange",
          "Ontario",
          "Onondaga",
          "Onondaga",
          "Franklin",
          "Fulton",
          "Fulton",
          "Genesee",
          "Herkimer",
          "Herkimer",
          "Herkimer",
          "Herkimer",
          "Jefferson",
          "Jefferson",
          "Essex",
          "Lewis",
          "Livingston",
          "Madison",
          "Madison",
          "Manhattan",
          "Niagara",
          "Niagara",
          "Onondaga",
          "Onondaga",
          "Onondaga",
          "Onondaga",
          "Livingston",
          "White",
          "White",
          "White",
          "White",
          "White",
          "White",
          "White",
          "White",
          "White",
          "White",
          "White",
          "White",
          "White",
          "White",
          "White",
          "White",
          "White",
          "White",
          "White",
          "White",
          "White",
          "White",
          "White",
          "White",
          "White",
          "White",
          "White",
          "White",
          "White",
          "White",
          "White",
          "White",
          "White",
          "White",
          "White",
          "White",
          "White",
          "White",
          "White",
          "White",
          "White",
          "White",
          "White",
          "White",
          "White",
          "White",
          "White",
          "White",
          "White",
          "White",
          "White",
          "White",
          "White",
          "White",
          "White",
          "White",
          "White",
          "White",
          "White",
          "White",
          "White",
          "White",
          "White",
          "White",
          "White",
          "White",
          "White",
          "White",
          "White",
          "White",
          "White",
          "White",
          "White",
          "White",
          "White",
          "White",
          "White",
          "White",
          "White",
          "White",
          "White",
          "White",
          "White",
          "White",
          "White",
          "White",
          "White",
          "White",
          "White",
          "White",
          "White",
          "White",
          "White",
          "White",
          "White",
          "White",
          "White",
          "White",
          "White",
          "White",
          "White",
          "White",
          "Black/African American",
          "f5006e93b3",
          "Black/African American",
          "Black/African American",
          "Black/African American",
          "Black/African American",
          "Black/African American",
          "Black/African American",
          "Black/African American",
          "Black/African American",
          "Black/African American",
          "Black/African American",
          "Black/African American",
          "Black/African American",
          "Black/African American",
          "Black/African American",
          "Black/African American",
          "Black/African American",
          "Black/African American",
          "Black/African American",
          "Black/African American",
          "Black/African American",
          "Black/African American",
          "Black/African American",
          "Black/African American",
          "Black/African American",
          "Black/African American",
          "Black/African American",
          "Black/African American",
          "Black/African American",
          "Black/African American",
          "Black/African American",
          "Black/African American",
          "Black/African American",
          "Black/African American",
          "Black/African American",
          "Black/African American",
          "Black/African American",
          "Black/African American",
          "Black/African American",
          "Black/African American",
          "Black/African American",
          "Black/African American",
          "Black/African American",
          "Black/African American",
          "Black/African American",
          "Black/African American",
          "Black/African American",
          "Black/African American",
          "Black/African American",
          "Black/African American",
          "Black/African American",
          "Black/African American",
          "Black/African American",
          "Black/African American",
          "Black/African American",
          "Black/African American",
          "Black/African American",
          "Black/African American",
          "Black/African American",
          "Black/African American",
          "Black/African American",
          "Black/African American",
          "Black/African American",
          "Black/African American",
          "Black/African American",
          "Black/African American",
          "Black/African American",
          "Black/African American",
          "Black/African American",
          "Black/African American",
          "Black/African American",
          "Black/African American",
          "Black/African American",
          "Black/African American",
          "Black/African American",
          "Black/African American",
          "Black/African American",
          "Black/African American",
          "Black/African American",
          "Other Race",
          "Other Race",
          "White",
          "Other Race",
          "Black/African American",
          "Multi-racial",
          "Black/African American",
          "Other Race",
          "White",
          "Fulton",
          "Other Race",
          "Black/African American",
          "Multi-racial",
          "White",
          "Black/African American",
          "Black/African American",
          "White",
          "White",
          "Other Race",
          "Chemung",
          "Black/African American",
          "Black/African American",
          "Multi-racial",
          "Other Race",
          "Onondaga",
          "Multi-racial",
          "Yates",
          "Other Race",
          "Other Race",
          "Other Race",
          "Other Race",
          "Black/African American",
          "Other Race",
          "Black/African American",
          "Black/African American",
          "Other Race",
          "Black/African American",
          "Other Race",
          "Other Race",
          "Black/African American",
          "Black/African American",
          "Other Race",
          "Black/African American",
          "Other Race",
          "Other Race",
          "Other Race",
          "Other Race",
          "Other Race",
          "Other Race",
          "Other Race",
          "Other Race",
          "Black/African American",
          "Other Race",
          "Other Race",
          "Other Race",
          "Other Race",
          "Other Race",
          "Other Race",
          "Other Race",
          "Other Race",
          "Other Race",
          "Other Race",
          "Other Race",
          "Black/African American",
          "Other Race",
          "Other Race",
          "Other Race",
          "Black/African American",
          "Other Race",
          "Other Race",
          "Black/African American",
          "Other Race",
          "Black/African American",
          "Other Race",
          "Other Race",
          "Black/African American",
          "Other Race",
          "Other Race",
          "Black/African American",
          "Black/African American",
          "Black/African American",
          "Black/African American",
          "Black/African American",
          "Black/African American",
          "Black/African American",
          "White",
          "Black/African American",
          "Multi-racial",
          "White",
          "Black/African American",
          "White",
          "White",
          "White",
          "Black/African American",
          "Black/African American",
          "Black/African American",
          "Black/African American",
          "Black/African American",
          "White",
          "Black/African American",
          "White",
          "Black/African American",
          "Black/African American",
          "Black/African American",
          "Black/African American",
          "Black/African American",
          "White",
          "White",
          "Black/African American",
          "Black/African American",
          "Other Race",
          "Other Race",
          "Black/African American",
          "Black/African American",
          "Black/African American",
          "White",
          "Other Race",
          "White",
          "White",
          "Black/African American",
          "White",
          "White",
          "Black/African American",
          "White",
          "Black/African American",
          "White",
          "Black/African American",
          "White",
          "Multi-racial",
          "White",
          "Multi-racial",
          "Black/African American",
          "Other Race",
          "Black/African American",
          "Other Race",
          "Other Race",
          "Black/African American",
          "Other Race",
          "Other Race",
          "Black/African American",
          "Other Race",
          "Other Race",
          "Other Race",
          "Other Race",
          "Other Race",
          "Other Race",
          "Other Race",
          "Other Race",
          "Other Race",
          "Other Race",
          "Other Race",
          "Other Race",
          "Other Race",
          "Other Race",
          "Other Race",
          "Black/African American",
          "Other Race",
          "Other Race",
          "Other Race",
          "Other Race",
          "Other Race",
          "Other Race",
          "Other Race",
          "Other Race",
          "Black/African American",
          "Black/African American",
          "Other Race",
          "Other Race",
          "Other Race",
          "Other Race",
          "Other Race",
          "Other Race",
          "Other Race",
          "Other Race",
          "Other Race",
          "Black/African American",
          "Other Race",
          "Other Race",
          "Other Race",
          "Other Race",
          "Other Race",
          "Other Race",
          "Other Race",
          "Other Race",
          "Other Race",
          "Other Race",
          "Other Race",
          "Other Race",
          "Other Race",
          "Other Race",
          "Other Race",
          "Other Race",
          "Black/African American",
          "Other Race",
          "Other Race",
          "Other Race",
          "Other Race",
          "Other Race",
          "Other Race",
          "Black/African American",
          "Other Race",
          "Other Race",
          "Other Race",
          "Other Race",
          "Other Race",
          "Other Race",
          "Black/African American",
          "Other Race",
          "Other Race",
          "Other Race",
          "Other Race",
          "Other Race",
          "Other Race",
          "Other Race",
          "Other Race",
          "Other Race",
          "Other Race",
          "Other Race",
          "Other Race",
          "Black/African American",
          "Other Race",
          "Other Race",
          "Other Race",
          "Other Race",
          "Other Race",
          "Other Race",
          "Other Race",
          "Black/African American",
          "Black/African American",
          "Other Race",
          "Other Race",
          "Other Race",
          "Other Race",
          "Other Race",
          "Black/African American",
          "Other Race",
          "Black/African American",
          "Black/African American",
          "Other Race",
          "Other Race",
          "Other Race",
          "Other Race",
          "Other Race",
          "Black/African American",
          "White",
          "Dutchess",
          "Dutchess",
          "Erie",
          "Erie",
          "Black/African American",
          "Black/African American",
          "Essex",
          "Black/African American",
          "Fulton",
          "Fulton",
          "Black/African American",
          "Genesee",
          "Genesee",
          "Dutchess",
          "Black/African American",
          "Black/African American",
          "Madison",
          "Madison",
          "Madison",
          "Black/African American",
          "Manhattan",
          "Manhattan",
          "Montgomery",
          "Montgomery",
          "Black/African American",
          "Oneida",
          "Oneida",
          "Onondaga",
          "Herkimer",
          "Black/African American",
          "Dutchess",
          "Black/African American",
          "Black/African American",
          "Black/African American",
          "Black/African American",
          "Black/African American",
          "White",
          "White",
          "Black/African American",
          "Black/African American",
          "White",
          "White",
          "White",
          "",
          "Albany",
          "Black/African American",
          "Allegany",
          "Bronx",
          "Broome",
          "Black/African American",
          "Cattaraugus",
          "Black/African American",
          "Cayuga",
          "Cayuga",
          "Black/African American",
          "Chemung",
          "Black/African American",
          "Black/African American",
          "Black/African American",
          "Black/African American",
          "Bronx",
          "Onondaga",
          "Black/African American",
          "Black/African American",
          "Sullivan",
          "Sullivan",
          "Sullivan",
          "Sullivan",
          "Black/African American",
          "Tompkins",
          "Ulster",
          "Ulster",
          "Black/African American",
          "Black/African American",
          "Warren",
          "Warren",
          "Warren",
          "Sullivan",
          "Warren",
          "Westchester",
          "Black/African American",
          "Westchester",
          "Westchester",
          "Westchester",
          "Wyoming",
          "Wyoming",
          "Yates",
          "Yates",
          "Yates",
          "Yates",
          "684420899a",
          "b71970385d",
          "Black/African American",
          "Suffolk",
          "Steuben",
          "Black/African American",
          "Ontario",
          "Ontario",
          "Orange",
          "Black/African American",
          "Orleans",
          "Oswego",
          "Oswego",
          "Otsego",
          "Putnam",
          "Putnam",
          "Putnam",
          "Black/African American",
          "Queens",
          "Rensselaer",
          "Rensselaer",
          "Black/African American",
          "Richmond",
          "Richmond",
          "Rockland",
          "Schenectady",
          "Schenectady",
          "Black/African American",
          "Black/African American",
          "Schuyler",
          "Schuyler",
          "St Lawrence",
          "St Lawrence",
          "Black/African American",
          "Steuben",
          "Black/African American",
          "White",
          "Black/African American",
          "Black/African American",
          "Black/African American",
          "Black/African American",
          "Black/African American",
          "Black/African American",
          "Black/African American",
          "Black/African American",
          "White",
          "Black/African American",
          "Black/African American",
          "Black/African American",
          "White",
          "White",
          "Black/African American",
          "White",
          "White",
          "White",
          "White",
          "White",
          "Black/African American",
          "White",
          "White",
          "White",
          "White",
          "White",
          "White",
          "White",
          "Black/African American",
          "White",
          "White",
          "Black/African American",
          "Black/African American",
          "Black/African American",
          "Black/African American",
          "Black/African American",
          "White",
          "White",
          "White",
          "White",
          "White",
          "White",
          "White",
          "White",
          "White",
          "Black/African American",
          "Black/African American",
          "Black/African American",
          "White",
          "White",
          "Black/African American",
          "White",
          "White",
          "White",
          "White",
          "Black/African American",
          "Black/African American",
          "Black/African American",
          "Black/African American",
          "Black/African American",
          "White",
          "Black/African American",
          "White",
          "White",
          "White",
          "Black/African American",
          "White",
          "White",
          "White",
          "White",
          "White",
          "White",
          "Black/African American",
          "Black/African American",
          "White",
          "White",
          "White",
          "White",
          "White",
          "White",
          "White",
          "White",
          "White",
          "White",
          "White",
          "White",
          "White",
          "Black/African American",
          "White",
          "Black/African American",
          "Black/African American",
          "Black/African American",
          "White",
          "Black/African American",
          "Black/African American",
          "Black/African American",
          "Black/African American",
          "Black/African American",
          "White",
          "Black/African American",
          "Black/African American",
          "White",
          "Black/African American",
          "Black/African American",
          "Black/African American",
          "Black/African American",
          "Black/African American",
          "Black/African American",
          "White",
          "Black/African American",
          "Black/African American",
          "White",
          "Black/African American",
          "Black/African American",
          "Black/African American",
          "White",
          "Black/African American",
          "Black/African American",
          "White",
          "Black/African American",
          "Black/African American",
          "Black/African American",
          "White",
          "Black/African American",
          "White",
          "White",
          "White",
          "Black/African American",
          "Black/African American",
          "Black/African American",
          "Multi-racial",
          "Multi-racial",
          "Black/African American",
          "Multi-racial",
          "Black/African American",
          "Black/African American",
          "Multi-racial",
          "Black/African American",
          "Multi-racial",
          "Black/African American",
          "Multi-racial",
          "Multi-racial",
          "Multi-racial",
          "Multi-racial",
          "Black/African American",
          "Multi-racial",
          "Black/African American",
          "Black/African American",
          "Black/African American",
          "Multi-racial",
          "Black/African American",
          "Multi-racial",
          "Black/African American",
          "Black/African American",
          "Multi-racial",
          "Black/African American",
          "Black/African American",
          "Multi-racial",
          "Multi-racial",
          "Multi-racial",
          "Multi-racial",
          "Black/African American",
          "Black/African American",
          "Black/African American",
          "Multi-racial",
          "Black/African American",
          "Black/African American",
          "Multi-racial",
          "Black/African American",
          "Multi-racial",
          "Black/African American",
          "Black/African American",
          "Black/African American",
          "Black/African American",
          "Multi-racial",
          "Multi-racial",
          "Multi-racial",
          "Black/African American",
          "Multi-racial",
          "Multi-racial",
          "Multi-racial",
          "Multi-racial",
          "Black/African American",
          "Multi-racial",
          "Black/African American",
          "Multi-racial",
          "Black/African American",
          "Black/African American",
          "Multi-racial",
          "Multi-racial",
          "Multi-racial",
          "Black/African American",
          "Multi-racial",
          "Multi-racial",
          "Black/African American",
          "Multi-racial",
          "Black/African American",
          "Black/African American",
          "Multi-racial",
          "Black/African American",
          "Black/African American",
          "Black/African American",
          "Black/African American",
          "Multi-racial",
          "Multi-racial",
          "Multi-racial",
          "Multi-racial",
          "Multi-racial",
          "Multi-racial",
          "Multi-racial",
          "Multi-racial",
          "Multi-racial",
          "Multi-racial",
          "Multi-racial",
          "Multi-racial",
          "Multi-racial",
          "Multi-racial",
          "Multi-racial",
          "Multi-racial",
          "Multi-racial",
          "Multi-racial",
          "Multi-racial",
          "Multi-racial",
          "Multi-racial",
          "Multi-racial",
          "Multi-racial",
          "Multi-racial",
          "Multi-racial",
          "Multi-racial",
          "Multi-racial",
          "Multi-racial",
          "Multi-racial",
          "Black/African American",
          "Multi-racial",
          "Multi-racial",
          "Multi-racial",
          "Multi-racial",
          "Black/African American",
          "Multi-racial",
          "Multi-racial",
          "Multi-racial",
          "Multi-racial",
          "Multi-racial",
          "Multi-racial",
          "Black/African American",
          "Multi-racial",
          "Black/African American",
          "Multi-racial",
          "Black/African American",
          "Black/African American",
          "Multi-racial",
          "Multi-racial",
          "Black/African American",
          "Black/African American",
          "Black/African American",
          "Multi-racial",
          "Black/African American",
          "Black/African American",
          "Multi-racial",
          "Multi-racial",
          "Multi-racial",
          "Black/African American",
          "Black/African American",
          "Multi-racial",
          "Multi-racial",
          "Multi-racial",
          "Multi-racial",
          "Multi-racial",
          "Multi-racial",
          "Multi-racial",
          "Multi-racial",
          "Multi-racial",
          "Multi-racial",
          "Black/African American",
          "Multi-racial",
          "Multi-racial",
          "Multi-racial",
          "Multi-racial",
          "Multi-racial",
          "Black/African American",
          "Black/African American",
          "Black/African American",
          "Multi-racial",
          "Multi-racial",
          "Black/African American",
          "Black/African American",
          "Multi-racial",
          "Black/African American",
          "Multi-racial",
          "Multi-racial",
          "Black/African American",
          "Black/African American",
          "Multi-racial",
          "Black/African American",
          "Multi-racial",
          "Multi-racial",
          "Multi-racial",
          "Black/African American",
          "Black/African American",
          "Multi-racial",
          "Black/African American",
          "Multi-racial",
          "Multi-racial",
          "Multi-racial",
          "Multi-racial",
          "Black/African American",
          "Multi-racial",
          "Black/African American",
          "Multi-racial",
          "Multi-racial",
          "Black/African American",
          "Multi-racial",
          "Multi-racial",
          "Black/African American",
          "Black/African American",
          "Black/African American",
          "Multi-racial",
          "Multi-racial",
          "Multi-racial",
          "Black/African American",
          "Multi-racial",
          "Multi-racial",
          "Multi-racial",
          "Multi-racial",
          "Black/African American",
          "Black/African American",
          "Black/African American",
          "Black/African American",
          "Black/African American",
          "Multi-racial",
          "Black/African American",
          "Black/African American",
          "Multi-racial",
          "Multi-racial",
          "Multi-racial",
          "Multi-racial",
          "Multi-racial",
          "Multi-racial",
          "Multi-racial",
          "Black/African American",
          "Black/African American",
          "Multi-racial",
          "Black/African American",
          "Black/African American",
          "Multi-racial",
          "Black/African American",
          "Black/African American",
          "Black/African American",
          "Multi-racial",
          "Multi-racial",
          "Multi-racial",
          "Multi-racial",
          "Black/African American",
          "Black/African American",
          "Black/African American",
          "Multi-racial",
          "Multi-racial",
          "Black/African American",
          "Multi-racial",
          "Black/African American",
          "Multi-racial",
          "Black/African American",
          "Black/African American",
          "Multi-racial",
          "Black/African American",
          "Multi-racial",
          "White",
          "White",
          "White",
          "Allegany",
          "Allegany",
          "Allegany",
          "White",
          "White",
          "Allegany",
          "White",
          "White",
          "White",
          "",
          "Albany",
          "Allegany",
          "Multi-racial",
          "",
          "White",
          "",
          "",
          "",
          "",
          "Albany",
          "",
          "White",
          "Albany",
          "Albany",
          "Albany",
          "",
          "Albany",
          "Albany",
          "White",
          "Multi-racial",
          "White",
          "Black/African American",
          "Albany",
          "Allegany",
          "White",
          "Allegany",
          "Cattaraugus",
          "Multi-racial",
          "Cayuga",
          "Multi-racial",
          "Cayuga",
          "Multi-racial",
          "Cayuga",
          "Cayuga",
          "Cayuga",
          "White",
          "Cayuga",
          "Cayuga",
          "Chautauqua",
          "Chautauqua",
          "Chautauqua",
          "White",
          "Black/African American",
          "Chemung",
          "Chemung",
          "White",
          "White",
          "White",
          "White",
          "Black/African American",
          "Multi-racial",
          "Chemung",
          "Chautauqua",
          "Chautauqua",
          "Chautauqua",
          "Chautauqua",
          "Multi-racial",
          "Black/African American",
          "Black/African American",
          "Cattaraugus",
          "White",
          "White",
          "White",
          "Bronx",
          "Bronx",
          "White",
          "White",
          "White",
          "Bronx",
          "Bronx",
          "White",
          "Bronx",
          "Bronx",
          "Bronx",
          "White",
          "White",
          "Black/African American",
          "Multi-racial",
          "Black/African American",
          "Cattaraugus",
          "Cattaraugus",
          "Cattaraugus",
          "Multi-racial",
          "Cattaraugus",
          "Multi-racial",
          "Broome",
          "Multi-racial",
          "Multi-racial",
          "Broome",
          "Broome",
          "White",
          "Broome",
          "White",
          "Broome",
          "Multi-racial",
          "White",
          "Black/African American",
          "Black/African American",
          "White",
          "White",
          "Multi-racial",
          "Multi-racial",
          "White",
          "Black/African American",
          "White",
          "White",
          "White",
          "White",
          "Black/African American",
          "Multi-racial",
          "White",
          "Black/African American",
          "Black/African American",
          "White",
          "Black/African American",
          "White",
          "White",
          "Multi-racial",
          "Multi-racial",
          "Multi-racial",
          "White",
          "White",
          "White",
          "Multi-racial",
          "Black/African American",
          "White",
          "White",
          "White",
          "White",
          "White",
          "White",
          "Black/African American",
          "White",
          "White",
          "White",
          "White",
          "White",
          "Multi-racial",
          "White",
          "Black/African American",
          "White",
          "White",
          "Multi-racial",
          "White",
          "Multi-racial",
          "White",
          "White",
          "Multi-racial",
          "Black/African American",
          "White",
          "White",
          "White",
          "White",
          "White",
          "White",
          "White",
          "Multi-racial",
          "White",
          "White",
          "White",
          "White",
          "White",
          "White",
          "White",
          "White",
          "White",
          "White",
          "Black/African American",
          "White",
          "Multi-racial",
          "White",
          "White",
          "Multi-racial",
          "White",
          "White",
          "White",
          "White",
          "Multi-racial",
          "Multi-racial",
          "White",
          "White",
          "Multi-racial",
          "Multi-racial",
          "White",
          "Black/African American",
          "White",
          "White",
          "White",
          "White",
          "White",
          "White",
          "White",
          "White",
          "White",
          "White",
          "Multi-racial",
          "White",
          "Black/African American",
          "White",
          "White",
          "White",
          "White",
          "White",
          "Multi-racial",
          "Black/African American",
          "Black/African American",
          "Multi-racial",
          "White",
          "Multi-racial",
          "Black/African American",
          "Multi-racial",
          "White",
          "White",
          "Multi-racial",
          "Multi-racial",
          "Multi-racial",
          "White",
          "White",
          "Chemung",
          "Multi-racial",
          "Multi-racial",
          "White",
          "White",
          "White",
          "Multi-racial",
          "Black/African American",
          "Black/African American",
          "Black/African American",
          "White",
          "Black/African American",
          "Black/African American",
          "Multi-racial",
          "Black/African American",
          "Black/African American",
          "Black/African American",
          "Black/African American",
          "Multi-racial",
          "Multi-racial",
          "Multi-racial",
          "Black/African American",
          "Richmond",
          "Black/African American",
          "Richmond",
          "Richmond",
          "Richmond",
          "Black/African American",
          "Richmond",
          "Richmond",
          "Rensselaer",
          "Rensselaer",
          "Rensselaer",
          "Rensselaer",
          "Rensselaer",
          "Rensselaer",
          "Queens",
          "Black/African American",
          "Queens",
          "Queens",
          "Rockland",
          "Queens",
          "Rockland",
          "Rockland",
          "Schenectady",
          "Schenectady",
          "Black/African American",
          "Schenectady",
          "Black/African American",
          "Schenectady",
          "Saratoga",
          "Saratoga",
          "Saratoga",
          "Saratoga",
          "Saratoga",
          "Saratoga",
          "Saratoga",
          "Saratoga",
          "Saratoga",
          "Rockland",
          "Rockland",
          "Rockland",
          "Rockland",
          "Rockland",
          "Queens",
          "Queens",
          "Putnam",
          "Orleans",
          "Orleans",
          "Orleans",
          "Orleans",
          "Orange",
          "Black/African American",
          "Orange",
          "Orange",
          "Orange",
          "Orange",
          "Orange",
          "Orange",
          "Ontario",
          "Ontario",
          "Ontario",
          "Ontario",
          "Ontario",
          "Ontario",
          "Black/African American",
          "Orleans",
          "Orleans",
          "Orleans",
          "Oswego",
          "Putnam",
          "Putnam",
          "Putnam",
          "Putnam",
          "Putnam",
          "Otsego",
          "Otsego",
          "Otsego",
          "Otsego",
          "Schenectady",
          "Otsego",
          "Otsego",
          "Otsego",
          "Oswego",
          "Oswego",
          "Black/African American",
          "Oswego",
          "Oswego",
          "Oswego",
          "Black/African American",
          "Black/African American",
          "Black/African American",
          "Black/African American",
          "Schuyler",
          "Black/African American",
          "Black/African American",
          "Westchester",
          "Westchester",
          "Black/African American",
          "Black/African American",
          "Wayne",
          "Wayne",
          "Wayne",
          "Wayne",
          "Wayne",
          "Wayne",
          "Wayne",
          "Warren",
          "Warren",
          "Warren",
          "Warren",
          "Warren",
          "Black/African American",
          "Westchester",
          "Westchester",
          "Black/African American",
          "Wyoming",
          "9f0f85e8c9",
          "Black/African American",
          "4a16f69dc8",
          "40919309ec",
          "293d5bd41f",
          "1dea55fda9",
          "Yates",
          "Black/African American",
          "Black/African American",
          "Ulster",
          "Yates",
          "Black/African American",
          "Black/African American",
          "Wyoming",
          "Black/African American",
          "Wyoming",
          "Wyoming",
          "Wyoming",
          "Wyoming",
          "Wyoming",
          "Yates",
          "Black/African American",
          "Ulster",
          "Ulster",
          "Steuben",
          "Steuben",
          "Black/African American",
          "Steuben",
          "St Lawrence",
          "St Lawrence",
          "St Lawrence",
          "St Lawrence",
          "St Lawrence",
          "Black/African American",
          "St Lawrence",
          "St Lawrence",
          "Schuyler",
          "Schuyler",
          "Black/African American",
          "Black/African American",
          "Schuyler",
          "Schuyler",
          "Black/African American",
          "Steuben",
          "Steuben",
          "Suffolk",
          "Suffolk",
          "Ulster",
          "Tompkins",
          "Tompkins",
          "Tompkins",
          "Tompkins",
          "Tompkins",
          "Tompkins",
          "Tompkins",
          "Sullivan",
          "Ulster",
          "Sullivan",
          "Black/African American",
          "Black/African American",
          "Sullivan",
          "Suffolk",
          "Suffolk",
          "Suffolk",
          "Suffolk",
          "Suffolk",
          "Suffolk",
          "Black/African American",
          "Chemung",
          "Oneida",
          "Oneida",
          "Essex",
          "Essex",
          "Essex",
          "Multi-racial",
          "Multi-racial",
          "Essex",
          "Multi-racial",
          "Black/African American",
          "Black/African American",
          "Black/African American",
          "Erie",
          "Erie",
          "Multi-racial",
          "Black/African American",
          "Erie",
          "Erie",
          "Erie",
          "Dutchess",
          "Multi-racial",
          "Essex",
          "Dutchess",
          "Franklin",
          "Franklin",
          "Genesee",
          "Black/African American",
          "Genesee",
          "Black/African American",
          "Genesee",
          "Black/African American",
          "Fulton",
          "Fulton",
          "Fulton",
          "Black/African American",
          "Black/African American",
          "Black/African American",
          "Fulton",
          "Franklin",
          "Multi-racial",
          "Franklin",
          "Multi-racial",
          "Franklin",
          "Franklin",
          "Franklin",
          "Multi-racial",
          "Dutchess",
          "Dutchess",
          "Columbia",
          "Columbia",
          "Clinton",
          "Clinton",
          "Multi-racial",
          "Clinton",
          "Clinton",
          "Clinton",
          "Clinton",
          "Clinton",
          "Chenango",
          "Chenango",
          "Chenango",
          "Chenango",
          "Chenango",
          "Chenango",
          "Chenango",
          "Chenango",
          "Chenango",
          "Multi-racial",
          "Multi-racial",
          "Columbia",
          "Columbia",
          "Dutchess",
          "Delaware",
          "Delaware",
          "Delaware",
          "Delaware",
          "Delaware",
          "Delaware",
          "Delaware",
          "Delaware",
          "Genesee",
          "Cortland",
          "Cortland",
          "Cortland",
          "Cortland",
          "Cortland",
          "Cortland",
          "Cortland",
          "Columbia",
          "Columbia",
          "Multi-racial",
          "Cortland",
          "Genesee",
          "Genesee",
          "Black/African American",
          "Montgomery",
          "Montgomery",
          "Montgomery",
          "Monroe",
          "Monroe",
          "Monroe",
          "Monroe",
          "Monroe",
          "Monroe",
          "Monroe",
          "Monroe",
          "Monroe",
          "Manhattan",
          "Manhattan",
          "Manhattan",
          "Manhattan",
          "Manhattan",
          "Manhattan",
          "Black/African American",
          "Montgomery",
          "Montgomery",
          "Montgomery",
          "Montgomery",
          "Oneida",
          "Oneida",
          "Oneida",
          "Oneida",
          "Niagara",
          "Niagara",
          "Niagara",
          "Niagara",
          "Niagara",
          "Black/African American",
          "Niagara",
          "Nassau",
          "Nassau",
          "Nassau",
          "Nassau",
          "Nassau",
          "Nassau",
          "Nassau",
          "Nassau",
          "Nassau",
          "Niagara",
          "Oneida",
          "Madison",
          "Madison",
          "Kings",
          "Kings",
          "Jefferson",
          "Black/African American",
          "Jefferson",
          "Jefferson",
          "Jefferson",
          "Jefferson",
          "Jefferson",
          "Jefferson",
          "Black/African American",
          "Herkimer",
          "Herkimer",
          "Black/African American",
          "Black/African American",
          "Black/African American",
          "Black/African American",
          "Herkimer",
          "Herkimer",
          "Kings",
          "Kings",
          "Kings",
          "Kings",
          "Madison",
          "Livingston",
          "Livingston",
          "Livingston",
          "Livingston",
          "Black/African American",
          "Livingston",
          "Livingston",
          "Livingston",
          "Madison",
          "Lewis",
          "Lewis",
          "Lewis",
          "Lewis",
          "Lewis",
          "Lewis",
          "Lewis",
          "Kings",
          "Kings",
          "Kings",
          "Lewis",
          "Black/African American",
          "Multi-racial",
          "White",
          "Other Race",
          "Multi-racial",
          "Other Race",
          "Other Race",
          "Multi-racial",
          "Other Race",
          "Black/African American",
          "Multi-racial",
          "Other Race",
          "Multi-racial",
          "Black/African American",
          "Other Race",
          "Black/African American",
          "Other Race",
          "Other Race",
          "Other Race",
          "Multi-racial",
          "Multi-racial",
          "Black/African American",
          "Black/African American",
          "Other Race",
          "Other Race",
          "Other Race",
          "Other Race",
          "Multi-racial",
          "Other Race",
          "Multi-racial",
          "Other Race",
          "Multi-racial",
          "Other Race",
          "Other Race",
          "Other Race",
          "Other Race",
          "Multi-racial",
          "Other Race",
          "Other Race",
          "Other Race",
          "Other Race",
          "Other Race",
          "Multi-racial",
          "Multi-racial",
          "Black/African American",
          "Other Race",
          "Other Race",
          "Other Race",
          "Black/African American",
          "Other Race",
          "Black/African American",
          "Black/African American",
          "Other Race",
          "Other Race",
          "Other Race",
          "Other Race",
          "Multi-racial",
          "Other Race",
          "Other Race",
          "Other Race",
          "Other Race",
          "Multi-racial",
          "Other Race",
          "Other Race",
          "Other Race",
          "Other Race",
          "Other Race",
          "Multi-racial",
          "Multi-racial",
          "Black/African American",
          "Other Race",
          "Black/African American",
          "Multi-racial",
          "Other Race",
          "Other Race",
          "Other Race",
          "Black/African American",
          "Other Race",
          "Multi-racial",
          "Other Race",
          "Other Race",
          "Other Race",
          "Other Race",
          "Other Race",
          "Other Race",
          "Multi-racial",
          "Multi-racial",
          "Black/African American",
          "Multi-racial",
          "Other Race",
          "Other Race",
          "Other Race",
          "Other Race",
          "Multi-racial",
          "Other Race",
          "Other Race",
          "Other Race",
          "Black/African American",
          "Other Race",
          "Multi-racial",
          "Other Race",
          "Multi-racial",
          "Other Race",
          "Multi-racial",
          "Multi-racial",
          "Black/African American",
          "Other Race",
          "Multi-racial",
          "Other Race",
          "Black/African American",
          "Black/African American",
          "Other Race",
          "Other Race",
          "Other Race",
          "Multi-racial",
          "Black/African American",
          "Multi-racial",
          "Black/African American",
          "Multi-racial",
          "Other Race",
          "Other Race",
          "Other Race",
          "Black/African American",
          "Black/African American",
          "Other Race",
          "Other Race",
          "Other Race",
          "Multi-racial",
          "Other Race",
          "Other Race",
          "Other Race",
          "Other Race",
          "Black/African American",
          "Black/African American",
          "Other Race",
          "Multi-racial",
          "Black/African American",
          "Other Race",
          "Multi-racial",
          "Multi-racial",
          "Other Race",
          "Multi-racial",
          "Other Race",
          "Multi-racial",
          "Multi-racial",
          "Other Race",
          "Other Race",
          "Other Race",
          "Other Race",
          "Other Race",
          "Other Race",
          "Multi-racial",
          "Other Race",
          "Other Race",
          "Multi-racial",
          "Other Race",
          "Other Race",
          "Multi-racial",
          "Multi-racial",
          "Multi-racial",
          "Other Race",
          "Other Race",
          "Black/African American",
          "Other Race",
          "Other Race",
          "Other Race",
          "Other Race",
          "Other Race",
          "Multi-racial",
          "Other Race",
          "Other Race",
          "Other Race",
          "Other Race",
          "Multi-racial",
          "Other Race",
          "Other Race",
          "Other Race",
          "Other Race",
          "Other Race",
          "Other Race",
          "Black/African American",
          "Other Race",
          "Other Race",
          "Multi-racial",
          "Multi-racial",
          "Other Race",
          "Multi-racial",
          "Multi-racial",
          "Multi-racial",
          "Other Race",
          "Multi-racial",
          "Other Race",
          "Multi-racial",
          "Multi-racial",
          "Other Race",
          "Other Race",
          "Other Race",
          "Other Race",
          "Other Race",
          "Multi-racial",
          "Other Race",
          "Multi-racial",
          "Other Race",
          "Multi-racial",
          "Multi-racial",
          "Multi-racial",
          "Other Race",
          "Multi-racial",
          "Multi-racial",
          "Multi-racial",
          "Other Race",
          "Other Race",
          "Other Race",
          "Other Race",
          "Multi-racial",
          "Multi-racial",
          "Other Race",
          "Other Race",
          "Multi-racial",
          "Other Race",
          "Other Race",
          "Other Race",
          "Multi-racial",
          "Other Race",
          "Other Race",
          "Multi-racial",
          "Other Race",
          "Other Race",
          "Multi-racial",
          "Multi-racial",
          "Multi-racial",
          "Multi-racial",
          "Multi-racial",
          "Multi-racial",
          "Multi-racial",
          "Multi-racial",
          "Multi-racial",
          "Multi-racial",
          "Multi-racial",
          "Multi-racial",
          "Multi-racial",
          "Multi-racial",
          "Multi-racial",
          "Multi-racial",
          "Multi-racial",
          "Multi-racial",
          "Multi-racial",
          "Multi-racial",
          "Multi-racial",
          "Multi-racial",
          "Multi-racial",
          "Multi-racial",
          "Multi-racial",
          "Other Race",
          "Other Race",
          "Other Race",
          "Other Race",
          "Multi-racial",
          "Multi-racial",
          "Multi-racial",
          "Multi-racial",
          "Multi-racial",
          "Multi-racial",
          "Multi-racial",
          "Multi-racial",
          "Multi-racial",
          "Multi-racial",
          "Multi-racial",
          "Multi-racial",
          "Multi-racial",
          "Multi-racial",
          "Multi-racial",
          "Black/African American",
          "Multi-racial",
          "Other Race",
          "Other Race",
          "Other Race",
          "Multi-racial",
          "Other Race",
          "Other Race",
          "Other Race",
          "Other Race",
          "Other Race",
          "Other Race",
          "Black/African American",
          "Multi-racial",
          "Black/African American",
          "Other Race",
          "Other Race",
          "Other Race",
          "Other Race",
          "Multi-racial",
          "Other Race",
          "Multi-racial",
          "Other Race",
          "Other Race",
          "Multi-racial",
          "Multi-racial",
          "Multi-racial",
          "Other Race",
          "Other Race",
          "Other Race",
          "Multi-racial",
          "Other Race",
          "Other Race",
          "Multi-racial",
          "Other Race",
          "Other Race",
          "Other Race",
          "Other Race",
          "Other Race",
          "Other Race",
          "Other Race",
          "Other Race",
          "Other Race",
          "Multi-racial",
          "Other Race",
          "Other Race",
          "Other Race",
          "Other Race",
          "Other Race",
          "Multi-racial",
          "Multi-racial",
          "Other Race",
          "Other Race",
          "Multi-racial",
          "Other Race",
          "Other Race",
          "Other Race",
          "Other Race",
          "Other Race",
          "Other Race",
          "Other Race",
          "Other Race",
          "Other Race",
          "Multi-racial",
          "Multi-racial",
          "Other Race",
          "Multi-racial",
          "Other Race",
          "Multi-racial",
          "Other Race",
          "Other Race",
          "Other Race",
          "Other Race",
          "Other Race",
          "Other Race",
          "Other Race",
          "Other Race",
          "Other Race",
          "Other Race",
          "Other Race",
          "Other Race",
          "Multi-racial",
          "Other Race",
          "Other Race",
          "Other Race",
          "Other Race",
          "Multi-racial",
          "Black/African American",
          "Multi-racial",
          "Other Race",
          "Multi-racial",
          "White",
          "Multi-racial",
          "Other Race",
          "White",
          "Black/African American",
          "White",
          "White",
          "White",
          "White",
          "White",
          "Multi-racial",
          "White",
          "Multi-racial",
          "White",
          "White",
          "White",
          "White",
          "White",
          "White",
          "White",
          "White",
          "White",
          "Multi-racial",
          "White",
          "White",
          "White",
          "White",
          "White",
          "White",
          "White",
          "White",
          "Multi-racial",
          "Multi-racial",
          "White",
          "White",
          "White",
          "White",
          "White",
          "White",
          "White",
          "White",
          "White",
          "White",
          "White",
          "White",
          "White",
          "White",
          "White",
          "Multi-racial",
          "White",
          "Black/African American",
          "White",
          "White",
          "White",
          "White",
          "White",
          "Multi-racial",
          "Multi-racial",
          "Multi-racial",
          "White",
          "White",
          "Multi-racial",
          "White",
          "Black/African American",
          "White",
          "White",
          "White",
          "Multi-racial",
          "White",
          "Multi-racial",
          "White",
          "White",
          "White",
          "Black/African American",
          "White",
          "White",
          "White",
          "Multi-racial",
          "Black/African American",
          "White",
          "Multi-racial",
          "White",
          "Multi-racial",
          "White",
          "White",
          "White",
          "White",
          "White",
          "Multi-racial",
          "White",
          "White",
          "White",
          "White",
          "Black/African American",
          "Multi-racial",
          "Multi-racial",
          "Black/African American",
          "Multi-racial",
          "Multi-racial",
          "Black/African American",
          "White",
          "Multi-racial",
          "White",
          "White",
          "Multi-racial",
          "Multi-racial",
          "White",
          "White",
          "White",
          "White",
          "White",
          "White",
          "Black/African American",
          "Black/African American",
          "Multi-racial",
          "White",
          "White",
          "White",
          "White",
          "White",
          "Black/African American",
          "Black/African American",
          "Black/African American",
          "Black/African American",
          "Black/African American",
          "Multi-racial",
          "White",
          "Black/African American",
          "Multi-racial",
          "Black/African American",
          "Multi-racial",
          "Multi-racial",
          "Black/African American",
          "Multi-racial",
          "Multi-racial",
          "Multi-racial",
          "Multi-racial",
          "White",
          "Black/African American",
          "Multi-racial",
          "Black/African American",
          "Black/African American",
          "Multi-racial",
          "Multi-racial",
          "Multi-racial",
          "Multi-racial",
          "Multi-racial",
          "Multi-racial",
          "White",
          "Multi-racial",
          "Multi-racial",
          "Multi-racial",
          "White",
          "White",
          "Multi-racial",
          "White",
          "White",
          "Multi-racial",
          "Black/African American",
          "Multi-racial",
          "Multi-racial",
          "Multi-racial",
          "Multi-racial",
          "Multi-racial",
          "White",
          "White",
          "White",
          "White",
          "White",
          "White",
          "White",
          "White",
          "White",
          "White",
          "Black/African American",
          "White",
          "White",
          "Multi-racial",
          "Multi-racial",
          "Multi-racial",
          "Multi-racial",
          "White",
          "White",
          "White",
          "Multi-racial",
          "Other Race",
          "Black/African American",
          "Other Race",
          "Other Race",
          "Multi-racial",
          "Black/African American",
          "Other Race",
          "Other Race",
          "Multi-racial",
          "Other Race",
          "Other Race",
          "Other Race",
          "Multi-racial",
          "Black/African American",
          "Other Race",
          "Multi-racial",
          "Other Race",
          "Other Race",
          "Other Race",
          "Other Race",
          "Other Race",
          "Other Race",
          "Other Race",
          "Other Race",
          "Other Race",
          "Multi-racial",
          "Multi-racial",
          "Other Race",
          "Other Race",
          "Multi-racial",
          "Other Race",
          "Multi-racial",
          "Other Race",
          "Other Race",
          "Multi-racial",
          "Other Race",
          "Multi-racial",
          "Multi-racial",
          "Other Race",
          "Other Race",
          "Black/African American",
          "Other Race",
          "Multi-racial",
          "Black/African American",
          "Other Race",
          "Other Race",
          "Black/African American",
          "Multi-racial",
          "Other Race",
          "Other Race",
          "Other Race",
          "Other Race",
          "Other Race",
          "Other Race",
          "Other Race",
          "Multi-racial",
          "Black/African American",
          "Multi-racial",
          "Multi-racial",
          "Multi-racial",
          "Multi-racial",
          "Multi-racial",
          "Other Race",
          "Other Race",
          "Black/African American",
          "Other Race",
          "Black/African American",
          "Other Race",
          "Black/African American",
          "Other Race",
          "Other Race",
          "Multi-racial",
          "Other Race",
          "Other Race",
          "Other Race",
          "Other Race",
          "Multi-racial",
          "Other Race",
          "Other Race",
          "Other Race",
          "Other Race",
          "Other Race",
          "Multi-racial",
          "Other Race",
          "Other Race",
          "Other Race",
          "Other Race",
          "Other Race",
          "Multi-racial",
          "Other Race",
          "White",
          "White",
          "White",
          "White",
          "Multi-racial",
          "Black/African American",
          "Black/African American",
          "White",
          "White",
          "White",
          "White",
          "Black/African American",
          "White",
          "White",
          "White",
          "White",
          "Multi-racial",
          "White",
          "White",
          "White",
          "White",
          "Multi-racial",
          "White",
          "Multi-racial",
          "White",
          "White",
          "White",
          "White",
          "White",
          "White",
          "White",
          "Multi-racial",
          "White",
          "White",
          "White",
          "White",
          "White",
          "White",
          "White",
          "White",
          "White",
          "White",
          "White",
          "Multi-racial",
          "White",
          "Other Race",
          "Other Race",
          "Other Race",
          "Other Race",
          "Multi-racial",
          "Other Race",
          "Other Race",
          "Other Race",
          "Other Race",
          "Other Race",
          "Other Race",
          "Other Race",
          "Other Race",
          "Multi-racial",
          "Other Race",
          "Other Race",
          "Multi-racial",
          "Black/African American",
          "Other Race",
          "Other Race",
          "Other Race",
          "Other Race",
          "Other Race",
          "White",
          "Multi-racial",
          "Black/African American",
          "White",
          "White",
          "Multi-racial",
          "Other Race",
          "Other Race",
          "Multi-racial",
          "Black/African American",
          "Multi-racial",
          "Other Race",
          "Other Race",
          "Black/African American",
          "Other Race",
          "Other Race",
          "Other Race",
          "Other Race",
          "Other Race",
          "Other Race",
          "Other Race"
         ],
         "marker": {
          "colors": [
           "#636efa",
           "#636efa",
           "#636efa",
           "#636efa",
           "#636efa",
           "#EF553B",
           "#636efa",
           "#636efa",
           "#636efa",
           "#636efa",
           "#636efa",
           "#636efa",
           "#636efa",
           "#636efa",
           "#636efa",
           "#636efa",
           "#00cc96",
           "#636efa",
           "#636efa",
           "#636efa",
           "#636efa",
           "#636efa",
           "#636efa",
           "#636efa",
           "#636efa",
           "#636efa",
           "#636efa",
           "#636efa",
           "#636efa",
           "#636efa",
           "#636efa",
           "#636efa",
           "#636efa",
           "#636efa",
           "#636efa",
           "#636efa",
           "#636efa",
           "#636efa",
           "#636efa",
           "#636efa",
           "#636efa",
           "#636efa",
           "#636efa",
           "#636efa",
           "#636efa",
           "#636efa",
           "#636efa",
           "#636efa",
           "#636efa",
           "#636efa",
           "#636efa",
           "#636efa",
           "#ab63fa",
           "#ab63fa",
           "#ab63fa",
           "#ab63fa",
           "#ab63fa",
           "#ab63fa",
           "#ab63fa",
           "#ab63fa",
           "#ab63fa",
           "#ab63fa",
           "#ab63fa",
           "#ab63fa",
           "#ab63fa",
           "#ab63fa",
           "#ab63fa",
           "#ab63fa",
           "#ab63fa",
           "#ab63fa",
           "#ab63fa",
           "#ab63fa",
           "#ab63fa",
           "#ab63fa",
           "#00cc96",
           "#636efa",
           "#636efa",
           "#636efa",
           "#636efa",
           "#636efa",
           "#636efa",
           "#636efa",
           "#636efa",
           "#636efa",
           "#636efa",
           "#636efa",
           "#636efa",
           "#636efa",
           "#636efa",
           "#636efa",
           "#636efa",
           "#636efa",
           "#636efa",
           "#636efa",
           "#636efa",
           "#636efa",
           "#636efa",
           "#636efa",
           "#636efa",
           "#636efa",
           "#ab63fa",
           "#636efa",
           "#FFA15A",
           "#FFA15A",
           "#FFA15A",
           "#00cc96",
           "#FFA15A",
           "#FFA15A",
           "#00cc96",
           "#00cc96",
           "#00cc96",
           "#00cc96",
           "#FFA15A",
           "#FFA15A",
           "#FFA15A",
           "#FFA15A",
           "#FFA15A",
           "#FFA15A",
           "#00cc96",
           "#00cc96",
           "#FFA15A",
           "#00cc96",
           "#FFA15A",
           "#FFA15A",
           "#00cc96",
           "#00cc96",
           "#FFA15A",
           "#FFA15A",
           "#19d3f3",
           "#19d3f3",
           "#19d3f3",
           "#19d3f3",
           "#19d3f3",
           "#19d3f3",
           "#19d3f3",
           "#19d3f3",
           "#19d3f3",
           "#19d3f3",
           "#00cc96",
           "#19d3f3",
           "#19d3f3",
           "#19d3f3",
           "#FFA15A",
           "#FFA15A",
           "#00cc96",
           "#FFA15A",
           "#FFA15A",
           "#FFA15A",
           "#FFA15A",
           "#FFA15A",
           "#19d3f3",
           "#636efa",
           "#FFA15A",
           "#FFA15A",
           "#FFA15A",
           "#FFA15A",
           "#FFA15A",
           "#FFA15A",
           "#FFA15A",
           "#FFA15A",
           "#FFA15A",
           "#00cc96",
           "#FFA15A",
           "#FFA15A",
           "#FFA15A",
           "#FFA15A",
           "#FFA15A",
           "#FFA15A",
           "#FFA15A",
           "#00cc96",
           "#FFA15A",
           "#FFA15A",
           "#00cc96",
           "#FFA15A",
           "#00cc96",
           "#00cc96",
           "#00cc96",
           "#FFA15A",
           "#FFA15A",
           "#FFA15A",
           "#FFA15A",
           "#FFA15A",
           "#00cc96",
           "#FFA15A",
           "#FFA15A",
           "#FFA15A",
           "#00cc96",
           "#FFA15A",
           "#FFA15A",
           "#FFA15A",
           "#FFA15A",
           "#00cc96",
           "#FFA15A",
           "#FFA15A",
           "#FFA15A",
           "#FFA15A",
           "#FFA15A",
           "#FFA15A",
           "#00cc96",
           "#00cc96",
           "#00cc96",
           "#FFA15A",
           "#19d3f3",
           "#ab63fa",
           "#ab63fa",
           "#ab63fa",
           "#ab63fa",
           "#EF553B",
           "#EF553B",
           "#EF553B",
           "#EF553B",
           "#EF553B",
           "#EF553B",
           "#EF553B",
           "#EF553B",
           "#EF553B",
           "#EF553B",
           "#EF553B",
           "#EF553B",
           "#EF553B",
           "#EF553B",
           "#EF553B",
           "#EF553B",
           "#EF553B",
           "#EF553B",
           "#EF553B",
           "#ab63fa",
           "#ab63fa",
           "#ab63fa",
           "#ab63fa",
           "#ab63fa",
           "#ab63fa",
           "#ab63fa",
           "#ab63fa",
           "#ab63fa",
           "#ab63fa",
           "#ab63fa",
           "#ab63fa",
           "#ab63fa",
           "#ab63fa",
           "#00cc96",
           "#ab63fa",
           "#ab63fa",
           "#ab63fa",
           "#ab63fa",
           "#ab63fa",
           "#ab63fa",
           "#ab63fa",
           "#ab63fa",
           "#ab63fa",
           "#ab63fa",
           "#ab63fa",
           "#ab63fa",
           "#ab63fa",
           "#EF553B",
           "#EF553B",
           "#EF553B",
           "#EF553B",
           "#EF553B",
           "#EF553B",
           "#EF553B",
           "#EF553B",
           "#EF553B",
           "#EF553B",
           "#EF553B",
           "#EF553B",
           "#EF553B",
           "#EF553B",
           "#EF553B",
           "#EF553B",
           "#EF553B",
           "#EF553B",
           "#EF553B",
           "#EF553B",
           "#EF553B",
           "#EF553B",
           "#EF553B",
           "#EF553B",
           "#EF553B",
           "#EF553B",
           "#EF553B",
           "#EF553B",
           "#EF553B",
           "#EF553B",
           "#EF553B",
           "#EF553B",
           "#EF553B",
           "#EF553B",
           "#EF553B",
           "#EF553B",
           "#EF553B",
           "#EF553B",
           "#EF553B",
           "#EF553B",
           "#EF553B",
           "#EF553B",
           "#EF553B",
           "#EF553B",
           "#EF553B",
           "#EF553B",
           "#EF553B",
           "#EF553B",
           "#EF553B",
           "#EF553B",
           "#ab63fa",
           "#ab63fa",
           "#ab63fa",
           "#ab63fa",
           "#ab63fa",
           "#ab63fa",
           "#ab63fa",
           "#ab63fa",
           "#ab63fa",
           "#ab63fa",
           "#ab63fa",
           "#ab63fa",
           "#ab63fa",
           "#ab63fa",
           "#ab63fa",
           "#ab63fa",
           "#ab63fa",
           "#ab63fa",
           "#ab63fa",
           "#ab63fa",
           "#ab63fa",
           "#ab63fa",
           "#ab63fa",
           "#ab63fa",
           "#ab63fa",
           "#ab63fa",
           "#ab63fa",
           "#ab63fa",
           "#ab63fa",
           "#ab63fa",
           "#ab63fa",
           "#ab63fa",
           "#ab63fa",
           "#ab63fa",
           "#ab63fa",
           "#ab63fa",
           "#ab63fa",
           "#ab63fa",
           "#ab63fa",
           "#ab63fa",
           "#ab63fa",
           "#ab63fa",
           "#ab63fa",
           "#ab63fa",
           "#ab63fa",
           "#ab63fa",
           "#ab63fa",
           "#ab63fa",
           "#ab63fa",
           "#ab63fa",
           "#ab63fa",
           "#ab63fa",
           "#ab63fa",
           "#ab63fa",
           "#ab63fa",
           "#ab63fa",
           "#ab63fa",
           "#ab63fa",
           "#ab63fa",
           "#ab63fa",
           "#ab63fa",
           "#ab63fa",
           "#ab63fa",
           "#ab63fa",
           "#ab63fa",
           "#ab63fa",
           "#ab63fa",
           "#ab63fa",
           "#ab63fa",
           "#ab63fa",
           "#ab63fa",
           "#ab63fa",
           "#ab63fa",
           "#ab63fa",
           "#ab63fa",
           "#ab63fa",
           "#ab63fa",
           "#ab63fa",
           "#ab63fa",
           "#ab63fa",
           "#ab63fa",
           "#ab63fa",
           "#ab63fa",
           "#ab63fa",
           "#ab63fa",
           "#ab63fa",
           "#ab63fa",
           "#ab63fa",
           "#ab63fa",
           "#ab63fa",
           "#ab63fa",
           "#ab63fa",
           "#ab63fa",
           "#ab63fa",
           "#ab63fa",
           "#ab63fa",
           "#ab63fa",
           "#ab63fa",
           "#ab63fa",
           "#ab63fa",
           "#ab63fa",
           "#ab63fa",
           "#19d3f3",
           "#EF553B",
           "#19d3f3",
           "#19d3f3",
           "#19d3f3",
           "#19d3f3",
           "#19d3f3",
           "#19d3f3",
           "#19d3f3",
           "#19d3f3",
           "#19d3f3",
           "#19d3f3",
           "#19d3f3",
           "#19d3f3",
           "#19d3f3",
           "#19d3f3",
           "#19d3f3",
           "#19d3f3",
           "#19d3f3",
           "#19d3f3",
           "#19d3f3",
           "#19d3f3",
           "#19d3f3",
           "#19d3f3",
           "#19d3f3",
           "#19d3f3",
           "#19d3f3",
           "#19d3f3",
           "#19d3f3",
           "#19d3f3",
           "#19d3f3",
           "#19d3f3",
           "#19d3f3",
           "#19d3f3",
           "#19d3f3",
           "#19d3f3",
           "#19d3f3",
           "#19d3f3",
           "#19d3f3",
           "#19d3f3",
           "#19d3f3",
           "#19d3f3",
           "#19d3f3",
           "#19d3f3",
           "#19d3f3",
           "#19d3f3",
           "#19d3f3",
           "#19d3f3",
           "#19d3f3",
           "#19d3f3",
           "#19d3f3",
           "#19d3f3",
           "#19d3f3",
           "#19d3f3",
           "#19d3f3",
           "#00cc96",
           "#19d3f3",
           "#19d3f3",
           "#19d3f3",
           "#19d3f3",
           "#19d3f3",
           "#19d3f3",
           "#19d3f3",
           "#19d3f3",
           "#19d3f3",
           "#19d3f3",
           "#19d3f3",
           "#19d3f3",
           "#19d3f3",
           "#00cc96",
           "#19d3f3",
           "#19d3f3",
           "#19d3f3",
           "#00cc96",
           "#19d3f3",
           "#19d3f3",
           "#19d3f3",
           "#19d3f3",
           "#19d3f3",
           "#19d3f3",
           "#636efa",
           "#636efa",
           "#ab63fa",
           "#636efa",
           "#19d3f3",
           "#00cc96",
           "#19d3f3",
           "#636efa",
           "#ab63fa",
           "#EF553B",
           "#636efa",
           "#19d3f3",
           "#FFA15A",
           "#ab63fa",
           "#19d3f3",
           "#19d3f3",
           "#ab63fa",
           "#ab63fa",
           "#636efa",
           "#EF553B",
           "#19d3f3",
           "#19d3f3",
           "#FFA15A",
           "#00cc96",
           "#EF553B",
           "#FFA15A",
           "#EF553B",
           "#636efa",
           "#636efa",
           "#636efa",
           "#636efa",
           "#19d3f3",
           "#636efa",
           "#19d3f3",
           "#19d3f3",
           "#636efa",
           "#19d3f3",
           "#636efa",
           "#636efa",
           "#19d3f3",
           "#19d3f3",
           "#636efa",
           "#19d3f3",
           "#636efa",
           "#636efa",
           "#636efa",
           "#636efa",
           "#00cc96",
           "#636efa",
           "#636efa",
           "#636efa",
           "#19d3f3",
           "#636efa",
           "#636efa",
           "#636efa",
           "#636efa",
           "#636efa",
           "#636efa",
           "#636efa",
           "#636efa",
           "#636efa",
           "#636efa",
           "#636efa",
           "#19d3f3",
           "#636efa",
           "#636efa",
           "#636efa",
           "#19d3f3",
           "#636efa",
           "#636efa",
           "#19d3f3",
           "#636efa",
           "#19d3f3",
           "#636efa",
           "#636efa",
           "#19d3f3",
           "#636efa",
           "#636efa",
           "#19d3f3",
           "#19d3f3",
           "#19d3f3",
           "#19d3f3",
           "#19d3f3",
           "#19d3f3",
           "#19d3f3",
           "#ab63fa",
           "#19d3f3",
           "#FFA15A",
           "#ab63fa",
           "#19d3f3",
           "#ab63fa",
           "#ab63fa",
           "#ab63fa",
           "#19d3f3",
           "#19d3f3",
           "#19d3f3",
           "#19d3f3",
           "#19d3f3",
           "#ab63fa",
           "#19d3f3",
           "#ab63fa",
           "#19d3f3",
           "#19d3f3",
           "#19d3f3",
           "#19d3f3",
           "#19d3f3",
           "#ab63fa",
           "#ab63fa",
           "#19d3f3",
           "#19d3f3",
           "#636efa",
           "#636efa",
           "#19d3f3",
           "#19d3f3",
           "#19d3f3",
           "#ab63fa",
           "#636efa",
           "#ab63fa",
           "#ab63fa",
           "#00cc96",
           "#ab63fa",
           "#ab63fa",
           "#19d3f3",
           "#ab63fa",
           "#19d3f3",
           "#ab63fa",
           "#19d3f3",
           "#ab63fa",
           "#00cc96",
           "#ab63fa",
           "#00cc96",
           "#19d3f3",
           "#636efa",
           "#19d3f3",
           "#636efa",
           "#636efa",
           "#19d3f3",
           "#636efa",
           "#636efa",
           "#19d3f3",
           "#636efa",
           "#636efa",
           "#636efa",
           "#00cc96",
           "#636efa",
           "#636efa",
           "#636efa",
           "#636efa",
           "#636efa",
           "#636efa",
           "#636efa",
           "#636efa",
           "#636efa",
           "#636efa",
           "#636efa",
           "#19d3f3",
           "#636efa",
           "#636efa",
           "#00cc96",
           "#636efa",
           "#636efa",
           "#636efa",
           "#636efa",
           "#636efa",
           "#19d3f3",
           "#19d3f3",
           "#636efa",
           "#636efa",
           "#636efa",
           "#636efa",
           "#636efa",
           "#00cc96",
           "#636efa",
           "#636efa",
           "#636efa",
           "#19d3f3",
           "#636efa",
           "#636efa",
           "#636efa",
           "#636efa",
           "#636efa",
           "#636efa",
           "#636efa",
           "#636efa",
           "#636efa",
           "#636efa",
           "#636efa",
           "#636efa",
           "#636efa",
           "#636efa",
           "#636efa",
           "#636efa",
           "#19d3f3",
           "#636efa",
           "#636efa",
           "#636efa",
           "#636efa",
           "#636efa",
           "#636efa",
           "#19d3f3",
           "#636efa",
           "#636efa",
           "#636efa",
           "#636efa",
           "#636efa",
           "#636efa",
           "#19d3f3",
           "#636efa",
           "#636efa",
           "#636efa",
           "#636efa",
           "#636efa",
           "#636efa",
           "#636efa",
           "#636efa",
           "#636efa",
           "#636efa",
           "#636efa",
           "#636efa",
           "#19d3f3",
           "#636efa",
           "#636efa",
           "#636efa",
           "#636efa",
           "#636efa",
           "#636efa",
           "#636efa",
           "#19d3f3",
           "#19d3f3",
           "#636efa",
           "#636efa",
           "#636efa",
           "#636efa",
           "#636efa",
           "#19d3f3",
           "#636efa",
           "#19d3f3",
           "#19d3f3",
           "#636efa",
           "#636efa",
           "#636efa",
           "#636efa",
           "#636efa",
           "#19d3f3",
           "#ab63fa",
           "#EF553B",
           "#EF553B",
           "#EF553B",
           "#EF553B",
           "#19d3f3",
           "#19d3f3",
           "#EF553B",
           "#19d3f3",
           "#EF553B",
           "#EF553B",
           "#19d3f3",
           "#EF553B",
           "#EF553B",
           "#EF553B",
           "#19d3f3",
           "#19d3f3",
           "#EF553B",
           "#EF553B",
           "#EF553B",
           "#19d3f3",
           "#EF553B",
           "#EF553B",
           "#EF553B",
           "#EF553B",
           "#19d3f3",
           "#EF553B",
           "#EF553B",
           "#EF553B",
           "#EF553B",
           "#19d3f3",
           "#EF553B",
           "#19d3f3",
           "#19d3f3",
           "#19d3f3",
           "#19d3f3",
           "#19d3f3",
           "#ab63fa",
           "#ab63fa",
           "#19d3f3",
           "#19d3f3",
           "#ab63fa",
           "#ab63fa",
           "#ab63fa",
           "#EF553B",
           "#EF553B",
           "#19d3f3",
           "#EF553B",
           "#EF553B",
           "#EF553B",
           "#19d3f3",
           "#EF553B",
           "#19d3f3",
           "#EF553B",
           "#EF553B",
           "#19d3f3",
           "#EF553B",
           "#19d3f3",
           "#19d3f3",
           "#19d3f3",
           "#19d3f3",
           "#EF553B",
           "#EF553B",
           "#19d3f3",
           "#19d3f3",
           "#EF553B",
           "#EF553B",
           "#EF553B",
           "#EF553B",
           "#19d3f3",
           "#EF553B",
           "#EF553B",
           "#EF553B",
           "#19d3f3",
           "#19d3f3",
           "#EF553B",
           "#EF553B",
           "#EF553B",
           "#EF553B",
           "#EF553B",
           "#EF553B",
           "#19d3f3",
           "#EF553B",
           "#EF553B",
           "#EF553B",
           "#EF553B",
           "#EF553B",
           "#EF553B",
           "#EF553B",
           "#EF553B",
           "#EF553B",
           "#EF553B",
           "#EF553B",
           "#19d3f3",
           "#EF553B",
           "#EF553B",
           "#19d3f3",
           "#EF553B",
           "#EF553B",
           "#EF553B",
           "#19d3f3",
           "#EF553B",
           "#EF553B",
           "#EF553B",
           "#EF553B",
           "#EF553B",
           "#EF553B",
           "#EF553B",
           "#19d3f3",
           "#EF553B",
           "#EF553B",
           "#EF553B",
           "#19d3f3",
           "#EF553B",
           "#EF553B",
           "#EF553B",
           "#EF553B",
           "#EF553B",
           "#19d3f3",
           "#19d3f3",
           "#EF553B",
           "#EF553B",
           "#EF553B",
           "#EF553B",
           "#19d3f3",
           "#EF553B",
           "#19d3f3",
           "#ab63fa",
           "#19d3f3",
           "#19d3f3",
           "#00cc96",
           "#19d3f3",
           "#19d3f3",
           "#19d3f3",
           "#19d3f3",
           "#19d3f3",
           "#ab63fa",
           "#19d3f3",
           "#19d3f3",
           "#19d3f3",
           "#ab63fa",
           "#ab63fa",
           "#19d3f3",
           "#ab63fa",
           "#ab63fa",
           "#ab63fa",
           "#ab63fa",
           "#ab63fa",
           "#19d3f3",
           "#ab63fa",
           "#ab63fa",
           "#ab63fa",
           "#ab63fa",
           "#ab63fa",
           "#ab63fa",
           "#ab63fa",
           "#19d3f3",
           "#ab63fa",
           "#ab63fa",
           "#19d3f3",
           "#19d3f3",
           "#19d3f3",
           "#19d3f3",
           "#19d3f3",
           "#ab63fa",
           "#ab63fa",
           "#ab63fa",
           "#ab63fa",
           "#ab63fa",
           "#ab63fa",
           "#ab63fa",
           "#ab63fa",
           "#ab63fa",
           "#19d3f3",
           "#19d3f3",
           "#19d3f3",
           "#ab63fa",
           "#ab63fa",
           "#19d3f3",
           "#ab63fa",
           "#ab63fa",
           "#ab63fa",
           "#ab63fa",
           "#19d3f3",
           "#19d3f3",
           "#19d3f3",
           "#19d3f3",
           "#19d3f3",
           "#ab63fa",
           "#19d3f3",
           "#ab63fa",
           "#ab63fa",
           "#ab63fa",
           "#19d3f3",
           "#ab63fa",
           "#ab63fa",
           "#ab63fa",
           "#ab63fa",
           "#ab63fa",
           "#ab63fa",
           "#19d3f3",
           "#19d3f3",
           "#ab63fa",
           "#ab63fa",
           "#ab63fa",
           "#ab63fa",
           "#ab63fa",
           "#ab63fa",
           "#ab63fa",
           "#ab63fa",
           "#ab63fa",
           "#ab63fa",
           "#ab63fa",
           "#ab63fa",
           "#ab63fa",
           "#19d3f3",
           "#ab63fa",
           "#19d3f3",
           "#19d3f3",
           "#19d3f3",
           "#ab63fa",
           "#19d3f3",
           "#19d3f3",
           "#19d3f3",
           "#19d3f3",
           "#00cc96",
           "#ab63fa",
           "#19d3f3",
           "#19d3f3",
           "#ab63fa",
           "#19d3f3",
           "#19d3f3",
           "#19d3f3",
           "#00cc96",
           "#19d3f3",
           "#19d3f3",
           "#ab63fa",
           "#19d3f3",
           "#19d3f3",
           "#ab63fa",
           "#19d3f3",
           "#19d3f3",
           "#19d3f3",
           "#ab63fa",
           "#00cc96",
           "#00cc96",
           "#ab63fa",
           "#19d3f3",
           "#19d3f3",
           "#19d3f3",
           "#ab63fa",
           "#19d3f3",
           "#ab63fa",
           "#ab63fa",
           "#ab63fa",
           "#19d3f3",
           "#19d3f3",
           "#19d3f3",
           "#FFA15A",
           "#FFA15A",
           "#19d3f3",
           "#00cc96",
           "#19d3f3",
           "#19d3f3",
           "#FFA15A",
           "#19d3f3",
           "#00cc96",
           "#19d3f3",
           "#FFA15A",
           "#FFA15A",
           "#FFA15A",
           "#FFA15A",
           "#19d3f3",
           "#00cc96",
           "#19d3f3",
           "#19d3f3",
           "#19d3f3",
           "#00cc96",
           "#19d3f3",
           "#FFA15A",
           "#19d3f3",
           "#19d3f3",
           "#FFA15A",
           "#19d3f3",
           "#19d3f3",
           "#FFA15A",
           "#00cc96",
           "#00cc96",
           "#FFA15A",
           "#19d3f3",
           "#19d3f3",
           "#19d3f3",
           "#FFA15A",
           "#19d3f3",
           "#19d3f3",
           "#00cc96",
           "#19d3f3",
           "#FFA15A",
           "#19d3f3",
           "#19d3f3",
           "#19d3f3",
           "#19d3f3",
           "#FFA15A",
           "#00cc96",
           "#00cc96",
           "#19d3f3",
           "#FFA15A",
           "#FFA15A",
           "#00cc96",
           "#FFA15A",
           "#19d3f3",
           "#FFA15A",
           "#19d3f3",
           "#00cc96",
           "#19d3f3",
           "#19d3f3",
           "#00cc96",
           "#FFA15A",
           "#FFA15A",
           "#19d3f3",
           "#FFA15A",
           "#FFA15A",
           "#19d3f3",
           "#FFA15A",
           "#19d3f3",
           "#19d3f3",
           "#FFA15A",
           "#19d3f3",
           "#19d3f3",
           "#19d3f3",
           "#19d3f3",
           "#FFA15A",
           "#FFA15A",
           "#FFA15A",
           "#FFA15A",
           "#FFA15A",
           "#00cc96",
           "#FFA15A",
           "#FFA15A",
           "#FFA15A",
           "#FFA15A",
           "#00cc96",
           "#FFA15A",
           "#FFA15A",
           "#00cc96",
           "#FFA15A",
           "#FFA15A",
           "#FFA15A",
           "#FFA15A",
           "#FFA15A",
           "#FFA15A",
           "#00cc96",
           "#FFA15A",
           "#00cc96",
           "#FFA15A",
           "#FFA15A",
           "#FFA15A",
           "#FFA15A",
           "#FFA15A",
           "#00cc96",
           "#19d3f3",
           "#00cc96",
           "#FFA15A",
           "#00cc96",
           "#00cc96",
           "#19d3f3",
           "#FFA15A",
           "#00cc96",
           "#00cc96",
           "#00cc96",
           "#FFA15A",
           "#00cc96",
           "#19d3f3",
           "#FFA15A",
           "#19d3f3",
           "#FFA15A",
           "#19d3f3",
           "#19d3f3",
           "#FFA15A",
           "#FFA15A",
           "#19d3f3",
           "#19d3f3",
           "#19d3f3",
           "#00cc96",
           "#19d3f3",
           "#19d3f3",
           "#00cc96",
           "#FFA15A",
           "#FFA15A",
           "#19d3f3",
           "#19d3f3",
           "#FFA15A",
           "#FFA15A",
           "#FFA15A",
           "#FFA15A",
           "#FFA15A",
           "#FFA15A",
           "#00cc96",
           "#FFA15A",
           "#FFA15A",
           "#FFA15A",
           "#19d3f3",
           "#FFA15A",
           "#FFA15A",
           "#FFA15A",
           "#FFA15A",
           "#00cc96",
           "#19d3f3",
           "#19d3f3",
           "#19d3f3",
           "#FFA15A",
           "#FFA15A",
           "#19d3f3",
           "#19d3f3",
           "#FFA15A",
           "#19d3f3",
           "#FFA15A",
           "#FFA15A",
           "#19d3f3",
           "#19d3f3",
           "#FFA15A",
           "#19d3f3",
           "#00cc96",
           "#FFA15A",
           "#FFA15A",
           "#19d3f3",
           "#19d3f3",
           "#FFA15A",
           "#19d3f3",
           "#FFA15A",
           "#FFA15A",
           "#00cc96",
           "#00cc96",
           "#19d3f3",
           "#00cc96",
           "#19d3f3",
           "#FFA15A",
           "#FFA15A",
           "#19d3f3",
           "#00cc96",
           "#00cc96",
           "#19d3f3",
           "#19d3f3",
           "#19d3f3",
           "#FFA15A",
           "#FFA15A",
           "#FFA15A",
           "#19d3f3",
           "#FFA15A",
           "#FFA15A",
           "#FFA15A",
           "#FFA15A",
           "#19d3f3",
           "#19d3f3",
           "#19d3f3",
           "#19d3f3",
           "#19d3f3",
           "#00cc96",
           "#19d3f3",
           "#19d3f3",
           "#FFA15A",
           "#FFA15A",
           "#00cc96",
           "#FFA15A",
           "#00cc96",
           "#FFA15A",
           "#00cc96",
           "#19d3f3",
           "#19d3f3",
           "#FFA15A",
           "#00cc96",
           "#19d3f3",
           "#FFA15A",
           "#19d3f3",
           "#19d3f3",
           "#19d3f3",
           "#FFA15A",
           "#FFA15A",
           "#FFA15A",
           "#FFA15A",
           "#19d3f3",
           "#00cc96",
           "#19d3f3",
           "#00cc96",
           "#FFA15A",
           "#19d3f3",
           "#FFA15A",
           "#19d3f3",
           "#FFA15A",
           "#19d3f3",
           "#19d3f3",
           "#FFA15A",
           "#19d3f3",
           "#00cc96",
           "#ab63fa",
           "#00cc96",
           "#ab63fa",
           "#EF553B",
           "#EF553B",
           "#EF553B",
           "#ab63fa",
           "#ab63fa",
           "#EF553B",
           "#ab63fa",
           "#ab63fa",
           "#ab63fa",
           "#EF553B",
           "#EF553B",
           "#EF553B",
           "#00cc96",
           "#EF553B",
           "#ab63fa",
           "#EF553B",
           "#EF553B",
           "#EF553B",
           "#EF553B",
           "#EF553B",
           "#EF553B",
           "#ab63fa",
           "#EF553B",
           "#EF553B",
           "#EF553B",
           "#EF553B",
           "#EF553B",
           "#EF553B",
           "#ab63fa",
           "#FFA15A",
           "#ab63fa",
           "#19d3f3",
           "#EF553B",
           "#EF553B",
           "#ab63fa",
           "#EF553B",
           "#EF553B",
           "#00cc96",
           "#EF553B",
           "#00cc96",
           "#EF553B",
           "#FFA15A",
           "#EF553B",
           "#EF553B",
           "#EF553B",
           "#ab63fa",
           "#EF553B",
           "#EF553B",
           "#EF553B",
           "#EF553B",
           "#EF553B",
           "#ab63fa",
           "#19d3f3",
           "#EF553B",
           "#EF553B",
           "#ab63fa",
           "#ab63fa",
           "#ab63fa",
           "#00cc96",
           "#19d3f3",
           "#00cc96",
           "#EF553B",
           "#EF553B",
           "#EF553B",
           "#EF553B",
           "#EF553B",
           "#00cc96",
           "#19d3f3",
           "#19d3f3",
           "#EF553B",
           "#ab63fa",
           "#ab63fa",
           "#ab63fa",
           "#EF553B",
           "#EF553B",
           "#ab63fa",
           "#ab63fa",
           "#ab63fa",
           "#EF553B",
           "#EF553B",
           "#ab63fa",
           "#EF553B",
           "#EF553B",
           "#EF553B",
           "#ab63fa",
           "#ab63fa",
           "#19d3f3",
           "#FFA15A",
           "#19d3f3",
           "#EF553B",
           "#EF553B",
           "#EF553B",
           "#FFA15A",
           "#EF553B",
           "#FFA15A",
           "#EF553B",
           "#FFA15A",
           "#FFA15A",
           "#EF553B",
           "#EF553B",
           "#ab63fa",
           "#EF553B",
           "#ab63fa",
           "#EF553B",
           "#FFA15A",
           "#ab63fa",
           "#19d3f3",
           "#19d3f3",
           "#ab63fa",
           "#ab63fa",
           "#FFA15A",
           "#FFA15A",
           "#ab63fa",
           "#19d3f3",
           "#ab63fa",
           "#ab63fa",
           "#ab63fa",
           "#ab63fa",
           "#19d3f3",
           "#FFA15A",
           "#ab63fa",
           "#19d3f3",
           "#19d3f3",
           "#ab63fa",
           "#19d3f3",
           "#ab63fa",
           "#ab63fa",
           "#FFA15A",
           "#00cc96",
           "#FFA15A",
           "#ab63fa",
           "#ab63fa",
           "#ab63fa",
           "#FFA15A",
           "#19d3f3",
           "#ab63fa",
           "#ab63fa",
           "#ab63fa",
           "#ab63fa",
           "#ab63fa",
           "#ab63fa",
           "#19d3f3",
           "#ab63fa",
           "#ab63fa",
           "#ab63fa",
           "#ab63fa",
           "#ab63fa",
           "#FFA15A",
           "#ab63fa",
           "#19d3f3",
           "#ab63fa",
           "#ab63fa",
           "#00cc96",
           "#ab63fa",
           "#FFA15A",
           "#ab63fa",
           "#ab63fa",
           "#00cc96",
           "#19d3f3",
           "#ab63fa",
           "#ab63fa",
           "#ab63fa",
           "#ab63fa",
           "#ab63fa",
           "#ab63fa",
           "#ab63fa",
           "#FFA15A",
           "#ab63fa",
           "#ab63fa",
           "#ab63fa",
           "#ab63fa",
           "#ab63fa",
           "#ab63fa",
           "#ab63fa",
           "#ab63fa",
           "#ab63fa",
           "#ab63fa",
           "#19d3f3",
           "#ab63fa",
           "#FFA15A",
           "#ab63fa",
           "#ab63fa",
           "#00cc96",
           "#ab63fa",
           "#ab63fa",
           "#ab63fa",
           "#ab63fa",
           "#FFA15A",
           "#00cc96",
           "#ab63fa",
           "#ab63fa",
           "#FFA15A",
           "#FFA15A",
           "#ab63fa",
           "#19d3f3",
           "#ab63fa",
           "#ab63fa",
           "#ab63fa",
           "#ab63fa",
           "#ab63fa",
           "#ab63fa",
           "#ab63fa",
           "#ab63fa",
           "#ab63fa",
           "#ab63fa",
           "#FFA15A",
           "#ab63fa",
           "#19d3f3",
           "#ab63fa",
           "#ab63fa",
           "#ab63fa",
           "#ab63fa",
           "#ab63fa",
           "#FFA15A",
           "#19d3f3",
           "#19d3f3",
           "#00cc96",
           "#ab63fa",
           "#FFA15A",
           "#19d3f3",
           "#00cc96",
           "#ab63fa",
           "#ab63fa",
           "#FFA15A",
           "#FFA15A",
           "#FFA15A",
           "#ab63fa",
           "#ab63fa",
           "#EF553B",
           "#FFA15A",
           "#00cc96",
           "#ab63fa",
           "#ab63fa",
           "#ab63fa",
           "#00cc96",
           "#19d3f3",
           "#19d3f3",
           "#00cc96",
           "#ab63fa",
           "#19d3f3",
           "#19d3f3",
           "#FFA15A",
           "#19d3f3",
           "#19d3f3",
           "#19d3f3",
           "#19d3f3",
           "#00cc96",
           "#FFA15A",
           "#FFA15A",
           "#19d3f3",
           "#EF553B",
           "#19d3f3",
           "#EF553B",
           "#EF553B",
           "#EF553B",
           "#19d3f3",
           "#EF553B",
           "#EF553B",
           "#EF553B",
           "#EF553B",
           "#EF553B",
           "#EF553B",
           "#EF553B",
           "#EF553B",
           "#EF553B",
           "#19d3f3",
           "#EF553B",
           "#EF553B",
           "#EF553B",
           "#EF553B",
           "#EF553B",
           "#EF553B",
           "#EF553B",
           "#EF553B",
           "#19d3f3",
           "#EF553B",
           "#19d3f3",
           "#EF553B",
           "#EF553B",
           "#EF553B",
           "#EF553B",
           "#EF553B",
           "#EF553B",
           "#EF553B",
           "#EF553B",
           "#EF553B",
           "#EF553B",
           "#EF553B",
           "#EF553B",
           "#EF553B",
           "#EF553B",
           "#EF553B",
           "#EF553B",
           "#EF553B",
           "#EF553B",
           "#EF553B",
           "#EF553B",
           "#EF553B",
           "#EF553B",
           "#EF553B",
           "#19d3f3",
           "#EF553B",
           "#EF553B",
           "#EF553B",
           "#EF553B",
           "#EF553B",
           "#EF553B",
           "#EF553B",
           "#EF553B",
           "#EF553B",
           "#EF553B",
           "#EF553B",
           "#EF553B",
           "#19d3f3",
           "#EF553B",
           "#EF553B",
           "#EF553B",
           "#EF553B",
           "#EF553B",
           "#EF553B",
           "#EF553B",
           "#EF553B",
           "#EF553B",
           "#EF553B",
           "#EF553B",
           "#EF553B",
           "#EF553B",
           "#EF553B",
           "#EF553B",
           "#EF553B",
           "#EF553B",
           "#EF553B",
           "#EF553B",
           "#19d3f3",
           "#EF553B",
           "#EF553B",
           "#EF553B",
           "#19d3f3",
           "#19d3f3",
           "#19d3f3",
           "#19d3f3",
           "#EF553B",
           "#19d3f3",
           "#19d3f3",
           "#EF553B",
           "#EF553B",
           "#19d3f3",
           "#19d3f3",
           "#EF553B",
           "#EF553B",
           "#EF553B",
           "#EF553B",
           "#EF553B",
           "#EF553B",
           "#EF553B",
           "#EF553B",
           "#EF553B",
           "#EF553B",
           "#EF553B",
           "#EF553B",
           "#19d3f3",
           "#EF553B",
           "#EF553B",
           "#19d3f3",
           "#EF553B",
           "#EF553B",
           "#19d3f3",
           "#EF553B",
           "#EF553B",
           "#EF553B",
           "#EF553B",
           "#EF553B",
           "#19d3f3",
           "#19d3f3",
           "#EF553B",
           "#EF553B",
           "#19d3f3",
           "#19d3f3",
           "#EF553B",
           "#19d3f3",
           "#EF553B",
           "#EF553B",
           "#EF553B",
           "#EF553B",
           "#EF553B",
           "#EF553B",
           "#19d3f3",
           "#EF553B",
           "#EF553B",
           "#EF553B",
           "#EF553B",
           "#19d3f3",
           "#EF553B",
           "#EF553B",
           "#EF553B",
           "#EF553B",
           "#EF553B",
           "#EF553B",
           "#19d3f3",
           "#EF553B",
           "#EF553B",
           "#EF553B",
           "#EF553B",
           "#19d3f3",
           "#19d3f3",
           "#EF553B",
           "#EF553B",
           "#19d3f3",
           "#EF553B",
           "#EF553B",
           "#EF553B",
           "#EF553B",
           "#EF553B",
           "#EF553B",
           "#EF553B",
           "#EF553B",
           "#EF553B",
           "#EF553B",
           "#EF553B",
           "#EF553B",
           "#EF553B",
           "#EF553B",
           "#EF553B",
           "#19d3f3",
           "#19d3f3",
           "#EF553B",
           "#EF553B",
           "#EF553B",
           "#EF553B",
           "#EF553B",
           "#EF553B",
           "#EF553B",
           "#19d3f3",
           "#EF553B",
           "#EF553B",
           "#EF553B",
           "#EF553B",
           "#EF553B",
           "#EF553B",
           "#FFA15A",
           "#FFA15A",
           "#EF553B",
           "#FFA15A",
           "#19d3f3",
           "#19d3f3",
           "#19d3f3",
           "#EF553B",
           "#EF553B",
           "#FFA15A",
           "#19d3f3",
           "#EF553B",
           "#EF553B",
           "#EF553B",
           "#EF553B",
           "#FFA15A",
           "#EF553B",
           "#EF553B",
           "#EF553B",
           "#EF553B",
           "#EF553B",
           "#19d3f3",
           "#EF553B",
           "#19d3f3",
           "#EF553B",
           "#00cc96",
           "#EF553B",
           "#EF553B",
           "#EF553B",
           "#19d3f3",
           "#19d3f3",
           "#19d3f3",
           "#EF553B",
           "#EF553B",
           "#FFA15A",
           "#EF553B",
           "#00cc96",
           "#EF553B",
           "#EF553B",
           "#EF553B",
           "#FFA15A",
           "#EF553B",
           "#EF553B",
           "#EF553B",
           "#EF553B",
           "#EF553B",
           "#EF553B",
           "#00cc96",
           "#EF553B",
           "#EF553B",
           "#EF553B",
           "#EF553B",
           "#EF553B",
           "#ab63fa",
           "#EF553B",
           "#EF553B",
           "#EF553B",
           "#EF553B",
           "#EF553B",
           "#EF553B",
           "#EF553B",
           "#EF553B",
           "#FFA15A",
           "#FFA15A",
           "#EF553B",
           "#EF553B",
           "#EF553B",
           "#ab63fa",
           "#EF553B",
           "#EF553B",
           "#EF553B",
           "#EF553B",
           "#EF553B",
           "#EF553B",
           "#636efa",
           "#EF553B",
           "#EF553B",
           "#EF553B",
           "#EF553B",
           "#EF553B",
           "#EF553B",
           "#EF553B",
           "#EF553B",
           "#EF553B",
           "#EF553B",
           "#FFA15A",
           "#EF553B",
           "#EF553B",
           "#EF553B",
           "#19d3f3",
           "#EF553B",
           "#EF553B",
           "#EF553B",
           "#EF553B",
           "#EF553B",
           "#EF553B",
           "#EF553B",
           "#EF553B",
           "#EF553B",
           "#EF553B",
           "#EF553B",
           "#EF553B",
           "#EF553B",
           "#EF553B",
           "#EF553B",
           "#EF553B",
           "#EF553B",
           "#EF553B",
           "#19d3f3",
           "#EF553B",
           "#EF553B",
           "#EF553B",
           "#EF553B",
           "#EF553B",
           "#EF553B",
           "#EF553B",
           "#EF553B",
           "#EF553B",
           "#EF553B",
           "#EF553B",
           "#EF553B",
           "#EF553B",
           "#19d3f3",
           "#EF553B",
           "#EF553B",
           "#EF553B",
           "#EF553B",
           "#EF553B",
           "#EF553B",
           "#EF553B",
           "#EF553B",
           "#EF553B",
           "#EF553B",
           "#EF553B",
           "#EF553B",
           "#EF553B",
           "#EF553B",
           "#EF553B",
           "#EF553B",
           "#EF553B",
           "#19d3f3",
           "#EF553B",
           "#EF553B",
           "#EF553B",
           "#EF553B",
           "#EF553B",
           "#EF553B",
           "#19d3f3",
           "#EF553B",
           "#EF553B",
           "#19d3f3",
           "#19d3f3",
           "#19d3f3",
           "#19d3f3",
           "#EF553B",
           "#EF553B",
           "#EF553B",
           "#EF553B",
           "#EF553B",
           "#EF553B",
           "#EF553B",
           "#ab63fa",
           "#EF553B",
           "#EF553B",
           "#EF553B",
           "#19d3f3",
           "#EF553B",
           "#EF553B",
           "#EF553B",
           "#EF553B",
           "#EF553B",
           "#EF553B",
           "#EF553B",
           "#EF553B",
           "#EF553B",
           "#EF553B",
           "#EF553B",
           "#EF553B",
           "#EF553B",
           "#EF553B",
           "#EF553B",
           "#19d3f3",
           "#00cc96",
           "#ab63fa",
           "#636efa",
           "#FFA15A",
           "#636efa",
           "#636efa",
           "#00cc96",
           "#636efa",
           "#19d3f3",
           "#FFA15A",
           "#636efa",
           "#FFA15A",
           "#19d3f3",
           "#636efa",
           "#19d3f3",
           "#636efa",
           "#636efa",
           "#636efa",
           "#FFA15A",
           "#FFA15A",
           "#19d3f3",
           "#19d3f3",
           "#636efa",
           "#636efa",
           "#636efa",
           "#636efa",
           "#00cc96",
           "#636efa",
           "#FFA15A",
           "#636efa",
           "#FFA15A",
           "#636efa",
           "#636efa",
           "#636efa",
           "#636efa",
           "#FFA15A",
           "#636efa",
           "#636efa",
           "#636efa",
           "#636efa",
           "#636efa",
           "#FFA15A",
           "#FFA15A",
           "#19d3f3",
           "#636efa",
           "#636efa",
           "#636efa",
           "#19d3f3",
           "#636efa",
           "#19d3f3",
           "#19d3f3",
           "#636efa",
           "#636efa",
           "#636efa",
           "#636efa",
           "#FFA15A",
           "#636efa",
           "#636efa",
           "#636efa",
           "#636efa",
           "#FFA15A",
           "#636efa",
           "#636efa",
           "#636efa",
           "#636efa",
           "#636efa",
           "#FFA15A",
           "#FFA15A",
           "#19d3f3",
           "#636efa",
           "#19d3f3",
           "#FFA15A",
           "#636efa",
           "#636efa",
           "#636efa",
           "#19d3f3",
           "#636efa",
           "#FFA15A",
           "#636efa",
           "#636efa",
           "#636efa",
           "#636efa",
           "#636efa",
           "#636efa",
           "#FFA15A",
           "#00cc96",
           "#19d3f3",
           "#FFA15A",
           "#636efa",
           "#636efa",
           "#636efa",
           "#636efa",
           "#FFA15A",
           "#636efa",
           "#00cc96",
           "#636efa",
           "#19d3f3",
           "#636efa",
           "#FFA15A",
           "#636efa",
           "#FFA15A",
           "#636efa",
           "#FFA15A",
           "#FFA15A",
           "#19d3f3",
           "#636efa",
           "#00cc96",
           "#636efa",
           "#19d3f3",
           "#19d3f3",
           "#636efa",
           "#636efa",
           "#636efa",
           "#00cc96",
           "#19d3f3",
           "#00cc96",
           "#19d3f3",
           "#FFA15A",
           "#636efa",
           "#636efa",
           "#636efa",
           "#19d3f3",
           "#19d3f3",
           "#636efa",
           "#636efa",
           "#636efa",
           "#FFA15A",
           "#636efa",
           "#636efa",
           "#636efa",
           "#636efa",
           "#19d3f3",
           "#19d3f3",
           "#636efa",
           "#FFA15A",
           "#19d3f3",
           "#636efa",
           "#00cc96",
           "#FFA15A",
           "#636efa",
           "#FFA15A",
           "#636efa",
           "#FFA15A",
           "#FFA15A",
           "#636efa",
           "#636efa",
           "#636efa",
           "#636efa",
           "#636efa",
           "#636efa",
           "#FFA15A",
           "#636efa",
           "#636efa",
           "#FFA15A",
           "#636efa",
           "#636efa",
           "#FFA15A",
           "#00cc96",
           "#FFA15A",
           "#636efa",
           "#636efa",
           "#19d3f3",
           "#636efa",
           "#636efa",
           "#636efa",
           "#636efa",
           "#636efa",
           "#FFA15A",
           "#636efa",
           "#636efa",
           "#636efa",
           "#636efa",
           "#FFA15A",
           "#636efa",
           "#636efa",
           "#636efa",
           "#636efa",
           "#636efa",
           "#636efa",
           "#19d3f3",
           "#636efa",
           "#636efa",
           "#FFA15A",
           "#00cc96",
           "#636efa",
           "#FFA15A",
           "#00cc96",
           "#FFA15A",
           "#636efa",
           "#FFA15A",
           "#636efa",
           "#FFA15A",
           "#FFA15A",
           "#636efa",
           "#636efa",
           "#636efa",
           "#636efa",
           "#636efa",
           "#FFA15A",
           "#636efa",
           "#FFA15A",
           "#636efa",
           "#FFA15A",
           "#FFA15A",
           "#00cc96",
           "#636efa",
           "#FFA15A",
           "#FFA15A",
           "#FFA15A",
           "#636efa",
           "#636efa",
           "#636efa",
           "#636efa",
           "#FFA15A",
           "#FFA15A",
           "#636efa",
           "#636efa",
           "#FFA15A",
           "#636efa",
           "#636efa",
           "#636efa",
           "#FFA15A",
           "#636efa",
           "#636efa",
           "#FFA15A",
           "#636efa",
           "#636efa",
           "#00cc96",
           "#FFA15A",
           "#00cc96",
           "#FFA15A",
           "#FFA15A",
           "#FFA15A",
           "#FFA15A",
           "#FFA15A",
           "#FFA15A",
           "#FFA15A",
           "#00cc96",
           "#FFA15A",
           "#FFA15A",
           "#FFA15A",
           "#FFA15A",
           "#FFA15A",
           "#FFA15A",
           "#FFA15A",
           "#00cc96",
           "#00cc96",
           "#FFA15A",
           "#FFA15A",
           "#00cc96",
           "#00cc96",
           "#00cc96",
           "#636efa",
           "#636efa",
           "#636efa",
           "#636efa",
           "#00cc96",
           "#00cc96",
           "#FFA15A",
           "#FFA15A",
           "#FFA15A",
           "#00cc96",
           "#FFA15A",
           "#00cc96",
           "#00cc96",
           "#00cc96",
           "#FFA15A",
           "#00cc96",
           "#FFA15A",
           "#00cc96",
           "#FFA15A",
           "#19d3f3",
           "#00cc96",
           "#636efa",
           "#636efa",
           "#636efa",
           "#00cc96",
           "#636efa",
           "#636efa",
           "#636efa",
           "#636efa",
           "#636efa",
           "#636efa",
           "#19d3f3",
           "#FFA15A",
           "#19d3f3",
           "#636efa",
           "#636efa",
           "#636efa",
           "#636efa",
           "#00cc96",
           "#636efa",
           "#00cc96",
           "#636efa",
           "#636efa",
           "#FFA15A",
           "#FFA15A",
           "#FFA15A",
           "#636efa",
           "#636efa",
           "#636efa",
           "#FFA15A",
           "#636efa",
           "#636efa",
           "#00cc96",
           "#636efa",
           "#636efa",
           "#636efa",
           "#636efa",
           "#636efa",
           "#636efa",
           "#636efa",
           "#636efa",
           "#636efa",
           "#FFA15A",
           "#636efa",
           "#636efa",
           "#636efa",
           "#636efa",
           "#636efa",
           "#00cc96",
           "#FFA15A",
           "#636efa",
           "#636efa",
           "#FFA15A",
           "#636efa",
           "#636efa",
           "#636efa",
           "#636efa",
           "#636efa",
           "#636efa",
           "#636efa",
           "#636efa",
           "#636efa",
           "#00cc96",
           "#00cc96",
           "#636efa",
           "#FFA15A",
           "#636efa",
           "#FFA15A",
           "#00cc96",
           "#636efa",
           "#636efa",
           "#636efa",
           "#636efa",
           "#636efa",
           "#636efa",
           "#636efa",
           "#636efa",
           "#636efa",
           "#636efa",
           "#636efa",
           "#00cc96",
           "#636efa",
           "#636efa",
           "#00cc96",
           "#636efa",
           "#FFA15A",
           "#19d3f3",
           "#FFA15A",
           "#636efa",
           "#00cc96",
           "#ab63fa",
           "#00cc96",
           "#636efa",
           "#ab63fa",
           "#19d3f3",
           "#ab63fa",
           "#ab63fa",
           "#ab63fa",
           "#ab63fa",
           "#ab63fa",
           "#FFA15A",
           "#00cc96",
           "#FFA15A",
           "#ab63fa",
           "#ab63fa",
           "#ab63fa",
           "#ab63fa",
           "#ab63fa",
           "#ab63fa",
           "#ab63fa",
           "#ab63fa",
           "#ab63fa",
           "#FFA15A",
           "#ab63fa",
           "#ab63fa",
           "#ab63fa",
           "#ab63fa",
           "#ab63fa",
           "#ab63fa",
           "#ab63fa",
           "#ab63fa",
           "#FFA15A",
           "#00cc96",
           "#ab63fa",
           "#ab63fa",
           "#ab63fa",
           "#ab63fa",
           "#ab63fa",
           "#ab63fa",
           "#ab63fa",
           "#ab63fa",
           "#ab63fa",
           "#ab63fa",
           "#ab63fa",
           "#00cc96",
           "#ab63fa",
           "#ab63fa",
           "#ab63fa",
           "#FFA15A",
           "#ab63fa",
           "#19d3f3",
           "#ab63fa",
           "#ab63fa",
           "#ab63fa",
           "#ab63fa",
           "#ab63fa",
           "#FFA15A",
           "#FFA15A",
           "#FFA15A",
           "#ab63fa",
           "#ab63fa",
           "#00cc96",
           "#ab63fa",
           "#19d3f3",
           "#ab63fa",
           "#ab63fa",
           "#ab63fa",
           "#FFA15A",
           "#ab63fa",
           "#FFA15A",
           "#ab63fa",
           "#ab63fa",
           "#ab63fa",
           "#19d3f3",
           "#ab63fa",
           "#ab63fa",
           "#ab63fa",
           "#FFA15A",
           "#19d3f3",
           "#ab63fa",
           "#00cc96",
           "#ab63fa",
           "#FFA15A",
           "#ab63fa",
           "#ab63fa",
           "#ab63fa",
           "#ab63fa",
           "#ab63fa",
           "#FFA15A",
           "#ab63fa",
           "#ab63fa",
           "#ab63fa",
           "#ab63fa",
           "#19d3f3",
           "#FFA15A",
           "#FFA15A",
           "#19d3f3",
           "#FFA15A",
           "#00cc96",
           "#19d3f3",
           "#ab63fa",
           "#FFA15A",
           "#ab63fa",
           "#ab63fa",
           "#00cc96",
           "#00cc96",
           "#ab63fa",
           "#ab63fa",
           "#ab63fa",
           "#ab63fa",
           "#ab63fa",
           "#ab63fa",
           "#19d3f3",
           "#19d3f3",
           "#00cc96",
           "#ab63fa",
           "#ab63fa",
           "#ab63fa",
           "#ab63fa",
           "#ab63fa",
           "#19d3f3",
           "#19d3f3",
           "#19d3f3",
           "#19d3f3",
           "#19d3f3",
           "#FFA15A",
           "#ab63fa",
           "#19d3f3",
           "#00cc96",
           "#19d3f3",
           "#FFA15A",
           "#00cc96",
           "#19d3f3",
           "#00cc96",
           "#FFA15A",
           "#00cc96",
           "#00cc96",
           "#ab63fa",
           "#19d3f3",
           "#FFA15A",
           "#19d3f3",
           "#19d3f3",
           "#FFA15A",
           "#00cc96",
           "#FFA15A",
           "#FFA15A",
           "#00cc96",
           "#00cc96",
           "#ab63fa",
           "#FFA15A",
           "#FFA15A",
           "#FFA15A",
           "#ab63fa",
           "#ab63fa",
           "#00cc96",
           "#ab63fa",
           "#ab63fa",
           "#FFA15A",
           "#19d3f3",
           "#FFA15A",
           "#00cc96",
           "#FFA15A",
           "#FFA15A",
           "#FFA15A",
           "#ab63fa",
           "#ab63fa",
           "#ab63fa",
           "#ab63fa",
           "#ab63fa",
           "#ab63fa",
           "#ab63fa",
           "#ab63fa",
           "#ab63fa",
           "#ab63fa",
           "#19d3f3",
           "#ab63fa",
           "#ab63fa",
           "#00cc96",
           "#00cc96",
           "#FFA15A",
           "#FFA15A",
           "#ab63fa",
           "#ab63fa",
           "#ab63fa",
           "#FFA15A",
           "#636efa",
           "#19d3f3",
           "#636efa",
           "#636efa",
           "#FFA15A",
           "#19d3f3",
           "#636efa",
           "#636efa",
           "#FFA15A",
           "#636efa",
           "#636efa",
           "#636efa",
           "#FFA15A",
           "#19d3f3",
           "#636efa",
           "#00cc96",
           "#636efa",
           "#636efa",
           "#636efa",
           "#636efa",
           "#636efa",
           "#636efa",
           "#636efa",
           "#636efa",
           "#636efa",
           "#FFA15A",
           "#FFA15A",
           "#636efa",
           "#636efa",
           "#FFA15A",
           "#636efa",
           "#FFA15A",
           "#636efa",
           "#636efa",
           "#FFA15A",
           "#636efa",
           "#FFA15A",
           "#FFA15A",
           "#636efa",
           "#636efa",
           "#19d3f3",
           "#636efa",
           "#FFA15A",
           "#19d3f3",
           "#636efa",
           "#636efa",
           "#19d3f3",
           "#FFA15A",
           "#636efa",
           "#636efa",
           "#636efa",
           "#636efa",
           "#636efa",
           "#636efa",
           "#636efa",
           "#FFA15A",
           "#19d3f3",
           "#00cc96",
           "#FFA15A",
           "#00cc96",
           "#00cc96",
           "#00cc96",
           "#636efa",
           "#636efa",
           "#19d3f3",
           "#636efa",
           "#19d3f3",
           "#636efa",
           "#19d3f3",
           "#636efa",
           "#636efa",
           "#FFA15A",
           "#636efa",
           "#636efa",
           "#636efa",
           "#636efa",
           "#FFA15A",
           "#636efa",
           "#636efa",
           "#636efa",
           "#636efa",
           "#636efa",
           "#FFA15A",
           "#636efa",
           "#636efa",
           "#636efa",
           "#636efa",
           "#636efa",
           "#FFA15A",
           "#636efa",
           "#ab63fa",
           "#ab63fa",
           "#ab63fa",
           "#ab63fa",
           "#FFA15A",
           "#19d3f3",
           "#19d3f3",
           "#ab63fa",
           "#ab63fa",
           "#ab63fa",
           "#ab63fa",
           "#19d3f3",
           "#ab63fa",
           "#ab63fa",
           "#ab63fa",
           "#ab63fa",
           "#FFA15A",
           "#ab63fa",
           "#ab63fa",
           "#ab63fa",
           "#ab63fa",
           "#FFA15A",
           "#ab63fa",
           "#FFA15A",
           "#ab63fa",
           "#ab63fa",
           "#ab63fa",
           "#ab63fa",
           "#ab63fa",
           "#ab63fa",
           "#ab63fa",
           "#FFA15A",
           "#ab63fa",
           "#ab63fa",
           "#ab63fa",
           "#ab63fa",
           "#ab63fa",
           "#ab63fa",
           "#ab63fa",
           "#ab63fa",
           "#ab63fa",
           "#ab63fa",
           "#ab63fa",
           "#FFA15A",
           "#ab63fa",
           "#636efa",
           "#636efa",
           "#636efa",
           "#636efa",
           "#FFA15A",
           "#636efa",
           "#636efa",
           "#636efa",
           "#636efa",
           "#636efa",
           "#636efa",
           "#636efa",
           "#636efa",
           "#FFA15A",
           "#636efa",
           "#636efa",
           "#FFA15A",
           "#19d3f3",
           "#636efa",
           "#636efa",
           "#636efa",
           "#636efa",
           "#636efa",
           "#ab63fa",
           "#FFA15A",
           "#19d3f3",
           "#ab63fa",
           "#ab63fa",
           "#FFA15A",
           "#00cc96",
           "#636efa",
           "#FFA15A",
           "#19d3f3",
           "#FFA15A",
           "#636efa",
           "#636efa",
           "#19d3f3",
           "#636efa",
           "#636efa",
           "#636efa",
           "#636efa",
           "#636efa",
           "#636efa",
           "#636efa"
          ]
         },
         "name": "",
         "parents": [
          "f5006e93b3/Montgomery",
          "4a16f69dc8/Livingston",
          "9f0f85e8c9/Madison",
          "f5006e93b3/Madison",
          "b71970385d/Monroe",
          "",
          "684420899a/Niagara",
          "4a16f69dc8/Ontario",
          "b71970385d/Ontario",
          "293d5bd41f/Orange",
          "684420899a/Orange",
          "b71970385d/Orange",
          "4a16f69dc8/Orleans",
          "b71970385d/Orleans",
          "1dea55fda9/Oswego",
          "684420899a/Oswego",
          "f5006e93b3/Oswego",
          "1dea55fda9/Otsego",
          "293d5bd41f/Otsego",
          "40919309ec/Putnam",
          "40919309ec/Queens",
          "1dea55fda9/Rensselaer",
          "4a16f69dc8/Lewis",
          "b71970385d/Kings",
          "9f0f85e8c9/Kings",
          "293d5bd41f/Kings",
          "684420899a/Allegany",
          "b71970385d/Allegany",
          "f5006e93b3/Allegany",
          "1dea55fda9/Bronx",
          "9f0f85e8c9/Cattaraugus",
          "684420899a/Cayuga",
          "dc874628d5/Cayuga",
          "293d5bd41f/Chemung",
          "4a16f69dc8/Chemung",
          "9f0f85e8c9/Chemung",
          "684420899a/Rensselaer",
          "684420899a/Chenango",
          "4a16f69dc8/Cortland",
          "293d5bd41f/Dutchess",
          "1dea55fda9/Fulton",
          "f5006e93b3/Fulton",
          "40919309ec/Genesee",
          "4a16f69dc8/Genesee",
          "b71970385d/Genesee",
          "293d5bd41f/Herkimer",
          "40919309ec/Herkimer",
          "684420899a/Herkimer",
          "40919309ec/Clinton",
          "4a16f69dc8/Albany",
          "dc874628d5/Rockland",
          "4a16f69dc8/Schenectady",
          "4a16f69dc8",
          "1dea55fda9/Albany",
          "1dea55fda9/Allegany",
          "684420899a/Allegany",
          "4a16f69dc8/Bronx",
          "40919309ec/Broome",
          "684420899a/Broome",
          "dc874628d5/Broome",
          "b71970385d/Cattaraugus",
          "9f0f85e8c9/Cayuga",
          "293d5bd41f/Chautauqua",
          "9f0f85e8c9/Chautauqua",
          "b71970385d/Chautauqua",
          "40919309ec/Chemung",
          "4a16f69dc8/Chenango",
          "9f0f85e8c9/Chenango",
          "b71970385d/Chenango",
          "f5006e93b3/Chenango",
          "40919309ec/Clinton",
          "f5006e93b3/Clinton",
          "293d5bd41f/Columbia",
          "40919309ec",
          "f5006e93b3/Yates",
          "9f0f85e8c9/Yates",
          "684420899a/Yates",
          "9f0f85e8c9/Schenectady",
          "f5006e93b3/Schenectady",
          "293d5bd41f/Schuyler",
          "4a16f69dc8/Schuyler",
          "4a16f69dc8/St Lawrence",
          "684420899a/St Lawrence",
          "dc874628d5/St Lawrence",
          "1dea55fda9/Suffolk",
          "684420899a/Suffolk",
          "dc874628d5/Suffolk",
          "684420899a/Saratoga",
          "1dea55fda9/Sullivan",
          "684420899a/Sullivan",
          "b71970385d/Sullivan",
          "b71970385d/Ulster",
          "1dea55fda9/Warren",
          "293d5bd41f/Warren",
          "40919309ec/Wayne",
          "f5006e93b3/Westchester",
          "1dea55fda9/Wyoming",
          "684420899a/Wyoming",
          "4a16f69dc8/Yates",
          "293d5bd41f/Sullivan",
          "4a16f69dc8/Columbia",
          "b71970385d",
          "dc874628d5/Wyoming",
          "1dea55fda9/Clinton",
          "b71970385d/Columbia",
          "f5006e93b3/Columbia",
          "40919309ec/Cortland",
          "684420899a/Cortland",
          "1dea55fda9/Delaware",
          "293d5bd41f/Delaware",
          "b71970385d/Delaware",
          "f5006e93b3/Delaware",
          "684420899a/Dutchess",
          "9f0f85e8c9/Dutchess",
          "1dea55fda9/Erie",
          "4a16f69dc8/Erie",
          "684420899a/Erie",
          "b71970385d/Erie",
          "f5006e93b3/Erie",
          "1dea55fda9/Essex",
          "dc874628d5/Franklin",
          "f5006e93b3/Fulton",
          "40919309ec/Genesee",
          "4a16f69dc8/Genesee",
          "9f0f85e8c9/Chenango",
          "684420899a/Chenango",
          "dc874628d5/Chautauqua",
          "b71970385d/Chautauqua",
          "9f0f85e8c9/St Lawrence",
          "9f0f85e8c9/Steuben",
          "dc874628d5/Steuben",
          "1dea55fda9/Suffolk",
          "b71970385d/Sullivan",
          "293d5bd41f/Warren",
          "4a16f69dc8/Wayne",
          "dc874628d5/Wayne",
          "1dea55fda9/Westchester",
          "293d5bd41f/Westchester",
          "f5006e93b3/Genesee",
          "40919309ec/Westchester",
          "dc874628d5/Wyoming",
          "b71970385d/Yates",
          "9f0f85e8c9",
          "dc874628d5",
          "9f0f85e8c9/Allegany",
          "293d5bd41f/Broome",
          "40919309ec/Cattaraugus",
          "dc874628d5/Cayuga",
          "40919309ec/Chautauqua",
          "684420899a/Chautauqua",
          "1dea55fda9/Wyoming",
          "684420899a",
          "1dea55fda9/Jefferson",
          "dc874628d5/Jefferson",
          "9f0f85e8c9/Putnam",
          "b71970385d/Rensselaer",
          "1dea55fda9/Richmond",
          "4a16f69dc8/Richmond",
          "684420899a/Richmond",
          "b71970385d/Richmond",
          "40919309ec/Schuyler",
          "9f0f85e8c9/Schuyler",
          "4a16f69dc8/St Lawrence",
          "40919309ec/Steuben",
          "684420899a/Sullivan",
          "b71970385d/Sullivan",
          "dc874628d5/Tompkins",
          "40919309ec/Wayne",
          "4a16f69dc8/Wayne",
          "9f0f85e8c9/Wayne",
          "b71970385d/Wayne",
          "b71970385d/Westchester",
          "f5006e93b3/Westchester",
          "684420899a/Wyoming",
          "9f0f85e8c9/Wyoming",
          "293d5bd41f/Putnam",
          "9f0f85e8c9/Oswego",
          "40919309ec/Oswego",
          "1dea55fda9/Oswego",
          "4a16f69dc8/Kings",
          "684420899a/Kings",
          "b71970385d/Kings",
          "f5006e93b3/Livingston",
          "293d5bd41f/Madison",
          "dc874628d5/Madison",
          "dc874628d5/Manhattan",
          "f5006e93b3/Manhattan",
          "293d5bd41f/Monroe",
          "dc874628d5/Monroe",
          "40919309ec/Jefferson",
          "293d5bd41f/Montgomery",
          "f5006e93b3/Nassau",
          "684420899a/Niagara",
          "1dea55fda9/Oneida",
          "293d5bd41f/Oneida",
          "40919309ec/Ontario",
          "684420899a/Ontario",
          "684420899a/Orange",
          "9f0f85e8c9/Orange",
          "f5006e93b3/Orange",
          "1dea55fda9/Orleans",
          "4a16f69dc8/Nassau",
          "684420899a/St Lawrence",
          "684420899a/Columbia",
          "1dea55fda9/Cortland",
          "4a16f69dc8/Westchester",
          "dc874628d5/Wyoming",
          "dc874628d5",
          "293d5bd41f",
          "dc874628d5",
          "f5006e93b3",
          "b71970385d",
          "f5006e93b3",
          "4a16f69dc8",
          "684420899a",
          "293d5bd41f",
          "40919309ec",
          "9f0f85e8c9",
          "b71970385d",
          "40919309ec",
          "4a16f69dc8",
          "b71970385d",
          "b71970385d",
          "dc874628d5",
          "dc874628d5",
          "f5006e93b3",
          "293d5bd41f/Westchester",
          "f5006e93b3/Wayne",
          "b71970385d/Wayne",
          "9f0f85e8c9/Wayne",
          "f5006e93b3/Suffolk",
          "1dea55fda9/Sullivan",
          "40919309ec/Sullivan",
          "4a16f69dc8/Sullivan",
          "684420899a/Sullivan",
          "9f0f85e8c9/Sullivan",
          "b71970385d/Sullivan",
          "dc874628d5/Sullivan",
          "f5006e93b3/Sullivan",
          "1dea55fda9/Tompkins",
          "1dea55fda9",
          "293d5bd41f/Tompkins",
          "4a16f69dc8/Tompkins",
          "684420899a/Tompkins",
          "9f0f85e8c9/Tompkins",
          "b71970385d/Tompkins",
          "dc874628d5/Tompkins",
          "f5006e93b3/Tompkins",
          "1dea55fda9/Ulster",
          "293d5bd41f/Ulster",
          "40919309ec/Ulster",
          "4a16f69dc8/Ulster",
          "40919309ec/Tompkins",
          "b71970385d/Suffolk",
          "293d5bd41f",
          "9f0f85e8c9",
          "4a16f69dc8",
          "9f0f85e8c9",
          "40919309ec",
          "1dea55fda9",
          "f5006e93b3",
          "9f0f85e8c9",
          "40919309ec",
          "4a16f69dc8",
          "dc874628d5",
          "1dea55fda9",
          "40919309ec",
          "293d5bd41f",
          "dc874628d5",
          "1dea55fda9",
          "4a16f69dc8",
          "b71970385d",
          "f5006e93b3",
          "40919309ec",
          "4a16f69dc8",
          "293d5bd41f",
          "9f0f85e8c9",
          "4a16f69dc8",
          "1dea55fda9",
          "f5006e93b3",
          "9f0f85e8c9",
          "dc874628d5",
          "4a16f69dc8",
          "f5006e93b3",
          "293d5bd41f",
          "40919309ec",
          "4a16f69dc8",
          "684420899a",
          "b71970385d",
          "1dea55fda9",
          "dc874628d5",
          "684420899a",
          "4a16f69dc8",
          "684420899a",
          "9f0f85e8c9",
          "f5006e93b3",
          "1dea55fda9",
          "9f0f85e8c9",
          "dc874628d5",
          "293d5bd41f",
          "40919309ec",
          "4a16f69dc8",
          "684420899a",
          "4a16f69dc8",
          "9f0f85e8c9/Columbia",
          "9f0f85e8c9/Suffolk",
          "4a16f69dc8/Suffolk",
          "1dea55fda9/Lewis",
          "293d5bd41f/Lewis",
          "40919309ec/Lewis",
          "4a16f69dc8/Lewis",
          "684420899a/Lewis",
          "9f0f85e8c9/Lewis",
          "dc874628d5/Lewis",
          "f5006e93b3/Lewis",
          "1dea55fda9/Livingston",
          "293d5bd41f/Livingston",
          "b71970385d/Livingston",
          "dc874628d5/Madison",
          "40919309ec/Manhattan",
          "dc874628d5/Manhattan",
          "9f0f85e8c9/Montgomery",
          "f5006e93b3/Montgomery",
          "40919309ec/Nassau",
          "4a16f69dc8/Nassau",
          "9f0f85e8c9/Nassau",
          "b71970385d/Nassau",
          "dc874628d5/Nassau",
          "f5006e93b3/Kings",
          "dc874628d5/Kings",
          "b71970385d/Kings",
          "9f0f85e8c9/Kings",
          "293d5bd41f/Delaware",
          "40919309ec/Delaware",
          "dc874628d5/Erie",
          "40919309ec/Essex",
          "684420899a/Franklin",
          "1dea55fda9/Fulton",
          "293d5bd41f/Fulton",
          "f5006e93b3/Fulton",
          "b71970385d/Herkimer",
          "dc874628d5/Herkimer",
          "f5006e93b3/Nassau",
          "f5006e93b3/Herkimer",
          "293d5bd41f/Jefferson",
          "40919309ec/Jefferson",
          "684420899a/Jefferson",
          "b71970385d/Jefferson",
          "dc874628d5/Jefferson",
          "f5006e93b3/Jefferson",
          "1dea55fda9/Kings",
          "293d5bd41f/Kings",
          "4a16f69dc8/Kings",
          "684420899a/Kings",
          "1dea55fda9/Jefferson",
          "684420899a/Suffolk",
          "1dea55fda9/Niagara",
          "4a16f69dc8/Niagara",
          "293d5bd41f/Orleans",
          "684420899a/Orleans",
          "684420899a/Oswego",
          "9f0f85e8c9/Oswego",
          "1dea55fda9/Otsego",
          "684420899a/Otsego",
          "4a16f69dc8/Putnam",
          "684420899a/Putnam",
          "9f0f85e8c9/Putnam",
          "dc874628d5/Putnam",
          "684420899a/Richmond",
          "9f0f85e8c9/Richmond",
          "293d5bd41f/Rockland",
          "9f0f85e8c9/Rockland",
          "9f0f85e8c9/Saratoga",
          "9f0f85e8c9/Schenectady",
          "684420899a/Schuyler",
          "9f0f85e8c9/Steuben",
          "dc874628d5/Steuben",
          "1dea55fda9/Suffolk",
          "40919309ec/Suffolk",
          "684420899a/Orange",
          "4a16f69dc8/Orange",
          "4a16f69dc8/Ontario",
          "40919309ec/Ontario",
          "684420899a/Niagara",
          "9f0f85e8c9/Niagara",
          "b71970385d/Niagara",
          "dc874628d5/Niagara",
          "f5006e93b3/Niagara",
          "1dea55fda9/Oneida",
          "293d5bd41f/Oneida",
          "40919309ec/Oneida",
          "4a16f69dc8/Oneida",
          "684420899a/Oneida",
          "40919309ec/Niagara",
          "9f0f85e8c9/Oneida",
          "f5006e93b3/Oneida",
          "1dea55fda9/Onondaga",
          "40919309ec/Onondaga",
          "684420899a/Onondaga",
          "9f0f85e8c9/Onondaga",
          "b71970385d/Onondaga",
          "dc874628d5/Onondaga",
          "f5006e93b3/Onondaga",
          "1dea55fda9/Ontario",
          "293d5bd41f/Ontario",
          "dc874628d5/Oneida",
          "4a16f69dc8/Schuyler",
          "",
          "684420899a/Kings",
          "1dea55fda9/Clinton",
          "b71970385d/Nassau",
          "dc874628d5/Rockland",
          "4a16f69dc8/Columbia",
          "4a16f69dc8/Schenectady",
          "684420899a/Columbia",
          "684420899a/Nassau",
          "4a16f69dc8/Chenango",
          "40919309ec/Nassau",
          "f5006e93b3/Albany",
          "4a16f69dc8/Orleans",
          "293d5bd41f/Cortland",
          "4a16f69dc8/Montgomery",
          "1dea55fda9/Otsego",
          "293d5bd41f/Montgomery",
          "f5006e93b3/Richmond",
          "9f0f85e8c9/Onondaga",
          "684420899a/Allegany",
          "293d5bd41f/Niagara",
          "40919309ec/Schenectady",
          "f5006e93b3/Oneida",
          "684420899a/Broome",
          "4a16f69dc8/Broome",
          "293d5bd41f/Broome",
          "40919309ec/Cattaraugus",
          "684420899a/Cattaraugus",
          "1dea55fda9/Cayuga",
          "dc874628d5/Orleans",
          "dc874628d5/Cayuga",
          "684420899a/Bronx",
          "293d5bd41f/Chautauqua",
          "9f0f85e8c9/Chautauqua",
          "40919309ec/Bronx",
          "1dea55fda9/Bronx",
          "f5006e93b3/Allegany",
          "f5006e93b3/Chautauqua",
          "1dea55fda9/Chemung",
          "684420899a/Monroe",
          "40919309ec/Monroe",
          "684420899a/Montgomery",
          "b71970385d/Dutchess",
          "dc874628d5/Fulton",
          "f5006e93b3/Fulton",
          "1dea55fda9/Dutchess",
          "293d5bd41f/Genesee",
          "684420899a/Genesee",
          "4a16f69dc8",
          "40919309ec/Herkimer",
          "dc874628d5/Herkimer",
          "684420899a/Livingston",
          "1dea55fda9/Livingston",
          "dc874628d5/Lewis",
          "1dea55fda9/Schuyler",
          "b71970385d/Lewis",
          "9f0f85e8c9/Lewis",
          "f5006e93b3/Jefferson",
          "293d5bd41f",
          "1dea55fda9/Queens",
          "4a16f69dc8/Lewis",
          "40919309ec/Lewis",
          "9f0f85e8c9/Fulton",
          "1dea55fda9/Fulton",
          "1dea55fda9/Cattaraugus",
          "9f0f85e8c9/Ontario",
          "9f0f85e8c9/Erie",
          "684420899a/Rensselaer",
          "684420899a/Essex",
          "b71970385d/Manhattan",
          "684420899a/Erie",
          "f5006e93b3",
          "f5006e93b3/Essex",
          "293d5bd41f/Franklin",
          "293d5bd41f/Monroe",
          "9f0f85e8c9/Franklin",
          "dc874628d5/Rensselaer",
          "684420899a/Ontario",
          "684420899a/Manhattan",
          "293d5bd41f/St Lawrence",
          "684420899a/Schuyler",
          "dc874628d5/Dutchess",
          "4a16f69dc8/Herkimer",
          "b71970385d/Monroe",
          "f5006e93b3/Richmond",
          "dc874628d5/Jefferson",
          "9f0f85e8c9/Livingston",
          "40919309ec/Rockland",
          "684420899a",
          "b71970385d/Livingston",
          "4a16f69dc8/Niagara",
          "684420899a/Warren",
          "b71970385d/St Lawrence",
          "40919309ec/Niagara",
          "293d5bd41f/Nassau",
          "40919309ec/Steuben",
          "4a16f69dc8/Warren",
          "1dea55fda9/Oneida",
          "dc874628d5",
          "9f0f85e8c9/Chemung",
          "293d5bd41f/Schuyler",
          "dc874628d5/Westchester",
          "1dea55fda9/Essex",
          "dc874628d5",
          "1dea55fda9/Sullivan",
          "1dea55fda9",
          "dc874628d5/Tompkins",
          "f5006e93b3/Tompkins",
          "1dea55fda9/Ulster",
          "293d5bd41f/Ulster",
          "4a16f69dc8/Manhattan",
          "40919309ec/Allegany",
          "40919309ec/Manhattan",
          "293d5bd41f/Manhattan",
          "40919309ec/Warren",
          "1dea55fda9/Manhattan",
          "dc874628d5/Genesee",
          "dc874628d5/Allegany",
          "f5006e93b3/Madison",
          "dc874628d5/Madison",
          "4a16f69dc8/Wyoming",
          "b71970385d/Madison",
          "9f0f85e8c9/Wyoming",
          "b71970385d/Wyoming",
          "dc874628d5/Albany",
          "dc874628d5/Wyoming",
          "f5006e93b3/Wyoming",
          "1dea55fda9/Yates",
          "293d5bd41f/Yates",
          "4a16f69dc8/Wayne",
          "4a16f69dc8/Ontario",
          "293d5bd41f/Tompkins",
          "40919309ec/Yates",
          "f5006e93b3/Broome",
          "9f0f85e8c9/Broome",
          "1dea55fda9/Steuben",
          "293d5bd41f/Steuben",
          "f5006e93b3/Steuben",
          "293d5bd41f/Broome",
          "dc874628d5/Bronx",
          "293d5bd41f/Suffolk",
          "40919309ec/Suffolk",
          "1dea55fda9/Monroe",
          "b71970385d/Bronx",
          "9f0f85e8c9/Suffolk",
          "b71970385d/Suffolk",
          "f5006e93b3/Manhattan",
          "f5006e93b3/Suffolk",
          "9f0f85e8c9/Bronx",
          "dc874628d5/Manhattan",
          "684420899a/Bronx",
          "9f0f85e8c9/Manhattan",
          "4a16f69dc8/Bronx",
          "40919309ec/Bronx",
          "40919309ec/Ontario",
          "dc874628d5/Sullivan",
          "40919309ec/Tompkins",
          "9f0f85e8c9/Madison",
          "b71970385d/Ontario",
          "4a16f69dc8/Monroe",
          "4a16f69dc8/Livingston",
          "40919309ec/Livingston",
          "293d5bd41f/Livingston",
          "293d5bd41f/Orange",
          "684420899a/Chautauqua",
          "40919309ec/Orange",
          "40919309ec/Wyoming",
          "f5006e93b3/Chautauqua",
          "4a16f69dc8/Orange",
          "684420899a/Chemung",
          "9f0f85e8c9/Chemung",
          "40919309ec/Chenango",
          "684420899a/Lewis",
          "684420899a/Orange",
          "9f0f85e8c9/Orange",
          "b71970385d/Orange",
          "dc874628d5/Orange",
          "dc874628d5/Chenango",
          "293d5bd41f/Lewis",
          "293d5bd41f/Clinton",
          "1dea55fda9/Lewis",
          "f5006e93b3/Kings",
          "dc874628d5/Kings",
          "1dea55fda9/Orange",
          "684420899a/Madison",
          "f5006e93b3/Bronx",
          "40919309ec/Bronx",
          "4a16f69dc8/Madison",
          "40919309ec/Madison",
          "293d5bd41f/Albany",
          "1dea55fda9/Albany",
          "293d5bd41f/Madison",
          "dc874628d5/Ontario",
          "1dea55fda9/Madison",
          "684420899a",
          "9f0f85e8c9",
          "9f0f85e8c9",
          "dc874628d5",
          "f5006e93b3/Livingston",
          "293d5bd41f/Albany",
          "9f0f85e8c9/Albany",
          "f5006e93b3/Ontario",
          "f5006e93b3/Albany",
          "dc874628d5/Livingston",
          "4a16f69dc8/Allegany",
          "b71970385d/Livingston",
          "f5006e93b3/Allegany",
          "9f0f85e8c9/Yates",
          "293d5bd41f/Bronx",
          "684420899a/Yates",
          "9f0f85e8c9/Livingston",
          "1dea55fda9/Cattaraugus",
          "293d5bd41f/Ontario",
          "b71970385d/Cattaraugus",
          "40919309ec/Madison",
          "684420899a/Niagara",
          "1dea55fda9/Manhattan",
          "293d5bd41f/Manhattan",
          "293d5bd41f/Onondaga",
          "dc874628d5/Manhattan",
          "4a16f69dc8/Monroe",
          "684420899a/Monroe",
          "f5006e93b3/Delaware",
          "f5006e93b3/Monroe",
          "40919309ec/Delaware",
          "293d5bd41f/Delaware",
          "40919309ec/Nassau",
          "1dea55fda9/Niagara",
          "293d5bd41f/Niagara",
          "40919309ec/Niagara",
          "1dea55fda9/Delaware",
          "b71970385d/Niagara",
          "dc874628d5/Niagara",
          "f5006e93b3/Cortland",
          "40919309ec/Onondaga",
          "f5006e93b3/Niagara",
          "40919309ec/Cortland",
          "f5006e93b3/Livingston",
          "4a16f69dc8/Dutchess",
          "dc874628d5/Dutchess",
          "f5006e93b3/Dutchess",
          "684420899a/Genesee",
          "1dea55fda9/Herkimer",
          "4a16f69dc8/Oneida",
          "1dea55fda9/Onondaga",
          "684420899a/Franklin",
          "9f0f85e8c9/Herkimer",
          "293d5bd41f/Franklin",
          "b71970385d/Herkimer",
          "dc874628d5/Herkimer",
          "f5006e93b3/Herkimer",
          "1dea55fda9/Jefferson",
          "684420899a/Clinton",
          "dc874628d5/Jefferson",
          "1dea55fda9/Oneida",
          "f5006e93b3/Kings",
          "1dea55fda9/Franklin",
          "f5006e93b3/Essex",
          "684420899a/Lewis",
          "9f0f85e8c9/Essex",
          "9f0f85e8c9/Lewis",
          "1dea55fda9/Livingston",
          "40919309ec/Livingston",
          "684420899a/Livingston",
          "4a16f69dc8/Essex",
          "1dea55fda9/Kings",
          "f5006e93b3/Genesee",
          "293d5bd41f/Oneida",
          "40919309ec/Oneida",
          "293d5bd41f/Queens",
          "4a16f69dc8/Queens",
          "f5006e93b3/Onondaga",
          "dc874628d5/Queens",
          "f5006e93b3/Queens",
          "b71970385d/Cayuga",
          "293d5bd41f/Rensselaer",
          "40919309ec/Rensselaer",
          "4a16f69dc8/Rensselaer",
          "1dea55fda9/Ontario",
          "9f0f85e8c9/Rensselaer",
          "40919309ec/Cayuga",
          "b71970385d/Rensselaer",
          "9f0f85e8c9/Richmond",
          "b71970385d/Richmond",
          "4a16f69dc8/Rockland",
          "40919309ec/Montgomery",
          "293d5bd41f/Cayuga",
          "1dea55fda9/Schenectady",
          "b71970385d/Schenectady",
          "1dea55fda9/Cayuga",
          "dc874628d5/Cattaraugus",
          "9f0f85e8c9/Schuyler",
          "1dea55fda9/Queens",
          "f5006e93b3/Putnam",
          "dc874628d5/Putnam",
          "f5006e93b3/Chautauqua",
          "293d5bd41f/Onondaga",
          "b71970385d/Onondaga",
          "9f0f85e8c9/Kings",
          "1dea55fda9/Orange",
          "4a16f69dc8/Orange",
          "293d5bd41f/Clinton",
          "dc874628d5/Orange",
          "f5006e93b3/Orange",
          "b71970385d/Chenango",
          "9f0f85e8c9/Chenango",
          "684420899a/Onondaga",
          "4a16f69dc8/Onondaga",
          "293d5bd41f/Chenango",
          "f5006e93b3/Chemung",
          "40919309ec/Oswego",
          "4a16f69dc8/Oswego",
          "684420899a/Chemung",
          "b71970385d/Onondaga",
          "dc874628d5/Oswego",
          "dc874628d5/Onondaga",
          "1dea55fda9/Nassau",
          "b71970385d/Otsego",
          "293d5bd41f/Putnam",
          "b71970385d/Putnam",
          "684420899a/Orleans",
          "dc874628d5/Ontario",
          "1dea55fda9/Jefferson",
          "dc874628d5/Cortland",
          "b71970385d",
          "f5006e93b3",
          "4a16f69dc8",
          "684420899a",
          "f5006e93b3/Cattaraugus",
          "9f0f85e8c9/Cattaraugus",
          "4a16f69dc8",
          "4a16f69dc8/Cattaraugus",
          "1dea55fda9",
          "40919309ec",
          "293d5bd41f/Cattaraugus",
          "4a16f69dc8",
          "f5006e93b3",
          "684420899a",
          "b71970385d/Broome",
          "f5006e93b3/Bronx",
          "684420899a",
          "b71970385d",
          "dc874628d5",
          "9f0f85e8c9/Bronx",
          "293d5bd41f",
          "9f0f85e8c9",
          "b71970385d",
          "f5006e93b3",
          "4a16f69dc8/Bronx",
          "293d5bd41f",
          "4a16f69dc8",
          "1dea55fda9",
          "9f0f85e8c9",
          "dc874628d5/Allegany",
          "293d5bd41f",
          "40919309ec/Cayuga",
          "40919309ec/Clinton",
          "dc874628d5/Chenango",
          "dc874628d5/Chemung",
          "b71970385d/Chemung",
          "b71970385d/Warren",
          "293d5bd41f/Wayne",
          "684420899a/Chemung",
          "4a16f69dc8/Chemung",
          "684420899a/Westchester",
          "684420899a/Wyoming",
          "9f0f85e8c9/Wyoming",
          "40919309ec",
          "dc874628d5",
          "293d5bd41f/Cayuga",
          "1dea55fda9",
          "f5006e93b3",
          "9f0f85e8c9",
          "684420899a/Chautauqua",
          "293d5bd41f",
          "40919309ec/Chautauqua",
          "293d5bd41f",
          "4a16f69dc8",
          "1dea55fda9/Chautauqua",
          "f5006e93b3",
          "b71970385d/Cayuga",
          "9f0f85e8c9/Cayuga",
          "684420899a/Cayuga",
          "4a16f69dc8/Cayuga",
          "4a16f69dc8",
          "b71970385d",
          "b71970385d/Allegany",
          "9f0f85e8c9/Allegany",
          "4a16f69dc8",
          "684420899a",
          "9f0f85e8c9",
          "f5006e93b3",
          "dc874628d5",
          "dc874628d5",
          "40919309ec",
          "9f0f85e8c9",
          "b71970385d",
          "9f0f85e8c9",
          "4a16f69dc8",
          "9f0f85e8c9",
          "dc874628d5",
          "293d5bd41f",
          "f5006e93b3",
          "1dea55fda9",
          "40919309ec",
          "4a16f69dc8",
          "9f0f85e8c9",
          "b71970385d",
          "1dea55fda9",
          "dc874628d5",
          "293d5bd41f",
          "684420899a",
          "b71970385d",
          "dc874628d5",
          "",
          "",
          "684420899a",
          "dc874628d5",
          "f5006e93b3",
          "1dea55fda9/Albany",
          "4a16f69dc8",
          "b71970385d",
          "dc874628d5",
          "4a16f69dc8/Allegany",
          "9f0f85e8c9",
          "293d5bd41f",
          "dc874628d5",
          "f5006e93b3",
          "4a16f69dc8",
          "684420899a",
          "9f0f85e8c9",
          "1dea55fda9/Allegany",
          "b71970385d",
          "1dea55fda9",
          "684420899a",
          "dc874628d5/Albany",
          "4a16f69dc8",
          "dc874628d5",
          "1dea55fda9",
          "293d5bd41f",
          "f5006e93b3",
          "4a16f69dc8/Albany",
          "40919309ec/Albany",
          "9f0f85e8c9",
          "b71970385d",
          "40919309ec",
          "b71970385d",
          "293d5bd41f/Albany",
          "b71970385d",
          "684420899a/Clinton",
          "684420899a/Cortland",
          "9f0f85e8c9/Clinton",
          "dc874628d5/Clinton",
          "1dea55fda9/Herkimer",
          "dc874628d5/Genesee",
          "b71970385d/Genesee",
          "4a16f69dc8/Genesee",
          "40919309ec/Genesee",
          "1dea55fda9/Genesee",
          "b71970385d/Lewis",
          "b71970385d/Fulton",
          "684420899a/Fulton",
          "4a16f69dc8/Fulton",
          "40919309ec/Livingston",
          "4a16f69dc8/Livingston",
          "293d5bd41f/Fulton",
          "40919309ec/Kings",
          "1dea55fda9/Manhattan",
          "684420899a/Manhattan",
          "9f0f85e8c9/Manhattan",
          "b71970385d/Manhattan",
          "f5006e93b3/Franklin",
          "293d5bd41f/Monroe",
          "684420899a/Monroe",
          "b71970385d/Monroe",
          "dc874628d5/Monroe",
          "f5006e93b3/Monroe",
          "40919309ec/Montgomery",
          "4a16f69dc8/Montgomery",
          "dc874628d5/Franklin",
          "dc874628d5/Montgomery",
          "293d5bd41f/Manhattan",
          "b71970385d/Franklin",
          "293d5bd41f/Herkimer",
          "684420899a/Herkimer",
          "40919309ec/Kings",
          "293d5bd41f/Kings",
          "4a16f69dc8/Delaware",
          "9f0f85e8c9/Delaware",
          "1dea55fda9/Dutchess",
          "b71970385d/Dutchess",
          "f5006e93b3/Dutchess",
          "1dea55fda9/Erie",
          "4a16f69dc8/Erie",
          "293d5bd41f/Essex",
          "dc874628d5/Essex",
          "b71970385d/Jefferson",
          "9f0f85e8c9/Jefferson",
          "4a16f69dc8/Herkimer",
          "40919309ec/Fulton",
          "dc874628d5/Fulton",
          "684420899a/Jefferson",
          "293d5bd41f/Genesee",
          "40919309ec/Genesee",
          "9f0f85e8c9/Genesee",
          "4a16f69dc8/Herkimer",
          "4a16f69dc8/Jefferson",
          "40919309ec/Jefferson",
          "293d5bd41f/Jefferson",
          "f5006e93b3/Herkimer",
          "b71970385d/Herkimer",
          "9f0f85e8c9/Jefferson",
          "9f0f85e8c9/Herkimer",
          "684420899a/Fulton",
          "1dea55fda9/Nassau",
          "293d5bd41f/Nassau",
          "684420899a/Franklin",
          "40919309ec/Queens",
          "684420899a/Queens",
          "b71970385d/Queens",
          "b71970385d/Rensselaer",
          "dc874628d5/Rensselaer",
          "40919309ec/Richmond",
          "684420899a/Cortland",
          "4a16f69dc8/Cortland",
          "4a16f69dc8/Rockland",
          "dc874628d5/Rockland",
          "293d5bd41f/Saratoga",
          "40919309ec/Saratoga",
          "684420899a/Saratoga",
          "293d5bd41f/Queens",
          "f5006e93b3/Saratoga",
          "4a16f69dc8/St Lawrence",
          "9f0f85e8c9/St Lawrence",
          "f5006e93b3/St Lawrence",
          "293d5bd41f/Steuben",
          "4a16f69dc8/Steuben",
          "b71970385d/Steuben",
          "b71970385d/Columbia",
          "f5006e93b3/Steuben",
          "9f0f85e8c9/Columbia",
          "40919309ec/Columbia",
          "1dea55fda9/Columbia",
          "dc874628d5/Suffolk",
          "f5006e93b3/Clinton",
          "f5006e93b3/Columbia",
          "b71970385d/Cortland",
          "f5006e93b3/Cortland",
          "1dea55fda9/Delaware",
          "684420899a/Nassau",
          "40919309ec/Franklin",
          "1dea55fda9/Franklin",
          "293d5bd41f/Niagara",
          "b71970385d/Essex",
          "9f0f85e8c9/Essex",
          "293d5bd41f/Essex",
          "1dea55fda9/Essex",
          "f5006e93b3/Erie",
          "b71970385d/Erie",
          "b71970385d/Oneida",
          "40919309ec/Erie",
          "1dea55fda9/Erie",
          "4a16f69dc8/Onondaga",
          "9f0f85e8c9/Dutchess",
          "684420899a/Dutchess",
          "4a16f69dc8/Dutchess",
          "684420899a/Ontario",
          "f5006e93b3/Delaware",
          "dc874628d5/Delaware",
          "b71970385d/Orange",
          "b71970385d/Delaware",
          "684420899a/Delaware",
          "4a16f69dc8/Delaware",
          "dc874628d5/Oswego",
          "40919309ec/Delaware",
          "dc874628d5/Otsego",
          "f5006e93b3/Otsego",
          "293d5bd41f/Putnam",
          "b71970385d/Clinton",
          "f5006e93b3/Orange",
          "1dea55fda9",
          "4a16f69dc8/Albany",
          "1dea55fda9/Rockland",
          "293d5bd41f/Wayne",
          "293d5bd41f/Lewis",
          "1dea55fda9/Wayne",
          "f5006e93b3/Warren",
          "40919309ec/Rockland",
          "40919309ec/Wayne",
          "1dea55fda9/Lewis",
          "dc874628d5/Warren",
          "9f0f85e8c9/Rockland",
          "b71970385d/Rockland",
          "dc874628d5/Rockland",
          "4a16f69dc8/Chautauqua",
          "293d5bd41f/Queens",
          "f5006e93b3/Kings",
          "684420899a/Wayne",
          "9f0f85e8c9/Wayne",
          "b71970385d/Wayne",
          "f5006e93b3/Lewis",
          "40919309ec/Oswego",
          "dc874628d5/Lewis",
          "9f0f85e8c9/Westchester",
          "684420899a/Westchester",
          "b71970385d/Lewis",
          "4a16f69dc8/Westchester",
          "dc874628d5/Saratoga",
          "9f0f85e8c9/Lewis",
          "684420899a/Lewis",
          "4a16f69dc8/Lewis",
          "40919309ec/Lewis",
          "f5006e93b3/Saratoga",
          "1dea55fda9/Schenectady",
          "293d5bd41f/Schenectady",
          "1dea55fda9/Saratoga",
          "b71970385d/Westchester",
          "9f0f85e8c9/Warren",
          "9f0f85e8c9/Saratoga",
          "684420899a/Queens",
          "293d5bd41f/Jefferson",
          "4a16f69dc8/Ulster",
          "40919309ec/Ulster",
          "9f0f85e8c9/Queens",
          "293d5bd41f/Ulster",
          "4a16f69dc8/Jefferson",
          "f5006e93b3/Schenectady",
          "1dea55fda9/Schuyler",
          "f5006e93b3/Tompkins",
          "dc874628d5/Herkimer",
          "9f0f85e8c9/Chemung",
          "9f0f85e8c9/Herkimer",
          "40919309ec/Herkimer",
          "1dea55fda9/Ulster",
          "684420899a/Jefferson",
          "9f0f85e8c9/Ulster",
          "9f0f85e8c9/Jefferson",
          "4a16f69dc8/Rockland",
          "40919309ec/Queens",
          "f5006e93b3/Chautauqua",
          "b71970385d/Saratoga",
          "293d5bd41f/Kings",
          "40919309ec/Warren",
          "40919309ec/Chemung",
          "1dea55fda9/Kings",
          "1dea55fda9/Warren",
          "4a16f69dc8/Chemung",
          "4a16f69dc8/Queens",
          "f5006e93b3/Ulster",
          "4a16f69dc8/Schenectady",
          "dc874628d5/Ulster",
          "b71970385d/Ulster",
          "684420899a/Warren",
          "dc874628d5/Westchester",
          "293d5bd41f/Rensselaer",
          "4a16f69dc8/Cattaraugus",
          "40919309ec/Albany",
          "1dea55fda9/Niagara",
          "dc874628d5/Nassau",
          "f5006e93b3",
          "b71970385d/Nassau",
          "9f0f85e8c9/Nassau",
          "dc874628d5/Columbia",
          "40919309ec/Nassau",
          "f5006e93b3/Montgomery",
          "dc874628d5/Montgomery",
          "b71970385d/Montgomery",
          "9f0f85e8c9/Montgomery",
          "9f0f85e8c9/Bronx",
          "4a16f69dc8/Montgomery",
          "293d5bd41f/Nassau",
          "684420899a/Albany",
          "40919309ec/Niagara",
          "dc874628d5/Ontario",
          "293d5bd41f/Allegany",
          "dc874628d5/Oneida",
          "f5006e93b3/Oneida",
          "1dea55fda9/Onondaga",
          "293d5bd41f/Onondaga",
          "40919309ec/Onondaga",
          "4a16f69dc8/Onondaga",
          "9f0f85e8c9/Onondaga",
          "f5006e93b3/Onondaga",
          "9f0f85e8c9/Otsego",
          "f5006e93b3/Niagara",
          "293d5bd41f/Ontario",
          "f5006e93b3/Albany",
          "9f0f85e8c9/Niagara",
          "dc874628d5/Otsego",
          "40919309ec/Montgomery",
          "4a16f69dc8/Orleans",
          "9f0f85e8c9/Orleans",
          "f5006e93b3/Monroe",
          "684420899a/Broome",
          "f5006e93b3/Madison",
          "9f0f85e8c9/Wyoming",
          "b71970385d/Madison",
          "684420899a/Wyoming",
          "1dea55fda9/Queens",
          "4a16f69dc8/Wyoming",
          "40919309ec/Wyoming",
          "40919309ec/Madison",
          "4a16f69dc8/Queens",
          "293d5bd41f/Wyoming",
          "b71970385d/Saratoga",
          "f5006e93b3/Westchester",
          "1dea55fda9/Madison",
          "f5006e93b3/Putnam",
          "b71970385d/Wyoming",
          "b71970385d/Schuyler",
          "40919309ec/Broome",
          "40919309ec/Manhattan",
          "40919309ec/Putnam",
          "f5006e93b3/Yates",
          "4a16f69dc8/Oswego",
          "b71970385d/Bronx",
          "684420899a/Monroe",
          "4a16f69dc8/Monroe",
          "40919309ec/Monroe",
          "1dea55fda9/Monroe",
          "f5006e93b3/Oswego",
          "40919309ec/Otsego",
          "9f0f85e8c9/Manhattan",
          "4a16f69dc8/Otsego",
          "f5006e93b3/Wyoming",
          "684420899a/Manhattan",
          "9f0f85e8c9/Otsego",
          "1dea55fda9/Putnam",
          "dc874628d5/Chemung",
          "9f0f85e8c9/Oneida",
          "4a16f69dc8/Sullivan",
          "684420899a/Richmond",
          "4a16f69dc8/Rensselaer",
          "293d5bd41f/Dutchess",
          "4a16f69dc8/Franklin",
          "1dea55fda9/Orleans",
          "dc874628d5/Sullivan",
          "b71970385d/Cortland",
          "684420899a/Suffolk",
          "dc874628d5/Chenango",
          "dc874628d5/Erie",
          "4a16f69dc8/Steuben",
          "684420899a/Steuben",
          "293d5bd41f/Steuben",
          "dc874628d5/Schenectady",
          "9f0f85e8c9/Clinton",
          "dc874628d5/St Lawrence",
          "9f0f85e8c9/Erie",
          "4a16f69dc8/Suffolk",
          "293d5bd41f/Orleans",
          "dc874628d5/Clinton",
          "9f0f85e8c9/Rensselaer",
          "b71970385d/St Lawrence",
          "b71970385d/Chenango",
          "9f0f85e8c9/Cortland",
          "f5006e93b3/Chenango",
          "4a16f69dc8/Richmond",
          "dc874628d5/Delaware",
          "293d5bd41f/Richmond",
          "684420899a/Clinton",
          "293d5bd41f/Columbia",
          "40919309ec/Richmond",
          "4a16f69dc8/Essex",
          "1dea55fda9/Columbia",
          "40919309ec/Rensselaer",
          "1dea55fda9/Sullivan",
          "293d5bd41f/Sullivan",
          "b71970385d/Clinton",
          "4a16f69dc8/Clinton",
          "684420899a/Essex",
          "f5006e93b3/St Lawrence",
          "b71970385d/Warren",
          "40919309ec/Columbia",
          "4a16f69dc8/Columbia",
          "293d5bd41f/Clinton",
          "9f0f85e8c9/Suffolk",
          "684420899a/Sullivan",
          "9f0f85e8c9/Sullivan",
          "40919309ec/Steuben",
          "40919309ec/Sullivan",
          "f5006e93b3/Clinton",
          "40919309ec/Orleans",
          "293d5bd41f/Suffolk",
          "293d5bd41f/Genesee",
          "293d5bd41f/St Lawrence",
          "1dea55fda9/Cortland",
          "b71970385d/Dutchess",
          "293d5bd41f/Cortland",
          "1dea55fda9/St Lawrence",
          "9f0f85e8c9/Fulton",
          "40919309ec/Suffolk",
          "f5006e93b3/Rensselaer",
          "dc874628d5/Fulton",
          "f5006e93b3/Schuyler",
          "1dea55fda9/Rensselaer",
          "4a16f69dc8/Chenango",
          "9f0f85e8c9/Schenectady",
          "dc874628d5/Schuyler",
          "dc874628d5/Queens",
          "684420899a/Columbia",
          "684420899a/Fulton",
          "293d5bd41f/Erie",
          "293d5bd41f/Chenango",
          "b71970385d/Queens",
          "684420899a/Schuyler",
          "b71970385d/Richmond",
          "9f0f85e8c9/Columbia",
          "40919309ec/Erie",
          "b71970385d/Steuben",
          "4a16f69dc8/Cortland",
          "1dea55fda9/Richmond",
          "4a16f69dc8/Tompkins",
          "293d5bd41f/Rensselaer",
          "b71970385d/Schenectady",
          "4a16f69dc8/Fulton",
          "4a16f69dc8/Tompkins",
          "f5006e93b3/Franklin",
          "684420899a/Yates",
          "1dea55fda9/Yates",
          "b71970385d/Yates",
          "9f0f85e8c9",
          "40919309ec",
          "4a16f69dc8",
          "293d5bd41f/Yates",
          "9f0f85e8c9/Yates",
          "684420899a",
          "40919309ec/Yates",
          "4a16f69dc8/Yates",
          "dc874628d5/Yates",
          "4a16f69dc8",
          "f5006e93b3",
          "293d5bd41f",
          "f5006e93b3/Bronx",
          "684420899a",
          "4a16f69dc8/Otsego",
          "9f0f85e8c9",
          "b71970385d",
          "dc874628d5",
          "f5006e93b3",
          "1dea55fda9",
          "293d5bd41f",
          "293d5bd41f/Otsego",
          "293d5bd41f",
          "4a16f69dc8",
          "684420899a",
          "1dea55fda9",
          "9f0f85e8c9",
          "b71970385d",
          "40919309ec/Otsego",
          "dc874628d5/Bronx",
          "f5006e93b3/Yates",
          "293d5bd41f/Delaware",
          "40919309ec",
          "b71970385d",
          "1dea55fda9/Saratoga",
          "f5006e93b3",
          "dc874628d5",
          "f5006e93b3/Allegany",
          "1dea55fda9",
          "dc874628d5/Allegany",
          "40919309ec",
          "b71970385d/Allegany",
          "684420899a",
          "9f0f85e8c9",
          "b71970385d",
          "4a16f69dc8/Orleans",
          "dc874628d5",
          "f5006e93b3",
          "1dea55fda9",
          "293d5bd41f",
          "40919309ec",
          "40919309ec/Orleans",
          "293d5bd41f/Saratoga",
          "684420899a",
          "4a16f69dc8",
          "9f0f85e8c9/Orange",
          "dc874628d5/Orange",
          "f5006e93b3/Orange",
          "1dea55fda9/Orleans",
          "9f0f85e8c9/Delaware",
          "4a16f69dc8/Allegany",
          "1dea55fda9",
          "f5006e93b3",
          "dc874628d5",
          "b71970385d",
          "9f0f85e8c9",
          "684420899a/Allegany",
          "f5006e93b3/Cayuga",
          "4a16f69dc8/Chautauqua",
          "9f0f85e8c9",
          "9f0f85e8c9/Orleans",
          "1dea55fda9/Oswego",
          "293d5bd41f/Oswego",
          "dc874628d5",
          "b71970385d",
          "40919309ec/Oswego",
          "f5006e93b3/Wyoming",
          "f5006e93b3/Orleans",
          "9f0f85e8c9",
          "684420899a",
          "b71970385d/Oswego",
          "40919309ec",
          "293d5bd41f",
          "1dea55fda9",
          "f5006e93b3/Oswego",
          "4a16f69dc8/Oswego",
          "dc874628d5/Chautauqua",
          "684420899a/Bronx",
          "b71970385d/Chautauqua",
          "684420899a",
          "4a16f69dc8",
          "40919309ec",
          "1dea55fda9/Bronx",
          "1dea55fda9",
          "293d5bd41f/Bronx",
          "1dea55fda9",
          "40919309ec/Bronx",
          "4a16f69dc8/Bronx",
          "684420899a",
          "4a16f69dc8",
          "b71970385d/Orleans",
          "40919309ec",
          "dc874628d5/Orleans",
          "b71970385d",
          "1dea55fda9/Broome",
          "40919309ec/Wayne",
          "1dea55fda9/Saratoga",
          "9f0f85e8c9/Cortland",
          "684420899a/St Lawrence",
          "4a16f69dc8/Richmond",
          "293d5bd41f/Chemung",
          "1dea55fda9/Chemung",
          "dc874628d5/St Lawrence",
          "293d5bd41f/Rockland",
          "1dea55fda9/Steuben",
          "293d5bd41f/Richmond",
          "1dea55fda9/Richmond",
          "f5006e93b3/Rensselaer",
          "684420899a/Rockland",
          "9f0f85e8c9/Chautauqua",
          "684420899a/Steuben",
          "dc874628d5/Columbia",
          "9f0f85e8c9/Rockland",
          "9f0f85e8c9/Rensselaer",
          "293d5bd41f/Columbia",
          "dc874628d5/Queens",
          "f5006e93b3/Queens",
          "b71970385d/Cayuga",
          "f5006e93b3/Cayuga",
          "1dea55fda9/Chautauqua",
          "40919309ec/St Lawrence",
          "1dea55fda9/Rensselaer",
          "293d5bd41f/Suffolk",
          "293d5bd41f/Chautauqua",
          "b71970385d/Rockland",
          "40919309ec/Rensselaer",
          "4a16f69dc8/Rensselaer",
          "684420899a/Rensselaer",
          "293d5bd41f/Rensselaer",
          "293d5bd41f/St Lawrence",
          "1dea55fda9/St Lawrence",
          "40919309ec/Rockland",
          "684420899a/Schenectady",
          "4a16f69dc8/Schenectady",
          "40919309ec/Schenectady",
          "293d5bd41f/Schenectady",
          "1dea55fda9/Schenectady",
          "684420899a/Chemung",
          "684420899a/Rockland",
          "40919309ec/Cortland",
          "b71970385d/Saratoga",
          "b71970385d/Rockland",
          "1dea55fda9/Chenango",
          "f5006e93b3/Rockland",
          "b71970385d/Chemung",
          "4a16f69dc8/Saratoga",
          "dc874628d5/Saratoga",
          "9f0f85e8c9/Cayuga",
          "1dea55fda9/Cortland",
          "b71970385d/Schenectady",
          "f5006e93b3/Schuyler",
          "dc874628d5/Schuyler",
          "b71970385d/Schuyler",
          "9f0f85e8c9/Schuyler",
          "4a16f69dc8/Schuyler",
          "b71970385d/Richmond",
          "40919309ec/Chenango",
          "dc874628d5/Richmond",
          "40919309ec/Schuyler",
          "293d5bd41f/Schuyler",
          "1dea55fda9/Schuyler",
          "f5006e93b3/Schenectady",
          "1dea55fda9/Rockland",
          "dc874628d5/Schenectady",
          "f5006e93b3/Richmond",
          "b71970385d/Wyoming",
          "9f0f85e8c9/Queens",
          "1dea55fda9/Rockland",
          "40919309ec/Warren",
          "1dea55fda9/Cattaraugus",
          "684420899a/Warren",
          "9f0f85e8c9/Warren",
          "f5006e93b3/Broome",
          "1dea55fda9/Putnam",
          "dc874628d5/Warren",
          "f5006e93b3/Warren",
          "1dea55fda9/Wayne",
          "dc874628d5/Broome",
          "f5006e93b3/Chemung",
          "4a16f69dc8/Wayne",
          "684420899a/Wayne",
          "b71970385d/Broome",
          "9f0f85e8c9/Broome",
          "dc874628d5/Wayne",
          "40919309ec/Chemung",
          "9f0f85e8c9/Otsego",
          "4a16f69dc8/Wyoming",
          "40919309ec/Wyoming",
          "293d5bd41f/Wyoming",
          "1dea55fda9/Wyoming",
          "f5006e93b3/Westchester",
          "293d5bd41f/Warren",
          "b71970385d/Otsego",
          "b71970385d/Westchester",
          "9f0f85e8c9/Westchester",
          "4a16f69dc8/Broome",
          "40919309ec/Westchester",
          "293d5bd41f/Chemung",
          "1dea55fda9/Westchester",
          "dc874628d5/Westchester",
          "1dea55fda9/Warren",
          "f5006e93b3/Ulster",
          "dc874628d5/Ulster",
          "dc874628d5/Cattaraugus",
          "4a16f69dc8/Clinton",
          "dc874628d5/Cortland",
          "f5006e93b3/Cattaraugus",
          "b71970385d/Putnam",
          "1dea55fda9/Cayuga",
          "293d5bd41f/Clinton",
          "293d5bd41f/Cayuga",
          "f5006e93b3/Putnam",
          "1dea55fda9/Queens",
          "40919309ec/Cayuga",
          "4a16f69dc8/Cayuga",
          "40919309ec/Clinton",
          "4a16f69dc8/Queens",
          "293d5bd41f/Sullivan",
          "9f0f85e8c9",
          "b71970385d/Cattaraugus",
          "9f0f85e8c9/Cattaraugus",
          "b71970385d/Ulster",
          "9f0f85e8c9/Ulster",
          "684420899a/Ulster",
          "293d5bd41f/Cattaraugus",
          "f5006e93b3/Rockland",
          "f5006e93b3/Chemung",
          "f5006e93b3/Chenango",
          "40919309ec/Putnam",
          "293d5bd41f/Chenango",
          "40919309ec/Chenango",
          "684420899a/Cattaraugus",
          "684420899a/Chenango",
          "9f0f85e8c9/Chenango",
          "b71970385d/Chenango",
          "1dea55fda9/Chenango",
          "684420899a/Cayuga",
          "dc874628d5/Warren",
          "40919309ec/Allegany",
          "b71970385d/Tompkins",
          "f5006e93b3",
          "dc874628d5/Tompkins",
          "b71970385d",
          "9f0f85e8c9",
          "684420899a",
          "b71970385d/Albany",
          "293d5bd41f",
          "1dea55fda9",
          "f5006e93b3",
          "dc874628d5",
          "b71970385d",
          "4a16f69dc8",
          "40919309ec",
          "293d5bd41f",
          "dc874628d5",
          "684420899a/Ulster",
          "9f0f85e8c9",
          "684420899a",
          "293d5bd41f",
          "4a16f69dc8",
          "40919309ec",
          "684420899a",
          "9f0f85e8c9",
          "684420899a",
          "9f0f85e8c9/Albany",
          "40919309ec",
          "9f0f85e8c9/Tompkins",
          "1dea55fda9",
          "f5006e93b3",
          "dc874628d5",
          "b71970385d",
          "9f0f85e8c9",
          "684420899a",
          "4a16f69dc8",
          "40919309ec",
          "293d5bd41f",
          "1dea55fda9",
          "f5006e93b3",
          "dc874628d5",
          "b71970385d",
          "9f0f85e8c9",
          "4a16f69dc8",
          "40919309ec",
          "293d5bd41f",
          "f5006e93b3",
          "684420899a",
          "40919309ec",
          "293d5bd41f",
          "1dea55fda9",
          "f5006e93b3",
          "b71970385d/Warren",
          "b71970385d",
          "9f0f85e8c9",
          "684420899a",
          "40919309ec",
          "293d5bd41f",
          "1dea55fda9",
          "f5006e93b3",
          "dc874628d5",
          "9f0f85e8c9",
          "684420899a",
          "40919309ec",
          "293d5bd41f",
          "f5006e93b3/Wayne",
          "b71970385d",
          "dc874628d5",
          "f5006e93b3",
          "1dea55fda9",
          "dc874628d5",
          "b71970385d",
          "40919309ec",
          "293d5bd41f",
          "1dea55fda9",
          "dc874628d5",
          "b71970385d",
          "9f0f85e8c9",
          "684420899a",
          "b71970385d",
          "4a16f69dc8",
          "293d5bd41f",
          "1dea55fda9",
          "f5006e93b3",
          "b71970385d",
          "40919309ec/Allegany",
          "684420899a",
          "4a16f69dc8",
          "40919309ec",
          "4a16f69dc8/Warren",
          "293d5bd41f/Allegany",
          "684420899a/Albany",
          "684420899a/Tompkins",
          "293d5bd41f",
          "b71970385d/St Lawrence",
          "dc874628d5/St Lawrence",
          "684420899a",
          "40919309ec",
          "1dea55fda9/Steuben",
          "293d5bd41f/Steuben",
          "f5006e93b3",
          "dc874628d5",
          "b71970385d",
          "9f0f85e8c9",
          "684420899a",
          "293d5bd41f",
          "1dea55fda9",
          "b71970385d",
          "684420899a",
          "40919309ec",
          "293d5bd41f",
          "1dea55fda9",
          "f5006e93b3/Steuben",
          "dc874628d5",
          "f5006e93b3",
          "f5006e93b3/Schenectady",
          "293d5bd41f",
          "",
          "9f0f85e8c9/Schuyler",
          "",
          "",
          "",
          "",
          "f5006e93b3",
          "b71970385d/Schuyler",
          "1dea55fda9/St Lawrence",
          "dc874628d5",
          "4a16f69dc8",
          "293d5bd41f/St Lawrence",
          "40919309ec/St Lawrence",
          "f5006e93b3",
          "4a16f69dc8/St Lawrence",
          "b71970385d",
          "9f0f85e8c9",
          "684420899a",
          "4a16f69dc8",
          "40919309ec",
          "40919309ec",
          "293d5bd41f/Bronx",
          "684420899a",
          "293d5bd41f",
          "4a16f69dc8",
          "40919309ec",
          "684420899a/Schenectady",
          "1dea55fda9",
          "f5006e93b3",
          "dc874628d5",
          "9f0f85e8c9",
          "684420899a",
          "4a16f69dc8",
          "f5006e93b3/Sullivan",
          "293d5bd41f",
          "1dea55fda9",
          "f5006e93b3",
          "dc874628d5",
          "1dea55fda9/Tompkins",
          "293d5bd41f/Tompkins",
          "684420899a",
          "4a16f69dc8",
          "40919309ec/Tompkins",
          "684420899a",
          "9f0f85e8c9",
          "1dea55fda9",
          "293d5bd41f",
          "1dea55fda9",
          "f5006e93b3",
          "b71970385d",
          "9f0f85e8c9",
          "684420899a",
          "40919309ec",
          "293d5bd41f",
          "1dea55fda9",
          "dc874628d5",
          "4a16f69dc8",
          "b71970385d",
          "dc874628d5/Suffolk",
          "f5006e93b3/Suffolk",
          "40919309ec",
          "f5006e93b3",
          "b71970385d",
          "9f0f85e8c9",
          "684420899a",
          "4a16f69dc8",
          "40919309ec",
          "b71970385d/Suffolk",
          "b71970385d",
          "f5006e93b3",
          "b71970385d",
          "dc874628d5",
          "b71970385d",
          "9f0f85e8c9",
          "40919309ec",
          "4a16f69dc8",
          "40919309ec",
          "684420899a",
          "b71970385d/Cattaraugus",
          "dc874628d5/Cattaraugus",
          "4a16f69dc8/Saratoga",
          "b71970385d",
          "9f0f85e8c9",
          "b71970385d",
          "40919309ec/Saratoga",
          "40919309ec",
          "293d5bd41f",
          "1dea55fda9",
          "dc874628d5",
          "1dea55fda9/Albany",
          "f5006e93b3",
          "9f0f85e8c9",
          "1dea55fda9",
          "40919309ec",
          "684420899a",
          "4a16f69dc8/Yates",
          "40919309ec",
          "f5006e93b3/Broome",
          "1dea55fda9",
          "684420899a/Yates",
          "dc874628d5",
          "b71970385d",
          "9f0f85e8c9",
          "9f0f85e8c9/Yates",
          "684420899a/Saratoga",
          "dc874628d5/Yates",
          "293d5bd41f",
          "f5006e93b3",
          "1dea55fda9",
          "b71970385d",
          "293d5bd41f",
          "684420899a",
          "4a16f69dc8",
          "293d5bd41f",
          "293d5bd41f/Albany",
          "4a16f69dc8",
          "40919309ec",
          "293d5bd41f",
          "1dea55fda9",
          "f5006e93b3",
          "dc874628d5",
          "1dea55fda9/Allegany",
          "684420899a",
          "4a16f69dc8",
          "40919309ec",
          "293d5bd41f",
          "1dea55fda9",
          "f5006e93b3",
          "dc874628d5",
          "b71970385d",
          "9f0f85e8c9",
          "684420899a",
          "4a16f69dc8",
          "40919309ec",
          "293d5bd41f",
          "1dea55fda9",
          "dc874628d5/Albany",
          "b71970385d/Albany",
          "684420899a",
          "9f0f85e8c9",
          "1dea55fda9",
          "f5006e93b3",
          "b71970385d",
          "9f0f85e8c9",
          "684420899a",
          "4a16f69dc8",
          "40919309ec",
          "293d5bd41f",
          "1dea55fda9",
          "9f0f85e8c9",
          "f5006e93b3",
          "9f0f85e8c9",
          "684420899a",
          "4a16f69dc8",
          "40919309ec",
          "293d5bd41f",
          "1dea55fda9",
          "f5006e93b3",
          "dc874628d5",
          "9f0f85e8c9/Albany",
          "dc874628d5",
          "b71970385d",
          "dc874628d5",
          "40919309ec/Yates",
          "40919309ec",
          "293d5bd41f",
          "1dea55fda9",
          "f5006e93b3",
          "dc874628d5",
          "b71970385d",
          "9f0f85e8c9",
          "684420899a",
          "4a16f69dc8",
          "40919309ec",
          "293d5bd41f",
          "1dea55fda9",
          "f5006e93b3",
          "dc874628d5",
          "b71970385d",
          "684420899a",
          "4a16f69dc8",
          "40919309ec",
          "b71970385d/Bronx",
          "4a16f69dc8",
          "684420899a",
          "9f0f85e8c9",
          "dc874628d5",
          "9f0f85e8c9",
          "684420899a",
          "40919309ec",
          "1dea55fda9",
          "f5006e93b3",
          "b71970385d",
          "684420899a",
          "4a16f69dc8",
          "40919309ec",
          "dc874628d5/Bronx",
          "293d5bd41f",
          "f5006e93b3",
          "dc874628d5",
          "b71970385d",
          "9f0f85e8c9",
          "684420899a",
          "4a16f69dc8",
          "40919309ec",
          "293d5bd41f",
          "1dea55fda9",
          "1dea55fda9",
          "dc874628d5",
          "4a16f69dc8",
          "293d5bd41f",
          "293d5bd41f",
          "1dea55fda9",
          "f5006e93b3",
          "40919309ec/Broome",
          "b71970385d",
          "9f0f85e8c9",
          "684420899a",
          "4a16f69dc8",
          "40919309ec",
          "293d5bd41f",
          "9f0f85e8c9/Saratoga",
          "f5006e93b3",
          "dc874628d5",
          "1dea55fda9/Yates",
          "9f0f85e8c9/Broome",
          "293d5bd41f/Yates",
          "dc874628d5/Broome",
          "293d5bd41f",
          "1dea55fda9",
          "40919309ec",
          "4a16f69dc8",
          "684420899a",
          "9f0f85e8c9",
          "1dea55fda9",
          "f5006e93b3",
          "dc874628d5",
          "b71970385d",
          "9f0f85e8c9",
          "1dea55fda9/Broome",
          "40919309ec",
          "293d5bd41f",
          "1dea55fda9",
          "40919309ec",
          "f5006e93b3",
          "b71970385d",
          "9f0f85e8c9",
          "684420899a",
          "40919309ec",
          "293d5bd41f",
          "1dea55fda9",
          "f5006e93b3",
          "dc874628d5",
          "b71970385d",
          "dc874628d5",
          "dc874628d5/Richmond",
          "9f0f85e8c9/Essex",
          "293d5bd41f/Orange",
          "4a16f69dc8/Madison",
          "dc874628d5/Rensselaer",
          "293d5bd41f/Madison",
          "1dea55fda9/Madison",
          "f5006e93b3/Rensselaer",
          "dc874628d5/Livingston",
          "293d5bd41f/Oswego",
          "293d5bd41f/Richmond",
          "684420899a/Madison",
          "40919309ec/Richmond",
          "1dea55fda9/Oswego",
          "293d5bd41f/Livingston",
          "f5006e93b3/Orleans",
          "f5006e93b3/Lewis",
          "dc874628d5/Lewis",
          "b71970385d/Lewis",
          "9f0f85e8c9/Richmond",
          "dc874628d5/Richmond",
          "b71970385d/Niagara",
          "9f0f85e8c9/Niagara",
          "b71970385d/Madison",
          "dc874628d5/Madison",
          "293d5bd41f/Montgomery",
          "1dea55fda9/Montgomery",
          "f5006e93b3/Queens",
          "dc874628d5/Monroe",
          "1dea55fda9/Rensselaer",
          "9f0f85e8c9/Monroe",
          "40919309ec/Rensselaer",
          "40919309ec/Monroe",
          "293d5bd41f/Monroe",
          "1dea55fda9/Monroe",
          "f5006e93b3/Manhattan",
          "4a16f69dc8/Rensselaer",
          "b71970385d/Manhattan",
          "9f0f85e8c9/Manhattan",
          "684420899a/Manhattan",
          "4a16f69dc8/Manhattan",
          "40919309ec/Manhattan",
          "684420899a/Rensselaer",
          "9f0f85e8c9/Rensselaer",
          "dc874628d5/Niagara",
          "40919309ec/Montgomery",
          "40919309ec/Lewis",
          "1dea55fda9/Lewis",
          "9f0f85e8c9/Oneida",
          "9f0f85e8c9/Genesee",
          "b71970385d/Oneida",
          "dc874628d5/Oneida",
          "293d5bd41f/Genesee",
          "1dea55fda9/Genesee",
          "dc874628d5/Fulton",
          "b71970385d/Fulton",
          "684420899a/Saratoga",
          "9f0f85e8c9/Fulton",
          "4a16f69dc8/Fulton",
          "40919309ec/Fulton",
          "293d5bd41f/Fulton",
          "dc874628d5/Saratoga",
          "f5006e93b3/Franklin",
          "dc874628d5/Franklin",
          "b71970385d/Franklin",
          "9f0f85e8c9/Franklin",
          "684420899a/Fulton",
          "4a16f69dc8/Saratoga",
          "40919309ec/Saratoga",
          "684420899a/Oneida",
          "dc874628d5/Kings",
          "f5006e93b3/Niagara",
          "293d5bd41f/Rockland",
          "684420899a/Kings",
          "4a16f69dc8/Kings",
          "40919309ec/Kings",
          "293d5bd41f/Oneida",
          "f5006e93b3/Jefferson",
          "4a16f69dc8/Rockland",
          "b71970385d/Jefferson",
          "9f0f85e8c9/Jefferson",
          "684420899a/Jefferson",
          "4a16f69dc8/Jefferson",
          "40919309ec/Jefferson",
          "293d5bd41f/Jefferson",
          "684420899a/Rockland",
          "f5006e93b3/Rockland",
          "40919309ec/Oneida",
          "293d5bd41f/Saratoga",
          "293d5bd41f/Lewis",
          "4a16f69dc8/Montgomery",
          "684420899a/Montgomery",
          "9f0f85e8c9/Montgomery",
          "293d5bd41f/Otsego",
          "293d5bd41f/Oswego",
          "f5006e93b3/Orleans",
          "dc874628d5/Orleans",
          "4a16f69dc8/Nassau",
          "9f0f85e8c9/Orleans",
          "684420899a/Otsego",
          "40919309ec/Orleans",
          "1dea55fda9/Otsego",
          "293d5bd41f/Orleans",
          "b71970385d/Otsego",
          "dc874628d5/Otsego",
          "9f0f85e8c9/Nassau",
          "9f0f85e8c9/Orange",
          "f5006e93b3/Otsego",
          "40919309ec/Orange",
          "dc874628d5/Nassau",
          "684420899a/Oswego",
          "1dea55fda9/Orleans",
          "9f0f85e8c9/Oswego",
          "b71970385d/Oswego",
          "dc874628d5/Oswego",
          "dc874628d5/Oswego",
          "293d5bd41f/Oswego",
          "b71970385d/Oswego",
          "684420899a/Oswego",
          "9f0f85e8c9/Putnam",
          "684420899a/Putnam",
          "4a16f69dc8/Putnam",
          "b71970385d/Montgomery",
          "9f0f85e8c9/Oswego",
          "1dea55fda9/Putnam",
          "f5006e93b3/Otsego",
          "dc874628d5/Otsego",
          "b71970385d/Oswego",
          "9f0f85e8c9/Otsego",
          "684420899a/Otsego",
          "4a16f69dc8/Otsego",
          "40919309ec/Otsego",
          "dc874628d5/Montgomery",
          "f5006e93b3/Montgomery",
          "f5006e93b3/Ontario",
          "40919309ec/Putnam",
          "f5006e93b3/Nassau",
          "9f0f85e8c9/Ontario",
          "f5006e93b3/Putnam",
          "293d5bd41f/Queens",
          "9f0f85e8c9/Niagara",
          "40919309ec/Queens",
          "4a16f69dc8/Niagara",
          "684420899a/Queens",
          "9f0f85e8c9/Queens",
          "f5006e93b3/Nassau",
          "dc874628d5/Nassau",
          "b71970385d/Nassau",
          "9f0f85e8c9/Nassau",
          "684420899a/Nassau",
          "4a16f69dc8/Nassau",
          "b71970385d/Queens",
          "293d5bd41f/Nassau",
          "1dea55fda9/Nassau",
          "dc874628d5/Queens",
          "dc874628d5/Montgomery",
          "b71970385d/Montgomery",
          "dc874628d5/Putnam",
          "f5006e93b3/Saratoga",
          "b71970385d/Putnam",
          "4a16f69dc8/Oneida",
          "684420899a/Ontario",
          "1dea55fda9/Niagara",
          "40919309ec/Ontario",
          "293d5bd41f/Ontario",
          "1dea55fda9/Ontario",
          "f5006e93b3/Onondaga",
          "dc874628d5/Onondaga",
          "4a16f69dc8/Putnam",
          "9f0f85e8c9/Onondaga",
          "684420899a/Onondaga",
          "4a16f69dc8/Onondaga",
          "40919309ec/Onondaga",
          "684420899a/Putnam",
          "1dea55fda9/Onondaga",
          "f5006e93b3/Oneida",
          "dc874628d5/Oneida",
          "b71970385d/Oneida",
          "9f0f85e8c9/Oneida",
          "684420899a/Oneida",
          "4a16f69dc8/Oswego",
          "4a16f69dc8/Franklin",
          "40919309ec/Franklin",
          "1dea55fda9/Schenectady",
          "9f0f85e8c9/Sullivan",
          "293d5bd41f/Bronx",
          "dc874628d5/Sullivan",
          "f5006e93b3/Sullivan",
          "1dea55fda9/Tompkins",
          "9f0f85e8c9/Allegany",
          "293d5bd41f/Tompkins",
          "4a16f69dc8/Allegany",
          "4a16f69dc8/Sullivan",
          "40919309ec/Tompkins",
          "1dea55fda9/Allegany",
          "f5006e93b3/Albany",
          "b71970385d/Albany",
          "9f0f85e8c9/Albany",
          "684420899a/Albany",
          "684420899a/Tompkins",
          "40919309ec/Albany",
          "9f0f85e8c9/Tompkins",
          "293d5bd41f/Allegany",
          "40919309ec/Sullivan",
          "293d5bd41f/Sullivan",
          "f5006e93b3/Suffolk",
          "f5006e93b3/Cattaraugus",
          "293d5bd41f/Suffolk",
          "40919309ec/Suffolk",
          "4a16f69dc8/Suffolk",
          "684420899a/Cattaraugus",
          "4a16f69dc8/Cattaraugus",
          "40919309ec/Cattaraugus",
          "293d5bd41f/Cattaraugus",
          "684420899a/Suffolk",
          "9f0f85e8c9/Suffolk",
          "dc874628d5/Broome",
          "b71970385d/Broome",
          "b71970385d/Suffolk",
          "684420899a/Broome",
          "4a16f69dc8/Broome",
          "40919309ec/Broome",
          "dc874628d5/Suffolk",
          "1dea55fda9/Broome",
          "f5006e93b3/Bronx",
          "b71970385d/Tompkins",
          "f5006e93b3",
          "dc874628d5",
          "f5006e93b3/Tompkins",
          "dc874628d5/Ulster",
          "f5006e93b3/Ulster",
          "1dea55fda9/Warren",
          "9f0f85e8c9/Westchester",
          "684420899a/Westchester",
          "4a16f69dc8/Westchester",
          "40919309ec/Westchester",
          "293d5bd41f/Westchester",
          "1dea55fda9/Westchester",
          "f5006e93b3/Wayne",
          "dc874628d5/Wayne",
          "293d5bd41f/Warren",
          "40919309ec/Warren",
          "684420899a/Wayne",
          "4a16f69dc8/Warren",
          "9f0f85e8c9/Warren",
          "293d5bd41f/Wayne",
          "1dea55fda9/Wayne",
          "f5006e93b3/Warren",
          "1dea55fda9/Wyoming",
          "1dea55fda9/Suffolk",
          "293d5bd41f/Wyoming",
          "4a16f69dc8/Wyoming",
          "1dea55fda9/Ulster",
          "4a16f69dc8",
          "40919309ec",
          "293d5bd41f",
          "1dea55fda9",
          "f5006e93b3/Yates",
          "dc874628d5/Yates",
          "b71970385d/Yates",
          "293d5bd41f/Ulster",
          "40919309ec/Ulster",
          "4a16f69dc8/Yates",
          "40919309ec/Yates",
          "293d5bd41f/Yates",
          "1dea55fda9/Yates",
          "f5006e93b3/Wyoming",
          "4a16f69dc8/Ulster",
          "b71970385d/Wyoming",
          "684420899a/Ulster",
          "9f0f85e8c9/Ulster",
          "b71970385d/Ulster",
          "9f0f85e8c9/Montgomery",
          "f5006e93b3/Steuben",
          "4a16f69dc8/Cayuga",
          "40919309ec/Dutchess",
          "1dea55fda9/Dutchess",
          "293d5bd41f/Schuyler",
          "dc874628d5/Delaware",
          "b71970385d/Delaware",
          "9f0f85e8c9/Delaware",
          "684420899a/Delaware",
          "4a16f69dc8/Delaware",
          "684420899a/Dutchess",
          "b71970385d/Orleans",
          "684420899a/Schuyler",
          "9f0f85e8c9/Orleans",
          "dc874628d5/Cortland",
          "b71970385d/Cortland",
          "9f0f85e8c9/Cortland",
          "684420899a/Cortland",
          "dc874628d5/Schuyler",
          "293d5bd41f/Cortland",
          "4a16f69dc8/Schuyler",
          "9f0f85e8c9/Dutchess",
          "b71970385d/Dutchess",
          "dc874628d5/Schenectady",
          "293d5bd41f/Schenectady",
          "40919309ec/Schenectady",
          "dc874628d5/Essex",
          "b71970385d/Essex",
          "684420899a/Essex",
          "684420899a/Schenectady",
          "40919309ec/Essex",
          "293d5bd41f/Essex",
          "9f0f85e8c9/Schenectady",
          "f5006e93b3/Erie",
          "dc874628d5/Erie",
          "b71970385d/Erie",
          "9f0f85e8c9/Erie",
          "684420899a/Erie",
          "4a16f69dc8/Erie",
          "40919309ec/Erie",
          "293d5bd41f/Erie",
          "1dea55fda9/Erie",
          "b71970385d/Schenectady",
          "1dea55fda9/Cortland",
          "f5006e93b3/Columbia",
          "dc874628d5/Columbia",
          "b71970385d/Columbia",
          "b71970385d/Chemung",
          "f5006e93b3/St Lawrence",
          "1dea55fda9/Steuben",
          "40919309ec/Chemung",
          "1dea55fda9/Chemung",
          "4a16f69dc8/Steuben",
          "dc874628d5/Chautauqua",
          "b71970385d/Chautauqua",
          "9f0f85e8c9/Chautauqua",
          "684420899a/Chautauqua",
          "4a16f69dc8/Chautauqua",
          "40919309ec/Chautauqua",
          "293d5bd41f/Chautauqua",
          "1dea55fda9/Chautauqua",
          "f5006e93b3/Cayuga",
          "684420899a/Steuben",
          "9f0f85e8c9/Steuben",
          "9f0f85e8c9/Cayuga",
          "b71970385d/Steuben",
          "dc874628d5/Chemung",
          "dc874628d5/Steuben",
          "1dea55fda9/Chenango",
          "40919309ec/Chenango",
          "9f0f85e8c9/Columbia",
          "684420899a/Columbia",
          "4a16f69dc8/Columbia",
          "40919309ec/Columbia",
          "293d5bd41f/Columbia",
          "1dea55fda9/Columbia",
          "f5006e93b3/Clinton",
          "dc874628d5/Clinton",
          "b71970385d/Clinton",
          "9f0f85e8c9/Clinton",
          "f5006e93b3/Schuyler",
          "4a16f69dc8/Clinton",
          "1dea55fda9/Clinton",
          "f5006e93b3/Chenango",
          "dc874628d5/Chenango",
          "40919309ec/St Lawrence",
          "684420899a/Orleans",
          "684420899a/St Lawrence",
          "4a16f69dc8/Chenango",
          "9f0f85e8c9/St Lawrence",
          "40919309ec/Orange",
          "f5006e93b3/Orleans",
          "9f0f85e8c9/Queens",
          "f5006e93b3/Erie",
          "1dea55fda9/Kings",
          "b71970385d/Erie",
          "9f0f85e8c9/Erie",
          "684420899a/Erie",
          "40919309ec/Erie",
          "293d5bd41f/Erie",
          "9f0f85e8c9/Kings",
          "1dea55fda9/Essex",
          "dc874628d5/Kings",
          "684420899a/Dutchess",
          "4a16f69dc8/Dutchess",
          "40919309ec/Dutchess",
          "293d5bd41f/Dutchess",
          "f5006e93b3/Delaware",
          "dc874628d5/Delaware",
          "b71970385d/Delaware",
          "684420899a/Delaware",
          "9f0f85e8c9/Dutchess",
          "40919309ec/Kings",
          "4a16f69dc8/Essex",
          "684420899a/Essex",
          "684420899a/Genesee",
          "4a16f69dc8/Genesee",
          "1dea55fda9/Genesee",
          "b71970385d/Fulton",
          "9f0f85e8c9/Fulton",
          "4a16f69dc8/Fulton",
          "b71970385d/Jefferson",
          "f5006e93b3/Jefferson",
          "f5006e93b3/Franklin",
          "dc874628d5/Franklin",
          "b71970385d/Franklin",
          "9f0f85e8c9/Franklin",
          "4a16f69dc8/Franklin",
          "40919309ec/Franklin",
          "293d5bd41f/Franklin",
          "1dea55fda9/Franklin",
          "f5006e93b3/Essex",
          "b71970385d/Essex",
          "9f0f85e8c9/Essex",
          "1dea55fda9/Delaware",
          "b71970385d/Genesee",
          "f5006e93b3/Cortland",
          "9f0f85e8c9/Cortland",
          "dc874628d5/Livingston",
          "684420899a/Chenango",
          "dc874628d5/Putnam",
          "293d5bd41f/Chenango",
          "1dea55fda9/Chenango",
          "f5006e93b3/Chemung",
          "dc874628d5/Chemung",
          "b71970385d/Chemung",
          "b71970385d/Livingston",
          "4a16f69dc8/Madison",
          "684420899a/Madison",
          "293d5bd41f/Chemung",
          "1dea55fda9/Chemung",
          "9f0f85e8c9/Madison",
          "dc874628d5/Chautauqua",
          "b71970385d/Putnam",
          "4a16f69dc8/Chautauqua",
          "40919309ec/Chautauqua",
          "4a16f69dc8/Chemung",
          "9f0f85e8c9/Livingston",
          "1dea55fda9/Clinton",
          "684420899a/Livingston",
          "4a16f69dc8/Cortland",
          "40919309ec/Cortland",
          "293d5bd41f/Cortland",
          "4a16f69dc8/Kings",
          "f5006e93b3/Columbia",
          "dc874628d5/Columbia",
          "b71970385d/Columbia",
          "1dea55fda9/Livingston",
          "b71970385d/Kings",
          "40919309ec/Columbia",
          "293d5bd41f/Livingston",
          "1dea55fda9/Columbia",
          "40919309ec/Livingston",
          "dc874628d5/Clinton",
          "b71970385d/Clinton",
          "9f0f85e8c9/Clinton",
          "684420899a/Clinton",
          "4a16f69dc8/Clinton",
          "4a16f69dc8/Livingston",
          "b71970385d/Cortland",
          "dc874628d5/Genesee",
          "f5006e93b3/Genesee",
          "1dea55fda9/Herkimer",
          "dc874628d5/Essex",
          "40919309ec/Dutchess",
          "4a16f69dc8/Dutchess",
          "4a16f69dc8/Franklin",
          "dc874628d5/Dutchess",
          "f5006e93b3/Dutchess",
          "b71970385d/Rensselaer",
          "b71970385d/Montgomery",
          "1dea55fda9/Dutchess",
          "684420899a/Montgomery",
          "1dea55fda9/Montgomery",
          "293d5bd41f/Essex",
          "40919309ec/Essex",
          "9f0f85e8c9/Monroe",
          "4a16f69dc8/Monroe",
          "40919309ec/Monroe",
          "1dea55fda9/Monroe",
          "f5006e93b3/Manhattan",
          "293d5bd41f/Montgomery",
          "4a16f69dc8/Essex",
          "40919309ec/Essex",
          "9f0f85e8c9/Delaware",
          "1dea55fda9/Orange",
          "f5006e93b3/Ontario",
          "dc874628d5/Ontario",
          "b71970385d/Ontario",
          "9f0f85e8c9/Ontario",
          "293d5bd41f/Dutchess",
          "40919309ec/Dutchess",
          "9f0f85e8c9/Richmond",
          "dc874628d5/Dutchess",
          "f5006e93b3/Dutchess",
          "dc874628d5/Cortland",
          "293d5bd41f/Onondaga",
          "293d5bd41f/Erie",
          "f5006e93b3/Cortland",
          "4a16f69dc8/Erie",
          "40919309ec/Delaware",
          "4a16f69dc8/Delaware",
          "dc874628d5/Erie",
          "684420899a/Delaware",
          "b71970385d/Essex",
          "dc874628d5/Essex",
          "f5006e93b3/Essex",
          "4a16f69dc8/Manhattan",
          "9f0f85e8c9/Genesee",
          "1dea55fda9/Genesee",
          "f5006e93b3/Genesee",
          "f5006e93b3/Queens",
          "684420899a/Genesee",
          "9f0f85e8c9/Genesee",
          "b71970385d/Genesee",
          "dc874628d5/Genesee",
          "1dea55fda9/Herkimer",
          "293d5bd41f/Herkimer",
          "4a16f69dc8/Jefferson",
          "4a16f69dc8/Herkimer",
          "684420899a/Herkimer",
          "b71970385d/Herkimer",
          "9f0f85e8c9/Herkimer",
          "684420899a/Herkimer",
          "f5006e93b3/Herkimer",
          "40919309ec/Herkimer",
          "293d5bd41f/Herkimer",
          "b71970385d/Fulton",
          "f5006e93b3/Lewis",
          "40919309ec/Fulton",
          "1dea55fda9/Fulton",
          "1dea55fda9/Franklin",
          "293d5bd41f/Franklin",
          "40919309ec/Franklin",
          "f5006e93b3/Madison",
          "b71970385d/Madison",
          "9f0f85e8c9/Madison",
          "684420899a/Madison",
          "4a16f69dc8/Madison",
          "40919309ec/Madison",
          "293d5bd41f/Madison",
          "1dea55fda9/Madison",
          "f5006e93b3/Livingston",
          "dc874628d5/Livingston",
          "40919309ec/Fulton",
          "9f0f85e8c9/Livingston",
          "684420899a/Livingston",
          "684420899a/Franklin",
          "9f0f85e8c9/Franklin",
          "b71970385d/Franklin",
          "293d5bd41f/Fulton",
          "1dea55fda9/Chautauqua",
          "f5006e93b3/Cayuga",
          "dc874628d5/Cayuga",
          "1dea55fda9/Ontario",
          "f5006e93b3/St Lawrence",
          "684420899a/Otsego",
          "b71970385d/St Lawrence",
          "9f0f85e8c9/St Lawrence",
          "4a16f69dc8/Ontario",
          "4a16f69dc8/Otsego",
          "40919309ec/St Lawrence",
          "40919309ec/Steuben",
          "9f0f85e8c9/Ontario",
          "f5006e93b3/Schuyler",
          "dc874628d5/Schuyler",
          "b71970385d/Schuyler",
          "b71970385d/Ontario",
          "9f0f85e8c9/Monroe",
          "40919309ec/Schuyler",
          "f5006e93b3/Ontario",
          "1dea55fda9/Schuyler",
          "1dea55fda9/St Lawrence",
          "4a16f69dc8/Steuben",
          "684420899a/Steuben",
          "9f0f85e8c9/Steuben",
          "b71970385d/Tompkins",
          "9f0f85e8c9/Tompkins",
          "684420899a/Tompkins",
          "4a16f69dc8/Tompkins",
          "40919309ec/Oneida",
          "4a16f69dc8/Oneida",
          "1dea55fda9/Tompkins",
          "f5006e93b3/Sullivan",
          "684420899a/Oneida",
          "9f0f85e8c9/Sullivan",
          "b71970385d/Oneida",
          "4a16f69dc8/Sullivan",
          "40919309ec/Sullivan",
          "684420899a/Onondaga",
          "4a16f69dc8/Suffolk",
          "b71970385d/Onondaga",
          "dc874628d5/Onondaga",
          "dc874628d5/Steuben",
          "b71970385d/Steuben",
          "dc874628d5/Monroe",
          "dc874628d5/Schenectady",
          "1dea55fda9/Orange",
          "f5006e93b3/Monroe",
          "f5006e93b3/Richmond",
          "dc874628d5/Richmond",
          "293d5bd41f/Otsego",
          "b71970385d/Orange",
          "684420899a/Richmond",
          "4a16f69dc8/Richmond",
          "40919309ec/Richmond",
          "293d5bd41f/Richmond",
          "1dea55fda9/Richmond",
          "f5006e93b3/Rensselaer",
          "dc874628d5/Rensselaer",
          "dc874628d5/Orange",
          "f5006e93b3/Oswego",
          "293d5bd41f/Orleans",
          "40919309ec/Orleans",
          "684420899a/Orleans",
          "b71970385d/Orleans",
          "dc874628d5/Orleans",
          "b71970385d/Queens",
          "1dea55fda9/Rockland",
          "b71970385d/Otsego",
          "293d5bd41f/Rockland",
          "40919309ec/Otsego",
          "684420899a/Schenectady",
          "1dea55fda9/Montgomery",
          "40919309ec/Schenectady",
          "293d5bd41f/Schenectady",
          "293d5bd41f/Orange",
          "f5006e93b3/Saratoga",
          "dc874628d5/Saratoga",
          "b71970385d/Saratoga",
          "9f0f85e8c9/Saratoga",
          "40919309ec/Orange",
          "4a16f69dc8/Saratoga",
          "40919309ec/Saratoga",
          "293d5bd41f/Saratoga",
          "1dea55fda9/Saratoga",
          "f5006e93b3/Rockland",
          "4a16f69dc8/Orange",
          "b71970385d/Rockland",
          "9f0f85e8c9/Rockland",
          "684420899a/Rockland",
          "40919309ec/Rockland",
          "684420899a/Queens",
          "dc874628d5/Niagara",
          "4a16f69dc8/Ulster",
          "dc874628d5/Bronx",
          "b71970385d/Bronx",
          "9f0f85e8c9/Bronx",
          "684420899a/Bronx",
          "b71970385d/Manhattan",
          "9f0f85e8c9/Putnam",
          "684420899a/Putnam",
          "1dea55fda9/Bronx",
          "1dea55fda9/Broome",
          "dc874628d5/Allegany",
          "9f0f85e8c9/Allegany",
          "4a16f69dc8/Putnam",
          "40919309ec/Allegany",
          "293d5bd41f/Allegany",
          "dc874628d5/Albany",
          "b71970385d/Albany",
          "9f0f85e8c9/Monroe",
          "684420899a/Albany",
          "b71970385d/Allegany",
          "293d5bd41f/Broome",
          "4a16f69dc8/Broome",
          "4a16f69dc8/Manhattan",
          "b71970385d/Cayuga",
          "1dea55fda9/Manhattan",
          "684420899a/Cayuga",
          "4a16f69dc8/Cayuga",
          "40919309ec/Cayuga",
          "293d5bd41f/Cayuga",
          "1dea55fda9/Cayuga",
          "f5006e93b3/Cattaraugus",
          "dc874628d5/Cattaraugus",
          "293d5bd41f/Manhattan",
          "9f0f85e8c9/Cattaraugus",
          "684420899a/Cattaraugus",
          "4a16f69dc8/Cattaraugus",
          "40919309ec/Cattaraugus",
          "293d5bd41f/Cattaraugus",
          "1dea55fda9/Cattaraugus",
          "f5006e93b3/Broome",
          "b71970385d/Broome",
          "9f0f85e8c9/Broome",
          "4a16f69dc8/Albany",
          "40919309ec/Albany",
          "b71970385d/Monroe",
          "f5006e93b3",
          "dc874628d5/Wayne",
          "b71970385d/Wayne",
          "9f0f85e8c9/Wayne",
          "684420899a/Wayne",
          "293d5bd41f/Niagara",
          "293d5bd41f/Wayne",
          "1dea55fda9/Wayne",
          "f5006e93b3/Warren",
          "dc874628d5/Warren",
          "b71970385d/Warren",
          "9f0f85e8c9/Warren",
          "684420899a/Warren",
          "4a16f69dc8/Warren",
          "4a16f69dc8/Niagara",
          "f5006e93b3/Ulster",
          "dc874628d5/Ulster",
          "b71970385d/Niagara",
          "40919309ec/Schuyler",
          "684420899a/Ulster",
          "f5006e93b3/Wayne",
          "40919309ec/Ulster",
          "1dea55fda9/Westchester",
          "40919309ec/Westchester",
          "b71970385d",
          "1dea55fda9/Montgomery",
          "293d5bd41f/Putnam",
          "293d5bd41f",
          "1dea55fda9",
          "684420899a/Montgomery",
          "dc874628d5/Yates",
          "b71970385d/Yates",
          "1dea55fda9/Nassau",
          "1dea55fda9/Putnam",
          "684420899a/Nassau",
          "40919309ec/Wyoming",
          "293d5bd41f/Wyoming",
          "f5006e93b3/Otsego",
          "dc874628d5/Westchester",
          "b71970385d/Westchester",
          "9f0f85e8c9/Westchester",
          "684420899a/Westchester",
          "4a16f69dc8/Westchester",
          "293d5bd41f/Westchester",
          "9f0f85e8c9/Ulster"
         ],
         "type": "treemap",
         "values": [
          3,
          58,
          23,
          3,
          680,
          162629,
          89,
          301,
          66,
          1057,
          228,
          256,
          7,
          3,
          5,
          15,
          0,
          14,
          322,
          1047,
          32632,
          18,
          37,
          1441,
          1130,
          5874,
          15,
          12,
          3,
          223,
          19,
          32,
          33,
          336,
          357,
          65,
          77,
          2,
          91,
          968,
          2,
          2,
          840,
          146,
          33,
          16,
          96,
          4,
          1562,
          1934,
          206,
          520,
          650,
          111,
          9,
          114,
          11979,
          4585,
          1684,
          1745,
          328,
          276,
          1039,
          522,
          506,
          2034,
          76,
          51,
          66,
          14,
          1394,
          107,
          598,
          1467,
          0,
          2,
          2,
          97,
          20,
          11,
          16,
          251,
          46,
          66,
          208,
          935,
          1010,
          58,
          5,
          26,
          30,
          45,
          17,
          294,
          1070,
          99,
          3,
          9,
          6,
          100,
          383,
          59,
          1,
          2,
          4,
          0,
          37,
          1,
          0,
          0,
          0,
          0,
          18,
          4,
          34,
          65,
          55,
          115,
          0,
          0,
          2,
          0,
          40,
          3,
          0,
          0,
          3,
          11,
          88,
          60,
          26,
          187,
          37,
          245,
          97,
          17,
          145,
          2532,
          0,
          14741,
          8,
          3,
          1,
          4,
          0,
          9,
          75,
          1,
          89,
          7,
          1,
          51,
          3,
          10,
          1,
          10,
          18,
          27,
          19,
          55,
          3,
          0,
          10,
          59,
          2,
          6,
          2,
          40,
          5,
          0,
          6,
          111,
          0,
          1,
          0,
          0,
          0,
          31,
          1,
          114,
          123,
          184,
          0,
          1,
          1,
          153,
          0,
          25,
          45,
          98,
          1,
          0,
          4,
          9,
          9,
          83,
          4,
          18,
          0,
          0,
          0,
          107,
          60,
          319,
          5,
          8191,
          125,
          139,
          4470,
          2075,
          407,
          424,
          104,
          1141,
          719,
          1955,
          5969,
          628,
          625,
          2552,
          624,
          379,
          236,
          25,
          8523,
          1596,
          13273,
          74,
          328,
          328,
          1867,
          6,
          688,
          276,
          231,
          249,
          223,
          251,
          62,
          10,
          0,
          707,
          432,
          376,
          378,
          389,
          374,
          69,
          12,
          1003,
          1395,
          609,
          1090,
          8261,
          49,
          286,
          36,
          317,
          5513,
          761,
          2686,
          711,
          24821,
          2016,
          1361,
          3,
          198,
          918,
          449,
          17,
          748,
          586,
          99,
          2856,
          662,
          19120,
          33,
          4442,
          50,
          1138,
          5796,
          269,
          267,
          43,
          793,
          272,
          61,
          45,
          29,
          44,
          741,
          28,
          154,
          155,
          306,
          61,
          1585,
          956,
          1006,
          12952,
          37856,
          9136,
          5693,
          226,
          320,
          8642,
          10499,
          2,
          150,
          220,
          99,
          88,
          79,
          94,
          16,
          4,
          229,
          109,
          234,
          61323,
          22873,
          266,
          58,
          30410,
          12589,
          10560,
          9633,
          11260,
          2579,
          13103,
          11400,
          12428,
          62,
          88,
          7026,
          54,
          239,
          2,
          282,
          37,
          22,
          34,
          2275,
          14,
          1205,
          1731,
          632,
          559,
          612,
          109,
          345,
          24398,
          14790,
          12832,
          16,
          9221,
          23,
          878,
          39,
          29,
          267,
          241,
          17,
          640,
          404,
          335,
          325,
          345,
          3044,
          3046,
          3373,
          1665,
          602,
          1077,
          19,
          308,
          372,
          217,
          25301,
          2274,
          2658,
          770,
          1823,
          804,
          748,
          695,
          806,
          156,
          31,
          2974,
          4179,
          1785,
          1613,
          2177,
          1542,
          329,
          109,
          13111,
          4748,
          4553,
          4187,
          4832,
          1015,
          19,
          1238,
          1565,
          8,
          31157,
          1206,
          7,
          1608,
          168,
          79,
          257,
          38,
          1010,
          21,
          22524,
          63,
          4,
          88,
          84,
          18,
          101,
          40,
          818,
          14,
          293,
          2200,
          25,
          146,
          465,
          589,
          707,
          31,
          7,
          1,
          28,
          966,
          203,
          106,
          21282,
          230,
          1,
          8,
          17,
          577,
          13194,
          19,
          288,
          16,
          4,
          38,
          95,
          30,
          146,
          80,
          6,
          19,
          2,
          1,
          0,
          9,
          6,
          8,
          177,
          223,
          18,
          182,
          25,
          3,
          11,
          112,
          1163,
          47,
          0,
          3353,
          658,
          9,
          0,
          102,
          2294,
          42,
          45,
          53,
          2164,
          280,
          3,
          2010,
          14,
          934,
          0,
          54,
          14,
          4919,
          162,
          8,
          230,
          5,
          518,
          1540,
          4017,
          963,
          774,
          31,
          945,
          134,
          8,
          48,
          0,
          5763,
          2,
          3,
          50,
          6,
          10,
          255,
          6257,
          331,
          45573,
          8017,
          1969,
          462,
          24,
          15,
          3,
          17,
          58,
          33,
          7,
          10,
          398,
          12,
          0,
          2,
          4,
          165,
          194,
          185,
          74,
          30,
          137,
          8,
          165,
          5,
          761,
          1167,
          4112,
          27528,
          119,
          1110,
          848,
          948,
          288,
          123,
          907,
          2097,
          973,
          3834,
          4848,
          30979,
          1338,
          23,
          1173,
          34,
          104,
          1810,
          30,
          247,
          39,
          847,
          616,
          4755,
          19,
          106,
          685,
          731,
          724,
          205,
          4,
          217,
          402,
          338,
          218,
          89,
          36,
          977,
          2,
          166,
          1260,
          53,
          24,
          2055,
          28315,
          56,
          465,
          1817,
          78,
          88,
          73,
          4,
          514,
          47,
          530,
          493,
          0,
          7505,
          3829,
          4,
          841,
          6,
          118,
          11,
          24,
          0,
          19198,
          0,
          15,
          7,
          226,
          38,
          693,
          76,
          436,
          10222,
          1704,
          2457,
          2994,
          669,
          0,
          95,
          83,
          11,
          33075,
          21,
          355,
          2298,
          1,
          77,
          107,
          2,
          9729,
          15,
          578,
          0,
          994,
          228,
          23,
          23,
          1,
          376,
          90,
          14,
          5,
          125,
          1,
          1,
          0,
          14,
          62,
          65,
          30,
          193,
          2,
          1,
          10,
          1,
          6,
          6,
          362,
          9,
          9,
          286,
          3,
          729,
          4574,
          4882,
          5153,
          52,
          1240,
          209,
          30,
          282,
          1681,
          284,
          10,
          43,
          847,
          74,
          287,
          350,
          875,
          610,
          139,
          23,
          127,
          9,
          48,
          4,
          231,
          5,
          33,
          7,
          2229,
          477,
          2268,
          59,
          1082,
          240,
          232,
          21,
          7,
          5,
          423,
          1415,
          41,
          12,
          852,
          113,
          73,
          718,
          31,
          415,
          218,
          103,
          147,
          41,
          2,
          61,
          11,
          214,
          2397,
          458,
          13221,
          8142,
          6,
          65,
          37,
          98,
          7,
          1139,
          123,
          525,
          78,
          2587,
          266,
          152,
          274,
          259,
          281,
          1769,
          60111,
          27392,
          308,
          62,
          2828,
          4278,
          2912,
          295,
          54,
          11,
          5616,
          529,
          1028,
          9,
          75,
          113,
          605,
          687,
          72,
          205,
          7148,
          105,
          114,
          4278,
          4779,
          104,
          12,
          2355,
          2027,
          45,
          967,
          1173,
          755,
          489,
          11,
          172,
          45,
          51,
          22,
          66,
          19758,
          5446,
          16,
          17,
          458,
          278,
          309,
          71,
          47,
          454,
          4096,
          611,
          84,
          96,
          1242,
          818,
          829,
          635,
          155,
          497,
          1084,
          13661,
          8760,
          8231,
          10,
          146,
          55,
          25,
          31,
          19,
          158074,
          153769,
          36,
          11068,
          75,
          80,
          1271,
          716,
          2788,
          30,
          33,
          714,
          322,
          132,
          636,
          396,
          411,
          2,
          12587,
          52,
          693,
          359,
          5937,
          3750,
          133,
          2983,
          278,
          1105,
          8193,
          22,
          26,
          4431,
          676,
          1487,
          371,
          46,
          180,
          86,
          39,
          0,
          27,
          37,
          70,
          615,
          1,
          74,
          26,
          14,
          28,
          314,
          137,
          39,
          35423,
          569,
          22131,
          21564,
          19741,
          6,
          12134,
          6376,
          5952,
          6673,
          1308,
          794,
          328,
          25,
          286,
          41790,
          32,
          19,
          7,
          26000,
          4701,
          31,
          22,
          52,
          1849,
          409,
          163,
          7956,
          29,
          22,
          101,
          105,
          10,
          410,
          143,
          64,
          567,
          740,
          240,
          36,
          172,
          1298,
          232,
          1,
          5,
          593,
          8,
          128,
          278,
          20582,
          29,
          29935,
          10525,
          9611,
          543,
          630,
          8556,
          22,
          57,
          2139,
          1909,
          1208,
          1832,
          684,
          20664,
          150,
          618,
          497,
          108,
          628,
          363,
          268,
          52,
          64,
          61,
          644,
          7,
          9178,
          3,
          6,
          35,
          4,
          0,
          10920,
          491,
          7,
          1389,
          3,
          3,
          7,
          0,
          71,
          1081,
          1403,
          13963,
          138,
          5504,
          356,
          184,
          580,
          611,
          0,
          0,
          2025,
          3,
          7,
          9,
          261,
          66,
          711,
          114,
          611,
          80,
          29,
          12,
          35,
          8,
          104,
          0,
          3,
          9,
          227,
          731,
          0,
          65,
          1,
          31,
          7,
          5,
          3885,
          0,
          24,
          67,
          61,
          0,
          575,
          1,
          1244,
          604,
          1,
          1997,
          59,
          1,
          0,
          0,
          12,
          13,
          20,
          383,
          4,
          1079,
          110,
          0,
          1023,
          2,
          146,
          1086,
          1881,
          168,
          6,
          0,
          0,
          9,
          1,
          1,
          0,
          6,
          6,
          10,
          78,
          0,
          503,
          22135,
          0,
          11,
          61,
          1324,
          115,
          68,
          17,
          4,
          3116,
          6,
          15,
          36,
          67,
          62,
          650,
          2,
          6,
          570,
          5,
          80,
          0,
          208,
          7,
          2,
          1566,
          0,
          4,
          2,
          0,
          10,
          7,
          52,
          20,
          121,
          4,
          0,
          11,
          0,
          16,
          24,
          743,
          40,
          6,
          0,
          117,
          0,
          3,
          0,
          0,
          69,
          42,
          0,
          0,
          0,
          10,
          0,
          19,
          2,
          12,
          38,
          29,
          231,
          22,
          95,
          38,
          78,
          98,
          0,
          3,
          17,
          0,
          237,
          3231,
          689,
          1,
          5,
          170,
          54,
          67,
          948,
          23,
          0,
          101,
          11,
          8,
          1,
          175,
          1,
          3,
          10,
          0,
          69,
          269,
          166,
          9,
          2,
          1,
          35,
          6,
          823,
          3,
          53,
          95,
          27,
          1,
          109,
          0,
          10,
          8,
          2538,
          8,
          5,
          103,
          2,
          2,
          0,
          0,
          837,
          0,
          1165,
          4,
          1,
          6324,
          0,
          0,
          1221,
          4,
          97,
          8,
          3,
          1,
          15,
          10,
          40,
          5,
          1,
          1615,
          19,
          38,
          692,
          504,
          0,
          37,
          3351,
          1,
          1,
          0,
          38,
          0,
          3,
          0,
          18662,
          9,
          2,
          0,
          18,
          1,
          188,
          1,
          1034,
          1,
          1,
          33,
          1,
          1671,
          0,
          466,
          0,
          1012,
          68,
          3,
          54,
          6,
          250,
          160,
          3,
          102,
          0,
          23,
          0,
          25,
          125,
          860,
          197,
          45,
          27,
          143,
          57,
          25,
          17,
          1029,
          971,
          293,
          0,
          602,
          798,
          674,
          617,
          602,
          128,
          285,
          1481,
          1285,
          10825,
          7686,
          4731,
          41,
          4845,
          4699,
          1931,
          74,
          3,
          15,
          31418,
          108,
          21,
          28,
          453,
          0,
          24,
          0,
          2156,
          2,
          331,
          357,
          291,
          25,
          335,
          86,
          34,
          1522,
          4621,
          50,
          228,
          881,
          1416,
          2257,
          2325,
          517,
          0,
          9,
          0,
          50,
          121,
          660,
          666,
          677,
          0,
          5,
          179,
          462,
          23,
          7,
          504,
          12630,
          11830,
          745,
          31,
          6,
          12762,
          12394,
          271,
          82035,
          27617,
          775,
          56,
          324,
          48,
          88,
          95,
          461,
          676,
          2913,
          42,
          29,
          45,
          117,
          1459,
          103,
          2013,
          3256,
          20,
          13314,
          13,
          1968,
          6,
          1015,
          9,
          35,
          578,
          3619,
          5,
          1,
          587,
          593,
          9,
          5923,
          76,
          129,
          155,
          1,
          342,
          28,
          317,
          564,
          129,
          11120,
          2325,
          5,
          0,
          1,
          1516,
          13,
          16980,
          1,
          270,
          1602,
          608,
          567,
          1108,
          1103,
          14,
          3720,
          1034,
          1224,
          3048,
          2058,
          28,
          5,
          1794,
          418,
          608,
          1584,
          0,
          351,
          15,
          788,
          687,
          0,
          4,
          945,
          3,
          23,
          21,
          15,
          26,
          2678,
          6,
          3151,
          68,
          55,
          1,
          236,
          50,
          1151,
          641,
          106,
          10207,
          37,
          1806,
          2,
          677,
          655,
          0,
          8,
          696,
          136,
          12,
          10,
          0,
          395,
          346,
          26,
          1,
          366,
          1493,
          664,
          124,
          314,
          235,
          3,
          1470,
          1253,
          579,
          6267,
          6875,
          12,
          19347,
          235,
          180,
          7269,
          21,
          86,
          543,
          6,
          154,
          19,
          0,
          315,
          1,
          207,
          0,
          73,
          269,
          36,
          5,
          64,
          12674,
          436,
          924,
          10,
          0,
          471,
          491,
          518,
          0,
          30,
          6,
          0,
          872,
          20,
          137,
          1,
          7,
          10,
          15,
          1,
          0,
          5,
          10,
          53,
          722,
          28,
          3549,
          3880,
          3665,
          610,
          8454,
          211,
          148,
          743,
          717,
          1063,
          4597,
          1642,
          13472,
          48,
          13020,
          12754,
          4834,
          21038,
          14287,
          2150,
          1362,
          1260,
          658,
          8687,
          63,
          75,
          174,
          812,
          763,
          761,
          803,
          1286,
          5130,
          1730,
          49,
          409,
          2290,
          2091,
          2128,
          3533,
          86267,
          29481,
          81,
          33,
          139,
          55,
          3,
          567,
          112,
          2665,
          2870,
          2737,
          18464,
          6203,
          185,
          153,
          824,
          751,
          747,
          5236,
          1772,
          5,
          24,
          15,
          7,
          21,
          422,
          405,
          2639,
          874,
          28,
          868,
          766,
          836,
          775,
          1249,
          1318,
          1866,
          51,
          57,
          340,
          219,
          303,
          499,
          2203,
          188,
          45,
          387,
          30,
          74,
          87,
          42,
          8538,
          56346,
          6,
          124,
          86,
          430,
          447,
          421,
          410,
          975,
          27,
          792,
          828,
          5212,
          1793,
          57,
          6,
          8730,
          1667,
          22,
          332,
          161605,
          3,
          253973,
          1051174,
          357576,
          9505,
          4,
          2,
          14,
          640,
          37,
          190,
          1101,
          32,
          190,
          133,
          140,
          127,
          211,
          857,
          180,
          3643,
          625,
          1428,
          608,
          2753,
          99,
          24,
          129,
          705,
          641,
          687,
          1069,
          5,
          1574,
          48,
          4,
          28,
          5,
          127,
          23,
          50,
          774,
          398,
          400,
          657,
          24489,
          28,
          84,
          498,
          474,
          451,
          3087,
          1023,
          28,
          311,
          990,
          296,
          820,
          120,
          1943,
          2110,
          10708,
          11117,
          11050,
          17451,
          72853,
          1359,
          920,
          376,
          1813,
          25,
          32,
          25,
          65,
          5,
          157,
          1,
          48,
          39,
          191,
          7986,
          8268,
          5,
          1217,
          54846,
          18629,
          495,
          2451,
          16,
          4,
          2554,
          18,
          1993,
          305,
          6,
          2235,
          22,
          16,
          0,
          181,
          169,
          160,
          4,
          55,
          2,
          395,
          57,
          2,
          288,
          0,
          282,
          473,
          712,
          16,
          4055,
          16359,
          870,
          27,
          117,
          593,
          0,
          633,
          980,
          4048,
          1425,
          32,
          14,
          109,
          90,
          66,
          80,
          134,
          543,
          200,
          6,
          32,
          60,
          389,
          411,
          138,
          10,
          32,
          35,
          46,
          51,
          240,
          88,
          1,
          308,
          52,
          255,
          227,
          400,
          1626,
          573,
          14,
          84,
          386,
          2,
          265,
          326,
          332,
          47,
          2303,
          774,
          27,
          1476,
          8051,
          7664,
          7864,
          7676,
          12416,
          51271,
          17491,
          459,
          5352,
          27580,
          25998,
          26707,
          42830,
          177243,
          1454,
          560,
          317,
          372,
          347,
          1941,
          1921,
          12023,
          101,
          181,
          894,
          973,
          1453,
          6136,
          939,
          2040,
          2570,
          13587,
          12681,
          13396,
          13151,
          21163,
          87575,
          29632,
          780,
          69,
          1905,
          438,
          601,
          35034,
          970,
          135,
          3524,
          744,
          748,
          761,
          1238,
          5041,
          1754,
          117,
          15,
          42,
          1,
          256,
          6,
          156,
          97,
          2,
          101948,
          24709,
          15387,
          15838,
          14,
          20,
          128,
          129,
          175,
          29,
          935,
          327,
          13,
          1831,
          18,
          90,
          92,
          102,
          643,
          226,
          7,
          2938,
          15843,
          14964,
          102,
          273,
          0,
          4292,
          120,
          4,
          110,
          6,
          0,
          7,
          98,
          15,
          24,
          491,
          8,
          59,
          1,
          1,
          6,
          6,
          6,
          18,
          107,
          139,
          20,
          29,
          142,
          9,
          0,
          738,
          3,
          560,
          93,
          19475,
          3038,
          145,
          357,
          5,
          2568,
          1983,
          2237,
          10622,
          67116,
          2,
          1,
          87,
          857,
          229,
          3,
          252,
          25,
          234,
          155,
          130,
          9,
          20,
          24,
          6,
          14,
          74,
          410,
          73,
          3,
          3,
          19,
          27,
          19,
          19,
          10,
          96,
          141,
          1394,
          10,
          12,
          1226,
          6217,
          38643,
          566,
          18,
          16,
          77,
          50,
          55,
          309,
          1914,
          315,
          18,
          0,
          3042,
          4,
          40,
          141,
          25,
          35,
          4,
          112,
          0,
          1,
          3174,
          3,
          1,
          51,
          2,
          8,
          13,
          2,
          1898,
          211,
          0,
          6973,
          1047,
          18,
          2,
          18,
          31,
          0,
          30,
          0,
          35,
          3,
          20,
          30,
          146,
          48,
          58,
          7,
          4,
          86,
          3,
          54,
          72,
          340,
          2057,
          19,
          1,
          7,
          31,
          132,
          50,
          0,
          50,
          69,
          1565,
          336,
          78,
          14,
          163,
          1200,
          1232,
          931,
          1131,
          5293,
          153,
          4981,
          238,
          78,
          38,
          27,
          5,
          0,
          7,
          735,
          79,
          20,
          1992,
          305,
          18,
          71,
          479,
          2,
          419,
          489,
          2177,
          14273,
          6,
          80,
          22,
          174,
          151,
          147,
          158,
          57,
          105,
          757,
          4,
          0,
          4731,
          2,
          0,
          2,
          13,
          4,
          49,
          1,
          50,
          1,
          67,
          461,
          356,
          431,
          3,
          11950,
          2,
          45,
          29,
          2,
          0,
          3,
          46,
          1362,
          104,
          41,
          184,
          1080,
          166,
          71,
          12,
          164,
          171,
          140,
          173,
          813,
          4968,
          60,
          37,
          148,
          5,
          10,
          58,
          0,
          4,
          0,
          2,
          3,
          68,
          76,
          1049,
          28,
          25,
          0,
          4,
          1,
          113,
          3,
          5,
          1,
          1,
          0,
          0,
          3,
          45,
          0,
          0,
          0,
          228,
          1662,
          258,
          10,
          0,
          0,
          1,
          2,
          75,
          0,
          2,
          0,
          0,
          0,
          5,
          0,
          5,
          0,
          3,
          71,
          0,
          122,
          6299,
          38,
          0,
          2,
          3,
          4,
          4,
          11,
          214,
          1,
          1,
          7,
          29,
          16,
          20,
          24,
          0,
          85,
          0,
          182,
          222,
          1,
          2,
          153,
          2,
          5,
          4,
          7,
          61,
          13,
          0,
          112,
          750,
          758,
          571,
          659,
          3262,
          20853,
          3122,
          160,
          17,
          5,
          7,
          35,
          32,
          96,
          0,
          1,
          2327,
          15,
          2,
          59,
          54,
          48,
          51,
          281,
          1767,
          279,
          7,
          7,
          0,
          0,
          30,
          6,
          81,
          1,
          0,
          195,
          30,
          31,
          157,
          975,
          142,
          11,
          7,
          62,
          64,
          48,
          0,
          239,
          9,
          0,
          8,
          78,
          2,
          3,
          36,
          0,
          6393,
          0,
          918,
          1413,
          271,
          6032,
          6526,
          6770,
          19018,
          12985,
          12,
          0,
          86,
          2171,
          2455,
          5491,
          3903,
          10,
          23,
          26,
          35,
          2012,
          1882,
          23,
          23,
          249,
          306,
          4,
          118,
          121,
          162,
          7,
          0,
          48,
          223,
          225,
          225,
          294,
          722,
          482,
          8,
          3,
          22,
          21,
          0,
          250,
          46,
          200,
          1,
          71,
          39,
          138,
          5,
          154,
          779,
          696,
          1,
          1,
          3,
          1379,
          17,
          0,
          550,
          42,
          676,
          1592,
          850,
          1,
          14,
          1,
          249,
          593,
          400,
          3588,
          71,
          321,
          291,
          1,
          1939,
          893,
          0,
          9,
          12,
          487,
          473,
          494,
          521,
          584,
          1,
          179,
          278,
          73,
          1,
          1,
          283,
          26,
          72,
          21,
          0,
          90,
          231,
          10,
          268,
          6,
          0,
          0,
          6185,
          7545,
          17654,
          172,
          4707,
          530,
          5,
          42,
          0,
          69,
          142,
          686,
          537,
          588,
          736,
          4286,
          541,
          192,
          26,
          3,
          8995,
          2489,
          0,
          1938,
          3,
          0,
          694,
          0,
          2,
          0,
          0,
          25759,
          43,
          2,
          2,
          152,
          3,
          0,
          6,
          3,
          0,
          0,
          751,
          1,
          2,
          1,
          41,
          32,
          0,
          90,
          62,
          1,
          1,
          17,
          0,
          1,
          3,
          23,
          55,
          204,
          249,
          223,
          261,
          651,
          402,
          4,
          20,
          114,
          302,
          145,
          126,
          0,
          0,
          4,
          1,
          15,
          74,
          273,
          3,
          6,
          62,
          69,
          56,
          6,
          172,
          1736,
          1039,
          1,
          1,
          4,
          3,
          9,
          1117,
          74,
          0,
          2,
          17,
          148,
          29,
          32,
          51,
          31,
          42,
          208,
          228,
          16,
          11,
          4,
          9,
          22,
          25,
          112,
          722,
          33,
          4310,
          64,
          37,
          50,
          29,
          595,
          100,
          4,
          73,
          41,
          308,
          255,
          46,
          333,
          1454,
          9450,
          1351,
          63,
          10,
          64,
          13,
          1,
          0,
          1,
          0,
          0,
          0,
          1152,
          38,
          71,
          856,
          1424,
          120,
          11,
          3286,
          540,
          7,
          11,
          63,
          66,
          42,
          343,
          297,
          1985,
          290,
          15,
          28,
          17,
          206,
          145,
          183,
          5421,
          1128,
          6,
          230,
          10450,
          9096,
          10076,
          10367,
          336,
          65,
          25,
          280,
          45,
          113,
          95,
          84,
          300,
          203,
          3990,
          3568,
          2,
          3893,
          78,
          3111,
          1966,
          192,
          211,
          118,
          277,
          296,
          744,
          512,
          7,
          95,
          360,
          82,
          378,
          388,
          388,
          1051,
          678,
          9,
          355,
          1505,
          1633,
          4612,
          10705,
          98,
          109,
          43,
          52,
          26,
          37,
          3,
          183,
          12,
          10,
          63,
          65,
          52,
          84,
          275,
          9,
          7,
          57,
          15,
          53,
          54,
          7,
          1540,
          147,
          21209,
          469,
          1,
          116,
          1046,
          17,
          5,
          0,
          2,
          46,
          10,
          90,
          293,
          59,
          14,
          763,
          774,
          638,
          718,
          3397,
          3287,
          42
         ]
        }
       ],
       "layout": {
        "legend": {
         "tracegroupgap": 0
        },
        "margin": {
         "b": 25,
         "l": 25,
         "r": 25,
         "t": 50
        },
        "template": {
         "data": {
          "bar": [
           {
            "error_x": {
             "color": "#2a3f5f"
            },
            "error_y": {
             "color": "#2a3f5f"
            },
            "marker": {
             "line": {
              "color": "#E5ECF6",
              "width": 0.5
             },
             "pattern": {
              "fillmode": "overlay",
              "size": 10,
              "solidity": 0.2
             }
            },
            "type": "bar"
           }
          ],
          "barpolar": [
           {
            "marker": {
             "line": {
              "color": "#E5ECF6",
              "width": 0.5
             },
             "pattern": {
              "fillmode": "overlay",
              "size": 10,
              "solidity": 0.2
             }
            },
            "type": "barpolar"
           }
          ],
          "carpet": [
           {
            "aaxis": {
             "endlinecolor": "#2a3f5f",
             "gridcolor": "white",
             "linecolor": "white",
             "minorgridcolor": "white",
             "startlinecolor": "#2a3f5f"
            },
            "baxis": {
             "endlinecolor": "#2a3f5f",
             "gridcolor": "white",
             "linecolor": "white",
             "minorgridcolor": "white",
             "startlinecolor": "#2a3f5f"
            },
            "type": "carpet"
           }
          ],
          "choropleth": [
           {
            "colorbar": {
             "outlinewidth": 0,
             "ticks": ""
            },
            "type": "choropleth"
           }
          ],
          "contour": [
           {
            "colorbar": {
             "outlinewidth": 0,
             "ticks": ""
            },
            "colorscale": [
             [
              0,
              "#0d0887"
             ],
             [
              0.1111111111111111,
              "#46039f"
             ],
             [
              0.2222222222222222,
              "#7201a8"
             ],
             [
              0.3333333333333333,
              "#9c179e"
             ],
             [
              0.4444444444444444,
              "#bd3786"
             ],
             [
              0.5555555555555556,
              "#d8576b"
             ],
             [
              0.6666666666666666,
              "#ed7953"
             ],
             [
              0.7777777777777778,
              "#fb9f3a"
             ],
             [
              0.8888888888888888,
              "#fdca26"
             ],
             [
              1,
              "#f0f921"
             ]
            ],
            "type": "contour"
           }
          ],
          "contourcarpet": [
           {
            "colorbar": {
             "outlinewidth": 0,
             "ticks": ""
            },
            "type": "contourcarpet"
           }
          ],
          "heatmap": [
           {
            "colorbar": {
             "outlinewidth": 0,
             "ticks": ""
            },
            "colorscale": [
             [
              0,
              "#0d0887"
             ],
             [
              0.1111111111111111,
              "#46039f"
             ],
             [
              0.2222222222222222,
              "#7201a8"
             ],
             [
              0.3333333333333333,
              "#9c179e"
             ],
             [
              0.4444444444444444,
              "#bd3786"
             ],
             [
              0.5555555555555556,
              "#d8576b"
             ],
             [
              0.6666666666666666,
              "#ed7953"
             ],
             [
              0.7777777777777778,
              "#fb9f3a"
             ],
             [
              0.8888888888888888,
              "#fdca26"
             ],
             [
              1,
              "#f0f921"
             ]
            ],
            "type": "heatmap"
           }
          ],
          "heatmapgl": [
           {
            "colorbar": {
             "outlinewidth": 0,
             "ticks": ""
            },
            "colorscale": [
             [
              0,
              "#0d0887"
             ],
             [
              0.1111111111111111,
              "#46039f"
             ],
             [
              0.2222222222222222,
              "#7201a8"
             ],
             [
              0.3333333333333333,
              "#9c179e"
             ],
             [
              0.4444444444444444,
              "#bd3786"
             ],
             [
              0.5555555555555556,
              "#d8576b"
             ],
             [
              0.6666666666666666,
              "#ed7953"
             ],
             [
              0.7777777777777778,
              "#fb9f3a"
             ],
             [
              0.8888888888888888,
              "#fdca26"
             ],
             [
              1,
              "#f0f921"
             ]
            ],
            "type": "heatmapgl"
           }
          ],
          "histogram": [
           {
            "marker": {
             "pattern": {
              "fillmode": "overlay",
              "size": 10,
              "solidity": 0.2
             }
            },
            "type": "histogram"
           }
          ],
          "histogram2d": [
           {
            "colorbar": {
             "outlinewidth": 0,
             "ticks": ""
            },
            "colorscale": [
             [
              0,
              "#0d0887"
             ],
             [
              0.1111111111111111,
              "#46039f"
             ],
             [
              0.2222222222222222,
              "#7201a8"
             ],
             [
              0.3333333333333333,
              "#9c179e"
             ],
             [
              0.4444444444444444,
              "#bd3786"
             ],
             [
              0.5555555555555556,
              "#d8576b"
             ],
             [
              0.6666666666666666,
              "#ed7953"
             ],
             [
              0.7777777777777778,
              "#fb9f3a"
             ],
             [
              0.8888888888888888,
              "#fdca26"
             ],
             [
              1,
              "#f0f921"
             ]
            ],
            "type": "histogram2d"
           }
          ],
          "histogram2dcontour": [
           {
            "colorbar": {
             "outlinewidth": 0,
             "ticks": ""
            },
            "colorscale": [
             [
              0,
              "#0d0887"
             ],
             [
              0.1111111111111111,
              "#46039f"
             ],
             [
              0.2222222222222222,
              "#7201a8"
             ],
             [
              0.3333333333333333,
              "#9c179e"
             ],
             [
              0.4444444444444444,
              "#bd3786"
             ],
             [
              0.5555555555555556,
              "#d8576b"
             ],
             [
              0.6666666666666666,
              "#ed7953"
             ],
             [
              0.7777777777777778,
              "#fb9f3a"
             ],
             [
              0.8888888888888888,
              "#fdca26"
             ],
             [
              1,
              "#f0f921"
             ]
            ],
            "type": "histogram2dcontour"
           }
          ],
          "mesh3d": [
           {
            "colorbar": {
             "outlinewidth": 0,
             "ticks": ""
            },
            "type": "mesh3d"
           }
          ],
          "parcoords": [
           {
            "line": {
             "colorbar": {
              "outlinewidth": 0,
              "ticks": ""
             }
            },
            "type": "parcoords"
           }
          ],
          "pie": [
           {
            "automargin": true,
            "type": "pie"
           }
          ],
          "scatter": [
           {
            "fillpattern": {
             "fillmode": "overlay",
             "size": 10,
             "solidity": 0.2
            },
            "type": "scatter"
           }
          ],
          "scatter3d": [
           {
            "line": {
             "colorbar": {
              "outlinewidth": 0,
              "ticks": ""
             }
            },
            "marker": {
             "colorbar": {
              "outlinewidth": 0,
              "ticks": ""
             }
            },
            "type": "scatter3d"
           }
          ],
          "scattercarpet": [
           {
            "marker": {
             "colorbar": {
              "outlinewidth": 0,
              "ticks": ""
             }
            },
            "type": "scattercarpet"
           }
          ],
          "scattergeo": [
           {
            "marker": {
             "colorbar": {
              "outlinewidth": 0,
              "ticks": ""
             }
            },
            "type": "scattergeo"
           }
          ],
          "scattergl": [
           {
            "marker": {
             "colorbar": {
              "outlinewidth": 0,
              "ticks": ""
             }
            },
            "type": "scattergl"
           }
          ],
          "scattermapbox": [
           {
            "marker": {
             "colorbar": {
              "outlinewidth": 0,
              "ticks": ""
             }
            },
            "type": "scattermapbox"
           }
          ],
          "scatterpolar": [
           {
            "marker": {
             "colorbar": {
              "outlinewidth": 0,
              "ticks": ""
             }
            },
            "type": "scatterpolar"
           }
          ],
          "scatterpolargl": [
           {
            "marker": {
             "colorbar": {
              "outlinewidth": 0,
              "ticks": ""
             }
            },
            "type": "scatterpolargl"
           }
          ],
          "scatterternary": [
           {
            "marker": {
             "colorbar": {
              "outlinewidth": 0,
              "ticks": ""
             }
            },
            "type": "scatterternary"
           }
          ],
          "surface": [
           {
            "colorbar": {
             "outlinewidth": 0,
             "ticks": ""
            },
            "colorscale": [
             [
              0,
              "#0d0887"
             ],
             [
              0.1111111111111111,
              "#46039f"
             ],
             [
              0.2222222222222222,
              "#7201a8"
             ],
             [
              0.3333333333333333,
              "#9c179e"
             ],
             [
              0.4444444444444444,
              "#bd3786"
             ],
             [
              0.5555555555555556,
              "#d8576b"
             ],
             [
              0.6666666666666666,
              "#ed7953"
             ],
             [
              0.7777777777777778,
              "#fb9f3a"
             ],
             [
              0.8888888888888888,
              "#fdca26"
             ],
             [
              1,
              "#f0f921"
             ]
            ],
            "type": "surface"
           }
          ],
          "table": [
           {
            "cells": {
             "fill": {
              "color": "#EBF0F8"
             },
             "line": {
              "color": "white"
             }
            },
            "header": {
             "fill": {
              "color": "#C8D4E3"
             },
             "line": {
              "color": "white"
             }
            },
            "type": "table"
           }
          ]
         },
         "layout": {
          "annotationdefaults": {
           "arrowcolor": "#2a3f5f",
           "arrowhead": 0,
           "arrowwidth": 1
          },
          "autotypenumbers": "strict",
          "coloraxis": {
           "colorbar": {
            "outlinewidth": 0,
            "ticks": ""
           }
          },
          "colorscale": {
           "diverging": [
            [
             0,
             "#8e0152"
            ],
            [
             0.1,
             "#c51b7d"
            ],
            [
             0.2,
             "#de77ae"
            ],
            [
             0.3,
             "#f1b6da"
            ],
            [
             0.4,
             "#fde0ef"
            ],
            [
             0.5,
             "#f7f7f7"
            ],
            [
             0.6,
             "#e6f5d0"
            ],
            [
             0.7,
             "#b8e186"
            ],
            [
             0.8,
             "#7fbc41"
            ],
            [
             0.9,
             "#4d9221"
            ],
            [
             1,
             "#276419"
            ]
           ],
           "sequential": [
            [
             0,
             "#0d0887"
            ],
            [
             0.1111111111111111,
             "#46039f"
            ],
            [
             0.2222222222222222,
             "#7201a8"
            ],
            [
             0.3333333333333333,
             "#9c179e"
            ],
            [
             0.4444444444444444,
             "#bd3786"
            ],
            [
             0.5555555555555556,
             "#d8576b"
            ],
            [
             0.6666666666666666,
             "#ed7953"
            ],
            [
             0.7777777777777778,
             "#fb9f3a"
            ],
            [
             0.8888888888888888,
             "#fdca26"
            ],
            [
             1,
             "#f0f921"
            ]
           ],
           "sequentialminus": [
            [
             0,
             "#0d0887"
            ],
            [
             0.1111111111111111,
             "#46039f"
            ],
            [
             0.2222222222222222,
             "#7201a8"
            ],
            [
             0.3333333333333333,
             "#9c179e"
            ],
            [
             0.4444444444444444,
             "#bd3786"
            ],
            [
             0.5555555555555556,
             "#d8576b"
            ],
            [
             0.6666666666666666,
             "#ed7953"
            ],
            [
             0.7777777777777778,
             "#fb9f3a"
            ],
            [
             0.8888888888888888,
             "#fdca26"
            ],
            [
             1,
             "#f0f921"
            ]
           ]
          },
          "colorway": [
           "#636efa",
           "#EF553B",
           "#00cc96",
           "#ab63fa",
           "#FFA15A",
           "#19d3f3",
           "#FF6692",
           "#B6E880",
           "#FF97FF",
           "#FECB52"
          ],
          "font": {
           "color": "#2a3f5f"
          },
          "geo": {
           "bgcolor": "white",
           "lakecolor": "white",
           "landcolor": "#E5ECF6",
           "showlakes": true,
           "showland": true,
           "subunitcolor": "white"
          },
          "hoverlabel": {
           "align": "left"
          },
          "hovermode": "closest",
          "mapbox": {
           "style": "light"
          },
          "paper_bgcolor": "white",
          "plot_bgcolor": "#E5ECF6",
          "polar": {
           "angularaxis": {
            "gridcolor": "white",
            "linecolor": "white",
            "ticks": ""
           },
           "bgcolor": "#E5ECF6",
           "radialaxis": {
            "gridcolor": "white",
            "linecolor": "white",
            "ticks": ""
           }
          },
          "scene": {
           "xaxis": {
            "backgroundcolor": "#E5ECF6",
            "gridcolor": "white",
            "gridwidth": 2,
            "linecolor": "white",
            "showbackground": true,
            "ticks": "",
            "zerolinecolor": "white"
           },
           "yaxis": {
            "backgroundcolor": "#E5ECF6",
            "gridcolor": "white",
            "gridwidth": 2,
            "linecolor": "white",
            "showbackground": true,
            "ticks": "",
            "zerolinecolor": "white"
           },
           "zaxis": {
            "backgroundcolor": "#E5ECF6",
            "gridcolor": "white",
            "gridwidth": 2,
            "linecolor": "white",
            "showbackground": true,
            "ticks": "",
            "zerolinecolor": "white"
           }
          },
          "shapedefaults": {
           "line": {
            "color": "#2a3f5f"
           }
          },
          "ternary": {
           "aaxis": {
            "gridcolor": "white",
            "linecolor": "white",
            "ticks": ""
           },
           "baxis": {
            "gridcolor": "white",
            "linecolor": "white",
            "ticks": ""
           },
           "bgcolor": "#E5ECF6",
           "caxis": {
            "gridcolor": "white",
            "linecolor": "white",
            "ticks": ""
           }
          },
          "title": {
           "x": 0.05
          },
          "xaxis": {
           "automargin": true,
           "gridcolor": "white",
           "linecolor": "white",
           "ticks": "",
           "title": {
            "standoff": 15
           },
           "zerolinecolor": "white",
           "zerolinewidth": 2
          },
          "yaxis": {
           "automargin": true,
           "gridcolor": "white",
           "linecolor": "white",
           "ticks": "",
           "title": {
            "standoff": 15
           },
           "zerolinecolor": "white",
           "zerolinewidth": 2
          }
         }
        },
        "uniformtext": {
         "minsize": 10,
         "mode": "hide"
        }
       }
      }
     },
     "metadata": {},
     "output_type": "display_data"
    }
   ],
   "source": [
    "fig = px.treemap(df_categorical,path=['Hospital Service Area','Hospital County', 'Race'], color='Race')\n",
    "fig.update_layout(\n",
    "    uniformtext=dict(minsize=10, mode='hide'),\n",
    "    margin = dict(t=50, l=25, r=25, b=25))\n",
    "fig.show()"
   ]
  },
  {
   "cell_type": "code",
   "execution_count": null,
   "metadata": {},
   "outputs": [],
   "source": [
    "import association_metrics as am"
   ]
  },
  {
   "cell_type": "code",
   "execution_count": null,
   "metadata": {},
   "outputs": [],
   "source": [
    "cramersv = am.CramersV(df_categorical) "
   ]
  },
  {
   "cell_type": "code",
   "execution_count": null,
   "metadata": {},
   "outputs": [],
   "source": [
    "results = cramersv.fit()"
   ]
  },
  {
   "cell_type": "code",
   "execution_count": null,
   "metadata": {},
   "outputs": [],
   "source": [
    "import seaborn as sns\n",
    "import matplotlib.pyplot as plt"
   ]
  },
  {
   "cell_type": "code",
   "execution_count": null,
   "metadata": {},
   "outputs": [
    {
     "data": {
      "image/png": "[encoded data removed]",
      "text/plain": [
       "<Figure size 720x720 with 2 Axes>"
      ]
     },
     "metadata": {
      "needs_background": "light"
     },
     "output_type": "display_data"
    }
   ],
   "source": [
    "fig, ax = plt.subplots(figsize=(10,10))\n",
    "sns.heatmap(results, annot=True, fmt='.2f')\n",
    "plt.show()"
   ]
  },
  {
   "cell_type": "code",
   "execution_count": null,
   "metadata": {},
   "outputs": [],
   "source": [
    "import geopandas as gpd\n",
    "import matplotlib.pyplot as plt"
   ]
  },
  {
   "cell_type": "code",
   "execution_count": null,
   "metadata": {},
   "outputs": [],
   "source": [
    "%matplotlib inline"
   ]
  },
  {
   "cell_type": "code",
   "execution_count": null,
   "metadata": {},
   "outputs": [],
   "source": [
    "plt.rcParams['figure.figsize'] = (20, 10)"
   ]
  },
  {
   "cell_type": "code",
   "execution_count": null,
   "metadata": {},
   "outputs": [],
   "source": [
    "df_places = gpd.read_file('C:/Users/natal/Documents/Intro to Data Science/NYcounties.geojson')"
   ]
  },
  {
   "cell_type": "code",
   "execution_count": null,
   "metadata": {},
   "outputs": [],
   "source": [
    "df_places.rename(columns={'name': 'Hospital County'}, inplace= True)"
   ]
  },
  {
   "cell_type": "code",
   "execution_count": null,
   "metadata": {},
   "outputs": [],
   "source": [
    "df_places['Hospital County']=df_places['Hospital County'].apply(lambda x: x.replace(' County', ''))"
   ]
  },
  {
   "cell_type": "code",
   "execution_count": null,
   "metadata": {},
   "outputs": [],
   "source": [
    "df_places['Hospital County']=df_places['Hospital County'].apply(lambda x: x.replace('New York', 'Manhattan'))"
   ]
  },
  {
   "cell_type": "code",
   "execution_count": null,
   "metadata": {},
   "outputs": [],
   "source": [
    "df_places['Hospital County']=df_places['Hospital County'].apply(lambda x: x.replace('St. Lawrence', 'St Lawrence'))"
   ]
  },
  {
   "cell_type": "code",
   "execution_count": null,
   "metadata": {},
   "outputs": [],
   "source": [
    "df_merged = pd.merge(df_categorical,df_places, on=\"Hospital County\", how=\"left\" )"
   ]
  },
  {
   "cell_type": "code",
   "execution_count": null,
   "metadata": {},
   "outputs": [
    {
     "data": {
      "text/html": [
       "<div>\n",
       "<style scoped>\n",
       "    .dataframe tbody tr th:only-of-type {\n",
       "        vertical-align: middle;\n",
       "    }\n",
       "\n",
       "    .dataframe tbody tr th {\n",
       "        vertical-align: top;\n",
       "    }\n",
       "\n",
       "    .dataframe thead th {\n",
       "        text-align: right;\n",
       "    }\n",
       "</style>\n",
       "<table border=\"1\" class=\"dataframe\">\n",
       "  <thead>\n",
       "    <tr style=\"text-align: right;\">\n",
       "      <th>Age Group</th>\n",
       "      <th>0 to 17</th>\n",
       "      <th>18 to 29</th>\n",
       "      <th>30 to 49</th>\n",
       "      <th>50 to 69</th>\n",
       "      <th>70 or Older</th>\n",
       "    </tr>\n",
       "    <tr>\n",
       "      <th>Hospital County</th>\n",
       "      <th></th>\n",
       "      <th></th>\n",
       "      <th></th>\n",
       "      <th></th>\n",
       "      <th></th>\n",
       "    </tr>\n",
       "  </thead>\n",
       "  <tbody>\n",
       "    <tr>\n",
       "      <th></th>\n",
       "      <td>1323</td>\n",
       "      <td>891</td>\n",
       "      <td>1808</td>\n",
       "      <td>2618</td>\n",
       "      <td>2871</td>\n",
       "    </tr>\n",
       "    <tr>\n",
       "      <th>Albany</th>\n",
       "      <td>9847</td>\n",
       "      <td>6575</td>\n",
       "      <td>13366</td>\n",
       "      <td>20130</td>\n",
       "      <td>20601</td>\n",
       "    </tr>\n",
       "    <tr>\n",
       "      <th>Allegany</th>\n",
       "      <td>278</td>\n",
       "      <td>167</td>\n",
       "      <td>391</td>\n",
       "      <td>500</td>\n",
       "      <td>563</td>\n",
       "    </tr>\n",
       "    <tr>\n",
       "      <th>Bronx</th>\n",
       "      <td>25022</td>\n",
       "      <td>17170</td>\n",
       "      <td>34784</td>\n",
       "      <td>51532</td>\n",
       "      <td>53839</td>\n",
       "    </tr>\n",
       "    <tr>\n",
       "      <th>Broome</th>\n",
       "      <td>4184</td>\n",
       "      <td>2778</td>\n",
       "      <td>5700</td>\n",
       "      <td>8529</td>\n",
       "      <td>8923</td>\n",
       "    </tr>\n",
       "    <tr>\n",
       "      <th>Cattaraugus</th>\n",
       "      <td>905</td>\n",
       "      <td>609</td>\n",
       "      <td>1228</td>\n",
       "      <td>1843</td>\n",
       "      <td>1937</td>\n",
       "    </tr>\n",
       "    <tr>\n",
       "      <th>Cayuga</th>\n",
       "      <td>649</td>\n",
       "      <td>470</td>\n",
       "      <td>898</td>\n",
       "      <td>1348</td>\n",
       "      <td>1376</td>\n",
       "    </tr>\n",
       "    <tr>\n",
       "      <th>Chautauqua</th>\n",
       "      <td>1399</td>\n",
       "      <td>924</td>\n",
       "      <td>1988</td>\n",
       "      <td>2827</td>\n",
       "      <td>2925</td>\n",
       "    </tr>\n",
       "    <tr>\n",
       "      <th>Chemung</th>\n",
       "      <td>1778</td>\n",
       "      <td>1205</td>\n",
       "      <td>2523</td>\n",
       "      <td>3740</td>\n",
       "      <td>3889</td>\n",
       "    </tr>\n",
       "    <tr>\n",
       "      <th>Chenango</th>\n",
       "      <td>157</td>\n",
       "      <td>111</td>\n",
       "      <td>270</td>\n",
       "      <td>357</td>\n",
       "      <td>403</td>\n",
       "    </tr>\n",
       "    <tr>\n",
       "      <th>Clinton</th>\n",
       "      <td>1261</td>\n",
       "      <td>883</td>\n",
       "      <td>1671</td>\n",
       "      <td>2564</td>\n",
       "      <td>2676</td>\n",
       "    </tr>\n",
       "    <tr>\n",
       "      <th>Columbia</th>\n",
       "      <td>787</td>\n",
       "      <td>569</td>\n",
       "      <td>1057</td>\n",
       "      <td>1564</td>\n",
       "      <td>1756</td>\n",
       "    </tr>\n",
       "    <tr>\n",
       "      <th>Cortland</th>\n",
       "      <td>474</td>\n",
       "      <td>365</td>\n",
       "      <td>661</td>\n",
       "      <td>1058</td>\n",
       "      <td>1074</td>\n",
       "    </tr>\n",
       "    <tr>\n",
       "      <th>Delaware</th>\n",
       "      <td>80</td>\n",
       "      <td>38</td>\n",
       "      <td>93</td>\n",
       "      <td>158</td>\n",
       "      <td>151</td>\n",
       "    </tr>\n",
       "    <tr>\n",
       "      <th>Dutchess</th>\n",
       "      <td>5119</td>\n",
       "      <td>3439</td>\n",
       "      <td>6851</td>\n",
       "      <td>10311</td>\n",
       "      <td>10787</td>\n",
       "    </tr>\n",
       "    <tr>\n",
       "      <th>Erie</th>\n",
       "      <td>16904</td>\n",
       "      <td>11467</td>\n",
       "      <td>23265</td>\n",
       "      <td>34581</td>\n",
       "      <td>35977</td>\n",
       "    </tr>\n",
       "    <tr>\n",
       "      <th>Essex</th>\n",
       "      <td>45</td>\n",
       "      <td>31</td>\n",
       "      <td>71</td>\n",
       "      <td>102</td>\n",
       "      <td>94</td>\n",
       "    </tr>\n",
       "    <tr>\n",
       "      <th>Franklin</th>\n",
       "      <td>550</td>\n",
       "      <td>376</td>\n",
       "      <td>793</td>\n",
       "      <td>1261</td>\n",
       "      <td>1300</td>\n",
       "    </tr>\n",
       "    <tr>\n",
       "      <th>Fulton</th>\n",
       "      <td>396</td>\n",
       "      <td>265</td>\n",
       "      <td>486</td>\n",
       "      <td>741</td>\n",
       "      <td>758</td>\n",
       "    </tr>\n",
       "    <tr>\n",
       "      <th>Genesee</th>\n",
       "      <td>682</td>\n",
       "      <td>458</td>\n",
       "      <td>911</td>\n",
       "      <td>1363</td>\n",
       "      <td>1464</td>\n",
       "    </tr>\n",
       "    <tr>\n",
       "      <th>Herkimer</th>\n",
       "      <td>96</td>\n",
       "      <td>59</td>\n",
       "      <td>102</td>\n",
       "      <td>180</td>\n",
       "      <td>179</td>\n",
       "    </tr>\n",
       "    <tr>\n",
       "      <th>Jefferson</th>\n",
       "      <td>1438</td>\n",
       "      <td>1001</td>\n",
       "      <td>2145</td>\n",
       "      <td>3173</td>\n",
       "      <td>3318</td>\n",
       "    </tr>\n",
       "    <tr>\n",
       "      <th>Kings</th>\n",
       "      <td>31056</td>\n",
       "      <td>20795</td>\n",
       "      <td>42806</td>\n",
       "      <td>63857</td>\n",
       "      <td>67108</td>\n",
       "    </tr>\n",
       "    <tr>\n",
       "      <th>Lewis</th>\n",
       "      <td>215</td>\n",
       "      <td>150</td>\n",
       "      <td>280</td>\n",
       "      <td>368</td>\n",
       "      <td>460</td>\n",
       "    </tr>\n",
       "    <tr>\n",
       "      <th>Livingston</th>\n",
       "      <td>272</td>\n",
       "      <td>202</td>\n",
       "      <td>410</td>\n",
       "      <td>586</td>\n",
       "      <td>637</td>\n",
       "    </tr>\n",
       "    <tr>\n",
       "      <th>Madison</th>\n",
       "      <td>565</td>\n",
       "      <td>334</td>\n",
       "      <td>804</td>\n",
       "      <td>1125</td>\n",
       "      <td>1209</td>\n",
       "    </tr>\n",
       "    <tr>\n",
       "      <th>Manhattan</th>\n",
       "      <td>54123</td>\n",
       "      <td>36714</td>\n",
       "      <td>75106</td>\n",
       "      <td>111567</td>\n",
       "      <td>116785</td>\n",
       "    </tr>\n",
       "    <tr>\n",
       "      <th>Monroe</th>\n",
       "      <td>15700</td>\n",
       "      <td>10557</td>\n",
       "      <td>21961</td>\n",
       "      <td>32046</td>\n",
       "      <td>33587</td>\n",
       "    </tr>\n",
       "    <tr>\n",
       "      <th>Montgomery</th>\n",
       "      <td>691</td>\n",
       "      <td>473</td>\n",
       "      <td>952</td>\n",
       "      <td>1504</td>\n",
       "      <td>1623</td>\n",
       "    </tr>\n",
       "    <tr>\n",
       "      <th>Nassau</th>\n",
       "      <td>26942</td>\n",
       "      <td>18295</td>\n",
       "      <td>37203</td>\n",
       "      <td>55301</td>\n",
       "      <td>57897</td>\n",
       "    </tr>\n",
       "    <tr>\n",
       "      <th>Niagara</th>\n",
       "      <td>1856</td>\n",
       "      <td>1244</td>\n",
       "      <td>2686</td>\n",
       "      <td>3730</td>\n",
       "      <td>4000</td>\n",
       "    </tr>\n",
       "    <tr>\n",
       "      <th>Oneida</th>\n",
       "      <td>3805</td>\n",
       "      <td>2567</td>\n",
       "      <td>5148</td>\n",
       "      <td>7636</td>\n",
       "      <td>7945</td>\n",
       "    </tr>\n",
       "    <tr>\n",
       "      <th>Onondaga</th>\n",
       "      <td>11759</td>\n",
       "      <td>7855</td>\n",
       "      <td>16059</td>\n",
       "      <td>23786</td>\n",
       "      <td>24709</td>\n",
       "    </tr>\n",
       "    <tr>\n",
       "      <th>Ontario</th>\n",
       "      <td>1551</td>\n",
       "      <td>1085</td>\n",
       "      <td>2217</td>\n",
       "      <td>3291</td>\n",
       "      <td>3288</td>\n",
       "    </tr>\n",
       "    <tr>\n",
       "      <th>Orange</th>\n",
       "      <td>5582</td>\n",
       "      <td>3971</td>\n",
       "      <td>7806</td>\n",
       "      <td>11468</td>\n",
       "      <td>12032</td>\n",
       "    </tr>\n",
       "    <tr>\n",
       "      <th>Orleans</th>\n",
       "      <td>47</td>\n",
       "      <td>30</td>\n",
       "      <td>50</td>\n",
       "      <td>92</td>\n",
       "      <td>98</td>\n",
       "    </tr>\n",
       "    <tr>\n",
       "      <th>Oswego</th>\n",
       "      <td>681</td>\n",
       "      <td>448</td>\n",
       "      <td>950</td>\n",
       "      <td>1367</td>\n",
       "      <td>1537</td>\n",
       "    </tr>\n",
       "    <tr>\n",
       "      <th>Otsego</th>\n",
       "      <td>1708</td>\n",
       "      <td>1134</td>\n",
       "      <td>2306</td>\n",
       "      <td>3501</td>\n",
       "      <td>3539</td>\n",
       "    </tr>\n",
       "    <tr>\n",
       "      <th>Putnam</th>\n",
       "      <td>846</td>\n",
       "      <td>530</td>\n",
       "      <td>1142</td>\n",
       "      <td>1776</td>\n",
       "      <td>1786</td>\n",
       "    </tr>\n",
       "    <tr>\n",
       "      <th>Queens</th>\n",
       "      <td>26576</td>\n",
       "      <td>17894</td>\n",
       "      <td>36513</td>\n",
       "      <td>54894</td>\n",
       "      <td>57427</td>\n",
       "    </tr>\n",
       "    <tr>\n",
       "      <th>Rensselaer</th>\n",
       "      <td>1404</td>\n",
       "      <td>985</td>\n",
       "      <td>1956</td>\n",
       "      <td>2914</td>\n",
       "      <td>3169</td>\n",
       "    </tr>\n",
       "    <tr>\n",
       "      <th>Richmond</th>\n",
       "      <td>7649</td>\n",
       "      <td>5183</td>\n",
       "      <td>10616</td>\n",
       "      <td>15695</td>\n",
       "      <td>16115</td>\n",
       "    </tr>\n",
       "    <tr>\n",
       "      <th>Rockland</th>\n",
       "      <td>4396</td>\n",
       "      <td>2900</td>\n",
       "      <td>6077</td>\n",
       "      <td>8936</td>\n",
       "      <td>9277</td>\n",
       "    </tr>\n",
       "    <tr>\n",
       "      <th>Saratoga</th>\n",
       "      <td>1576</td>\n",
       "      <td>1128</td>\n",
       "      <td>2120</td>\n",
       "      <td>3193</td>\n",
       "      <td>3376</td>\n",
       "    </tr>\n",
       "    <tr>\n",
       "      <th>Schenectady</th>\n",
       "      <td>2555</td>\n",
       "      <td>1795</td>\n",
       "      <td>3610</td>\n",
       "      <td>5382</td>\n",
       "      <td>5620</td>\n",
       "    </tr>\n",
       "    <tr>\n",
       "      <th>Schuyler</th>\n",
       "      <td>67</td>\n",
       "      <td>32</td>\n",
       "      <td>67</td>\n",
       "      <td>109</td>\n",
       "      <td>146</td>\n",
       "    </tr>\n",
       "    <tr>\n",
       "      <th>St Lawrence</th>\n",
       "      <td>1336</td>\n",
       "      <td>900</td>\n",
       "      <td>1789</td>\n",
       "      <td>2737</td>\n",
       "      <td>2856</td>\n",
       "    </tr>\n",
       "    <tr>\n",
       "      <th>Steuben</th>\n",
       "      <td>806</td>\n",
       "      <td>480</td>\n",
       "      <td>1148</td>\n",
       "      <td>1710</td>\n",
       "      <td>1735</td>\n",
       "    </tr>\n",
       "    <tr>\n",
       "      <th>Suffolk</th>\n",
       "      <td>22333</td>\n",
       "      <td>15294</td>\n",
       "      <td>30925</td>\n",
       "      <td>45716</td>\n",
       "      <td>47997</td>\n",
       "    </tr>\n",
       "    <tr>\n",
       "      <th>Sullivan</th>\n",
       "      <td>601</td>\n",
       "      <td>364</td>\n",
       "      <td>821</td>\n",
       "      <td>1203</td>\n",
       "      <td>1310</td>\n",
       "    </tr>\n",
       "    <tr>\n",
       "      <th>Tompkins</th>\n",
       "      <td>941</td>\n",
       "      <td>620</td>\n",
       "      <td>1273</td>\n",
       "      <td>1830</td>\n",
       "      <td>1943</td>\n",
       "    </tr>\n",
       "    <tr>\n",
       "      <th>Ulster</th>\n",
       "      <td>1210</td>\n",
       "      <td>844</td>\n",
       "      <td>1770</td>\n",
       "      <td>2564</td>\n",
       "      <td>2638</td>\n",
       "    </tr>\n",
       "    <tr>\n",
       "      <th>Warren</th>\n",
       "      <td>1547</td>\n",
       "      <td>1138</td>\n",
       "      <td>2291</td>\n",
       "      <td>3265</td>\n",
       "      <td>3458</td>\n",
       "    </tr>\n",
       "    <tr>\n",
       "      <th>Wayne</th>\n",
       "      <td>849</td>\n",
       "      <td>591</td>\n",
       "      <td>1166</td>\n",
       "      <td>1759</td>\n",
       "      <td>1901</td>\n",
       "    </tr>\n",
       "    <tr>\n",
       "      <th>Westchester</th>\n",
       "      <td>17463</td>\n",
       "      <td>11802</td>\n",
       "      <td>23841</td>\n",
       "      <td>35464</td>\n",
       "      <td>36995</td>\n",
       "    </tr>\n",
       "    <tr>\n",
       "      <th>Wyoming</th>\n",
       "      <td>268</td>\n",
       "      <td>192</td>\n",
       "      <td>388</td>\n",
       "      <td>567</td>\n",
       "      <td>564</td>\n",
       "    </tr>\n",
       "    <tr>\n",
       "      <th>Yates</th>\n",
       "      <td>50</td>\n",
       "      <td>39</td>\n",
       "      <td>60</td>\n",
       "      <td>92</td>\n",
       "      <td>128</td>\n",
       "    </tr>\n",
       "  </tbody>\n",
       "</table>\n",
       "</div>"
      ],
      "text/plain": [
       "Age Group        0 to 17  18 to 29  30 to 49  50 to 69  70 or Older\n",
       "Hospital County                                                    \n",
       "                    1323       891      1808      2618         2871\n",
       "Albany              9847      6575     13366     20130        20601\n",
       "Allegany             278       167       391       500          563\n",
       "Bronx              25022     17170     34784     51532        53839\n",
       "Broome              4184      2778      5700      8529         8923\n",
       "Cattaraugus          905       609      1228      1843         1937\n",
       "Cayuga               649       470       898      1348         1376\n",
       "Chautauqua          1399       924      1988      2827         2925\n",
       "Chemung             1778      1205      2523      3740         3889\n",
       "Chenango             157       111       270       357          403\n",
       "Clinton             1261       883      1671      2564         2676\n",
       "Columbia             787       569      1057      1564         1756\n",
       "Cortland             474       365       661      1058         1074\n",
       "Delaware              80        38        93       158          151\n",
       "Dutchess            5119      3439      6851     10311        10787\n",
       "Erie               16904     11467     23265     34581        35977\n",
       "Essex                 45        31        71       102           94\n",
       "Franklin             550       376       793      1261         1300\n",
       "Fulton               396       265       486       741          758\n",
       "Genesee              682       458       911      1363         1464\n",
       "Herkimer              96        59       102       180          179\n",
       "Jefferson           1438      1001      2145      3173         3318\n",
       "Kings              31056     20795     42806     63857        67108\n",
       "Lewis                215       150       280       368          460\n",
       "Livingston           272       202       410       586          637\n",
       "Madison              565       334       804      1125         1209\n",
       "Manhattan          54123     36714     75106    111567       116785\n",
       "Monroe             15700     10557     21961     32046        33587\n",
       "Montgomery           691       473       952      1504         1623\n",
       "Nassau             26942     18295     37203     55301        57897\n",
       "Niagara             1856      1244      2686      3730         4000\n",
       "Oneida              3805      2567      5148      7636         7945\n",
       "Onondaga           11759      7855     16059     23786        24709\n",
       "Ontario             1551      1085      2217      3291         3288\n",
       "Orange              5582      3971      7806     11468        12032\n",
       "Orleans               47        30        50        92           98\n",
       "Oswego               681       448       950      1367         1537\n",
       "Otsego              1708      1134      2306      3501         3539\n",
       "Putnam               846       530      1142      1776         1786\n",
       "Queens             26576     17894     36513     54894        57427\n",
       "Rensselaer          1404       985      1956      2914         3169\n",
       "Richmond            7649      5183     10616     15695        16115\n",
       "Rockland            4396      2900      6077      8936         9277\n",
       "Saratoga            1576      1128      2120      3193         3376\n",
       "Schenectady         2555      1795      3610      5382         5620\n",
       "Schuyler              67        32        67       109          146\n",
       "St Lawrence         1336       900      1789      2737         2856\n",
       "Steuben              806       480      1148      1710         1735\n",
       "Suffolk            22333     15294     30925     45716        47997\n",
       "Sullivan             601       364       821      1203         1310\n",
       "Tompkins             941       620      1273      1830         1943\n",
       "Ulster              1210       844      1770      2564         2638\n",
       "Warren              1547      1138      2291      3265         3458\n",
       "Wayne                849       591      1166      1759         1901\n",
       "Westchester        17463     11802     23841     35464        36995\n",
       "Wyoming              268       192       388       567          564\n",
       "Yates                 50        39        60        92          128"
      ]
     },
     "metadata": {},
     "output_type": "display_data"
    }
   ],
   "source": [
    "CrosstabResult3 = pd.crosstab(index=df_merged['Hospital County'],columns=df_merged['Age Group'])\n",
    "display(CrosstabResult3)"
   ]
  },
  {
   "cell_type": "code",
   "execution_count": null,
   "metadata": {},
   "outputs": [],
   "source": [
    "d = CrosstabResult3.reset_index().rename_axis(None, axis=1)"
   ]
  },
  {
   "cell_type": "code",
   "execution_count": null,
   "metadata": {},
   "outputs": [
    {
     "data": {
      "text/html": [
       "<div>\n",
       "<style scoped>\n",
       "    .dataframe tbody tr th:only-of-type {\n",
       "        vertical-align: middle;\n",
       "    }\n",
       "\n",
       "    .dataframe tbody tr th {\n",
       "        vertical-align: top;\n",
       "    }\n",
       "\n",
       "    .dataframe thead th {\n",
       "        text-align: right;\n",
       "    }\n",
       "</style>\n",
       "<table border=\"1\" class=\"dataframe\">\n",
       "  <thead>\n",
       "    <tr style=\"text-align: right;\">\n",
       "      <th></th>\n",
       "      <th>Hospital County</th>\n",
       "      <th>0 to 17</th>\n",
       "      <th>18 to 29</th>\n",
       "      <th>30 to 49</th>\n",
       "      <th>50 to 69</th>\n",
       "      <th>70 or Older</th>\n",
       "    </tr>\n",
       "  </thead>\n",
       "  <tbody>\n",
       "    <tr>\n",
       "      <th>0</th>\n",
       "      <td></td>\n",
       "      <td>1323</td>\n",
       "      <td>891</td>\n",
       "      <td>1808</td>\n",
       "      <td>2618</td>\n",
       "      <td>2871</td>\n",
       "    </tr>\n",
       "    <tr>\n",
       "      <th>1</th>\n",
       "      <td>Albany</td>\n",
       "      <td>9847</td>\n",
       "      <td>6575</td>\n",
       "      <td>13366</td>\n",
       "      <td>20130</td>\n",
       "      <td>20601</td>\n",
       "    </tr>\n",
       "    <tr>\n",
       "      <th>2</th>\n",
       "      <td>Allegany</td>\n",
       "      <td>278</td>\n",
       "      <td>167</td>\n",
       "      <td>391</td>\n",
       "      <td>500</td>\n",
       "      <td>563</td>\n",
       "    </tr>\n",
       "    <tr>\n",
       "      <th>3</th>\n",
       "      <td>Bronx</td>\n",
       "      <td>25022</td>\n",
       "      <td>17170</td>\n",
       "      <td>34784</td>\n",
       "      <td>51532</td>\n",
       "      <td>53839</td>\n",
       "    </tr>\n",
       "    <tr>\n",
       "      <th>4</th>\n",
       "      <td>Broome</td>\n",
       "      <td>4184</td>\n",
       "      <td>2778</td>\n",
       "      <td>5700</td>\n",
       "      <td>8529</td>\n",
       "      <td>8923</td>\n",
       "    </tr>\n",
       "  </tbody>\n",
       "</table>\n",
       "</div>"
      ],
      "text/plain": [
       "  Hospital County  0 to 17  18 to 29  30 to 49  50 to 69  70 or Older\n",
       "0                     1323       891      1808      2618         2871\n",
       "1          Albany     9847      6575     13366     20130        20601\n",
       "2        Allegany      278       167       391       500          563\n",
       "3           Bronx    25022     17170     34784     51532        53839\n",
       "4          Broome     4184      2778      5700      8529         8923"
      ]
     },
     "execution_count": 66,
     "metadata": {},
     "output_type": "execute_result"
    }
   ],
   "source": [
    "d.head()"
   ]
  },
  {
   "cell_type": "code",
   "execution_count": null,
   "metadata": {},
   "outputs": [],
   "source": [
    "dc = d[1::]"
   ]
  },
  {
   "cell_type": "code",
   "execution_count": null,
   "metadata": {},
   "outputs": [
    {
     "data": {
      "text/html": [
       "<div>\n",
       "<style scoped>\n",
       "    .dataframe tbody tr th:only-of-type {\n",
       "        vertical-align: middle;\n",
       "    }\n",
       "\n",
       "    .dataframe tbody tr th {\n",
       "        vertical-align: top;\n",
       "    }\n",
       "\n",
       "    .dataframe thead th {\n",
       "        text-align: right;\n",
       "    }\n",
       "</style>\n",
       "<table border=\"1\" class=\"dataframe\">\n",
       "  <thead>\n",
       "    <tr style=\"text-align: right;\">\n",
       "      <th></th>\n",
       "      <th>Hospital County</th>\n",
       "      <th>0 to 17</th>\n",
       "      <th>18 to 29</th>\n",
       "      <th>30 to 49</th>\n",
       "      <th>50 to 69</th>\n",
       "      <th>70 or Older</th>\n",
       "    </tr>\n",
       "  </thead>\n",
       "  <tbody>\n",
       "    <tr>\n",
       "      <th>1</th>\n",
       "      <td>Albany</td>\n",
       "      <td>9847</td>\n",
       "      <td>6575</td>\n",
       "      <td>13366</td>\n",
       "      <td>20130</td>\n",
       "      <td>20601</td>\n",
       "    </tr>\n",
       "    <tr>\n",
       "      <th>2</th>\n",
       "      <td>Allegany</td>\n",
       "      <td>278</td>\n",
       "      <td>167</td>\n",
       "      <td>391</td>\n",
       "      <td>500</td>\n",
       "      <td>563</td>\n",
       "    </tr>\n",
       "    <tr>\n",
       "      <th>3</th>\n",
       "      <td>Bronx</td>\n",
       "      <td>25022</td>\n",
       "      <td>17170</td>\n",
       "      <td>34784</td>\n",
       "      <td>51532</td>\n",
       "      <td>53839</td>\n",
       "    </tr>\n",
       "    <tr>\n",
       "      <th>4</th>\n",
       "      <td>Broome</td>\n",
       "      <td>4184</td>\n",
       "      <td>2778</td>\n",
       "      <td>5700</td>\n",
       "      <td>8529</td>\n",
       "      <td>8923</td>\n",
       "    </tr>\n",
       "    <tr>\n",
       "      <th>5</th>\n",
       "      <td>Cattaraugus</td>\n",
       "      <td>905</td>\n",
       "      <td>609</td>\n",
       "      <td>1228</td>\n",
       "      <td>1843</td>\n",
       "      <td>1937</td>\n",
       "    </tr>\n",
       "  </tbody>\n",
       "</table>\n",
       "</div>"
      ],
      "text/plain": [
       "  Hospital County  0 to 17  18 to 29  30 to 49  50 to 69  70 or Older\n",
       "1          Albany     9847      6575     13366     20130        20601\n",
       "2        Allegany      278       167       391       500          563\n",
       "3           Bronx    25022     17170     34784     51532        53839\n",
       "4          Broome     4184      2778      5700      8529         8923\n",
       "5     Cattaraugus      905       609      1228      1843         1937"
      ]
     },
     "execution_count": 68,
     "metadata": {},
     "output_type": "execute_result"
    }
   ],
   "source": [
    "dc.head()"
   ]
  },
  {
   "cell_type": "code",
   "execution_count": null,
   "metadata": {},
   "outputs": [],
   "source": [
    "merged = pd.merge(d, df_places, on = 'Hospital County', how='left')"
   ]
  },
  {
   "cell_type": "code",
   "execution_count": null,
   "metadata": {},
   "outputs": [],
   "source": [
    "from geopandas import GeoDataFrame\n",
    "\n",
    "merged = GeoDataFrame(merged)"
   ]
  },
  {
   "cell_type": "code",
   "execution_count": null,
   "metadata": {},
   "outputs": [
    {
     "data": {
      "image/png": "[encoded data removed]",
      "text/plain": [
       "<Figure size 720x576 with 2 Axes>"
      ]
     },
     "metadata": {
      "needs_background": "light"
     },
     "output_type": "display_data"
    }
   ],
   "source": [
    "fig1, gax = plt.subplots(figsize = (10,8))\n",
    "merged.plot(column = 'Hospital County',ax = gax)\n",
    "merged.plot(column = '0 to 17',edgecolor='black', ax = gax, legend=True, cmap='rainbow')\n",
    "plt.axis('off')    \n",
    "plt.show()"
   ]
  },
  {
   "cell_type": "code",
   "execution_count": null,
   "metadata": {},
   "outputs": [],
   "source": []
  }
 ],
 "metadata": {
  "kernelspec": {
   "display_name": "Python 3.9.7 ('base')",
   "language": "python",
   "name": "python3"
  },
  "language_info": {
   "codemirror_mode": {
    "name": "ipython",
    "version": 3
   },
   "file_extension": ".py",
   "mimetype": "text/x-python",
   "name": "python",
   "nbconvert_exporter": "python",
   "pygments_lexer": "ipython3",
   "version": "3.9.7"
  },
  "orig_nbformat": 4,
  "vscode": {
   "interpreter": {
    "hash": "85b31755cbf75356c393a3522367cd288f0b05170e2bd292c75b11fc3d2da2cf"
   }
  }
 },
 "nbformat": 4,
 "nbformat_minor": 2
}
